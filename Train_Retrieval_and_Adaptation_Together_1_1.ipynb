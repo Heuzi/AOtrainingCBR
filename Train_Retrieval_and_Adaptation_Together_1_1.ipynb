{
  "nbformat": 4,
  "nbformat_minor": 0,
  "metadata": {
    "colab": {
      "name": "Train Retrieval and Adaptation Together 1.1.ipynb",
      "provenance": [],
      "collapsed_sections": [
        "FKOSj2v2xWFP"
      ],
      "toc_visible": true
    },
    "kernelspec": {
      "display_name": "Python 3",
      "name": "python3"
    }
  },
  "cells": [
    {
      "cell_type": "markdown",
      "metadata": {
        "id": "cFjI0gUhATvh"
      },
      "source": [
        "Update: 1.1 is an update from \"Train Retrieval and Adaptation Together\". In the previous file, certain experiments' results are not accurate because a mistake I made in batch mode. This file redo everything.\n",
        "\n",
        "\n",
        "This document is modified from \"cars experiment 1.1\". It is sufficiently different. 1.1 is about using neural network to do adaptation for regression task. This document, 1.2, is about using neural network to do both retrieval and adaptation for regression.\n",
        "\n",
        "Regression model code based upon https://machinelearningmastery.com/regression-tutorial-keras-deep-learning-library-python/\n",
        "\n",
        "Majority of the code adapted from [artificial data experiment with case removal.ipynb](https://colab.research.google.com/drive/13eN2qzSAB_wRqzzukBVjqcvt2GayzDCl?authuser=1#scrollTo=pRXm-C2PuCWe) \n",
        "\n",
        "\n",
        "Siamese network adapted from https://colab.research.google.com/drive/15wVnKzyQwWUD8xIpAstGx8N1ySnnmRvM?authuser=1\n",
        "\n",
        "Also from https://towardsdatascience.com/siamese-networks-line-by-line-explanation-for-beginners-55b8be1d2fc6\n",
        "\n",
        "Also refer https://www.kaggle.com/valerasarapas/keras-siamese-network-on-mnist\n",
        "about \"Plot the representation learned from the siamese network\""
      ]
    },
    {
      "cell_type": "markdown",
      "metadata": {
        "id": "Yk7D1xv6XctX"
      },
      "source": [
        "#Import"
      ]
    },
    {
      "cell_type": "code",
      "metadata": {
        "id": "A6d-2BaaXeZD"
      },
      "source": [
        "import keras\n",
        "import numpy as np\n",
        "import tensorflow as tf\n",
        "import pandas as pd\n",
        "from sklearn.utils import shuffle\n",
        "\n",
        "from sklearn.neighbors import KNeighborsRegressor\n"
      ],
      "execution_count": null,
      "outputs": []
    },
    {
      "cell_type": "code",
      "metadata": {
        "colab": {
          "base_uri": "https://localhost:8080/"
        },
        "id": "fh5QWVeEojWQ",
        "outputId": "578b4662-8d4a-42cb-ec38-011bbf27e28c"
      },
      "source": [
        "# Use some functions from tensorflow_docs\n",
        "!pip install -q git+https://github.com/tensorflow/docs"
      ],
      "execution_count": null,
      "outputs": [
        {
          "output_type": "stream",
          "text": [
            "\u001b[?25l\r\u001b[K     |▎                               | 10kB 17.8MB/s eta 0:00:01\r\u001b[K     |▋                               | 20kB 12.8MB/s eta 0:00:01\r\u001b[K     |█                               | 30kB 9.1MB/s eta 0:00:01\r\u001b[K     |█▎                              | 40kB 8.1MB/s eta 0:00:01\r\u001b[K     |█▋                              | 51kB 4.5MB/s eta 0:00:01\r\u001b[K     |██                              | 61kB 5.1MB/s eta 0:00:01\r\u001b[K     |██▎                             | 71kB 5.2MB/s eta 0:00:01\r\u001b[K     |██▋                             | 81kB 5.5MB/s eta 0:00:01\r\u001b[K     |██▉                             | 92kB 5.8MB/s eta 0:00:01\r\u001b[K     |███▏                            | 102kB 5.9MB/s eta 0:00:01\r\u001b[K     |███▌                            | 112kB 5.9MB/s eta 0:00:01\r\u001b[K     |███▉                            | 122kB 5.9MB/s eta 0:00:01\r\u001b[K     |████▏                           | 133kB 5.9MB/s eta 0:00:01\r\u001b[K     |████▌                           | 143kB 5.9MB/s eta 0:00:01\r\u001b[K     |████▉                           | 153kB 5.9MB/s eta 0:00:01\r\u001b[K     |█████▏                          | 163kB 5.9MB/s eta 0:00:01\r\u001b[K     |█████▍                          | 174kB 5.9MB/s eta 0:00:01\r\u001b[K     |█████▊                          | 184kB 5.9MB/s eta 0:00:01\r\u001b[K     |██████                          | 194kB 5.9MB/s eta 0:00:01\r\u001b[K     |██████▍                         | 204kB 5.9MB/s eta 0:00:01\r\u001b[K     |██████▊                         | 215kB 5.9MB/s eta 0:00:01\r\u001b[K     |███████                         | 225kB 5.9MB/s eta 0:00:01\r\u001b[K     |███████▍                        | 235kB 5.9MB/s eta 0:00:01\r\u001b[K     |███████▊                        | 245kB 5.9MB/s eta 0:00:01\r\u001b[K     |████████                        | 256kB 5.9MB/s eta 0:00:01\r\u001b[K     |████████▎                       | 266kB 5.9MB/s eta 0:00:01\r\u001b[K     |████████▋                       | 276kB 5.9MB/s eta 0:00:01\r\u001b[K     |█████████                       | 286kB 5.9MB/s eta 0:00:01\r\u001b[K     |█████████▎                      | 296kB 5.9MB/s eta 0:00:01\r\u001b[K     |█████████▋                      | 307kB 5.9MB/s eta 0:00:01\r\u001b[K     |██████████                      | 317kB 5.9MB/s eta 0:00:01\r\u001b[K     |██████████▎                     | 327kB 5.9MB/s eta 0:00:01\r\u001b[K     |██████████▋                     | 337kB 5.9MB/s eta 0:00:01\r\u001b[K     |██████████▉                     | 348kB 5.9MB/s eta 0:00:01\r\u001b[K     |███████████▏                    | 358kB 5.9MB/s eta 0:00:01\r\u001b[K     |███████████▌                    | 368kB 5.9MB/s eta 0:00:01\r\u001b[K     |███████████▉                    | 378kB 5.9MB/s eta 0:00:01\r\u001b[K     |████████████▏                   | 389kB 5.9MB/s eta 0:00:01\r\u001b[K     |████████████▌                   | 399kB 5.9MB/s eta 0:00:01\r\u001b[K     |████████████▉                   | 409kB 5.9MB/s eta 0:00:01\r\u001b[K     |█████████████▏                  | 419kB 5.9MB/s eta 0:00:01\r\u001b[K     |█████████████▌                  | 430kB 5.9MB/s eta 0:00:01\r\u001b[K     |█████████████▊                  | 440kB 5.9MB/s eta 0:00:01\r\u001b[K     |██████████████                  | 450kB 5.9MB/s eta 0:00:01\r\u001b[K     |██████████████▍                 | 460kB 5.9MB/s eta 0:00:01\r\u001b[K     |██████████████▊                 | 471kB 5.9MB/s eta 0:00:01\r\u001b[K     |███████████████                 | 481kB 5.9MB/s eta 0:00:01\r\u001b[K     |███████████████▍                | 491kB 5.9MB/s eta 0:00:01\r\u001b[K     |███████████████▊                | 501kB 5.9MB/s eta 0:00:01\r\u001b[K     |████████████████                | 512kB 5.9MB/s eta 0:00:01\r\u001b[K     |████████████████▎               | 522kB 5.9MB/s eta 0:00:01\r\u001b[K     |████████████████▋               | 532kB 5.9MB/s eta 0:00:01\r\u001b[K     |█████████████████               | 542kB 5.9MB/s eta 0:00:01\r\u001b[K     |█████████████████▎              | 552kB 5.9MB/s eta 0:00:01\r\u001b[K     |█████████████████▋              | 563kB 5.9MB/s eta 0:00:01\r\u001b[K     |██████████████████              | 573kB 5.9MB/s eta 0:00:01\r\u001b[K     |██████████████████▎             | 583kB 5.9MB/s eta 0:00:01\r\u001b[K     |██████████████████▋             | 593kB 5.9MB/s eta 0:00:01\r\u001b[K     |███████████████████             | 604kB 5.9MB/s eta 0:00:01\r\u001b[K     |███████████████████▏            | 614kB 5.9MB/s eta 0:00:01\r\u001b[K     |███████████████████▌            | 624kB 5.9MB/s eta 0:00:01\r\u001b[K     |███████████████████▉            | 634kB 5.9MB/s eta 0:00:01\r\u001b[K     |████████████████████▏           | 645kB 5.9MB/s eta 0:00:01\r\u001b[K     |████████████████████▌           | 655kB 5.9MB/s eta 0:00:01\r\u001b[K     |████████████████████▉           | 665kB 5.9MB/s eta 0:00:01\r\u001b[K     |█████████████████████▏          | 675kB 5.9MB/s eta 0:00:01\r\u001b[K     |█████████████████████▌          | 686kB 5.9MB/s eta 0:00:01\r\u001b[K     |█████████████████████▊          | 696kB 5.9MB/s eta 0:00:01\r\u001b[K     |██████████████████████          | 706kB 5.9MB/s eta 0:00:01\r\u001b[K     |██████████████████████▍         | 716kB 5.9MB/s eta 0:00:01\r\u001b[K     |██████████████████████▊         | 727kB 5.9MB/s eta 0:00:01\r\u001b[K     |███████████████████████         | 737kB 5.9MB/s eta 0:00:01\r\u001b[K     |███████████████████████▍        | 747kB 5.9MB/s eta 0:00:01\r\u001b[K     |███████████████████████▊        | 757kB 5.9MB/s eta 0:00:01\r\u001b[K     |████████████████████████        | 768kB 5.9MB/s eta 0:00:01\r\u001b[K     |████████████████████████▍       | 778kB 5.9MB/s eta 0:00:01\r\u001b[K     |████████████████████████▋       | 788kB 5.9MB/s eta 0:00:01\r\u001b[K     |█████████████████████████       | 798kB 5.9MB/s eta 0:00:01\r\u001b[K     |█████████████████████████▎      | 808kB 5.9MB/s eta 0:00:01\r\u001b[K     |█████████████████████████▋      | 819kB 5.9MB/s eta 0:00:01\r\u001b[K     |██████████████████████████      | 829kB 5.9MB/s eta 0:00:01\r\u001b[K     |██████████████████████████▎     | 839kB 5.9MB/s eta 0:00:01\r\u001b[K     |██████████████████████████▋     | 849kB 5.9MB/s eta 0:00:01\r\u001b[K     |███████████████████████████     | 860kB 5.9MB/s eta 0:00:01\r\u001b[K     |███████████████████████████▏    | 870kB 5.9MB/s eta 0:00:01\r\u001b[K     |███████████████████████████▌    | 880kB 5.9MB/s eta 0:00:01\r\u001b[K     |███████████████████████████▉    | 890kB 5.9MB/s eta 0:00:01\r\u001b[K     |████████████████████████████▏   | 901kB 5.9MB/s eta 0:00:01\r\u001b[K     |████████████████████████████▌   | 911kB 5.9MB/s eta 0:00:01\r\u001b[K     |████████████████████████████▉   | 921kB 5.9MB/s eta 0:00:01\r\u001b[K     |█████████████████████████████▏  | 931kB 5.9MB/s eta 0:00:01\r\u001b[K     |█████████████████████████████▌  | 942kB 5.9MB/s eta 0:00:01\r\u001b[K     |█████████████████████████████▉  | 952kB 5.9MB/s eta 0:00:01\r\u001b[K     |██████████████████████████████  | 962kB 5.9MB/s eta 0:00:01\r\u001b[K     |██████████████████████████████▍ | 972kB 5.9MB/s eta 0:00:01\r\u001b[K     |██████████████████████████████▊ | 983kB 5.9MB/s eta 0:00:01\r\u001b[K     |███████████████████████████████ | 993kB 5.9MB/s eta 0:00:01\r\u001b[K     |███████████████████████████████▍| 1.0MB 5.9MB/s eta 0:00:01\r\u001b[K     |███████████████████████████████▊| 1.0MB 5.9MB/s eta 0:00:01\r\u001b[K     |████████████████████████████████| 1.0MB 5.9MB/s \n",
            "\u001b[?25h  Building wheel for tensorflow-docs (setup.py) ... \u001b[?25l\u001b[?25hdone\n"
          ],
          "name": "stdout"
        }
      ]
    },
    {
      "cell_type": "markdown",
      "metadata": {
        "id": "IgVxL8gqLd-X"
      },
      "source": [
        "#Data"
      ]
    },
    {
      "cell_type": "markdown",
      "metadata": {
        "id": "SMAVpTE57we1"
      },
      "source": [
        "## Data (Cars)"
      ]
    },
    {
      "cell_type": "markdown",
      "metadata": {
        "id": "J2gCnWV9Wl9z"
      },
      "source": [
        "We use already cleaned data from https://www.kaggle.com/bryanb/simple-and-quick-eda\n",
        "\n",
        "IMPORTANT NOTE:: according to this post, there are a few outliers in the dataset, which might skew the learning. I am **not** tackling this now (e.g. removing them) and I want to see what happens.\n",
        "\n"
      ]
    },
    {
      "cell_type": "markdown",
      "metadata": {
        "id": "EEnQ73M4CTas"
      },
      "source": [
        "Code adapted from https://www.kaggle.com/jshih7/car-price-prediction\n",
        "to read data file and handle nominal attributes\n",
        "\n",
        "also using a trick from https://stackoverflow.com/questions/18889588/create-dummies-from-column-with-multiple-values-in-pandas"
      ]
    },
    {
      "cell_type": "code",
      "metadata": {
        "colab": {
          "base_uri": "https://localhost:8080/"
        },
        "id": "b-hSehbqDY8o",
        "outputId": "30a6fd2b-8f22-4262-955d-fe9a5a0b635e"
      },
      "source": [
        "# filename = '/content/drive/My Drive/2020 Summer Assistantship CBR+Deep Learning/cars_cleaned.csv'\n",
        "# filename = '/content/drive/My Drive/2020 Summer Assistantship CBR+Deep Learning/cars_cleaned_Above600kDeleted.csv'\n",
        "filename = '/content/drive/My Drive/2020 Summer Assistantship CBR+Deep Learning/cars_cleaned_Above600kDeleted_NoDuplicate.csv'\n",
        "\n",
        "def GetDataMatrix():\n",
        "    \n",
        "    # Data frame with make and model\n",
        "    X = pd.read_csv(filename,header=0, usecols=(1,2,3,4,5,6,7,8,9,10,11,12,13,14,15,));\n",
        "\n",
        "    y = pd.read_csv(filename,header=0, usecols=(16,));\n",
        "\n",
        "    # X, y = shuffle(X, y)\n",
        "    print(X.head(0))\n",
        "    # Turns categorical data into binary values across many columns\n",
        "    #special one hot encoding with multiple values\n",
        "    market_category_dummies = X['Market Category'].str.get_dummies(sep=',')\n",
        "    X = pd.concat([X, market_category_dummies], axis=1)\n",
        "    X = X.drop(columns=['Market Category'])\n",
        "    #normal one hot encoding\n",
        "    X = pd.get_dummies(X, dummy_na = False, columns=['Make', 'Model', 'Engine Fuel Type', 'Transmission Type', 'Driven_Wheels', 'Vehicle Size', 'Vehicle Style'] );\n",
        "    \n",
        "    # Fill the null values with zeros\n",
        "    # X.fillna(0, inplace=True);\n",
        "    #there shouldn't be null, since it's already cleaned.\n",
        "    print(X.isnull().sum())\n",
        "\n",
        "    return (X, y)\n",
        "\n",
        "##########\n",
        "\n",
        "(X, y) = GetDataMatrix() #Gets the X,Y"
      ],
      "execution_count": null,
      "outputs": [
        {
          "output_type": "stream",
          "text": [
            "Empty DataFrame\n",
            "Columns: [Make, Model, Year, Engine Fuel Type, Engine HP, Engine Cylinders, Transmission Type, Driven_Wheels, Number of Doors, Market Category, Vehicle Size, Vehicle Style, highway MPG, city mpg, Popularity]\n",
            "Index: []\n",
            "Year                                0\n",
            "Engine HP                           0\n",
            "Engine Cylinders                    0\n",
            "Number of Doors                     0\n",
            "highway MPG                         0\n",
            "                                   ..\n",
            "Vehicle Style_Passenger Minivan     0\n",
            "Vehicle Style_Passenger Van         0\n",
            "Vehicle Style_Regular Cab Pickup    0\n",
            "Vehicle Style_Sedan                 0\n",
            "Vehicle Style_Wagon                 0\n",
            "Length: 1009, dtype: int64\n"
          ],
          "name": "stdout"
        }
      ]
    },
    {
      "cell_type": "code",
      "metadata": {
        "colab": {
          "base_uri": "https://localhost:8080/",
          "height": 286
        },
        "id": "zh9pyKQQaFCF",
        "outputId": "f981ba36-e6a4-4036-87f5-daf53f8d284d"
      },
      "source": [
        "X.head(5)"
      ],
      "execution_count": null,
      "outputs": [
        {
          "output_type": "execute_result",
          "data": {
            "text/html": [
              "<div>\n",
              "<style scoped>\n",
              "    .dataframe tbody tr th:only-of-type {\n",
              "        vertical-align: middle;\n",
              "    }\n",
              "\n",
              "    .dataframe tbody tr th {\n",
              "        vertical-align: top;\n",
              "    }\n",
              "\n",
              "    .dataframe thead th {\n",
              "        text-align: right;\n",
              "    }\n",
              "</style>\n",
              "<table border=\"1\" class=\"dataframe\">\n",
              "  <thead>\n",
              "    <tr style=\"text-align: right;\">\n",
              "      <th></th>\n",
              "      <th>Year</th>\n",
              "      <th>Engine HP</th>\n",
              "      <th>Engine Cylinders</th>\n",
              "      <th>Number of Doors</th>\n",
              "      <th>highway MPG</th>\n",
              "      <th>city mpg</th>\n",
              "      <th>Popularity</th>\n",
              "      <th>Crossover</th>\n",
              "      <th>Diesel</th>\n",
              "      <th>Exotic</th>\n",
              "      <th>Factory Tuner</th>\n",
              "      <th>Flex Fuel</th>\n",
              "      <th>Hatchback</th>\n",
              "      <th>High-Performance</th>\n",
              "      <th>Hybrid</th>\n",
              "      <th>Luxury</th>\n",
              "      <th>No category</th>\n",
              "      <th>Performance</th>\n",
              "      <th>Make_Acura</th>\n",
              "      <th>Make_Alfa Romeo</th>\n",
              "      <th>Make_Aston Martin</th>\n",
              "      <th>Make_Audi</th>\n",
              "      <th>Make_BMW</th>\n",
              "      <th>Make_Bentley</th>\n",
              "      <th>Make_Buick</th>\n",
              "      <th>Make_Cadillac</th>\n",
              "      <th>Make_Chevrolet</th>\n",
              "      <th>Make_Chrysler</th>\n",
              "      <th>Make_Dodge</th>\n",
              "      <th>Make_FIAT</th>\n",
              "      <th>Make_Ferrari</th>\n",
              "      <th>Make_Ford</th>\n",
              "      <th>Make_GMC</th>\n",
              "      <th>Make_Genesis</th>\n",
              "      <th>Make_HUMMER</th>\n",
              "      <th>Make_Honda</th>\n",
              "      <th>Make_Hyundai</th>\n",
              "      <th>Make_Infiniti</th>\n",
              "      <th>Make_Kia</th>\n",
              "      <th>Make_Lamborghini</th>\n",
              "      <th>...</th>\n",
              "      <th>Model_iA</th>\n",
              "      <th>Model_iM</th>\n",
              "      <th>Model_iQ</th>\n",
              "      <th>Model_tC</th>\n",
              "      <th>Model_xA</th>\n",
              "      <th>Model_xB</th>\n",
              "      <th>Model_xD</th>\n",
              "      <th>Engine Fuel Type_0</th>\n",
              "      <th>Engine Fuel Type_1</th>\n",
              "      <th>Engine Fuel Type_2</th>\n",
              "      <th>Engine Fuel Type_3</th>\n",
              "      <th>Engine Fuel Type_4</th>\n",
              "      <th>Transmission Type_AUTOMATED_MANUAL</th>\n",
              "      <th>Transmission Type_AUTOMATIC</th>\n",
              "      <th>Transmission Type_DIRECT_DRIVE</th>\n",
              "      <th>Transmission Type_MANUAL</th>\n",
              "      <th>Transmission Type_UNKNOWN</th>\n",
              "      <th>Driven_Wheels_all wheel drive</th>\n",
              "      <th>Driven_Wheels_four wheel drive</th>\n",
              "      <th>Driven_Wheels_front wheel drive</th>\n",
              "      <th>Driven_Wheels_rear wheel drive</th>\n",
              "      <th>Vehicle Size_Compact</th>\n",
              "      <th>Vehicle Size_Large</th>\n",
              "      <th>Vehicle Size_Midsize</th>\n",
              "      <th>Vehicle Style_2dr Hatchback</th>\n",
              "      <th>Vehicle Style_2dr SUV</th>\n",
              "      <th>Vehicle Style_4dr Hatchback</th>\n",
              "      <th>Vehicle Style_4dr SUV</th>\n",
              "      <th>Vehicle Style_Cargo Minivan</th>\n",
              "      <th>Vehicle Style_Cargo Van</th>\n",
              "      <th>Vehicle Style_Convertible</th>\n",
              "      <th>Vehicle Style_Convertible SUV</th>\n",
              "      <th>Vehicle Style_Coupe</th>\n",
              "      <th>Vehicle Style_Crew Cab Pickup</th>\n",
              "      <th>Vehicle Style_Extended Cab Pickup</th>\n",
              "      <th>Vehicle Style_Passenger Minivan</th>\n",
              "      <th>Vehicle Style_Passenger Van</th>\n",
              "      <th>Vehicle Style_Regular Cab Pickup</th>\n",
              "      <th>Vehicle Style_Sedan</th>\n",
              "      <th>Vehicle Style_Wagon</th>\n",
              "    </tr>\n",
              "  </thead>\n",
              "  <tbody>\n",
              "    <tr>\n",
              "      <th>0</th>\n",
              "      <td>2001</td>\n",
              "      <td>225.0</td>\n",
              "      <td>6</td>\n",
              "      <td>2</td>\n",
              "      <td>27</td>\n",
              "      <td>17</td>\n",
              "      <td>204</td>\n",
              "      <td>0</td>\n",
              "      <td>0</td>\n",
              "      <td>0</td>\n",
              "      <td>0</td>\n",
              "      <td>0</td>\n",
              "      <td>0</td>\n",
              "      <td>0</td>\n",
              "      <td>0</td>\n",
              "      <td>1</td>\n",
              "      <td>0</td>\n",
              "      <td>0</td>\n",
              "      <td>1</td>\n",
              "      <td>0</td>\n",
              "      <td>0</td>\n",
              "      <td>0</td>\n",
              "      <td>0</td>\n",
              "      <td>0</td>\n",
              "      <td>0</td>\n",
              "      <td>0</td>\n",
              "      <td>0</td>\n",
              "      <td>0</td>\n",
              "      <td>0</td>\n",
              "      <td>0</td>\n",
              "      <td>0</td>\n",
              "      <td>0</td>\n",
              "      <td>0</td>\n",
              "      <td>0</td>\n",
              "      <td>0</td>\n",
              "      <td>0</td>\n",
              "      <td>0</td>\n",
              "      <td>0</td>\n",
              "      <td>0</td>\n",
              "      <td>0</td>\n",
              "      <td>...</td>\n",
              "      <td>0</td>\n",
              "      <td>0</td>\n",
              "      <td>0</td>\n",
              "      <td>0</td>\n",
              "      <td>0</td>\n",
              "      <td>0</td>\n",
              "      <td>0</td>\n",
              "      <td>1</td>\n",
              "      <td>0</td>\n",
              "      <td>0</td>\n",
              "      <td>0</td>\n",
              "      <td>0</td>\n",
              "      <td>0</td>\n",
              "      <td>1</td>\n",
              "      <td>0</td>\n",
              "      <td>0</td>\n",
              "      <td>0</td>\n",
              "      <td>0</td>\n",
              "      <td>0</td>\n",
              "      <td>1</td>\n",
              "      <td>0</td>\n",
              "      <td>0</td>\n",
              "      <td>0</td>\n",
              "      <td>1</td>\n",
              "      <td>0</td>\n",
              "      <td>0</td>\n",
              "      <td>0</td>\n",
              "      <td>0</td>\n",
              "      <td>0</td>\n",
              "      <td>0</td>\n",
              "      <td>0</td>\n",
              "      <td>0</td>\n",
              "      <td>1</td>\n",
              "      <td>0</td>\n",
              "      <td>0</td>\n",
              "      <td>0</td>\n",
              "      <td>0</td>\n",
              "      <td>0</td>\n",
              "      <td>0</td>\n",
              "      <td>0</td>\n",
              "    </tr>\n",
              "    <tr>\n",
              "      <th>1</th>\n",
              "      <td>2002</td>\n",
              "      <td>225.0</td>\n",
              "      <td>6</td>\n",
              "      <td>2</td>\n",
              "      <td>27</td>\n",
              "      <td>17</td>\n",
              "      <td>204</td>\n",
              "      <td>0</td>\n",
              "      <td>0</td>\n",
              "      <td>0</td>\n",
              "      <td>0</td>\n",
              "      <td>0</td>\n",
              "      <td>0</td>\n",
              "      <td>0</td>\n",
              "      <td>0</td>\n",
              "      <td>1</td>\n",
              "      <td>0</td>\n",
              "      <td>0</td>\n",
              "      <td>1</td>\n",
              "      <td>0</td>\n",
              "      <td>0</td>\n",
              "      <td>0</td>\n",
              "      <td>0</td>\n",
              "      <td>0</td>\n",
              "      <td>0</td>\n",
              "      <td>0</td>\n",
              "      <td>0</td>\n",
              "      <td>0</td>\n",
              "      <td>0</td>\n",
              "      <td>0</td>\n",
              "      <td>0</td>\n",
              "      <td>0</td>\n",
              "      <td>0</td>\n",
              "      <td>0</td>\n",
              "      <td>0</td>\n",
              "      <td>0</td>\n",
              "      <td>0</td>\n",
              "      <td>0</td>\n",
              "      <td>0</td>\n",
              "      <td>0</td>\n",
              "      <td>...</td>\n",
              "      <td>0</td>\n",
              "      <td>0</td>\n",
              "      <td>0</td>\n",
              "      <td>0</td>\n",
              "      <td>0</td>\n",
              "      <td>0</td>\n",
              "      <td>0</td>\n",
              "      <td>1</td>\n",
              "      <td>0</td>\n",
              "      <td>0</td>\n",
              "      <td>0</td>\n",
              "      <td>0</td>\n",
              "      <td>0</td>\n",
              "      <td>1</td>\n",
              "      <td>0</td>\n",
              "      <td>0</td>\n",
              "      <td>0</td>\n",
              "      <td>0</td>\n",
              "      <td>0</td>\n",
              "      <td>1</td>\n",
              "      <td>0</td>\n",
              "      <td>0</td>\n",
              "      <td>0</td>\n",
              "      <td>1</td>\n",
              "      <td>0</td>\n",
              "      <td>0</td>\n",
              "      <td>0</td>\n",
              "      <td>0</td>\n",
              "      <td>0</td>\n",
              "      <td>0</td>\n",
              "      <td>0</td>\n",
              "      <td>0</td>\n",
              "      <td>1</td>\n",
              "      <td>0</td>\n",
              "      <td>0</td>\n",
              "      <td>0</td>\n",
              "      <td>0</td>\n",
              "      <td>0</td>\n",
              "      <td>0</td>\n",
              "      <td>0</td>\n",
              "    </tr>\n",
              "    <tr>\n",
              "      <th>2</th>\n",
              "      <td>2003</td>\n",
              "      <td>225.0</td>\n",
              "      <td>6</td>\n",
              "      <td>2</td>\n",
              "      <td>27</td>\n",
              "      <td>17</td>\n",
              "      <td>204</td>\n",
              "      <td>0</td>\n",
              "      <td>0</td>\n",
              "      <td>0</td>\n",
              "      <td>0</td>\n",
              "      <td>0</td>\n",
              "      <td>0</td>\n",
              "      <td>0</td>\n",
              "      <td>0</td>\n",
              "      <td>1</td>\n",
              "      <td>0</td>\n",
              "      <td>0</td>\n",
              "      <td>1</td>\n",
              "      <td>0</td>\n",
              "      <td>0</td>\n",
              "      <td>0</td>\n",
              "      <td>0</td>\n",
              "      <td>0</td>\n",
              "      <td>0</td>\n",
              "      <td>0</td>\n",
              "      <td>0</td>\n",
              "      <td>0</td>\n",
              "      <td>0</td>\n",
              "      <td>0</td>\n",
              "      <td>0</td>\n",
              "      <td>0</td>\n",
              "      <td>0</td>\n",
              "      <td>0</td>\n",
              "      <td>0</td>\n",
              "      <td>0</td>\n",
              "      <td>0</td>\n",
              "      <td>0</td>\n",
              "      <td>0</td>\n",
              "      <td>0</td>\n",
              "      <td>...</td>\n",
              "      <td>0</td>\n",
              "      <td>0</td>\n",
              "      <td>0</td>\n",
              "      <td>0</td>\n",
              "      <td>0</td>\n",
              "      <td>0</td>\n",
              "      <td>0</td>\n",
              "      <td>1</td>\n",
              "      <td>0</td>\n",
              "      <td>0</td>\n",
              "      <td>0</td>\n",
              "      <td>0</td>\n",
              "      <td>0</td>\n",
              "      <td>1</td>\n",
              "      <td>0</td>\n",
              "      <td>0</td>\n",
              "      <td>0</td>\n",
              "      <td>0</td>\n",
              "      <td>0</td>\n",
              "      <td>1</td>\n",
              "      <td>0</td>\n",
              "      <td>0</td>\n",
              "      <td>0</td>\n",
              "      <td>1</td>\n",
              "      <td>0</td>\n",
              "      <td>0</td>\n",
              "      <td>0</td>\n",
              "      <td>0</td>\n",
              "      <td>0</td>\n",
              "      <td>0</td>\n",
              "      <td>0</td>\n",
              "      <td>0</td>\n",
              "      <td>1</td>\n",
              "      <td>0</td>\n",
              "      <td>0</td>\n",
              "      <td>0</td>\n",
              "      <td>0</td>\n",
              "      <td>0</td>\n",
              "      <td>0</td>\n",
              "      <td>0</td>\n",
              "    </tr>\n",
              "    <tr>\n",
              "      <th>3</th>\n",
              "      <td>2003</td>\n",
              "      <td>260.0</td>\n",
              "      <td>6</td>\n",
              "      <td>2</td>\n",
              "      <td>27</td>\n",
              "      <td>17</td>\n",
              "      <td>204</td>\n",
              "      <td>0</td>\n",
              "      <td>0</td>\n",
              "      <td>0</td>\n",
              "      <td>1</td>\n",
              "      <td>0</td>\n",
              "      <td>0</td>\n",
              "      <td>0</td>\n",
              "      <td>0</td>\n",
              "      <td>1</td>\n",
              "      <td>0</td>\n",
              "      <td>1</td>\n",
              "      <td>1</td>\n",
              "      <td>0</td>\n",
              "      <td>0</td>\n",
              "      <td>0</td>\n",
              "      <td>0</td>\n",
              "      <td>0</td>\n",
              "      <td>0</td>\n",
              "      <td>0</td>\n",
              "      <td>0</td>\n",
              "      <td>0</td>\n",
              "      <td>0</td>\n",
              "      <td>0</td>\n",
              "      <td>0</td>\n",
              "      <td>0</td>\n",
              "      <td>0</td>\n",
              "      <td>0</td>\n",
              "      <td>0</td>\n",
              "      <td>0</td>\n",
              "      <td>0</td>\n",
              "      <td>0</td>\n",
              "      <td>0</td>\n",
              "      <td>0</td>\n",
              "      <td>...</td>\n",
              "      <td>0</td>\n",
              "      <td>0</td>\n",
              "      <td>0</td>\n",
              "      <td>0</td>\n",
              "      <td>0</td>\n",
              "      <td>0</td>\n",
              "      <td>0</td>\n",
              "      <td>1</td>\n",
              "      <td>0</td>\n",
              "      <td>0</td>\n",
              "      <td>0</td>\n",
              "      <td>0</td>\n",
              "      <td>0</td>\n",
              "      <td>1</td>\n",
              "      <td>0</td>\n",
              "      <td>0</td>\n",
              "      <td>0</td>\n",
              "      <td>0</td>\n",
              "      <td>0</td>\n",
              "      <td>1</td>\n",
              "      <td>0</td>\n",
              "      <td>0</td>\n",
              "      <td>0</td>\n",
              "      <td>1</td>\n",
              "      <td>0</td>\n",
              "      <td>0</td>\n",
              "      <td>0</td>\n",
              "      <td>0</td>\n",
              "      <td>0</td>\n",
              "      <td>0</td>\n",
              "      <td>0</td>\n",
              "      <td>0</td>\n",
              "      <td>1</td>\n",
              "      <td>0</td>\n",
              "      <td>0</td>\n",
              "      <td>0</td>\n",
              "      <td>0</td>\n",
              "      <td>0</td>\n",
              "      <td>0</td>\n",
              "      <td>0</td>\n",
              "    </tr>\n",
              "    <tr>\n",
              "      <th>4</th>\n",
              "      <td>2003</td>\n",
              "      <td>260.0</td>\n",
              "      <td>6</td>\n",
              "      <td>2</td>\n",
              "      <td>26</td>\n",
              "      <td>17</td>\n",
              "      <td>204</td>\n",
              "      <td>0</td>\n",
              "      <td>0</td>\n",
              "      <td>0</td>\n",
              "      <td>1</td>\n",
              "      <td>0</td>\n",
              "      <td>0</td>\n",
              "      <td>0</td>\n",
              "      <td>0</td>\n",
              "      <td>1</td>\n",
              "      <td>0</td>\n",
              "      <td>1</td>\n",
              "      <td>1</td>\n",
              "      <td>0</td>\n",
              "      <td>0</td>\n",
              "      <td>0</td>\n",
              "      <td>0</td>\n",
              "      <td>0</td>\n",
              "      <td>0</td>\n",
              "      <td>0</td>\n",
              "      <td>0</td>\n",
              "      <td>0</td>\n",
              "      <td>0</td>\n",
              "      <td>0</td>\n",
              "      <td>0</td>\n",
              "      <td>0</td>\n",
              "      <td>0</td>\n",
              "      <td>0</td>\n",
              "      <td>0</td>\n",
              "      <td>0</td>\n",
              "      <td>0</td>\n",
              "      <td>0</td>\n",
              "      <td>0</td>\n",
              "      <td>0</td>\n",
              "      <td>...</td>\n",
              "      <td>0</td>\n",
              "      <td>0</td>\n",
              "      <td>0</td>\n",
              "      <td>0</td>\n",
              "      <td>0</td>\n",
              "      <td>0</td>\n",
              "      <td>0</td>\n",
              "      <td>1</td>\n",
              "      <td>0</td>\n",
              "      <td>0</td>\n",
              "      <td>0</td>\n",
              "      <td>0</td>\n",
              "      <td>0</td>\n",
              "      <td>0</td>\n",
              "      <td>0</td>\n",
              "      <td>1</td>\n",
              "      <td>0</td>\n",
              "      <td>0</td>\n",
              "      <td>0</td>\n",
              "      <td>1</td>\n",
              "      <td>0</td>\n",
              "      <td>0</td>\n",
              "      <td>0</td>\n",
              "      <td>1</td>\n",
              "      <td>0</td>\n",
              "      <td>0</td>\n",
              "      <td>0</td>\n",
              "      <td>0</td>\n",
              "      <td>0</td>\n",
              "      <td>0</td>\n",
              "      <td>0</td>\n",
              "      <td>0</td>\n",
              "      <td>1</td>\n",
              "      <td>0</td>\n",
              "      <td>0</td>\n",
              "      <td>0</td>\n",
              "      <td>0</td>\n",
              "      <td>0</td>\n",
              "      <td>0</td>\n",
              "      <td>0</td>\n",
              "    </tr>\n",
              "  </tbody>\n",
              "</table>\n",
              "<p>5 rows × 1009 columns</p>\n",
              "</div>"
            ],
            "text/plain": [
              "   Year  Engine HP  ...  Vehicle Style_Sedan  Vehicle Style_Wagon\n",
              "0  2001      225.0  ...                    0                    0\n",
              "1  2002      225.0  ...                    0                    0\n",
              "2  2003      225.0  ...                    0                    0\n",
              "3  2003      260.0  ...                    0                    0\n",
              "4  2003      260.0  ...                    0                    0\n",
              "\n",
              "[5 rows x 1009 columns]"
            ]
          },
          "metadata": {
            "tags": []
          },
          "execution_count": 301
        }
      ]
    },
    {
      "cell_type": "code",
      "metadata": {
        "colab": {
          "base_uri": "https://localhost:8080/"
        },
        "id": "FruOaiXoG5Bu",
        "outputId": "323531e9-0cf8-467a-dbd4-896647c343bf"
      },
      "source": [
        "X.isna().sum()\n",
        "nullseries =  X.isna().sum()\n",
        "print(nullseries[nullseries > 0])"
      ],
      "execution_count": null,
      "outputs": [
        {
          "output_type": "stream",
          "text": [
            "Series([], dtype: int64)\n"
          ],
          "name": "stdout"
        }
      ]
    },
    {
      "cell_type": "code",
      "metadata": {
        "colab": {
          "base_uri": "https://localhost:8080/"
        },
        "id": "OhszClmyO2ea",
        "outputId": "087aafcd-ca39-4d32-ac7e-903ceae9b292"
      },
      "source": [
        "X.shape"
      ],
      "execution_count": null,
      "outputs": [
        {
          "output_type": "execute_result",
          "data": {
            "text/plain": [
              "(6629, 1009)"
            ]
          },
          "metadata": {
            "tags": []
          },
          "execution_count": 303
        }
      ]
    },
    {
      "cell_type": "code",
      "metadata": {
        "colab": {
          "base_uri": "https://localhost:8080/"
        },
        "id": "FQZgm4XiO3i5",
        "outputId": "729d171b-a9c7-4fa4-b2fa-8e339021ce30"
      },
      "source": [
        "y.shape"
      ],
      "execution_count": null,
      "outputs": [
        {
          "output_type": "execute_result",
          "data": {
            "text/plain": [
              "(6629, 1)"
            ]
          },
          "metadata": {
            "tags": []
          },
          "execution_count": 304
        }
      ]
    },
    {
      "cell_type": "code",
      "metadata": {
        "colab": {
          "base_uri": "https://localhost:8080/"
        },
        "id": "eWwQ9-HePJ-T",
        "outputId": "75a484cb-3267-465f-9ca3-7d340af7efd4"
      },
      "source": [
        "y.shape[0]"
      ],
      "execution_count": null,
      "outputs": [
        {
          "output_type": "execute_result",
          "data": {
            "text/plain": [
              "6629"
            ]
          },
          "metadata": {
            "tags": []
          },
          "execution_count": 305
        }
      ]
    },
    {
      "cell_type": "code",
      "metadata": {
        "colab": {
          "base_uri": "https://localhost:8080/",
          "height": 409
        },
        "id": "-F5RIgNo1ctQ",
        "outputId": "5190ba0b-c0ea-4ed2-8910-9b455493eb04"
      },
      "source": [
        "X[1:10]"
      ],
      "execution_count": null,
      "outputs": [
        {
          "output_type": "execute_result",
          "data": {
            "text/html": [
              "<div>\n",
              "<style scoped>\n",
              "    .dataframe tbody tr th:only-of-type {\n",
              "        vertical-align: middle;\n",
              "    }\n",
              "\n",
              "    .dataframe tbody tr th {\n",
              "        vertical-align: top;\n",
              "    }\n",
              "\n",
              "    .dataframe thead th {\n",
              "        text-align: right;\n",
              "    }\n",
              "</style>\n",
              "<table border=\"1\" class=\"dataframe\">\n",
              "  <thead>\n",
              "    <tr style=\"text-align: right;\">\n",
              "      <th></th>\n",
              "      <th>Year</th>\n",
              "      <th>Engine HP</th>\n",
              "      <th>Engine Cylinders</th>\n",
              "      <th>Number of Doors</th>\n",
              "      <th>highway MPG</th>\n",
              "      <th>city mpg</th>\n",
              "      <th>Popularity</th>\n",
              "      <th>Crossover</th>\n",
              "      <th>Diesel</th>\n",
              "      <th>Exotic</th>\n",
              "      <th>Factory Tuner</th>\n",
              "      <th>Flex Fuel</th>\n",
              "      <th>Hatchback</th>\n",
              "      <th>High-Performance</th>\n",
              "      <th>Hybrid</th>\n",
              "      <th>Luxury</th>\n",
              "      <th>No category</th>\n",
              "      <th>Performance</th>\n",
              "      <th>Make_Acura</th>\n",
              "      <th>Make_Alfa Romeo</th>\n",
              "      <th>Make_Aston Martin</th>\n",
              "      <th>Make_Audi</th>\n",
              "      <th>Make_BMW</th>\n",
              "      <th>Make_Bentley</th>\n",
              "      <th>Make_Buick</th>\n",
              "      <th>Make_Cadillac</th>\n",
              "      <th>Make_Chevrolet</th>\n",
              "      <th>Make_Chrysler</th>\n",
              "      <th>Make_Dodge</th>\n",
              "      <th>Make_FIAT</th>\n",
              "      <th>Make_Ferrari</th>\n",
              "      <th>Make_Ford</th>\n",
              "      <th>Make_GMC</th>\n",
              "      <th>Make_Genesis</th>\n",
              "      <th>Make_HUMMER</th>\n",
              "      <th>Make_Honda</th>\n",
              "      <th>Make_Hyundai</th>\n",
              "      <th>Make_Infiniti</th>\n",
              "      <th>Make_Kia</th>\n",
              "      <th>Make_Lamborghini</th>\n",
              "      <th>...</th>\n",
              "      <th>Model_iA</th>\n",
              "      <th>Model_iM</th>\n",
              "      <th>Model_iQ</th>\n",
              "      <th>Model_tC</th>\n",
              "      <th>Model_xA</th>\n",
              "      <th>Model_xB</th>\n",
              "      <th>Model_xD</th>\n",
              "      <th>Engine Fuel Type_0</th>\n",
              "      <th>Engine Fuel Type_1</th>\n",
              "      <th>Engine Fuel Type_2</th>\n",
              "      <th>Engine Fuel Type_3</th>\n",
              "      <th>Engine Fuel Type_4</th>\n",
              "      <th>Transmission Type_AUTOMATED_MANUAL</th>\n",
              "      <th>Transmission Type_AUTOMATIC</th>\n",
              "      <th>Transmission Type_DIRECT_DRIVE</th>\n",
              "      <th>Transmission Type_MANUAL</th>\n",
              "      <th>Transmission Type_UNKNOWN</th>\n",
              "      <th>Driven_Wheels_all wheel drive</th>\n",
              "      <th>Driven_Wheels_four wheel drive</th>\n",
              "      <th>Driven_Wheels_front wheel drive</th>\n",
              "      <th>Driven_Wheels_rear wheel drive</th>\n",
              "      <th>Vehicle Size_Compact</th>\n",
              "      <th>Vehicle Size_Large</th>\n",
              "      <th>Vehicle Size_Midsize</th>\n",
              "      <th>Vehicle Style_2dr Hatchback</th>\n",
              "      <th>Vehicle Style_2dr SUV</th>\n",
              "      <th>Vehicle Style_4dr Hatchback</th>\n",
              "      <th>Vehicle Style_4dr SUV</th>\n",
              "      <th>Vehicle Style_Cargo Minivan</th>\n",
              "      <th>Vehicle Style_Cargo Van</th>\n",
              "      <th>Vehicle Style_Convertible</th>\n",
              "      <th>Vehicle Style_Convertible SUV</th>\n",
              "      <th>Vehicle Style_Coupe</th>\n",
              "      <th>Vehicle Style_Crew Cab Pickup</th>\n",
              "      <th>Vehicle Style_Extended Cab Pickup</th>\n",
              "      <th>Vehicle Style_Passenger Minivan</th>\n",
              "      <th>Vehicle Style_Passenger Van</th>\n",
              "      <th>Vehicle Style_Regular Cab Pickup</th>\n",
              "      <th>Vehicle Style_Sedan</th>\n",
              "      <th>Vehicle Style_Wagon</th>\n",
              "    </tr>\n",
              "  </thead>\n",
              "  <tbody>\n",
              "    <tr>\n",
              "      <th>1</th>\n",
              "      <td>2002</td>\n",
              "      <td>225.0</td>\n",
              "      <td>6</td>\n",
              "      <td>2</td>\n",
              "      <td>27</td>\n",
              "      <td>17</td>\n",
              "      <td>204</td>\n",
              "      <td>0</td>\n",
              "      <td>0</td>\n",
              "      <td>0</td>\n",
              "      <td>0</td>\n",
              "      <td>0</td>\n",
              "      <td>0</td>\n",
              "      <td>0</td>\n",
              "      <td>0</td>\n",
              "      <td>1</td>\n",
              "      <td>0</td>\n",
              "      <td>0</td>\n",
              "      <td>1</td>\n",
              "      <td>0</td>\n",
              "      <td>0</td>\n",
              "      <td>0</td>\n",
              "      <td>0</td>\n",
              "      <td>0</td>\n",
              "      <td>0</td>\n",
              "      <td>0</td>\n",
              "      <td>0</td>\n",
              "      <td>0</td>\n",
              "      <td>0</td>\n",
              "      <td>0</td>\n",
              "      <td>0</td>\n",
              "      <td>0</td>\n",
              "      <td>0</td>\n",
              "      <td>0</td>\n",
              "      <td>0</td>\n",
              "      <td>0</td>\n",
              "      <td>0</td>\n",
              "      <td>0</td>\n",
              "      <td>0</td>\n",
              "      <td>0</td>\n",
              "      <td>...</td>\n",
              "      <td>0</td>\n",
              "      <td>0</td>\n",
              "      <td>0</td>\n",
              "      <td>0</td>\n",
              "      <td>0</td>\n",
              "      <td>0</td>\n",
              "      <td>0</td>\n",
              "      <td>1</td>\n",
              "      <td>0</td>\n",
              "      <td>0</td>\n",
              "      <td>0</td>\n",
              "      <td>0</td>\n",
              "      <td>0</td>\n",
              "      <td>1</td>\n",
              "      <td>0</td>\n",
              "      <td>0</td>\n",
              "      <td>0</td>\n",
              "      <td>0</td>\n",
              "      <td>0</td>\n",
              "      <td>1</td>\n",
              "      <td>0</td>\n",
              "      <td>0</td>\n",
              "      <td>0</td>\n",
              "      <td>1</td>\n",
              "      <td>0</td>\n",
              "      <td>0</td>\n",
              "      <td>0</td>\n",
              "      <td>0</td>\n",
              "      <td>0</td>\n",
              "      <td>0</td>\n",
              "      <td>0</td>\n",
              "      <td>0</td>\n",
              "      <td>1</td>\n",
              "      <td>0</td>\n",
              "      <td>0</td>\n",
              "      <td>0</td>\n",
              "      <td>0</td>\n",
              "      <td>0</td>\n",
              "      <td>0</td>\n",
              "      <td>0</td>\n",
              "    </tr>\n",
              "    <tr>\n",
              "      <th>2</th>\n",
              "      <td>2003</td>\n",
              "      <td>225.0</td>\n",
              "      <td>6</td>\n",
              "      <td>2</td>\n",
              "      <td>27</td>\n",
              "      <td>17</td>\n",
              "      <td>204</td>\n",
              "      <td>0</td>\n",
              "      <td>0</td>\n",
              "      <td>0</td>\n",
              "      <td>0</td>\n",
              "      <td>0</td>\n",
              "      <td>0</td>\n",
              "      <td>0</td>\n",
              "      <td>0</td>\n",
              "      <td>1</td>\n",
              "      <td>0</td>\n",
              "      <td>0</td>\n",
              "      <td>1</td>\n",
              "      <td>0</td>\n",
              "      <td>0</td>\n",
              "      <td>0</td>\n",
              "      <td>0</td>\n",
              "      <td>0</td>\n",
              "      <td>0</td>\n",
              "      <td>0</td>\n",
              "      <td>0</td>\n",
              "      <td>0</td>\n",
              "      <td>0</td>\n",
              "      <td>0</td>\n",
              "      <td>0</td>\n",
              "      <td>0</td>\n",
              "      <td>0</td>\n",
              "      <td>0</td>\n",
              "      <td>0</td>\n",
              "      <td>0</td>\n",
              "      <td>0</td>\n",
              "      <td>0</td>\n",
              "      <td>0</td>\n",
              "      <td>0</td>\n",
              "      <td>...</td>\n",
              "      <td>0</td>\n",
              "      <td>0</td>\n",
              "      <td>0</td>\n",
              "      <td>0</td>\n",
              "      <td>0</td>\n",
              "      <td>0</td>\n",
              "      <td>0</td>\n",
              "      <td>1</td>\n",
              "      <td>0</td>\n",
              "      <td>0</td>\n",
              "      <td>0</td>\n",
              "      <td>0</td>\n",
              "      <td>0</td>\n",
              "      <td>1</td>\n",
              "      <td>0</td>\n",
              "      <td>0</td>\n",
              "      <td>0</td>\n",
              "      <td>0</td>\n",
              "      <td>0</td>\n",
              "      <td>1</td>\n",
              "      <td>0</td>\n",
              "      <td>0</td>\n",
              "      <td>0</td>\n",
              "      <td>1</td>\n",
              "      <td>0</td>\n",
              "      <td>0</td>\n",
              "      <td>0</td>\n",
              "      <td>0</td>\n",
              "      <td>0</td>\n",
              "      <td>0</td>\n",
              "      <td>0</td>\n",
              "      <td>0</td>\n",
              "      <td>1</td>\n",
              "      <td>0</td>\n",
              "      <td>0</td>\n",
              "      <td>0</td>\n",
              "      <td>0</td>\n",
              "      <td>0</td>\n",
              "      <td>0</td>\n",
              "      <td>0</td>\n",
              "    </tr>\n",
              "    <tr>\n",
              "      <th>3</th>\n",
              "      <td>2003</td>\n",
              "      <td>260.0</td>\n",
              "      <td>6</td>\n",
              "      <td>2</td>\n",
              "      <td>27</td>\n",
              "      <td>17</td>\n",
              "      <td>204</td>\n",
              "      <td>0</td>\n",
              "      <td>0</td>\n",
              "      <td>0</td>\n",
              "      <td>1</td>\n",
              "      <td>0</td>\n",
              "      <td>0</td>\n",
              "      <td>0</td>\n",
              "      <td>0</td>\n",
              "      <td>1</td>\n",
              "      <td>0</td>\n",
              "      <td>1</td>\n",
              "      <td>1</td>\n",
              "      <td>0</td>\n",
              "      <td>0</td>\n",
              "      <td>0</td>\n",
              "      <td>0</td>\n",
              "      <td>0</td>\n",
              "      <td>0</td>\n",
              "      <td>0</td>\n",
              "      <td>0</td>\n",
              "      <td>0</td>\n",
              "      <td>0</td>\n",
              "      <td>0</td>\n",
              "      <td>0</td>\n",
              "      <td>0</td>\n",
              "      <td>0</td>\n",
              "      <td>0</td>\n",
              "      <td>0</td>\n",
              "      <td>0</td>\n",
              "      <td>0</td>\n",
              "      <td>0</td>\n",
              "      <td>0</td>\n",
              "      <td>0</td>\n",
              "      <td>...</td>\n",
              "      <td>0</td>\n",
              "      <td>0</td>\n",
              "      <td>0</td>\n",
              "      <td>0</td>\n",
              "      <td>0</td>\n",
              "      <td>0</td>\n",
              "      <td>0</td>\n",
              "      <td>1</td>\n",
              "      <td>0</td>\n",
              "      <td>0</td>\n",
              "      <td>0</td>\n",
              "      <td>0</td>\n",
              "      <td>0</td>\n",
              "      <td>1</td>\n",
              "      <td>0</td>\n",
              "      <td>0</td>\n",
              "      <td>0</td>\n",
              "      <td>0</td>\n",
              "      <td>0</td>\n",
              "      <td>1</td>\n",
              "      <td>0</td>\n",
              "      <td>0</td>\n",
              "      <td>0</td>\n",
              "      <td>1</td>\n",
              "      <td>0</td>\n",
              "      <td>0</td>\n",
              "      <td>0</td>\n",
              "      <td>0</td>\n",
              "      <td>0</td>\n",
              "      <td>0</td>\n",
              "      <td>0</td>\n",
              "      <td>0</td>\n",
              "      <td>1</td>\n",
              "      <td>0</td>\n",
              "      <td>0</td>\n",
              "      <td>0</td>\n",
              "      <td>0</td>\n",
              "      <td>0</td>\n",
              "      <td>0</td>\n",
              "      <td>0</td>\n",
              "    </tr>\n",
              "    <tr>\n",
              "      <th>4</th>\n",
              "      <td>2003</td>\n",
              "      <td>260.0</td>\n",
              "      <td>6</td>\n",
              "      <td>2</td>\n",
              "      <td>26</td>\n",
              "      <td>17</td>\n",
              "      <td>204</td>\n",
              "      <td>0</td>\n",
              "      <td>0</td>\n",
              "      <td>0</td>\n",
              "      <td>1</td>\n",
              "      <td>0</td>\n",
              "      <td>0</td>\n",
              "      <td>0</td>\n",
              "      <td>0</td>\n",
              "      <td>1</td>\n",
              "      <td>0</td>\n",
              "      <td>1</td>\n",
              "      <td>1</td>\n",
              "      <td>0</td>\n",
              "      <td>0</td>\n",
              "      <td>0</td>\n",
              "      <td>0</td>\n",
              "      <td>0</td>\n",
              "      <td>0</td>\n",
              "      <td>0</td>\n",
              "      <td>0</td>\n",
              "      <td>0</td>\n",
              "      <td>0</td>\n",
              "      <td>0</td>\n",
              "      <td>0</td>\n",
              "      <td>0</td>\n",
              "      <td>0</td>\n",
              "      <td>0</td>\n",
              "      <td>0</td>\n",
              "      <td>0</td>\n",
              "      <td>0</td>\n",
              "      <td>0</td>\n",
              "      <td>0</td>\n",
              "      <td>0</td>\n",
              "      <td>...</td>\n",
              "      <td>0</td>\n",
              "      <td>0</td>\n",
              "      <td>0</td>\n",
              "      <td>0</td>\n",
              "      <td>0</td>\n",
              "      <td>0</td>\n",
              "      <td>0</td>\n",
              "      <td>1</td>\n",
              "      <td>0</td>\n",
              "      <td>0</td>\n",
              "      <td>0</td>\n",
              "      <td>0</td>\n",
              "      <td>0</td>\n",
              "      <td>0</td>\n",
              "      <td>0</td>\n",
              "      <td>1</td>\n",
              "      <td>0</td>\n",
              "      <td>0</td>\n",
              "      <td>0</td>\n",
              "      <td>1</td>\n",
              "      <td>0</td>\n",
              "      <td>0</td>\n",
              "      <td>0</td>\n",
              "      <td>1</td>\n",
              "      <td>0</td>\n",
              "      <td>0</td>\n",
              "      <td>0</td>\n",
              "      <td>0</td>\n",
              "      <td>0</td>\n",
              "      <td>0</td>\n",
              "      <td>0</td>\n",
              "      <td>0</td>\n",
              "      <td>1</td>\n",
              "      <td>0</td>\n",
              "      <td>0</td>\n",
              "      <td>0</td>\n",
              "      <td>0</td>\n",
              "      <td>0</td>\n",
              "      <td>0</td>\n",
              "      <td>0</td>\n",
              "    </tr>\n",
              "    <tr>\n",
              "      <th>5</th>\n",
              "      <td>2015</td>\n",
              "      <td>150.0</td>\n",
              "      <td>4</td>\n",
              "      <td>4</td>\n",
              "      <td>35</td>\n",
              "      <td>24</td>\n",
              "      <td>204</td>\n",
              "      <td>0</td>\n",
              "      <td>0</td>\n",
              "      <td>0</td>\n",
              "      <td>0</td>\n",
              "      <td>0</td>\n",
              "      <td>0</td>\n",
              "      <td>0</td>\n",
              "      <td>0</td>\n",
              "      <td>1</td>\n",
              "      <td>0</td>\n",
              "      <td>0</td>\n",
              "      <td>1</td>\n",
              "      <td>0</td>\n",
              "      <td>0</td>\n",
              "      <td>0</td>\n",
              "      <td>0</td>\n",
              "      <td>0</td>\n",
              "      <td>0</td>\n",
              "      <td>0</td>\n",
              "      <td>0</td>\n",
              "      <td>0</td>\n",
              "      <td>0</td>\n",
              "      <td>0</td>\n",
              "      <td>0</td>\n",
              "      <td>0</td>\n",
              "      <td>0</td>\n",
              "      <td>0</td>\n",
              "      <td>0</td>\n",
              "      <td>0</td>\n",
              "      <td>0</td>\n",
              "      <td>0</td>\n",
              "      <td>0</td>\n",
              "      <td>0</td>\n",
              "      <td>...</td>\n",
              "      <td>0</td>\n",
              "      <td>0</td>\n",
              "      <td>0</td>\n",
              "      <td>0</td>\n",
              "      <td>0</td>\n",
              "      <td>0</td>\n",
              "      <td>0</td>\n",
              "      <td>1</td>\n",
              "      <td>0</td>\n",
              "      <td>0</td>\n",
              "      <td>0</td>\n",
              "      <td>0</td>\n",
              "      <td>0</td>\n",
              "      <td>1</td>\n",
              "      <td>0</td>\n",
              "      <td>0</td>\n",
              "      <td>0</td>\n",
              "      <td>0</td>\n",
              "      <td>0</td>\n",
              "      <td>1</td>\n",
              "      <td>0</td>\n",
              "      <td>1</td>\n",
              "      <td>0</td>\n",
              "      <td>0</td>\n",
              "      <td>0</td>\n",
              "      <td>0</td>\n",
              "      <td>0</td>\n",
              "      <td>0</td>\n",
              "      <td>0</td>\n",
              "      <td>0</td>\n",
              "      <td>0</td>\n",
              "      <td>0</td>\n",
              "      <td>0</td>\n",
              "      <td>0</td>\n",
              "      <td>0</td>\n",
              "      <td>0</td>\n",
              "      <td>0</td>\n",
              "      <td>0</td>\n",
              "      <td>1</td>\n",
              "      <td>0</td>\n",
              "    </tr>\n",
              "    <tr>\n",
              "      <th>6</th>\n",
              "      <td>2016</td>\n",
              "      <td>201.0</td>\n",
              "      <td>4</td>\n",
              "      <td>4</td>\n",
              "      <td>36</td>\n",
              "      <td>25</td>\n",
              "      <td>204</td>\n",
              "      <td>0</td>\n",
              "      <td>0</td>\n",
              "      <td>0</td>\n",
              "      <td>0</td>\n",
              "      <td>0</td>\n",
              "      <td>0</td>\n",
              "      <td>0</td>\n",
              "      <td>0</td>\n",
              "      <td>1</td>\n",
              "      <td>0</td>\n",
              "      <td>0</td>\n",
              "      <td>1</td>\n",
              "      <td>0</td>\n",
              "      <td>0</td>\n",
              "      <td>0</td>\n",
              "      <td>0</td>\n",
              "      <td>0</td>\n",
              "      <td>0</td>\n",
              "      <td>0</td>\n",
              "      <td>0</td>\n",
              "      <td>0</td>\n",
              "      <td>0</td>\n",
              "      <td>0</td>\n",
              "      <td>0</td>\n",
              "      <td>0</td>\n",
              "      <td>0</td>\n",
              "      <td>0</td>\n",
              "      <td>0</td>\n",
              "      <td>0</td>\n",
              "      <td>0</td>\n",
              "      <td>0</td>\n",
              "      <td>0</td>\n",
              "      <td>0</td>\n",
              "      <td>...</td>\n",
              "      <td>0</td>\n",
              "      <td>0</td>\n",
              "      <td>0</td>\n",
              "      <td>0</td>\n",
              "      <td>0</td>\n",
              "      <td>0</td>\n",
              "      <td>0</td>\n",
              "      <td>1</td>\n",
              "      <td>0</td>\n",
              "      <td>0</td>\n",
              "      <td>0</td>\n",
              "      <td>0</td>\n",
              "      <td>1</td>\n",
              "      <td>0</td>\n",
              "      <td>0</td>\n",
              "      <td>0</td>\n",
              "      <td>0</td>\n",
              "      <td>0</td>\n",
              "      <td>0</td>\n",
              "      <td>1</td>\n",
              "      <td>0</td>\n",
              "      <td>1</td>\n",
              "      <td>0</td>\n",
              "      <td>0</td>\n",
              "      <td>0</td>\n",
              "      <td>0</td>\n",
              "      <td>0</td>\n",
              "      <td>0</td>\n",
              "      <td>0</td>\n",
              "      <td>0</td>\n",
              "      <td>0</td>\n",
              "      <td>0</td>\n",
              "      <td>0</td>\n",
              "      <td>0</td>\n",
              "      <td>0</td>\n",
              "      <td>0</td>\n",
              "      <td>0</td>\n",
              "      <td>0</td>\n",
              "      <td>1</td>\n",
              "      <td>0</td>\n",
              "    </tr>\n",
              "    <tr>\n",
              "      <th>7</th>\n",
              "      <td>2017</td>\n",
              "      <td>201.0</td>\n",
              "      <td>4</td>\n",
              "      <td>4</td>\n",
              "      <td>35</td>\n",
              "      <td>25</td>\n",
              "      <td>204</td>\n",
              "      <td>0</td>\n",
              "      <td>0</td>\n",
              "      <td>0</td>\n",
              "      <td>0</td>\n",
              "      <td>0</td>\n",
              "      <td>0</td>\n",
              "      <td>0</td>\n",
              "      <td>0</td>\n",
              "      <td>1</td>\n",
              "      <td>0</td>\n",
              "      <td>0</td>\n",
              "      <td>1</td>\n",
              "      <td>0</td>\n",
              "      <td>0</td>\n",
              "      <td>0</td>\n",
              "      <td>0</td>\n",
              "      <td>0</td>\n",
              "      <td>0</td>\n",
              "      <td>0</td>\n",
              "      <td>0</td>\n",
              "      <td>0</td>\n",
              "      <td>0</td>\n",
              "      <td>0</td>\n",
              "      <td>0</td>\n",
              "      <td>0</td>\n",
              "      <td>0</td>\n",
              "      <td>0</td>\n",
              "      <td>0</td>\n",
              "      <td>0</td>\n",
              "      <td>0</td>\n",
              "      <td>0</td>\n",
              "      <td>0</td>\n",
              "      <td>0</td>\n",
              "      <td>...</td>\n",
              "      <td>0</td>\n",
              "      <td>0</td>\n",
              "      <td>0</td>\n",
              "      <td>0</td>\n",
              "      <td>0</td>\n",
              "      <td>0</td>\n",
              "      <td>0</td>\n",
              "      <td>1</td>\n",
              "      <td>0</td>\n",
              "      <td>0</td>\n",
              "      <td>0</td>\n",
              "      <td>0</td>\n",
              "      <td>1</td>\n",
              "      <td>0</td>\n",
              "      <td>0</td>\n",
              "      <td>0</td>\n",
              "      <td>0</td>\n",
              "      <td>0</td>\n",
              "      <td>0</td>\n",
              "      <td>1</td>\n",
              "      <td>0</td>\n",
              "      <td>1</td>\n",
              "      <td>0</td>\n",
              "      <td>0</td>\n",
              "      <td>0</td>\n",
              "      <td>0</td>\n",
              "      <td>0</td>\n",
              "      <td>0</td>\n",
              "      <td>0</td>\n",
              "      <td>0</td>\n",
              "      <td>0</td>\n",
              "      <td>0</td>\n",
              "      <td>0</td>\n",
              "      <td>0</td>\n",
              "      <td>0</td>\n",
              "      <td>0</td>\n",
              "      <td>0</td>\n",
              "      <td>0</td>\n",
              "      <td>1</td>\n",
              "      <td>0</td>\n",
              "    </tr>\n",
              "    <tr>\n",
              "      <th>8</th>\n",
              "      <td>2015</td>\n",
              "      <td>201.0</td>\n",
              "      <td>4</td>\n",
              "      <td>4</td>\n",
              "      <td>31</td>\n",
              "      <td>22</td>\n",
              "      <td>204</td>\n",
              "      <td>0</td>\n",
              "      <td>0</td>\n",
              "      <td>0</td>\n",
              "      <td>0</td>\n",
              "      <td>0</td>\n",
              "      <td>0</td>\n",
              "      <td>0</td>\n",
              "      <td>0</td>\n",
              "      <td>1</td>\n",
              "      <td>0</td>\n",
              "      <td>1</td>\n",
              "      <td>1</td>\n",
              "      <td>0</td>\n",
              "      <td>0</td>\n",
              "      <td>0</td>\n",
              "      <td>0</td>\n",
              "      <td>0</td>\n",
              "      <td>0</td>\n",
              "      <td>0</td>\n",
              "      <td>0</td>\n",
              "      <td>0</td>\n",
              "      <td>0</td>\n",
              "      <td>0</td>\n",
              "      <td>0</td>\n",
              "      <td>0</td>\n",
              "      <td>0</td>\n",
              "      <td>0</td>\n",
              "      <td>0</td>\n",
              "      <td>0</td>\n",
              "      <td>0</td>\n",
              "      <td>0</td>\n",
              "      <td>0</td>\n",
              "      <td>0</td>\n",
              "      <td>...</td>\n",
              "      <td>0</td>\n",
              "      <td>0</td>\n",
              "      <td>0</td>\n",
              "      <td>0</td>\n",
              "      <td>0</td>\n",
              "      <td>0</td>\n",
              "      <td>0</td>\n",
              "      <td>1</td>\n",
              "      <td>0</td>\n",
              "      <td>0</td>\n",
              "      <td>0</td>\n",
              "      <td>0</td>\n",
              "      <td>0</td>\n",
              "      <td>0</td>\n",
              "      <td>0</td>\n",
              "      <td>1</td>\n",
              "      <td>0</td>\n",
              "      <td>0</td>\n",
              "      <td>0</td>\n",
              "      <td>1</td>\n",
              "      <td>0</td>\n",
              "      <td>1</td>\n",
              "      <td>0</td>\n",
              "      <td>0</td>\n",
              "      <td>0</td>\n",
              "      <td>0</td>\n",
              "      <td>0</td>\n",
              "      <td>0</td>\n",
              "      <td>0</td>\n",
              "      <td>0</td>\n",
              "      <td>0</td>\n",
              "      <td>0</td>\n",
              "      <td>0</td>\n",
              "      <td>0</td>\n",
              "      <td>0</td>\n",
              "      <td>0</td>\n",
              "      <td>0</td>\n",
              "      <td>0</td>\n",
              "      <td>1</td>\n",
              "      <td>0</td>\n",
              "    </tr>\n",
              "    <tr>\n",
              "      <th>9</th>\n",
              "      <td>2014</td>\n",
              "      <td>111.0</td>\n",
              "      <td>4</td>\n",
              "      <td>4</td>\n",
              "      <td>38</td>\n",
              "      <td>39</td>\n",
              "      <td>204</td>\n",
              "      <td>0</td>\n",
              "      <td>0</td>\n",
              "      <td>0</td>\n",
              "      <td>0</td>\n",
              "      <td>0</td>\n",
              "      <td>0</td>\n",
              "      <td>0</td>\n",
              "      <td>1</td>\n",
              "      <td>1</td>\n",
              "      <td>0</td>\n",
              "      <td>0</td>\n",
              "      <td>1</td>\n",
              "      <td>0</td>\n",
              "      <td>0</td>\n",
              "      <td>0</td>\n",
              "      <td>0</td>\n",
              "      <td>0</td>\n",
              "      <td>0</td>\n",
              "      <td>0</td>\n",
              "      <td>0</td>\n",
              "      <td>0</td>\n",
              "      <td>0</td>\n",
              "      <td>0</td>\n",
              "      <td>0</td>\n",
              "      <td>0</td>\n",
              "      <td>0</td>\n",
              "      <td>0</td>\n",
              "      <td>0</td>\n",
              "      <td>0</td>\n",
              "      <td>0</td>\n",
              "      <td>0</td>\n",
              "      <td>0</td>\n",
              "      <td>0</td>\n",
              "      <td>...</td>\n",
              "      <td>0</td>\n",
              "      <td>0</td>\n",
              "      <td>0</td>\n",
              "      <td>0</td>\n",
              "      <td>0</td>\n",
              "      <td>0</td>\n",
              "      <td>0</td>\n",
              "      <td>1</td>\n",
              "      <td>0</td>\n",
              "      <td>0</td>\n",
              "      <td>0</td>\n",
              "      <td>0</td>\n",
              "      <td>0</td>\n",
              "      <td>1</td>\n",
              "      <td>0</td>\n",
              "      <td>0</td>\n",
              "      <td>0</td>\n",
              "      <td>0</td>\n",
              "      <td>0</td>\n",
              "      <td>1</td>\n",
              "      <td>0</td>\n",
              "      <td>1</td>\n",
              "      <td>0</td>\n",
              "      <td>0</td>\n",
              "      <td>0</td>\n",
              "      <td>0</td>\n",
              "      <td>0</td>\n",
              "      <td>0</td>\n",
              "      <td>0</td>\n",
              "      <td>0</td>\n",
              "      <td>0</td>\n",
              "      <td>0</td>\n",
              "      <td>0</td>\n",
              "      <td>0</td>\n",
              "      <td>0</td>\n",
              "      <td>0</td>\n",
              "      <td>0</td>\n",
              "      <td>0</td>\n",
              "      <td>1</td>\n",
              "      <td>0</td>\n",
              "    </tr>\n",
              "  </tbody>\n",
              "</table>\n",
              "<p>9 rows × 1009 columns</p>\n",
              "</div>"
            ],
            "text/plain": [
              "   Year  Engine HP  ...  Vehicle Style_Sedan  Vehicle Style_Wagon\n",
              "1  2002      225.0  ...                    0                    0\n",
              "2  2003      225.0  ...                    0                    0\n",
              "3  2003      260.0  ...                    0                    0\n",
              "4  2003      260.0  ...                    0                    0\n",
              "5  2015      150.0  ...                    1                    0\n",
              "6  2016      201.0  ...                    1                    0\n",
              "7  2017      201.0  ...                    1                    0\n",
              "8  2015      201.0  ...                    1                    0\n",
              "9  2014      111.0  ...                    1                    0\n",
              "\n",
              "[9 rows x 1009 columns]"
            ]
          },
          "metadata": {
            "tags": []
          },
          "execution_count": 306
        }
      ]
    },
    {
      "cell_type": "code",
      "metadata": {
        "colab": {
          "base_uri": "https://localhost:8080/",
          "height": 325
        },
        "id": "0xs_0B7a1etQ",
        "outputId": "185b41cc-ce34-478c-93ae-68fcc9f899e9"
      },
      "source": [
        "y[1:10]"
      ],
      "execution_count": null,
      "outputs": [
        {
          "output_type": "execute_result",
          "data": {
            "text/html": [
              "<div>\n",
              "<style scoped>\n",
              "    .dataframe tbody tr th:only-of-type {\n",
              "        vertical-align: middle;\n",
              "    }\n",
              "\n",
              "    .dataframe tbody tr th {\n",
              "        vertical-align: top;\n",
              "    }\n",
              "\n",
              "    .dataframe thead th {\n",
              "        text-align: right;\n",
              "    }\n",
              "</style>\n",
              "<table border=\"1\" class=\"dataframe\">\n",
              "  <thead>\n",
              "    <tr style=\"text-align: right;\">\n",
              "      <th></th>\n",
              "      <th>MSRP</th>\n",
              "    </tr>\n",
              "  </thead>\n",
              "  <tbody>\n",
              "    <tr>\n",
              "      <th>1</th>\n",
              "      <td>28030</td>\n",
              "    </tr>\n",
              "    <tr>\n",
              "      <th>2</th>\n",
              "      <td>28200</td>\n",
              "    </tr>\n",
              "    <tr>\n",
              "      <th>3</th>\n",
              "      <td>30550</td>\n",
              "    </tr>\n",
              "    <tr>\n",
              "      <th>4</th>\n",
              "      <td>30550</td>\n",
              "    </tr>\n",
              "    <tr>\n",
              "      <th>5</th>\n",
              "      <td>27050</td>\n",
              "    </tr>\n",
              "    <tr>\n",
              "      <th>6</th>\n",
              "      <td>27900</td>\n",
              "    </tr>\n",
              "    <tr>\n",
              "      <th>7</th>\n",
              "      <td>27990</td>\n",
              "    </tr>\n",
              "    <tr>\n",
              "      <th>8</th>\n",
              "      <td>29350</td>\n",
              "    </tr>\n",
              "    <tr>\n",
              "      <th>9</th>\n",
              "      <td>28900</td>\n",
              "    </tr>\n",
              "  </tbody>\n",
              "</table>\n",
              "</div>"
            ],
            "text/plain": [
              "    MSRP\n",
              "1  28030\n",
              "2  28200\n",
              "3  30550\n",
              "4  30550\n",
              "5  27050\n",
              "6  27900\n",
              "7  27990\n",
              "8  29350\n",
              "9  28900"
            ]
          },
          "metadata": {
            "tags": []
          },
          "execution_count": 307
        }
      ]
    },
    {
      "cell_type": "markdown",
      "metadata": {
        "id": "nEwKMk2TZMUp"
      },
      "source": [
        "##Data (Artificial)"
      ]
    },
    {
      "cell_type": "code",
      "metadata": {
        "id": "o3hcLXKJAKmF"
      },
      "source": [
        "import more_itertools\n",
        "\n",
        "def recursiveLists(dimension, values):\n",
        "  if(dimension ==1):\n",
        "    return list(range(values))\n",
        "  else:\n",
        "    totalList = []\n",
        "    for eachVal in range(values):\n",
        "      for eachSub in recursiveLists(dimension -1, values):\n",
        "        tempList= [eachVal]\n",
        "        tempList.append(eachSub)\n",
        "        # print(tempList)\n",
        "        totalList.append((tempList))\n",
        "    return totalList\n",
        "def flattenedRecurLists(dimension, values):\n",
        "  aa = recursiveLists(dimension,values)\n",
        "  bb = []\n",
        "  for each in aa:\n",
        "    bb.append(list(more_itertools.collapse(each)))\n",
        "  return bb"
      ],
      "execution_count": null,
      "outputs": []
    },
    {
      "cell_type": "code",
      "metadata": {
        "id": "6sZGyeMwWusD"
      },
      "source": [
        "dimension = 4  #4 #2 #3\n",
        "value_range = 6  #6 #30 #10\n",
        "\n",
        "rows = flattenedRecurLists(dimension, value_range)"
      ],
      "execution_count": null,
      "outputs": []
    },
    {
      "cell_type": "code",
      "metadata": {
        "id": "lRzxLo44NC7y"
      },
      "source": [
        "#prepare X and y \n",
        "X = rows\n",
        "y = [None]* len(rows)\n",
        "for i in range(len(rows)):\n",
        "  temp = 0\n",
        "  for a in range(dimension):\n",
        "    if rows[i][a] < value_range/2.0:\n",
        "      temp += rows[i][a]\n",
        "    else:\n",
        "      temp += value_range - rows[i][a]\n",
        "  y[i] = temp\n",
        "\n",
        "X = np.array(X)\n",
        "y = np.array(y)\n",
        "y = y.reshape(y.shape[0],1)"
      ],
      "execution_count": null,
      "outputs": []
    },
    {
      "cell_type": "code",
      "metadata": {
        "colab": {
          "base_uri": "https://localhost:8080/"
        },
        "id": "Mct0e50pZn9f",
        "outputId": "1eeed34c-1020-4b58-b00c-64af6c8d919c"
      },
      "source": [
        "X.shape"
      ],
      "execution_count": null,
      "outputs": [
        {
          "output_type": "execute_result",
          "data": {
            "text/plain": [
              "(1296, 4)"
            ]
          },
          "metadata": {
            "tags": []
          },
          "execution_count": 3591
        }
      ]
    },
    {
      "cell_type": "code",
      "metadata": {
        "colab": {
          "base_uri": "https://localhost:8080/"
        },
        "id": "R16PNYzyZn9g",
        "outputId": "1f3101a2-677e-43f5-ec75-08c37db78c04"
      },
      "source": [
        "y.shape"
      ],
      "execution_count": null,
      "outputs": [
        {
          "output_type": "execute_result",
          "data": {
            "text/plain": [
              "(1296, 1)"
            ]
          },
          "metadata": {
            "tags": []
          },
          "execution_count": 3592
        }
      ]
    },
    {
      "cell_type": "code",
      "metadata": {
        "colab": {
          "base_uri": "https://localhost:8080/"
        },
        "id": "fXh88T2SZn9g",
        "outputId": "5e5ebf43-8be6-4aea-a638-3c0b14d315c4"
      },
      "source": [
        "y.shape[0]"
      ],
      "execution_count": null,
      "outputs": [
        {
          "output_type": "execute_result",
          "data": {
            "text/plain": [
              "1296"
            ]
          },
          "metadata": {
            "tags": []
          },
          "execution_count": 3593
        }
      ]
    },
    {
      "cell_type": "code",
      "metadata": {
        "colab": {
          "base_uri": "https://localhost:8080/"
        },
        "id": "Lh-y2xksZn9h",
        "outputId": "7a446a89-60ef-4901-bb05-7354eac689b4"
      },
      "source": [
        "X[1:10]"
      ],
      "execution_count": null,
      "outputs": [
        {
          "output_type": "execute_result",
          "data": {
            "text/plain": [
              "array([[0, 0, 0, 1],\n",
              "       [0, 0, 0, 2],\n",
              "       [0, 0, 0, 3],\n",
              "       [0, 0, 0, 4],\n",
              "       [0, 0, 0, 5],\n",
              "       [0, 0, 1, 0],\n",
              "       [0, 0, 1, 1],\n",
              "       [0, 0, 1, 2],\n",
              "       [0, 0, 1, 3]])"
            ]
          },
          "metadata": {
            "tags": []
          },
          "execution_count": 3594
        }
      ]
    },
    {
      "cell_type": "code",
      "metadata": {
        "colab": {
          "base_uri": "https://localhost:8080/"
        },
        "id": "hAY79WKaZn9h",
        "outputId": "0e82b836-d9a7-4525-e405-1053b224f9db"
      },
      "source": [
        "y[1:10]"
      ],
      "execution_count": null,
      "outputs": [
        {
          "output_type": "execute_result",
          "data": {
            "text/plain": [
              "array([[1],\n",
              "       [2],\n",
              "       [3],\n",
              "       [2],\n",
              "       [1],\n",
              "       [1],\n",
              "       [2],\n",
              "       [3],\n",
              "       [4]])"
            ]
          },
          "metadata": {
            "tags": []
          },
          "execution_count": 3595
        }
      ]
    },
    {
      "cell_type": "code",
      "metadata": {
        "id": "3pfEaI1VN_0-"
      },
      "source": [
        "# import csv\n",
        "# writer = None\n",
        "# data = np.concatenate((X,y),axis = 1)\n",
        "# with open('artificial.csv', 'w', newline='') as csvfile:\n",
        "#     writer = csv.writer(csvfile, delimiter=' ',\n",
        "#                             quotechar='|', quoting=csv.QUOTE_MINIMAL)\n",
        "#     writer.writerows(data)\n"
      ],
      "execution_count": null,
      "outputs": []
    },
    {
      "cell_type": "markdown",
      "metadata": {
        "id": "6obDd7n_wcHD"
      },
      "source": [
        "refer to this while coding\n",
        "https://keras.io/getting_started/intro_to_keras_for_engineers/\n",
        "Code based on https://www.tensorflow.org/tutorials/keras/regression"
      ]
    },
    {
      "cell_type": "markdown",
      "metadata": {
        "id": "IreFCbKMZn9h"
      },
      "source": [
        "Loading data and preprocessing"
      ]
    },
    {
      "cell_type": "code",
      "metadata": {
        "colab": {
          "base_uri": "https://localhost:8080/"
        },
        "id": "pkXEiE6tiUY5",
        "outputId": "7acd9cd4-643b-4c42-df2c-3f076c7d880a"
      },
      "source": [
        "X\n",
        "X = X.astype(np.float)\n",
        "X"
      ],
      "execution_count": null,
      "outputs": [
        {
          "output_type": "execute_result",
          "data": {
            "text/plain": [
              "array([[0., 0., 0., 0.],\n",
              "       [0., 0., 0., 1.],\n",
              "       [0., 0., 0., 2.],\n",
              "       ...,\n",
              "       [5., 5., 5., 3.],\n",
              "       [5., 5., 5., 4.],\n",
              "       [5., 5., 5., 5.]])"
            ]
          },
          "metadata": {
            "tags": []
          },
          "execution_count": 3597
        }
      ]
    },
    {
      "cell_type": "code",
      "metadata": {
        "id": "_VvHp58diWKz"
      },
      "source": [
        "y = y.astype(np.float)"
      ],
      "execution_count": null,
      "outputs": []
    },
    {
      "cell_type": "code",
      "metadata": {
        "colab": {
          "base_uri": "https://localhost:8080/"
        },
        "id": "suS6kjESkL_o",
        "outputId": "52c7bef7-6510-4df3-8fd9-9692588e2c0d"
      },
      "source": [
        "X.shape"
      ],
      "execution_count": null,
      "outputs": [
        {
          "output_type": "execute_result",
          "data": {
            "text/plain": [
              "(1296, 4)"
            ]
          },
          "metadata": {
            "tags": []
          },
          "execution_count": 3599
        }
      ]
    },
    {
      "cell_type": "code",
      "metadata": {
        "colab": {
          "base_uri": "https://localhost:8080/"
        },
        "id": "sw_IY8MukOSs",
        "outputId": "2c4451b0-decc-4f01-b9e5-09b02c441d2c"
      },
      "source": [
        "y.shape"
      ],
      "execution_count": null,
      "outputs": [
        {
          "output_type": "execute_result",
          "data": {
            "text/plain": [
              "(1296, 1)"
            ]
          },
          "metadata": {
            "tags": []
          },
          "execution_count": 3600
        }
      ]
    },
    {
      "cell_type": "code",
      "metadata": {
        "colab": {
          "base_uri": "https://localhost:8080/"
        },
        "id": "MLjklj0JLHXo",
        "outputId": "ffd948f6-ef3c-4d7b-959d-4d6527628625"
      },
      "source": [
        "print(min(y), max(y))"
      ],
      "execution_count": null,
      "outputs": [
        {
          "output_type": "stream",
          "text": [
            "[0.] [12.]\n"
          ],
          "name": "stdout"
        }
      ]
    },
    {
      "cell_type": "code",
      "metadata": {
        "colab": {
          "base_uri": "https://localhost:8080/"
        },
        "id": "Z2iUpyt2tdKB",
        "outputId": "4bf50dfd-284d-4adc-9729-787dceaa0f95"
      },
      "source": [
        "X[1:10]"
      ],
      "execution_count": null,
      "outputs": [
        {
          "output_type": "execute_result",
          "data": {
            "text/plain": [
              "array([[0., 0., 0., 1.],\n",
              "       [0., 0., 0., 2.],\n",
              "       [0., 0., 0., 3.],\n",
              "       [0., 0., 0., 4.],\n",
              "       [0., 0., 0., 5.],\n",
              "       [0., 0., 1., 0.],\n",
              "       [0., 0., 1., 1.],\n",
              "       [0., 0., 1., 2.],\n",
              "       [0., 0., 1., 3.]])"
            ]
          },
          "metadata": {
            "tags": []
          },
          "execution_count": 3602
        }
      ]
    },
    {
      "cell_type": "markdown",
      "metadata": {
        "id": "wipGLPxAYld0"
      },
      "source": [
        "##Data (Airfoil)"
      ]
    },
    {
      "cell_type": "markdown",
      "metadata": {
        "id": "d5nOe12yHsro"
      },
      "source": [
        "https://archive.ics.uci.edu/ml/datasets/airfoil+self-noise"
      ]
    },
    {
      "cell_type": "code",
      "metadata": {
        "colab": {
          "base_uri": "https://localhost:8080/"
        },
        "id": "xikxyDO6TD8U",
        "outputId": "94ed051b-6632-4be1-f01c-b74a74a8b274"
      },
      "source": [
        "import csv\n",
        "data = []\n",
        "with open('/content/drive/My Drive/2020 Summer Assistantship CBR+Deep Learning/airfoil_self_noise.dat') as f:\n",
        "  reader = csv.reader(f, delimiter=\"\\t\")\n",
        "  for row in reader:\n",
        "    data.append(row)\n",
        "# print(data)\n",
        "# print(len(data))\n",
        "data = np.array(data)\n",
        "print(data)\n",
        "X = np.delete(data, 5, axis = 1)\n",
        "y = data[:, 5]\n",
        "\n",
        "X = X.astype(np.float)\n",
        "y = y.astype(np.float)"
      ],
      "execution_count": null,
      "outputs": [
        {
          "output_type": "stream",
          "text": [
            "[['800' '0' '0.3048' '71.3' '0.00266337' '126.201']\n",
            " ['1000' '0' '0.3048' '71.3' '0.00266337' '125.201']\n",
            " ['1250' '0' '0.3048' '71.3' '0.00266337' '125.951']\n",
            " ...\n",
            " ['4000' '15.6' '0.1016' '39.6' '0.0528487' '106.604']\n",
            " ['5000' '15.6' '0.1016' '39.6' '0.0528487' '106.224']\n",
            " ['6300' '15.6' '0.1016' '39.6' '0.0528487' '104.204']]\n"
          ],
          "name": "stdout"
        }
      ]
    },
    {
      "cell_type": "code",
      "metadata": {
        "colab": {
          "base_uri": "https://localhost:8080/"
        },
        "id": "foQEAWYjTUYH",
        "outputId": "8cad9006-88e9-464d-bb9f-fcb04c0d76cd"
      },
      "source": [
        "X.shape"
      ],
      "execution_count": null,
      "outputs": [
        {
          "output_type": "execute_result",
          "data": {
            "text/plain": [
              "(1503, 5)"
            ]
          },
          "metadata": {
            "tags": []
          },
          "execution_count": 4
        }
      ]
    },
    {
      "cell_type": "code",
      "metadata": {
        "colab": {
          "base_uri": "https://localhost:8080/"
        },
        "id": "7rlm3ILMTUYO",
        "outputId": "313acc3f-5203-4bbe-b508-c8da7ffde36a"
      },
      "source": [
        "y.shape"
      ],
      "execution_count": null,
      "outputs": [
        {
          "output_type": "execute_result",
          "data": {
            "text/plain": [
              "(1503,)"
            ]
          },
          "metadata": {
            "tags": []
          },
          "execution_count": 5
        }
      ]
    },
    {
      "cell_type": "code",
      "metadata": {
        "id": "9tLCCRGzTxve"
      },
      "source": [
        "y = y.reshape((-1,1))"
      ],
      "execution_count": null,
      "outputs": []
    },
    {
      "cell_type": "code",
      "metadata": {
        "colab": {
          "base_uri": "https://localhost:8080/"
        },
        "id": "HJ6AStUIT8HC",
        "outputId": "1d5f3fe0-525e-4cd3-9c04-be6a6c1b3476"
      },
      "source": [
        "y.shape"
      ],
      "execution_count": null,
      "outputs": [
        {
          "output_type": "execute_result",
          "data": {
            "text/plain": [
              "(1503, 1)"
            ]
          },
          "metadata": {
            "tags": []
          },
          "execution_count": 7
        }
      ]
    },
    {
      "cell_type": "code",
      "metadata": {
        "colab": {
          "base_uri": "https://localhost:8080/"
        },
        "id": "UiM9tt4eTUYO",
        "outputId": "9c0eb6d2-4150-4be9-f12d-e1101035cc53"
      },
      "source": [
        "print(min(y), max(y))"
      ],
      "execution_count": null,
      "outputs": [
        {
          "output_type": "stream",
          "text": [
            "[103.38] [140.987]\n"
          ],
          "name": "stdout"
        }
      ]
    },
    {
      "cell_type": "markdown",
      "metadata": {
        "id": "rJDT6TpPhzxg"
      },
      "source": [
        "## Data (Student Performance)\n",
        "\n",
        "https://archive.ics.uci.edu/ml/datasets/Student+Performance"
      ]
    },
    {
      "cell_type": "code",
      "metadata": {
        "colab": {
          "base_uri": "https://localhost:8080/"
        },
        "id": "lU4_PBkPhzxh",
        "outputId": "f8d70579-6ec3-4dbe-9fa0-03ab1cbe61e7"
      },
      "source": [
        "filename = '/content/drive/My Drive/2020 Summer Assistantship CBR+Deep Learning/student-mat.csv'\n",
        "# filename = '/content/drive/My Drive/2020 Summer Assistantship CBR+Deep Learning/student-por.csv'\n",
        "\n",
        "def GetDataMatrix():\n",
        "    \n",
        "    # Data frame with make and model\n",
        "    X = pd.read_csv(filename,header=0, usecols=(0,1,2,3,4,5,6,7,8,9,10,11,12,13,14,15,\n",
        "                                                16,17,18,19,20,21,22,23,24,25,26,27,28,29),sep=';');\n",
        "\n",
        "    y = pd.read_csv(filename,header=0, usecols=(32,),sep=';');\n",
        "\n",
        "    # X, y = shuffle(X, y)\n",
        "    print(X.head(0))\n",
        "    #binary attributes to boolean\n",
        "    X['school'] = X['school'].map({'GP' : 0 , 'MS' : 1 })\n",
        "    X['sex'] = X['sex'].map({'F' : 0 , 'M' : 1 })   \n",
        "    X['address'] = X['address'].map({'U' : 0 , 'R' : 1 })\n",
        "    X['famsize'] = X['famsize'].map({'LE3' : 0 , 'GT3' : 1 })\n",
        "    X['Pstatus'] = X['Pstatus'].map({'T' : 0 , 'A' : 1 })\n",
        "    variable_name = {'yes' : 0 , 'no' : 1 }\n",
        "    # X['schoolsup,famsup,paid,activities,nursery,higher,internet,romantic'] = X['schoolsup,famsup,paid,activities,nursery,higher,internet,romantic'].map(variable_name)\n",
        "    X['schoolsup'] = X['schoolsup'].map(variable_name)\n",
        "    X['famsup'] = X['famsup'].map(variable_name)\n",
        "    X['paid'] = X['paid'].map(variable_name)\n",
        "    X['activities'] = X['activities'].map(variable_name)\n",
        "    X['nursery'] = X['nursery'].map(variable_name)\n",
        "    X['higher'] = X['higher'].map(variable_name)\n",
        "    X['internet'] = X['internet'].map(variable_name)\n",
        "    X['romantic'] = X['romantic'].map(variable_name)\n",
        "    #normal one hot encoding\n",
        "    X = pd.get_dummies(X, dummy_na = False, columns=['Mjob','Fjob','reason','guardian'] );\n",
        "    \n",
        "    # Fill the null values with zeros\n",
        "    # X.fillna(0, inplace=True);\n",
        "    #there shouldn't be null, since it's already cleaned.\n",
        "    print(X.isnull().sum())\n",
        "\n",
        "    return (X, y)\n",
        "\n",
        "##########\n",
        "\n",
        "(X, y) = GetDataMatrix() #Gets the X,Y"
      ],
      "execution_count": null,
      "outputs": [
        {
          "output_type": "stream",
          "text": [
            "Empty DataFrame\n",
            "Columns: [school, sex, age, address, famsize, Pstatus, Medu, Fedu, Mjob, Fjob, reason, guardian, traveltime, studytime, failures, schoolsup, famsup, paid, activities, nursery, higher, internet, romantic, famrel, freetime, goout, Dalc, Walc, health, absences]\n",
            "Index: []\n",
            "school               0\n",
            "sex                  0\n",
            "age                  0\n",
            "address              0\n",
            "famsize              0\n",
            "Pstatus              0\n",
            "Medu                 0\n",
            "Fedu                 0\n",
            "traveltime           0\n",
            "studytime            0\n",
            "failures             0\n",
            "schoolsup            0\n",
            "famsup               0\n",
            "paid                 0\n",
            "activities           0\n",
            "nursery              0\n",
            "higher               0\n",
            "internet             0\n",
            "romantic             0\n",
            "famrel               0\n",
            "freetime             0\n",
            "goout                0\n",
            "Dalc                 0\n",
            "Walc                 0\n",
            "health               0\n",
            "absences             0\n",
            "Mjob_at_home         0\n",
            "Mjob_health          0\n",
            "Mjob_other           0\n",
            "Mjob_services        0\n",
            "Mjob_teacher         0\n",
            "Fjob_at_home         0\n",
            "Fjob_health          0\n",
            "Fjob_other           0\n",
            "Fjob_services        0\n",
            "Fjob_teacher         0\n",
            "reason_course        0\n",
            "reason_home          0\n",
            "reason_other         0\n",
            "reason_reputation    0\n",
            "guardian_father      0\n",
            "guardian_mother      0\n",
            "guardian_other       0\n",
            "dtype: int64\n"
          ],
          "name": "stdout"
        }
      ]
    },
    {
      "cell_type": "code",
      "metadata": {
        "colab": {
          "base_uri": "https://localhost:8080/",
          "height": 222
        },
        "id": "Q4E2CQ5Chzxi",
        "outputId": "cee52270-31d6-441d-93d3-77a462d30f49"
      },
      "source": [
        "X.head(5)"
      ],
      "execution_count": null,
      "outputs": [
        {
          "output_type": "execute_result",
          "data": {
            "text/html": [
              "<div>\n",
              "<style scoped>\n",
              "    .dataframe tbody tr th:only-of-type {\n",
              "        vertical-align: middle;\n",
              "    }\n",
              "\n",
              "    .dataframe tbody tr th {\n",
              "        vertical-align: top;\n",
              "    }\n",
              "\n",
              "    .dataframe thead th {\n",
              "        text-align: right;\n",
              "    }\n",
              "</style>\n",
              "<table border=\"1\" class=\"dataframe\">\n",
              "  <thead>\n",
              "    <tr style=\"text-align: right;\">\n",
              "      <th></th>\n",
              "      <th>school</th>\n",
              "      <th>sex</th>\n",
              "      <th>age</th>\n",
              "      <th>address</th>\n",
              "      <th>famsize</th>\n",
              "      <th>Pstatus</th>\n",
              "      <th>Medu</th>\n",
              "      <th>Fedu</th>\n",
              "      <th>traveltime</th>\n",
              "      <th>studytime</th>\n",
              "      <th>failures</th>\n",
              "      <th>schoolsup</th>\n",
              "      <th>famsup</th>\n",
              "      <th>paid</th>\n",
              "      <th>activities</th>\n",
              "      <th>nursery</th>\n",
              "      <th>higher</th>\n",
              "      <th>internet</th>\n",
              "      <th>romantic</th>\n",
              "      <th>famrel</th>\n",
              "      <th>freetime</th>\n",
              "      <th>goout</th>\n",
              "      <th>Dalc</th>\n",
              "      <th>Walc</th>\n",
              "      <th>health</th>\n",
              "      <th>absences</th>\n",
              "      <th>Mjob_at_home</th>\n",
              "      <th>Mjob_health</th>\n",
              "      <th>Mjob_other</th>\n",
              "      <th>Mjob_services</th>\n",
              "      <th>Mjob_teacher</th>\n",
              "      <th>Fjob_at_home</th>\n",
              "      <th>Fjob_health</th>\n",
              "      <th>Fjob_other</th>\n",
              "      <th>Fjob_services</th>\n",
              "      <th>Fjob_teacher</th>\n",
              "      <th>reason_course</th>\n",
              "      <th>reason_home</th>\n",
              "      <th>reason_other</th>\n",
              "      <th>reason_reputation</th>\n",
              "      <th>guardian_father</th>\n",
              "      <th>guardian_mother</th>\n",
              "      <th>guardian_other</th>\n",
              "    </tr>\n",
              "  </thead>\n",
              "  <tbody>\n",
              "    <tr>\n",
              "      <th>0</th>\n",
              "      <td>0</td>\n",
              "      <td>0</td>\n",
              "      <td>18</td>\n",
              "      <td>0</td>\n",
              "      <td>1</td>\n",
              "      <td>1</td>\n",
              "      <td>4</td>\n",
              "      <td>4</td>\n",
              "      <td>2</td>\n",
              "      <td>2</td>\n",
              "      <td>0</td>\n",
              "      <td>0</td>\n",
              "      <td>1</td>\n",
              "      <td>1</td>\n",
              "      <td>1</td>\n",
              "      <td>0</td>\n",
              "      <td>0</td>\n",
              "      <td>1</td>\n",
              "      <td>1</td>\n",
              "      <td>4</td>\n",
              "      <td>3</td>\n",
              "      <td>4</td>\n",
              "      <td>1</td>\n",
              "      <td>1</td>\n",
              "      <td>3</td>\n",
              "      <td>6</td>\n",
              "      <td>1</td>\n",
              "      <td>0</td>\n",
              "      <td>0</td>\n",
              "      <td>0</td>\n",
              "      <td>0</td>\n",
              "      <td>0</td>\n",
              "      <td>0</td>\n",
              "      <td>0</td>\n",
              "      <td>0</td>\n",
              "      <td>1</td>\n",
              "      <td>1</td>\n",
              "      <td>0</td>\n",
              "      <td>0</td>\n",
              "      <td>0</td>\n",
              "      <td>0</td>\n",
              "      <td>1</td>\n",
              "      <td>0</td>\n",
              "    </tr>\n",
              "    <tr>\n",
              "      <th>1</th>\n",
              "      <td>0</td>\n",
              "      <td>0</td>\n",
              "      <td>17</td>\n",
              "      <td>0</td>\n",
              "      <td>1</td>\n",
              "      <td>0</td>\n",
              "      <td>1</td>\n",
              "      <td>1</td>\n",
              "      <td>1</td>\n",
              "      <td>2</td>\n",
              "      <td>0</td>\n",
              "      <td>1</td>\n",
              "      <td>0</td>\n",
              "      <td>1</td>\n",
              "      <td>1</td>\n",
              "      <td>1</td>\n",
              "      <td>0</td>\n",
              "      <td>0</td>\n",
              "      <td>1</td>\n",
              "      <td>5</td>\n",
              "      <td>3</td>\n",
              "      <td>3</td>\n",
              "      <td>1</td>\n",
              "      <td>1</td>\n",
              "      <td>3</td>\n",
              "      <td>4</td>\n",
              "      <td>1</td>\n",
              "      <td>0</td>\n",
              "      <td>0</td>\n",
              "      <td>0</td>\n",
              "      <td>0</td>\n",
              "      <td>0</td>\n",
              "      <td>0</td>\n",
              "      <td>1</td>\n",
              "      <td>0</td>\n",
              "      <td>0</td>\n",
              "      <td>1</td>\n",
              "      <td>0</td>\n",
              "      <td>0</td>\n",
              "      <td>0</td>\n",
              "      <td>1</td>\n",
              "      <td>0</td>\n",
              "      <td>0</td>\n",
              "    </tr>\n",
              "    <tr>\n",
              "      <th>2</th>\n",
              "      <td>0</td>\n",
              "      <td>0</td>\n",
              "      <td>15</td>\n",
              "      <td>0</td>\n",
              "      <td>0</td>\n",
              "      <td>0</td>\n",
              "      <td>1</td>\n",
              "      <td>1</td>\n",
              "      <td>1</td>\n",
              "      <td>2</td>\n",
              "      <td>3</td>\n",
              "      <td>0</td>\n",
              "      <td>1</td>\n",
              "      <td>0</td>\n",
              "      <td>1</td>\n",
              "      <td>0</td>\n",
              "      <td>0</td>\n",
              "      <td>0</td>\n",
              "      <td>1</td>\n",
              "      <td>4</td>\n",
              "      <td>3</td>\n",
              "      <td>2</td>\n",
              "      <td>2</td>\n",
              "      <td>3</td>\n",
              "      <td>3</td>\n",
              "      <td>10</td>\n",
              "      <td>1</td>\n",
              "      <td>0</td>\n",
              "      <td>0</td>\n",
              "      <td>0</td>\n",
              "      <td>0</td>\n",
              "      <td>0</td>\n",
              "      <td>0</td>\n",
              "      <td>1</td>\n",
              "      <td>0</td>\n",
              "      <td>0</td>\n",
              "      <td>0</td>\n",
              "      <td>0</td>\n",
              "      <td>1</td>\n",
              "      <td>0</td>\n",
              "      <td>0</td>\n",
              "      <td>1</td>\n",
              "      <td>0</td>\n",
              "    </tr>\n",
              "    <tr>\n",
              "      <th>3</th>\n",
              "      <td>0</td>\n",
              "      <td>0</td>\n",
              "      <td>15</td>\n",
              "      <td>0</td>\n",
              "      <td>1</td>\n",
              "      <td>0</td>\n",
              "      <td>4</td>\n",
              "      <td>2</td>\n",
              "      <td>1</td>\n",
              "      <td>3</td>\n",
              "      <td>0</td>\n",
              "      <td>1</td>\n",
              "      <td>0</td>\n",
              "      <td>0</td>\n",
              "      <td>0</td>\n",
              "      <td>0</td>\n",
              "      <td>0</td>\n",
              "      <td>0</td>\n",
              "      <td>0</td>\n",
              "      <td>3</td>\n",
              "      <td>2</td>\n",
              "      <td>2</td>\n",
              "      <td>1</td>\n",
              "      <td>1</td>\n",
              "      <td>5</td>\n",
              "      <td>2</td>\n",
              "      <td>0</td>\n",
              "      <td>1</td>\n",
              "      <td>0</td>\n",
              "      <td>0</td>\n",
              "      <td>0</td>\n",
              "      <td>0</td>\n",
              "      <td>0</td>\n",
              "      <td>0</td>\n",
              "      <td>1</td>\n",
              "      <td>0</td>\n",
              "      <td>0</td>\n",
              "      <td>1</td>\n",
              "      <td>0</td>\n",
              "      <td>0</td>\n",
              "      <td>0</td>\n",
              "      <td>1</td>\n",
              "      <td>0</td>\n",
              "    </tr>\n",
              "    <tr>\n",
              "      <th>4</th>\n",
              "      <td>0</td>\n",
              "      <td>0</td>\n",
              "      <td>16</td>\n",
              "      <td>0</td>\n",
              "      <td>1</td>\n",
              "      <td>0</td>\n",
              "      <td>3</td>\n",
              "      <td>3</td>\n",
              "      <td>1</td>\n",
              "      <td>2</td>\n",
              "      <td>0</td>\n",
              "      <td>1</td>\n",
              "      <td>0</td>\n",
              "      <td>0</td>\n",
              "      <td>1</td>\n",
              "      <td>0</td>\n",
              "      <td>0</td>\n",
              "      <td>1</td>\n",
              "      <td>1</td>\n",
              "      <td>4</td>\n",
              "      <td>3</td>\n",
              "      <td>2</td>\n",
              "      <td>1</td>\n",
              "      <td>2</td>\n",
              "      <td>5</td>\n",
              "      <td>4</td>\n",
              "      <td>0</td>\n",
              "      <td>0</td>\n",
              "      <td>1</td>\n",
              "      <td>0</td>\n",
              "      <td>0</td>\n",
              "      <td>0</td>\n",
              "      <td>0</td>\n",
              "      <td>1</td>\n",
              "      <td>0</td>\n",
              "      <td>0</td>\n",
              "      <td>0</td>\n",
              "      <td>1</td>\n",
              "      <td>0</td>\n",
              "      <td>0</td>\n",
              "      <td>1</td>\n",
              "      <td>0</td>\n",
              "      <td>0</td>\n",
              "    </tr>\n",
              "  </tbody>\n",
              "</table>\n",
              "</div>"
            ],
            "text/plain": [
              "   school  sex  age  ...  guardian_father  guardian_mother  guardian_other\n",
              "0       0    0   18  ...                0                1               0\n",
              "1       0    0   17  ...                1                0               0\n",
              "2       0    0   15  ...                0                1               0\n",
              "3       0    0   15  ...                0                1               0\n",
              "4       0    0   16  ...                1                0               0\n",
              "\n",
              "[5 rows x 43 columns]"
            ]
          },
          "metadata": {
            "tags": []
          },
          "execution_count": 4309
        }
      ]
    },
    {
      "cell_type": "code",
      "metadata": {
        "colab": {
          "base_uri": "https://localhost:8080/"
        },
        "id": "--heajV5hzxi",
        "outputId": "ea2ee5fb-af05-45bf-8241-3a49ff3af4cd"
      },
      "source": [
        "X.isna().sum()\n",
        "nullseries =  X.isna().sum()\n",
        "print(nullseries[nullseries > 0])"
      ],
      "execution_count": null,
      "outputs": [
        {
          "output_type": "stream",
          "text": [
            "Series([], dtype: int64)\n"
          ],
          "name": "stdout"
        }
      ]
    },
    {
      "cell_type": "code",
      "metadata": {
        "colab": {
          "base_uri": "https://localhost:8080/"
        },
        "id": "0IrML6fphzxi",
        "outputId": "71a5c7a4-9b08-438f-c0e5-3536bfa8679b"
      },
      "source": [
        "X.shape"
      ],
      "execution_count": null,
      "outputs": [
        {
          "output_type": "execute_result",
          "data": {
            "text/plain": [
              "(395, 43)"
            ]
          },
          "metadata": {
            "tags": []
          },
          "execution_count": 4311
        }
      ]
    },
    {
      "cell_type": "code",
      "metadata": {
        "colab": {
          "base_uri": "https://localhost:8080/"
        },
        "id": "vN9BZ3--hzxj",
        "outputId": "a92578ea-bb59-4a77-d5f0-d316842a846c"
      },
      "source": [
        "y.shape"
      ],
      "execution_count": null,
      "outputs": [
        {
          "output_type": "execute_result",
          "data": {
            "text/plain": [
              "(395, 1)"
            ]
          },
          "metadata": {
            "tags": []
          },
          "execution_count": 4312
        }
      ]
    },
    {
      "cell_type": "code",
      "metadata": {
        "colab": {
          "base_uri": "https://localhost:8080/"
        },
        "id": "-6ZugypVhzxj",
        "outputId": "4c47e3fb-9d7f-4b96-bd3a-f4db3fdb2af4"
      },
      "source": [
        "y.shape[0]"
      ],
      "execution_count": null,
      "outputs": [
        {
          "output_type": "execute_result",
          "data": {
            "text/plain": [
              "395"
            ]
          },
          "metadata": {
            "tags": []
          },
          "execution_count": 4313
        }
      ]
    },
    {
      "cell_type": "code",
      "metadata": {
        "colab": {
          "base_uri": "https://localhost:8080/",
          "height": 345
        },
        "id": "Wqvvf-E_hzxj",
        "outputId": "4f2f3e16-19f8-4f0d-9ff8-d82f6981a974"
      },
      "source": [
        "X[1:10]"
      ],
      "execution_count": null,
      "outputs": [
        {
          "output_type": "execute_result",
          "data": {
            "text/html": [
              "<div>\n",
              "<style scoped>\n",
              "    .dataframe tbody tr th:only-of-type {\n",
              "        vertical-align: middle;\n",
              "    }\n",
              "\n",
              "    .dataframe tbody tr th {\n",
              "        vertical-align: top;\n",
              "    }\n",
              "\n",
              "    .dataframe thead th {\n",
              "        text-align: right;\n",
              "    }\n",
              "</style>\n",
              "<table border=\"1\" class=\"dataframe\">\n",
              "  <thead>\n",
              "    <tr style=\"text-align: right;\">\n",
              "      <th></th>\n",
              "      <th>school</th>\n",
              "      <th>sex</th>\n",
              "      <th>age</th>\n",
              "      <th>address</th>\n",
              "      <th>famsize</th>\n",
              "      <th>Pstatus</th>\n",
              "      <th>Medu</th>\n",
              "      <th>Fedu</th>\n",
              "      <th>traveltime</th>\n",
              "      <th>studytime</th>\n",
              "      <th>failures</th>\n",
              "      <th>schoolsup</th>\n",
              "      <th>famsup</th>\n",
              "      <th>paid</th>\n",
              "      <th>activities</th>\n",
              "      <th>nursery</th>\n",
              "      <th>higher</th>\n",
              "      <th>internet</th>\n",
              "      <th>romantic</th>\n",
              "      <th>famrel</th>\n",
              "      <th>freetime</th>\n",
              "      <th>goout</th>\n",
              "      <th>Dalc</th>\n",
              "      <th>Walc</th>\n",
              "      <th>health</th>\n",
              "      <th>absences</th>\n",
              "      <th>Mjob_at_home</th>\n",
              "      <th>Mjob_health</th>\n",
              "      <th>Mjob_other</th>\n",
              "      <th>Mjob_services</th>\n",
              "      <th>Mjob_teacher</th>\n",
              "      <th>Fjob_at_home</th>\n",
              "      <th>Fjob_health</th>\n",
              "      <th>Fjob_other</th>\n",
              "      <th>Fjob_services</th>\n",
              "      <th>Fjob_teacher</th>\n",
              "      <th>reason_course</th>\n",
              "      <th>reason_home</th>\n",
              "      <th>reason_other</th>\n",
              "      <th>reason_reputation</th>\n",
              "      <th>guardian_father</th>\n",
              "      <th>guardian_mother</th>\n",
              "      <th>guardian_other</th>\n",
              "    </tr>\n",
              "  </thead>\n",
              "  <tbody>\n",
              "    <tr>\n",
              "      <th>1</th>\n",
              "      <td>0</td>\n",
              "      <td>0</td>\n",
              "      <td>17</td>\n",
              "      <td>0</td>\n",
              "      <td>1</td>\n",
              "      <td>0</td>\n",
              "      <td>1</td>\n",
              "      <td>1</td>\n",
              "      <td>1</td>\n",
              "      <td>2</td>\n",
              "      <td>0</td>\n",
              "      <td>1</td>\n",
              "      <td>0</td>\n",
              "      <td>1</td>\n",
              "      <td>1</td>\n",
              "      <td>1</td>\n",
              "      <td>0</td>\n",
              "      <td>0</td>\n",
              "      <td>1</td>\n",
              "      <td>5</td>\n",
              "      <td>3</td>\n",
              "      <td>3</td>\n",
              "      <td>1</td>\n",
              "      <td>1</td>\n",
              "      <td>3</td>\n",
              "      <td>4</td>\n",
              "      <td>1</td>\n",
              "      <td>0</td>\n",
              "      <td>0</td>\n",
              "      <td>0</td>\n",
              "      <td>0</td>\n",
              "      <td>0</td>\n",
              "      <td>0</td>\n",
              "      <td>1</td>\n",
              "      <td>0</td>\n",
              "      <td>0</td>\n",
              "      <td>1</td>\n",
              "      <td>0</td>\n",
              "      <td>0</td>\n",
              "      <td>0</td>\n",
              "      <td>1</td>\n",
              "      <td>0</td>\n",
              "      <td>0</td>\n",
              "    </tr>\n",
              "    <tr>\n",
              "      <th>2</th>\n",
              "      <td>0</td>\n",
              "      <td>0</td>\n",
              "      <td>15</td>\n",
              "      <td>0</td>\n",
              "      <td>0</td>\n",
              "      <td>0</td>\n",
              "      <td>1</td>\n",
              "      <td>1</td>\n",
              "      <td>1</td>\n",
              "      <td>2</td>\n",
              "      <td>3</td>\n",
              "      <td>0</td>\n",
              "      <td>1</td>\n",
              "      <td>0</td>\n",
              "      <td>1</td>\n",
              "      <td>0</td>\n",
              "      <td>0</td>\n",
              "      <td>0</td>\n",
              "      <td>1</td>\n",
              "      <td>4</td>\n",
              "      <td>3</td>\n",
              "      <td>2</td>\n",
              "      <td>2</td>\n",
              "      <td>3</td>\n",
              "      <td>3</td>\n",
              "      <td>10</td>\n",
              "      <td>1</td>\n",
              "      <td>0</td>\n",
              "      <td>0</td>\n",
              "      <td>0</td>\n",
              "      <td>0</td>\n",
              "      <td>0</td>\n",
              "      <td>0</td>\n",
              "      <td>1</td>\n",
              "      <td>0</td>\n",
              "      <td>0</td>\n",
              "      <td>0</td>\n",
              "      <td>0</td>\n",
              "      <td>1</td>\n",
              "      <td>0</td>\n",
              "      <td>0</td>\n",
              "      <td>1</td>\n",
              "      <td>0</td>\n",
              "    </tr>\n",
              "    <tr>\n",
              "      <th>3</th>\n",
              "      <td>0</td>\n",
              "      <td>0</td>\n",
              "      <td>15</td>\n",
              "      <td>0</td>\n",
              "      <td>1</td>\n",
              "      <td>0</td>\n",
              "      <td>4</td>\n",
              "      <td>2</td>\n",
              "      <td>1</td>\n",
              "      <td>3</td>\n",
              "      <td>0</td>\n",
              "      <td>1</td>\n",
              "      <td>0</td>\n",
              "      <td>0</td>\n",
              "      <td>0</td>\n",
              "      <td>0</td>\n",
              "      <td>0</td>\n",
              "      <td>0</td>\n",
              "      <td>0</td>\n",
              "      <td>3</td>\n",
              "      <td>2</td>\n",
              "      <td>2</td>\n",
              "      <td>1</td>\n",
              "      <td>1</td>\n",
              "      <td>5</td>\n",
              "      <td>2</td>\n",
              "      <td>0</td>\n",
              "      <td>1</td>\n",
              "      <td>0</td>\n",
              "      <td>0</td>\n",
              "      <td>0</td>\n",
              "      <td>0</td>\n",
              "      <td>0</td>\n",
              "      <td>0</td>\n",
              "      <td>1</td>\n",
              "      <td>0</td>\n",
              "      <td>0</td>\n",
              "      <td>1</td>\n",
              "      <td>0</td>\n",
              "      <td>0</td>\n",
              "      <td>0</td>\n",
              "      <td>1</td>\n",
              "      <td>0</td>\n",
              "    </tr>\n",
              "    <tr>\n",
              "      <th>4</th>\n",
              "      <td>0</td>\n",
              "      <td>0</td>\n",
              "      <td>16</td>\n",
              "      <td>0</td>\n",
              "      <td>1</td>\n",
              "      <td>0</td>\n",
              "      <td>3</td>\n",
              "      <td>3</td>\n",
              "      <td>1</td>\n",
              "      <td>2</td>\n",
              "      <td>0</td>\n",
              "      <td>1</td>\n",
              "      <td>0</td>\n",
              "      <td>0</td>\n",
              "      <td>1</td>\n",
              "      <td>0</td>\n",
              "      <td>0</td>\n",
              "      <td>1</td>\n",
              "      <td>1</td>\n",
              "      <td>4</td>\n",
              "      <td>3</td>\n",
              "      <td>2</td>\n",
              "      <td>1</td>\n",
              "      <td>2</td>\n",
              "      <td>5</td>\n",
              "      <td>4</td>\n",
              "      <td>0</td>\n",
              "      <td>0</td>\n",
              "      <td>1</td>\n",
              "      <td>0</td>\n",
              "      <td>0</td>\n",
              "      <td>0</td>\n",
              "      <td>0</td>\n",
              "      <td>1</td>\n",
              "      <td>0</td>\n",
              "      <td>0</td>\n",
              "      <td>0</td>\n",
              "      <td>1</td>\n",
              "      <td>0</td>\n",
              "      <td>0</td>\n",
              "      <td>1</td>\n",
              "      <td>0</td>\n",
              "      <td>0</td>\n",
              "    </tr>\n",
              "    <tr>\n",
              "      <th>5</th>\n",
              "      <td>0</td>\n",
              "      <td>1</td>\n",
              "      <td>16</td>\n",
              "      <td>0</td>\n",
              "      <td>0</td>\n",
              "      <td>0</td>\n",
              "      <td>4</td>\n",
              "      <td>3</td>\n",
              "      <td>1</td>\n",
              "      <td>2</td>\n",
              "      <td>0</td>\n",
              "      <td>1</td>\n",
              "      <td>0</td>\n",
              "      <td>0</td>\n",
              "      <td>0</td>\n",
              "      <td>0</td>\n",
              "      <td>0</td>\n",
              "      <td>0</td>\n",
              "      <td>1</td>\n",
              "      <td>5</td>\n",
              "      <td>4</td>\n",
              "      <td>2</td>\n",
              "      <td>1</td>\n",
              "      <td>2</td>\n",
              "      <td>5</td>\n",
              "      <td>10</td>\n",
              "      <td>0</td>\n",
              "      <td>0</td>\n",
              "      <td>0</td>\n",
              "      <td>1</td>\n",
              "      <td>0</td>\n",
              "      <td>0</td>\n",
              "      <td>0</td>\n",
              "      <td>1</td>\n",
              "      <td>0</td>\n",
              "      <td>0</td>\n",
              "      <td>0</td>\n",
              "      <td>0</td>\n",
              "      <td>0</td>\n",
              "      <td>1</td>\n",
              "      <td>0</td>\n",
              "      <td>1</td>\n",
              "      <td>0</td>\n",
              "    </tr>\n",
              "    <tr>\n",
              "      <th>6</th>\n",
              "      <td>0</td>\n",
              "      <td>1</td>\n",
              "      <td>16</td>\n",
              "      <td>0</td>\n",
              "      <td>0</td>\n",
              "      <td>0</td>\n",
              "      <td>2</td>\n",
              "      <td>2</td>\n",
              "      <td>1</td>\n",
              "      <td>2</td>\n",
              "      <td>0</td>\n",
              "      <td>1</td>\n",
              "      <td>1</td>\n",
              "      <td>1</td>\n",
              "      <td>1</td>\n",
              "      <td>0</td>\n",
              "      <td>0</td>\n",
              "      <td>0</td>\n",
              "      <td>1</td>\n",
              "      <td>4</td>\n",
              "      <td>4</td>\n",
              "      <td>4</td>\n",
              "      <td>1</td>\n",
              "      <td>1</td>\n",
              "      <td>3</td>\n",
              "      <td>0</td>\n",
              "      <td>0</td>\n",
              "      <td>0</td>\n",
              "      <td>1</td>\n",
              "      <td>0</td>\n",
              "      <td>0</td>\n",
              "      <td>0</td>\n",
              "      <td>0</td>\n",
              "      <td>1</td>\n",
              "      <td>0</td>\n",
              "      <td>0</td>\n",
              "      <td>0</td>\n",
              "      <td>1</td>\n",
              "      <td>0</td>\n",
              "      <td>0</td>\n",
              "      <td>0</td>\n",
              "      <td>1</td>\n",
              "      <td>0</td>\n",
              "    </tr>\n",
              "    <tr>\n",
              "      <th>7</th>\n",
              "      <td>0</td>\n",
              "      <td>0</td>\n",
              "      <td>17</td>\n",
              "      <td>0</td>\n",
              "      <td>1</td>\n",
              "      <td>1</td>\n",
              "      <td>4</td>\n",
              "      <td>4</td>\n",
              "      <td>2</td>\n",
              "      <td>2</td>\n",
              "      <td>0</td>\n",
              "      <td>0</td>\n",
              "      <td>0</td>\n",
              "      <td>1</td>\n",
              "      <td>1</td>\n",
              "      <td>0</td>\n",
              "      <td>0</td>\n",
              "      <td>1</td>\n",
              "      <td>1</td>\n",
              "      <td>4</td>\n",
              "      <td>1</td>\n",
              "      <td>4</td>\n",
              "      <td>1</td>\n",
              "      <td>1</td>\n",
              "      <td>1</td>\n",
              "      <td>6</td>\n",
              "      <td>0</td>\n",
              "      <td>0</td>\n",
              "      <td>1</td>\n",
              "      <td>0</td>\n",
              "      <td>0</td>\n",
              "      <td>0</td>\n",
              "      <td>0</td>\n",
              "      <td>0</td>\n",
              "      <td>0</td>\n",
              "      <td>1</td>\n",
              "      <td>0</td>\n",
              "      <td>1</td>\n",
              "      <td>0</td>\n",
              "      <td>0</td>\n",
              "      <td>0</td>\n",
              "      <td>1</td>\n",
              "      <td>0</td>\n",
              "    </tr>\n",
              "    <tr>\n",
              "      <th>8</th>\n",
              "      <td>0</td>\n",
              "      <td>1</td>\n",
              "      <td>15</td>\n",
              "      <td>0</td>\n",
              "      <td>0</td>\n",
              "      <td>1</td>\n",
              "      <td>3</td>\n",
              "      <td>2</td>\n",
              "      <td>1</td>\n",
              "      <td>2</td>\n",
              "      <td>0</td>\n",
              "      <td>1</td>\n",
              "      <td>0</td>\n",
              "      <td>0</td>\n",
              "      <td>1</td>\n",
              "      <td>0</td>\n",
              "      <td>0</td>\n",
              "      <td>0</td>\n",
              "      <td>1</td>\n",
              "      <td>4</td>\n",
              "      <td>2</td>\n",
              "      <td>2</td>\n",
              "      <td>1</td>\n",
              "      <td>1</td>\n",
              "      <td>1</td>\n",
              "      <td>0</td>\n",
              "      <td>0</td>\n",
              "      <td>0</td>\n",
              "      <td>0</td>\n",
              "      <td>1</td>\n",
              "      <td>0</td>\n",
              "      <td>0</td>\n",
              "      <td>0</td>\n",
              "      <td>1</td>\n",
              "      <td>0</td>\n",
              "      <td>0</td>\n",
              "      <td>0</td>\n",
              "      <td>1</td>\n",
              "      <td>0</td>\n",
              "      <td>0</td>\n",
              "      <td>0</td>\n",
              "      <td>1</td>\n",
              "      <td>0</td>\n",
              "    </tr>\n",
              "    <tr>\n",
              "      <th>9</th>\n",
              "      <td>0</td>\n",
              "      <td>1</td>\n",
              "      <td>15</td>\n",
              "      <td>0</td>\n",
              "      <td>1</td>\n",
              "      <td>0</td>\n",
              "      <td>3</td>\n",
              "      <td>4</td>\n",
              "      <td>1</td>\n",
              "      <td>2</td>\n",
              "      <td>0</td>\n",
              "      <td>1</td>\n",
              "      <td>0</td>\n",
              "      <td>0</td>\n",
              "      <td>0</td>\n",
              "      <td>0</td>\n",
              "      <td>0</td>\n",
              "      <td>0</td>\n",
              "      <td>1</td>\n",
              "      <td>5</td>\n",
              "      <td>5</td>\n",
              "      <td>1</td>\n",
              "      <td>1</td>\n",
              "      <td>1</td>\n",
              "      <td>5</td>\n",
              "      <td>0</td>\n",
              "      <td>0</td>\n",
              "      <td>0</td>\n",
              "      <td>1</td>\n",
              "      <td>0</td>\n",
              "      <td>0</td>\n",
              "      <td>0</td>\n",
              "      <td>0</td>\n",
              "      <td>1</td>\n",
              "      <td>0</td>\n",
              "      <td>0</td>\n",
              "      <td>0</td>\n",
              "      <td>1</td>\n",
              "      <td>0</td>\n",
              "      <td>0</td>\n",
              "      <td>0</td>\n",
              "      <td>1</td>\n",
              "      <td>0</td>\n",
              "    </tr>\n",
              "  </tbody>\n",
              "</table>\n",
              "</div>"
            ],
            "text/plain": [
              "   school  sex  age  ...  guardian_father  guardian_mother  guardian_other\n",
              "1       0    0   17  ...                1                0               0\n",
              "2       0    0   15  ...                0                1               0\n",
              "3       0    0   15  ...                0                1               0\n",
              "4       0    0   16  ...                1                0               0\n",
              "5       0    1   16  ...                0                1               0\n",
              "6       0    1   16  ...                0                1               0\n",
              "7       0    0   17  ...                0                1               0\n",
              "8       0    1   15  ...                0                1               0\n",
              "9       0    1   15  ...                0                1               0\n",
              "\n",
              "[9 rows x 43 columns]"
            ]
          },
          "metadata": {
            "tags": []
          },
          "execution_count": 4314
        }
      ]
    },
    {
      "cell_type": "code",
      "metadata": {
        "colab": {
          "base_uri": "https://localhost:8080/",
          "height": 325
        },
        "id": "b7fWtOGChzxj",
        "outputId": "3fb399a6-ae48-4d9d-9030-b7d149824c29"
      },
      "source": [
        "y[1:10]"
      ],
      "execution_count": null,
      "outputs": [
        {
          "output_type": "execute_result",
          "data": {
            "text/html": [
              "<div>\n",
              "<style scoped>\n",
              "    .dataframe tbody tr th:only-of-type {\n",
              "        vertical-align: middle;\n",
              "    }\n",
              "\n",
              "    .dataframe tbody tr th {\n",
              "        vertical-align: top;\n",
              "    }\n",
              "\n",
              "    .dataframe thead th {\n",
              "        text-align: right;\n",
              "    }\n",
              "</style>\n",
              "<table border=\"1\" class=\"dataframe\">\n",
              "  <thead>\n",
              "    <tr style=\"text-align: right;\">\n",
              "      <th></th>\n",
              "      <th>G3</th>\n",
              "    </tr>\n",
              "  </thead>\n",
              "  <tbody>\n",
              "    <tr>\n",
              "      <th>1</th>\n",
              "      <td>6</td>\n",
              "    </tr>\n",
              "    <tr>\n",
              "      <th>2</th>\n",
              "      <td>10</td>\n",
              "    </tr>\n",
              "    <tr>\n",
              "      <th>3</th>\n",
              "      <td>15</td>\n",
              "    </tr>\n",
              "    <tr>\n",
              "      <th>4</th>\n",
              "      <td>10</td>\n",
              "    </tr>\n",
              "    <tr>\n",
              "      <th>5</th>\n",
              "      <td>15</td>\n",
              "    </tr>\n",
              "    <tr>\n",
              "      <th>6</th>\n",
              "      <td>11</td>\n",
              "    </tr>\n",
              "    <tr>\n",
              "      <th>7</th>\n",
              "      <td>6</td>\n",
              "    </tr>\n",
              "    <tr>\n",
              "      <th>8</th>\n",
              "      <td>19</td>\n",
              "    </tr>\n",
              "    <tr>\n",
              "      <th>9</th>\n",
              "      <td>15</td>\n",
              "    </tr>\n",
              "  </tbody>\n",
              "</table>\n",
              "</div>"
            ],
            "text/plain": [
              "   G3\n",
              "1   6\n",
              "2  10\n",
              "3  15\n",
              "4  10\n",
              "5  15\n",
              "6  11\n",
              "7   6\n",
              "8  19\n",
              "9  15"
            ]
          },
          "metadata": {
            "tags": []
          },
          "execution_count": 4315
        }
      ]
    },
    {
      "cell_type": "markdown",
      "metadata": {
        "id": "1i0w5E_cFSJU"
      },
      "source": [
        "##Data (Face)"
      ]
    },
    {
      "cell_type": "code",
      "metadata": {
        "colab": {
          "base_uri": "https://localhost:8080/",
          "height": 371
        },
        "id": "uGCQQD3-G4Kq",
        "outputId": "c1bc0160-a3ed-4410-82f2-503606dc9747"
      },
      "source": [
        "import csv\n",
        "data = []\n",
        "# /content/drive/MyDrive/2020 Summer Assistantship CBR+Deep Learning/RBF+adaptation streamline/features.csv\n",
        "with open('/content/drive/MyDrive/2020 Summer Assistantship CBR+Deep Learning/RBF+adaptation streamline/features.csv') as f:\n",
        "  reader = csv.reader(f, delimiter=\",\")\n",
        "  for row in reader:\n",
        "    data.append(row)\n",
        "X = np.array(data)\n",
        "\n",
        "data = []\n",
        "with open('/content/drive/MyDrive/2020 Summer Assistantship CBR+Deep Learning/RBF+adaptation streamline/target_classes.csv') as f:\n",
        "  reader = csv.reader(f, delimiter=\",\")\n",
        "  for row in reader:\n",
        "    data.append(row)\n",
        "\n",
        "y = np.array(data)\n",
        "\n",
        "X = X.astype(np.float)\n",
        "y = y.astype(np.float)\n",
        "\n",
        "print(X[0])\n",
        "print(y[0])\n",
        "\n",
        "np.random.shuffle(X)\n",
        "np.random.shuffle(y)\n",
        "\n",
        "X = X[:,::8]\n",
        "y = y[:,::8]\n",
        "\n",
        "# limit = 6000\n",
        "# X = X[:limit]\n",
        "# y = y[:limit]\n",
        "\n",
        "print(X[0])\n",
        "print(y[0])"
      ],
      "execution_count": null,
      "outputs": [
        {
          "output_type": "error",
          "ename": "KeyboardInterrupt",
          "evalue": "ignored",
          "traceback": [
            "\u001b[0;31m---------------------------------------------------------------------------\u001b[0m",
            "\u001b[0;31mKeyboardInterrupt\u001b[0m                         Traceback (most recent call last)",
            "\u001b[0;32m<ipython-input-1312-a3c6bbda4d08>\u001b[0m in \u001b[0;36m<module>\u001b[0;34m()\u001b[0m\n\u001b[1;32m      4\u001b[0m \u001b[0;32mwith\u001b[0m \u001b[0mopen\u001b[0m\u001b[0;34m(\u001b[0m\u001b[0;34m'/content/drive/MyDrive/2020 Summer Assistantship CBR+Deep Learning/RBF+adaptation streamline/features.csv'\u001b[0m\u001b[0;34m)\u001b[0m \u001b[0;32mas\u001b[0m \u001b[0mf\u001b[0m\u001b[0;34m:\u001b[0m\u001b[0;34m\u001b[0m\u001b[0;34m\u001b[0m\u001b[0m\n\u001b[1;32m      5\u001b[0m   \u001b[0mreader\u001b[0m \u001b[0;34m=\u001b[0m \u001b[0mcsv\u001b[0m\u001b[0;34m.\u001b[0m\u001b[0mreader\u001b[0m\u001b[0;34m(\u001b[0m\u001b[0mf\u001b[0m\u001b[0;34m,\u001b[0m \u001b[0mdelimiter\u001b[0m\u001b[0;34m=\u001b[0m\u001b[0;34m\",\"\u001b[0m\u001b[0;34m)\u001b[0m\u001b[0;34m\u001b[0m\u001b[0;34m\u001b[0m\u001b[0m\n\u001b[0;32m----> 6\u001b[0;31m   \u001b[0;32mfor\u001b[0m \u001b[0mrow\u001b[0m \u001b[0;32min\u001b[0m \u001b[0mreader\u001b[0m\u001b[0;34m:\u001b[0m\u001b[0;34m\u001b[0m\u001b[0;34m\u001b[0m\u001b[0m\n\u001b[0m\u001b[1;32m      7\u001b[0m     \u001b[0mdata\u001b[0m\u001b[0;34m.\u001b[0m\u001b[0mappend\u001b[0m\u001b[0;34m(\u001b[0m\u001b[0mrow\u001b[0m\u001b[0;34m)\u001b[0m\u001b[0;34m\u001b[0m\u001b[0;34m\u001b[0m\u001b[0m\n\u001b[1;32m      8\u001b[0m \u001b[0mX\u001b[0m \u001b[0;34m=\u001b[0m \u001b[0mnp\u001b[0m\u001b[0;34m.\u001b[0m\u001b[0marray\u001b[0m\u001b[0;34m(\u001b[0m\u001b[0mdata\u001b[0m\u001b[0;34m)\u001b[0m\u001b[0;34m\u001b[0m\u001b[0;34m\u001b[0m\u001b[0m\n",
            "\u001b[0;32m/usr/lib/python3.7/codecs.py\u001b[0m in \u001b[0;36mdecode\u001b[0;34m(self, input, final)\u001b[0m\n\u001b[1;32m    317\u001b[0m         \u001b[0;32mraise\u001b[0m \u001b[0mNotImplementedError\u001b[0m\u001b[0;34m\u001b[0m\u001b[0;34m\u001b[0m\u001b[0m\n\u001b[1;32m    318\u001b[0m \u001b[0;34m\u001b[0m\u001b[0m\n\u001b[0;32m--> 319\u001b[0;31m     \u001b[0;32mdef\u001b[0m \u001b[0mdecode\u001b[0m\u001b[0;34m(\u001b[0m\u001b[0mself\u001b[0m\u001b[0;34m,\u001b[0m \u001b[0minput\u001b[0m\u001b[0;34m,\u001b[0m \u001b[0mfinal\u001b[0m\u001b[0;34m=\u001b[0m\u001b[0;32mFalse\u001b[0m\u001b[0;34m)\u001b[0m\u001b[0;34m:\u001b[0m\u001b[0;34m\u001b[0m\u001b[0;34m\u001b[0m\u001b[0m\n\u001b[0m\u001b[1;32m    320\u001b[0m         \u001b[0;31m# decode input (taking the buffer into account)\u001b[0m\u001b[0;34m\u001b[0m\u001b[0;34m\u001b[0m\u001b[0;34m\u001b[0m\u001b[0m\n\u001b[1;32m    321\u001b[0m         \u001b[0mdata\u001b[0m \u001b[0;34m=\u001b[0m \u001b[0mself\u001b[0m\u001b[0;34m.\u001b[0m\u001b[0mbuffer\u001b[0m \u001b[0;34m+\u001b[0m \u001b[0minput\u001b[0m\u001b[0;34m\u001b[0m\u001b[0;34m\u001b[0m\u001b[0m\n",
            "\u001b[0;31mKeyboardInterrupt\u001b[0m: "
          ]
        }
      ]
    },
    {
      "cell_type": "code",
      "metadata": {
        "id": "oomYDi-8Hqu9"
      },
      "source": [
        "X.shape"
      ],
      "execution_count": null,
      "outputs": []
    },
    {
      "cell_type": "code",
      "metadata": {
        "id": "PLzBn8dIHrKD"
      },
      "source": [
        "y.shape"
      ],
      "execution_count": null,
      "outputs": []
    },
    {
      "cell_type": "code",
      "metadata": {
        "id": "zoZk4BHR6Fhv"
      },
      "source": [
        "X[0]"
      ],
      "execution_count": null,
      "outputs": []
    },
    {
      "cell_type": "code",
      "metadata": {
        "id": "HOb9IsJ70is_"
      },
      "source": [
        "print(y)"
      ],
      "execution_count": null,
      "outputs": []
    },
    {
      "cell_type": "markdown",
      "metadata": {
        "id": "JE9mfqETOqx7"
      },
      "source": [
        "##Data (Yacht Hydrodynamics)\n",
        "\n",
        "https://archive.ics.uci.edu/ml/datasets/Yacht+Hydrodynamics#"
      ]
    },
    {
      "cell_type": "code",
      "metadata": {
        "id": "qH1U_lKQO20T"
      },
      "source": [
        "import csv\n",
        "data = []\n",
        "with open('/content/drive/MyDrive/2020 Summer Assistantship CBR+Deep Learning/RBF+adaptation streamline/yacht_hydrodynamics.data') as f:\n",
        "  reader = csv.reader(f, delimiter=\" \",skipinitialspace=True )\n",
        "  i = 0\n",
        "  for row in reader:\n",
        "    # print(i)\n",
        "    i = i +1\n",
        "    data.append(np.asarray(row))\n",
        "\n",
        "# print(len(data))\n",
        "data = np.array(data)\n",
        "# print(data)\n",
        "X = np.delete(data, 6, axis = 1)\n",
        "y = data[:, 6]\n",
        "\n",
        "X = X.astype(np.float)\n",
        "y = y.astype(np.float)"
      ],
      "execution_count": null,
      "outputs": []
    },
    {
      "cell_type": "code",
      "metadata": {
        "colab": {
          "base_uri": "https://localhost:8080/"
        },
        "id": "4Adp34f8PMZz",
        "outputId": "ae721472-6e4f-451d-97f0-131a19c50858"
      },
      "source": [
        "X.shape"
      ],
      "execution_count": null,
      "outputs": [
        {
          "output_type": "execute_result",
          "data": {
            "text/plain": [
              "(308, 6)"
            ]
          },
          "metadata": {
            "tags": []
          },
          "execution_count": 3349
        }
      ]
    },
    {
      "cell_type": "code",
      "metadata": {
        "colab": {
          "base_uri": "https://localhost:8080/"
        },
        "id": "bm8OL1pwPMZ7",
        "outputId": "5d6c5399-d17e-4b08-d0fa-de6e56280543"
      },
      "source": [
        "y.shape"
      ],
      "execution_count": null,
      "outputs": [
        {
          "output_type": "execute_result",
          "data": {
            "text/plain": [
              "(308,)"
            ]
          },
          "metadata": {
            "tags": []
          },
          "execution_count": 3350
        }
      ]
    },
    {
      "cell_type": "code",
      "metadata": {
        "id": "KFidQqknPMZ7"
      },
      "source": [
        "y = y.reshape((-1,1))"
      ],
      "execution_count": null,
      "outputs": []
    },
    {
      "cell_type": "code",
      "metadata": {
        "colab": {
          "base_uri": "https://localhost:8080/"
        },
        "id": "w0A_tDZ9PMZ8",
        "outputId": "e58be49e-beb6-49d7-afe0-3716db4612a2"
      },
      "source": [
        "y.shape"
      ],
      "execution_count": null,
      "outputs": [
        {
          "output_type": "execute_result",
          "data": {
            "text/plain": [
              "(308, 1)"
            ]
          },
          "metadata": {
            "tags": []
          },
          "execution_count": 3352
        }
      ]
    },
    {
      "cell_type": "markdown",
      "metadata": {
        "id": "h2hBwA326McO"
      },
      "source": [
        "## Data (Energy Efficiency- Heating)\n",
        "\n",
        "https://archive.ics.uci.edu/ml/datasets/Energy+efficiency#"
      ]
    },
    {
      "cell_type": "code",
      "metadata": {
        "colab": {
          "base_uri": "https://localhost:8080/"
        },
        "id": "xm0c0gBK6McS",
        "outputId": "31e91434-1269-41f8-f817-a43db83cf918"
      },
      "source": [
        "filename = '/content/drive/MyDrive/2020 Summer Assistantship CBR+Deep Learning/RBF+adaptation streamline/ENB2012_data.csv'\n",
        "\n",
        "def GetDataMatrix():\n",
        "    \n",
        "    # Data frame with make and model\n",
        "    X = pd.read_csv(filename,header=0, usecols=(0,1,2,3,4,5,6,7,));\n",
        "    # Change this to 9, to use a different class label, (cooling)\n",
        "    y = pd.read_csv(filename,header=0, usecols=(8,));\n",
        "\n",
        "    # X, y = shuffle(X, y)\n",
        "    print(X.head(0))\n",
        "    #normal one hot encoding\n",
        "    \n",
        "    # Fill the null values with zeros\n",
        "    # X.fillna(0, inplace=True);\n",
        "    #there shouldn't be null, since it's already cleaned.\n",
        "    print(X.isnull().sum())\n",
        "\n",
        "    return (X, y)\n",
        "\n",
        "##########\n",
        "\n",
        "(X, y) = GetDataMatrix() #Gets the X,Y"
      ],
      "execution_count": null,
      "outputs": [
        {
          "output_type": "stream",
          "text": [
            "Empty DataFrame\n",
            "Columns: [X1, X2, X3, X4, X5, X6, X7, X8]\n",
            "Index: []\n",
            "X1    0\n",
            "X2    0\n",
            "X3    0\n",
            "X4    0\n",
            "X5    0\n",
            "X6    0\n",
            "X7    0\n",
            "X8    0\n",
            "dtype: int64\n"
          ],
          "name": "stdout"
        }
      ]
    },
    {
      "cell_type": "code",
      "metadata": {
        "colab": {
          "base_uri": "https://localhost:8080/",
          "height": 198
        },
        "id": "gIwzY8-x6McT",
        "outputId": "e85f3170-30cb-4711-86dd-33d7afeb00c9"
      },
      "source": [
        "X.head(5)"
      ],
      "execution_count": null,
      "outputs": [
        {
          "output_type": "execute_result",
          "data": {
            "text/html": [
              "<div>\n",
              "<style scoped>\n",
              "    .dataframe tbody tr th:only-of-type {\n",
              "        vertical-align: middle;\n",
              "    }\n",
              "\n",
              "    .dataframe tbody tr th {\n",
              "        vertical-align: top;\n",
              "    }\n",
              "\n",
              "    .dataframe thead th {\n",
              "        text-align: right;\n",
              "    }\n",
              "</style>\n",
              "<table border=\"1\" class=\"dataframe\">\n",
              "  <thead>\n",
              "    <tr style=\"text-align: right;\">\n",
              "      <th></th>\n",
              "      <th>X1</th>\n",
              "      <th>X2</th>\n",
              "      <th>X3</th>\n",
              "      <th>X4</th>\n",
              "      <th>X5</th>\n",
              "      <th>X6</th>\n",
              "      <th>X7</th>\n",
              "      <th>X8</th>\n",
              "    </tr>\n",
              "  </thead>\n",
              "  <tbody>\n",
              "    <tr>\n",
              "      <th>0</th>\n",
              "      <td>0.98</td>\n",
              "      <td>514.5</td>\n",
              "      <td>294.0</td>\n",
              "      <td>110.25</td>\n",
              "      <td>7.0</td>\n",
              "      <td>2</td>\n",
              "      <td>0.0</td>\n",
              "      <td>0</td>\n",
              "    </tr>\n",
              "    <tr>\n",
              "      <th>1</th>\n",
              "      <td>0.98</td>\n",
              "      <td>514.5</td>\n",
              "      <td>294.0</td>\n",
              "      <td>110.25</td>\n",
              "      <td>7.0</td>\n",
              "      <td>3</td>\n",
              "      <td>0.0</td>\n",
              "      <td>0</td>\n",
              "    </tr>\n",
              "    <tr>\n",
              "      <th>2</th>\n",
              "      <td>0.98</td>\n",
              "      <td>514.5</td>\n",
              "      <td>294.0</td>\n",
              "      <td>110.25</td>\n",
              "      <td>7.0</td>\n",
              "      <td>4</td>\n",
              "      <td>0.0</td>\n",
              "      <td>0</td>\n",
              "    </tr>\n",
              "    <tr>\n",
              "      <th>3</th>\n",
              "      <td>0.98</td>\n",
              "      <td>514.5</td>\n",
              "      <td>294.0</td>\n",
              "      <td>110.25</td>\n",
              "      <td>7.0</td>\n",
              "      <td>5</td>\n",
              "      <td>0.0</td>\n",
              "      <td>0</td>\n",
              "    </tr>\n",
              "    <tr>\n",
              "      <th>4</th>\n",
              "      <td>0.90</td>\n",
              "      <td>563.5</td>\n",
              "      <td>318.5</td>\n",
              "      <td>122.50</td>\n",
              "      <td>7.0</td>\n",
              "      <td>2</td>\n",
              "      <td>0.0</td>\n",
              "      <td>0</td>\n",
              "    </tr>\n",
              "  </tbody>\n",
              "</table>\n",
              "</div>"
            ],
            "text/plain": [
              "     X1     X2     X3      X4   X5  X6   X7  X8\n",
              "0  0.98  514.5  294.0  110.25  7.0   2  0.0   0\n",
              "1  0.98  514.5  294.0  110.25  7.0   3  0.0   0\n",
              "2  0.98  514.5  294.0  110.25  7.0   4  0.0   0\n",
              "3  0.98  514.5  294.0  110.25  7.0   5  0.0   0\n",
              "4  0.90  563.5  318.5  122.50  7.0   2  0.0   0"
            ]
          },
          "metadata": {
            "tags": []
          },
          "execution_count": 400
        }
      ]
    },
    {
      "cell_type": "code",
      "metadata": {
        "colab": {
          "base_uri": "https://localhost:8080/"
        },
        "id": "FlgrQcpy6McU",
        "outputId": "d037f7c5-9b8b-400a-db36-e1a88e47c510"
      },
      "source": [
        "X.isna().sum()\n",
        "nullseries =  X.isna().sum()\n",
        "print(nullseries[nullseries > 0])"
      ],
      "execution_count": null,
      "outputs": [
        {
          "output_type": "stream",
          "text": [
            "Series([], dtype: int64)\n"
          ],
          "name": "stdout"
        }
      ]
    },
    {
      "cell_type": "code",
      "metadata": {
        "colab": {
          "base_uri": "https://localhost:8080/"
        },
        "id": "KmjsU1FW6McU",
        "outputId": "5d19aed1-3931-4c0d-e7b1-2b166fc9010d"
      },
      "source": [
        "X.shape"
      ],
      "execution_count": null,
      "outputs": [
        {
          "output_type": "execute_result",
          "data": {
            "text/plain": [
              "(768, 8)"
            ]
          },
          "metadata": {
            "tags": []
          },
          "execution_count": 402
        }
      ]
    },
    {
      "cell_type": "code",
      "metadata": {
        "colab": {
          "base_uri": "https://localhost:8080/"
        },
        "id": "LaZEHK2l6McU",
        "outputId": "4425a9a0-a451-4401-ecd6-73fbd369c5a3"
      },
      "source": [
        "y.shape"
      ],
      "execution_count": null,
      "outputs": [
        {
          "output_type": "execute_result",
          "data": {
            "text/plain": [
              "(768, 1)"
            ]
          },
          "metadata": {
            "tags": []
          },
          "execution_count": 403
        }
      ]
    },
    {
      "cell_type": "code",
      "metadata": {
        "colab": {
          "base_uri": "https://localhost:8080/"
        },
        "id": "RFv7n_Vl6McV",
        "outputId": "e3c19de2-3a4f-4979-b894-a247968ace7e"
      },
      "source": [
        "y.shape[0]"
      ],
      "execution_count": null,
      "outputs": [
        {
          "output_type": "execute_result",
          "data": {
            "text/plain": [
              "768"
            ]
          },
          "metadata": {
            "tags": []
          },
          "execution_count": 404
        }
      ]
    },
    {
      "cell_type": "code",
      "metadata": {
        "colab": {
          "base_uri": "https://localhost:8080/",
          "height": 325
        },
        "id": "DRJs7vGz6McV",
        "outputId": "7e61d257-e9f3-4c86-9f32-6422949052ee"
      },
      "source": [
        "X[1:10]"
      ],
      "execution_count": null,
      "outputs": [
        {
          "output_type": "execute_result",
          "data": {
            "text/html": [
              "<div>\n",
              "<style scoped>\n",
              "    .dataframe tbody tr th:only-of-type {\n",
              "        vertical-align: middle;\n",
              "    }\n",
              "\n",
              "    .dataframe tbody tr th {\n",
              "        vertical-align: top;\n",
              "    }\n",
              "\n",
              "    .dataframe thead th {\n",
              "        text-align: right;\n",
              "    }\n",
              "</style>\n",
              "<table border=\"1\" class=\"dataframe\">\n",
              "  <thead>\n",
              "    <tr style=\"text-align: right;\">\n",
              "      <th></th>\n",
              "      <th>X1</th>\n",
              "      <th>X2</th>\n",
              "      <th>X3</th>\n",
              "      <th>X4</th>\n",
              "      <th>X5</th>\n",
              "      <th>X6</th>\n",
              "      <th>X7</th>\n",
              "      <th>X8</th>\n",
              "    </tr>\n",
              "  </thead>\n",
              "  <tbody>\n",
              "    <tr>\n",
              "      <th>1</th>\n",
              "      <td>0.98</td>\n",
              "      <td>514.5</td>\n",
              "      <td>294.0</td>\n",
              "      <td>110.25</td>\n",
              "      <td>7.0</td>\n",
              "      <td>3</td>\n",
              "      <td>0.0</td>\n",
              "      <td>0</td>\n",
              "    </tr>\n",
              "    <tr>\n",
              "      <th>2</th>\n",
              "      <td>0.98</td>\n",
              "      <td>514.5</td>\n",
              "      <td>294.0</td>\n",
              "      <td>110.25</td>\n",
              "      <td>7.0</td>\n",
              "      <td>4</td>\n",
              "      <td>0.0</td>\n",
              "      <td>0</td>\n",
              "    </tr>\n",
              "    <tr>\n",
              "      <th>3</th>\n",
              "      <td>0.98</td>\n",
              "      <td>514.5</td>\n",
              "      <td>294.0</td>\n",
              "      <td>110.25</td>\n",
              "      <td>7.0</td>\n",
              "      <td>5</td>\n",
              "      <td>0.0</td>\n",
              "      <td>0</td>\n",
              "    </tr>\n",
              "    <tr>\n",
              "      <th>4</th>\n",
              "      <td>0.90</td>\n",
              "      <td>563.5</td>\n",
              "      <td>318.5</td>\n",
              "      <td>122.50</td>\n",
              "      <td>7.0</td>\n",
              "      <td>2</td>\n",
              "      <td>0.0</td>\n",
              "      <td>0</td>\n",
              "    </tr>\n",
              "    <tr>\n",
              "      <th>5</th>\n",
              "      <td>0.90</td>\n",
              "      <td>563.5</td>\n",
              "      <td>318.5</td>\n",
              "      <td>122.50</td>\n",
              "      <td>7.0</td>\n",
              "      <td>3</td>\n",
              "      <td>0.0</td>\n",
              "      <td>0</td>\n",
              "    </tr>\n",
              "    <tr>\n",
              "      <th>6</th>\n",
              "      <td>0.90</td>\n",
              "      <td>563.5</td>\n",
              "      <td>318.5</td>\n",
              "      <td>122.50</td>\n",
              "      <td>7.0</td>\n",
              "      <td>4</td>\n",
              "      <td>0.0</td>\n",
              "      <td>0</td>\n",
              "    </tr>\n",
              "    <tr>\n",
              "      <th>7</th>\n",
              "      <td>0.90</td>\n",
              "      <td>563.5</td>\n",
              "      <td>318.5</td>\n",
              "      <td>122.50</td>\n",
              "      <td>7.0</td>\n",
              "      <td>5</td>\n",
              "      <td>0.0</td>\n",
              "      <td>0</td>\n",
              "    </tr>\n",
              "    <tr>\n",
              "      <th>8</th>\n",
              "      <td>0.86</td>\n",
              "      <td>588.0</td>\n",
              "      <td>294.0</td>\n",
              "      <td>147.00</td>\n",
              "      <td>7.0</td>\n",
              "      <td>2</td>\n",
              "      <td>0.0</td>\n",
              "      <td>0</td>\n",
              "    </tr>\n",
              "    <tr>\n",
              "      <th>9</th>\n",
              "      <td>0.86</td>\n",
              "      <td>588.0</td>\n",
              "      <td>294.0</td>\n",
              "      <td>147.00</td>\n",
              "      <td>7.0</td>\n",
              "      <td>3</td>\n",
              "      <td>0.0</td>\n",
              "      <td>0</td>\n",
              "    </tr>\n",
              "  </tbody>\n",
              "</table>\n",
              "</div>"
            ],
            "text/plain": [
              "     X1     X2     X3      X4   X5  X6   X7  X8\n",
              "1  0.98  514.5  294.0  110.25  7.0   3  0.0   0\n",
              "2  0.98  514.5  294.0  110.25  7.0   4  0.0   0\n",
              "3  0.98  514.5  294.0  110.25  7.0   5  0.0   0\n",
              "4  0.90  563.5  318.5  122.50  7.0   2  0.0   0\n",
              "5  0.90  563.5  318.5  122.50  7.0   3  0.0   0\n",
              "6  0.90  563.5  318.5  122.50  7.0   4  0.0   0\n",
              "7  0.90  563.5  318.5  122.50  7.0   5  0.0   0\n",
              "8  0.86  588.0  294.0  147.00  7.0   2  0.0   0\n",
              "9  0.86  588.0  294.0  147.00  7.0   3  0.0   0"
            ]
          },
          "metadata": {
            "tags": []
          },
          "execution_count": 405
        }
      ]
    },
    {
      "cell_type": "code",
      "metadata": {
        "colab": {
          "base_uri": "https://localhost:8080/",
          "height": 328
        },
        "id": "DQx_YEQg6McV",
        "outputId": "9b0c51a1-0fd5-4b79-d430-29b0a0aabd04"
      },
      "source": [
        "y[1:10]"
      ],
      "execution_count": null,
      "outputs": [
        {
          "output_type": "execute_result",
          "data": {
            "text/html": [
              "<div>\n",
              "<style scoped>\n",
              "    .dataframe tbody tr th:only-of-type {\n",
              "        vertical-align: middle;\n",
              "    }\n",
              "\n",
              "    .dataframe tbody tr th {\n",
              "        vertical-align: top;\n",
              "    }\n",
              "\n",
              "    .dataframe thead th {\n",
              "        text-align: right;\n",
              "    }\n",
              "</style>\n",
              "<table border=\"1\" class=\"dataframe\">\n",
              "  <thead>\n",
              "    <tr style=\"text-align: right;\">\n",
              "      <th></th>\n",
              "      <th>Y1</th>\n",
              "    </tr>\n",
              "  </thead>\n",
              "  <tbody>\n",
              "    <tr>\n",
              "      <th>1</th>\n",
              "      <td>15.55</td>\n",
              "    </tr>\n",
              "    <tr>\n",
              "      <th>2</th>\n",
              "      <td>15.55</td>\n",
              "    </tr>\n",
              "    <tr>\n",
              "      <th>3</th>\n",
              "      <td>15.55</td>\n",
              "    </tr>\n",
              "    <tr>\n",
              "      <th>4</th>\n",
              "      <td>20.84</td>\n",
              "    </tr>\n",
              "    <tr>\n",
              "      <th>5</th>\n",
              "      <td>21.46</td>\n",
              "    </tr>\n",
              "    <tr>\n",
              "      <th>6</th>\n",
              "      <td>20.71</td>\n",
              "    </tr>\n",
              "    <tr>\n",
              "      <th>7</th>\n",
              "      <td>19.68</td>\n",
              "    </tr>\n",
              "    <tr>\n",
              "      <th>8</th>\n",
              "      <td>19.50</td>\n",
              "    </tr>\n",
              "    <tr>\n",
              "      <th>9</th>\n",
              "      <td>19.95</td>\n",
              "    </tr>\n",
              "  </tbody>\n",
              "</table>\n",
              "</div>"
            ],
            "text/plain": [
              "      Y1\n",
              "1  15.55\n",
              "2  15.55\n",
              "3  15.55\n",
              "4  20.84\n",
              "5  21.46\n",
              "6  20.71\n",
              "7  19.68\n",
              "8  19.50\n",
              "9  19.95"
            ]
          },
          "metadata": {
            "tags": []
          },
          "execution_count": 406
        }
      ]
    },
    {
      "cell_type": "markdown",
      "metadata": {
        "id": "FnLyXS0i9etf"
      },
      "source": [
        "#Preparation and global parameters"
      ]
    },
    {
      "cell_type": "code",
      "metadata": {
        "id": "t2zHZHu19kfD"
      },
      "source": [
        "# GLOBAL PARAMETER\n",
        "adapt_per_train_epoch = 100\n",
        "sim_per_train_epoch = 100\n",
        "# how many times the two models are trained for one query\n",
        "back_forth = 1\n",
        " \n",
        "# retrieval\n",
        "retrieve_size = 1\n",
        "bad_retrieve_size = 0\n",
        " \n",
        "num_of_training_queries = -1\n",
        "# model choice\n",
        "hard_or_easy = 'easy'#'hard' 'easy'\n",
        "model_separation = True\n",
        " \n",
        "using_margin = False\n",
        "alpha_margin =0.1\n",
        "alpha = 0\n",
        "beta = 1\n",
        " \n",
        "# use naive 1nn instead\n",
        "disable_retrieval = False\n",
        "# no adaptation\n",
        "disable_adaptation = False\n",
        " \n",
        "batch_mode = False\n",
        "batch_size = 100\n",
        "num_of_val_queries = -1"
      ],
      "execution_count": null,
      "outputs": []
    },
    {
      "cell_type": "code",
      "metadata": {
        "colab": {
          "base_uri": "https://localhost:8080/"
        },
        "id": "KIV3W0qcJW72",
        "outputId": "4246accc-69e0-4ccb-fcc0-4c749b9bb3ff"
      },
      "source": [
        "X.shape"
      ],
      "execution_count": null,
      "outputs": [
        {
          "output_type": "execute_result",
          "data": {
            "text/plain": [
              "(1503, 5)"
            ]
          },
          "metadata": {
            "tags": []
          },
          "execution_count": 10
        }
      ]
    },
    {
      "cell_type": "code",
      "metadata": {
        "id": "_JMmuPF05N0l"
      },
      "source": [
        "# split_random = 42\n",
        "split_random = np.random.randint(100)\n",
        "np.random.seed(split_random)\n",
        "from tensorflow.keras import regularizers"
      ],
      "execution_count": null,
      "outputs": []
    },
    {
      "cell_type": "code",
      "metadata": {
        "id": "0wKozMNrN-yK"
      },
      "source": [
        "import tensorflow_docs as tfdocs\n",
        "import tensorflow_docs.plots\n",
        "import tensorflow_docs.modeling\n",
        "# 0, 1, or 2. Verbosity mode. 0 = silent, 1 = progress bar, 2 = one line per epoch. Note that the progress bar is not particularly useful when logged to a file, so verbose=2 is recommended when not running interactively (eg, in a production environment).\n",
        "verbose_param = 0\n",
        "global_patience = 10\n",
        "# right now there is an issue that we might overfit models because early_stop won't happen unless we train models more per epoch\n",
        "# we need adapt_per_train_epoch > global_patience, \n",
        "# but for now, let's roll with this because the model may converge very fast.\n",
        "train_valid_ratio = 0.9\n",
        "freezing_sim_when_training_adapt = False"
      ],
      "execution_count": null,
      "outputs": []
    },
    {
      "cell_type": "markdown",
      "metadata": {
        "id": "zP1e_lEYN_jW"
      },
      "source": [
        "Debug setting"
      ]
    },
    {
      "cell_type": "code",
      "metadata": {
        "id": "6AG7iEV4yxKI"
      },
      "source": [
        "\n",
        "retrieval_debug = False"
      ],
      "execution_count": null,
      "outputs": []
    },
    {
      "cell_type": "markdown",
      "metadata": {
        "id": "abE87oFaXSEY"
      },
      "source": [
        "#Standardize and Split Data"
      ]
    },
    {
      "cell_type": "markdown",
      "metadata": {
        "id": "MRoJjFuawgIU"
      },
      "source": [
        "maybe we can preprocess numerical values: normalization and standardization\n",
        "\n",
        "Based on https://machinelearningmastery.com/how-to-improve-neural-network-stability-and-modeling-performance-with-data-scaling/\n",
        "\n",
        "According to: https://machinelearningmastery.com/regression-tutorial-keras-deep-learning-library-python/\n",
        "They used StandardScaler.\n",
        "\n",
        "IMPORTANT NOTE: Scaling is done on whole dataset instead of on train only. This might be a data leakage issue. However I intentionally do it for now because there is several outlier. If the outliers unluckily all fall in train or testing set, it is going to cause a problem, so I scale them together. \n"
      ]
    },
    {
      "cell_type": "code",
      "metadata": {
        "id": "1gpL1C_GtE_U"
      },
      "source": [
        "# demonstrate data standardization with sklearn\n",
        "from sklearn.preprocessing import StandardScaler\n",
        "# create scaler\n",
        "Xscaler = StandardScaler()\n",
        "# fit scaler on data\n",
        "Xscaler.fit(X)\n",
        "# apply transform\n",
        "X = Xscaler.transform(X)\n",
        "# inverse transform\n",
        "inverse = Xscaler.inverse_transform(X)"
      ],
      "execution_count": null,
      "outputs": []
    },
    {
      "cell_type": "code",
      "metadata": {
        "colab": {
          "base_uri": "https://localhost:8080/"
        },
        "id": "A-_X9TaY5FZV",
        "outputId": "c81af535-c739-4024-90b5-2e52e838c32c"
      },
      "source": [
        "y.mean()"
      ],
      "execution_count": null,
      "outputs": [
        {
          "output_type": "execute_result",
          "data": {
            "text/plain": [
              "124.83594278110448"
            ]
          },
          "metadata": {
            "tags": []
          },
          "execution_count": 15
        }
      ]
    },
    {
      "cell_type": "code",
      "metadata": {
        "colab": {
          "base_uri": "https://localhost:8080/"
        },
        "id": "Jk6CRkqe5Hb0",
        "outputId": "5ec7d387-3efa-4323-8b9a-6e17da23ace4"
      },
      "source": [
        "y.std()"
      ],
      "execution_count": null,
      "outputs": [
        {
          "output_type": "execute_result",
          "data": {
            "text/plain": [
              "6.896361277488791"
            ]
          },
          "metadata": {
            "tags": []
          },
          "execution_count": 16
        }
      ]
    },
    {
      "cell_type": "code",
      "metadata": {
        "id": "EiQC6ketTkph"
      },
      "source": [
        "yscaler = StandardScaler()\n",
        "\n",
        "yscaler.fit(y)\n",
        "y = yscaler.transform(y)"
      ],
      "execution_count": null,
      "outputs": []
    },
    {
      "cell_type": "code",
      "metadata": {
        "colab": {
          "base_uri": "https://localhost:8080/"
        },
        "id": "ugOmg3bCToku",
        "outputId": "7191225f-d8a4-447a-d641-ed5b4748ccab"
      },
      "source": [
        "y.mean()"
      ],
      "execution_count": null,
      "outputs": [
        {
          "output_type": "execute_result",
          "data": {
            "text/plain": [
              "-2.9688678513462602e-15"
            ]
          },
          "metadata": {
            "tags": []
          },
          "execution_count": 18
        }
      ]
    },
    {
      "cell_type": "code",
      "metadata": {
        "colab": {
          "base_uri": "https://localhost:8080/"
        },
        "id": "8ZfzgFKkTqVs",
        "outputId": "39cc1884-0ef5-4bd0-deab-361cebf43eaa"
      },
      "source": [
        "y.std()"
      ],
      "execution_count": null,
      "outputs": [
        {
          "output_type": "execute_result",
          "data": {
            "text/plain": [
              "0.9999999999999999"
            ]
          },
          "metadata": {
            "tags": []
          },
          "execution_count": 19
        }
      ]
    },
    {
      "cell_type": "markdown",
      "metadata": {
        "id": "dxHHJVm3WB3H"
      },
      "source": [
        "Split to train and test. random_state involved, so it might produce different results if using default value.\n",
        "\n",
        "Not using cross validation here yet for simplicity. This is a todo for the future\n"
      ]
    },
    {
      "cell_type": "code",
      "metadata": {
        "id": "6xjCz6woWBdI"
      },
      "source": [
        "from sklearn.model_selection import train_test_split\n",
        "X_train, X_test, y_train, y_test = train_test_split(X,y, test_size = 0.1, random_state= split_random)\n",
        "\n"
      ],
      "execution_count": null,
      "outputs": []
    },
    {
      "cell_type": "markdown",
      "metadata": {
        "id": "slI_LjfqGJFV"
      },
      "source": [
        "Main Code"
      ]
    },
    {
      "cell_type": "code",
      "metadata": {
        "id": "isS7W0bxVZHW"
      },
      "source": [
        "x_dimension = X.shape[1]"
      ],
      "execution_count": null,
      "outputs": []
    },
    {
      "cell_type": "code",
      "metadata": {
        "colab": {
          "base_uri": "https://localhost:8080/"
        },
        "id": "NpLWK3Yuz3B9",
        "outputId": "1c7e0f6a-9c49-4cf4-a86c-3b02f27d4bba"
      },
      "source": [
        "X_train.shape"
      ],
      "execution_count": null,
      "outputs": [
        {
          "output_type": "execute_result",
          "data": {
            "text/plain": [
              "(1352, 5)"
            ]
          },
          "metadata": {
            "tags": []
          },
          "execution_count": 22
        }
      ]
    },
    {
      "cell_type": "markdown",
      "metadata": {
        "id": "MWOjvWXd3Fem"
      },
      "source": [
        "# Defining the models\n"
      ]
    },
    {
      "cell_type": "code",
      "metadata": {
        "id": "nu-iGI8-QH-o"
      },
      "source": [
        "# modified from https://keras.io/examples/mnist_siamese/\n",
        "\n",
        "from __future__ import absolute_import\n",
        "from __future__ import print_function\n",
        "import numpy as np\n",
        "\n",
        "import random\n",
        "from keras.datasets import fashion_mnist\n",
        "from keras.models import Model\n",
        "from keras.layers import Input, Flatten, Dense, Dropout, Lambda, Concatenate, Subtract\n",
        "from keras.optimizers import RMSprop\n",
        "from keras import backend as K\n",
        "\n",
        "#Global Parameters here\n",
        "\n",
        "# max_distance = max(y) - min(y)\n",
        "#this is made to be 2 because y labels are standardized\n",
        "max_distance = 2\n",
        "input_shape = X_train.shape[1:]\n",
        "feature_dim = 128\n",
        "sim_loss_option = 'mimic_adapt' \n",
        "# sim_loss_option = 'cross_entropy'\n",
        "contrastive_loss_margin = 0.2 #tentative\n",
        "\n",
        "\n",
        "def euclidean_distance(vects):\n",
        "  x, y = vects\n",
        "  #assuming all attributes are between 0-1. The activation function for the attribtues are sigmoid.\n",
        "  sum_square = K.sum(K.square(x - y), axis=1, keepdims=True)\n",
        "  #slightly modified, to keep it between 0 and 1.\n",
        "  #MAYBE: this distance / dimension * range of CC\n",
        "  distance = K.sqrt(K.maximum(sum_square, K.epsilon()))\n",
        "  #range: 0-\n",
        "  return distance\n",
        "\n",
        "def element_wise_distance(vects):\n",
        "  x, y = vects\n",
        "  return K.abs(x-y)\n",
        "\n",
        "def eucl_dist_output_shape(shapes):\n",
        "  shape1, shape2 = shapes\n",
        "  return (shape1[0], 1)\n",
        "\n",
        "#If using this version, the output of siamese is \"how different two inputs are\"\n",
        "#y_true is 1 if the inputs are similar. 0 if very different\n",
        "def contrastive_loss(y_true, y_pred):\n",
        "  #limit the range to 0-1\n",
        "  # y_pred = y_pred / sqrt(feature_dim)\n",
        "  '''Contrastive loss from Hadsell-et-al.'06\n",
        "  http://yann.lecun.com/exdb/publis/pdf/hadsell-chopra-lecun-06.pdf\n",
        "  '''\n",
        "  margin = contrastive_loss_margin\n",
        "  square_pred = K.square(y_pred)\n",
        "  margin_square = K.square(K.maximum(margin - y_pred, 0))\n",
        "  return K.mean(float(y_true) * square_pred + float(1 - y_true) * margin_square)\n",
        "\n",
        "#If using this loss, the output of siamese is mimicking the adaptation\n",
        "def mse_loss(y_true, y_pred):\n",
        "  #limit the range to 0-1\n",
        "  # y_pred = y_pred / sqrt(feature_dim)\n",
        "  return K.square(y_true - y_pred)\n",
        "\n",
        "\n",
        "def mse_error(y_true, y_pred):\n",
        "  return np.mean(np.square(y_true - y_pred)) #default np.mean compute mean of the flattened array\n"
      ],
      "execution_count": null,
      "outputs": []
    },
    {
      "cell_type": "markdown",
      "metadata": {
        "id": "vVu-czR1Pwf2"
      },
      "source": [
        "##Hard model"
      ]
    },
    {
      "cell_type": "code",
      "metadata": {
        "id": "02WFp7yv3c71"
      },
      "source": [
        "if(hard_or_easy == 'hard'):\n",
        "  feature_dim = 64\n",
        "  def create_base_network(input_shape):\n",
        "    '''Base network to be shared (eq. to feature extraction).\n",
        "    '''\n",
        "    input = Input(shape=input_shape)\n",
        "    x = Flatten()(input)\n",
        "    x = Dense(128, activation='relu',kernel_regularizer=regularizers.l1_l2(l1=1e-5, l2=1e-4))(x)\n",
        "    x = Dropout(0.1)(x)\n",
        "    x = Dense(128, activation='relu',kernel_regularizer=regularizers.l1_l2(l1=1e-5, l2=1e-4))(x)\n",
        "    x = Dropout(0.1)(x)\n",
        "    #using sigmoid instead of relu to limit the range of extracted features\n",
        "    x = Dense(feature_dim, activation='relu',kernel_regularizer=regularizers.l1_l2(l1=1e-5, l2=1e-4))(x)#trying relu here. it was sigmoid\n",
        "    return Model(input, x)\n",
        "\n",
        "\n",
        "  #TODO IMPORTANT, We will need to test out two different metric and which one is better. To assess which is better, we can rely on MSE loss of the final result (retrieval + adaptation)\n",
        "\n",
        "  base_network = create_base_network(input_shape)\n",
        "\n",
        "  # similarity network definition\n",
        "  input_a = Input(shape=input_shape)\n",
        "  input_b = Input(shape=input_shape)\n",
        "  # because we re-use the same instance `base_network`,\n",
        "  # the weights of the network\n",
        "  # will be shared across the two branches\n",
        "  processed_a = base_network(input_a)\n",
        "  processed_b = base_network(input_b)\n",
        "\n",
        "  # distance = Lambda(euclidean_distance,\n",
        "  #                   output_shape=eucl_dist_output_shape)([processed_a, processed_b])\n",
        "\n",
        "  #IMPORTANT, I am using subtract + sigmoid layer to do similarity. This is inspired by https://towardsdatascience.com/siamese-networks-line-by-line-explanation-for-beginners-55b8be1d2fc6\n",
        "  #By doing this, I avoid defining the metric. Also I avoid the problem of setting threshold for when I am using contrastive loss.\n",
        "  #By doing this, I also don't need to limit the range of y_pred in the loss functions\n",
        "  # subtracted = keras.layers.Subtract()([processed_a, processed_b])\n",
        "  # subtracted = keras.layers.Absolute()(subtracted)\n",
        "  subtracted = Lambda(element_wise_distance,\n",
        "                    output_shape=eucl_dist_output_shape)([processed_a, processed_b])\n",
        "\n",
        "  distance = Dense(1, activation='relu',kernel_regularizer=regularizers.l1_l2(l1=1e-5, l2=1e-4))(subtracted)#switching to relu. sigmoid won't work!!! I thought it is going to train a biass somehow, but apparently not.\n",
        "  #sim model output range 0-1\n",
        "  sim_model = Model([input_a, input_b], distance)\n",
        "  #compile\n",
        "  rms = RMSprop()\n",
        "  if sim_loss_option == 'mimic_adapt':\n",
        "    sim_model.compile(loss=mse_loss, optimizer=rms)\n",
        "  elif sim_loss_option == 'cross_entropy':\n",
        "    sim_model.compile(loss=contrastive_loss, optimizer = rms)\n",
        "\n",
        "  input_a_adp = Input(shape=input_shape)\n",
        "  input_b_adp = Input(shape=input_shape)\n",
        "  base_network_adp = create_base_network(input_shape)\n",
        "  processed_a_adp = base_network_adp(input_a_adp)\n",
        "  processed_b_adp = base_network_adp(input_b_adp)\n",
        "  #adaptation network definition\n",
        "  concat = Concatenate()([processed_a_adp, processed_b_adp])\n",
        "  x = Dense(128, input_dim=(feature_dim*2), kernel_initializer='normal', activation='relu',kernel_regularizer=regularizers.l1_l2(l1=1e-5, l2=1e-4))(concat)\n",
        "  #the adapt network is different from cars experiment 1.1, here we use dropout and less layers.\n",
        "  x = Dense(128, activation='relu',kernel_regularizer=regularizers.l1_l2(l1=1e-5, l2=1e-4))(x)\n",
        "  x = Dropout(0.1)(x)\n",
        "  x = Dense(64, activation='relu',kernel_regularizer=regularizers.l1_l2(l1=1e-5, l2=1e-4))(x)\n",
        "  x = Dropout(0.1)(x)\n",
        "  #IMPORTANT:: I used linear activation function here, not sure if this is right.\n",
        "  out = Dense(1, kernel_initializer='normal',kernel_regularizer=regularizers.l1_l2(l1=1e-5, l2=1e-4))(x)\n",
        "  adapt_model = Model([input_a_adp,input_b_adp], out)\n",
        "\n",
        "  # Compile model\n",
        "  adapt_model.compile(loss='mean_squared_error', optimizer='adam')\n",
        "  #adapt_model output range is about -1 ~ 1 (not rigid because last layer is linear activation.)"
      ],
      "execution_count": null,
      "outputs": []
    },
    {
      "cell_type": "markdown",
      "metadata": {
        "id": "yMV4c5z3QWWO"
      },
      "source": [
        "##Easy Model "
      ]
    },
    {
      "cell_type": "code",
      "metadata": {
        "id": "usHlmn5FQbHQ"
      },
      "source": [
        "if(hard_or_easy == 'easy'):\n",
        "  feature_dim = 16\n",
        "  def create_base_network(input_shape):\n",
        "    '''Base network to be shared (eq. to feature extraction).\n",
        "    '''\n",
        "    input = Input(shape=input_shape)\n",
        "    x = Flatten()(input)\n",
        "    x = Dense(32, activation='relu',kernel_regularizer=regularizers.l1_l2(l1=1e-5, l2=1e-4))(x)\n",
        "    x = Dropout(0.1)(x)\n",
        "    x = Dense(32, activation='relu',kernel_regularizer=regularizers.l1_l2(l1=1e-5, l2=1e-4))(x)\n",
        "    x = Dropout(0.1)(x)\n",
        "    #using sigmoid instead of relu to limit the range of extracted features\n",
        "    x = Dense(feature_dim, activation='relu',kernel_regularizer=regularizers.l1_l2(l1=1e-5, l2=1e-4))(x)#trying relu here. it was sigmoid\n",
        "    return Model(input, x)\n",
        "\n",
        "\n",
        "  #TODO IMPORTANT, We will need to test out two different metric and which one is better. To assess which is better, we can rely on MSE loss of the final result (retrieval + adaptation)\n",
        "\n",
        "  base_network = create_base_network(input_shape)\n",
        "\n",
        "  # similarity network definition\n",
        "  input_a = Input(shape=input_shape)\n",
        "  input_b = Input(shape=input_shape)\n",
        "  # because we re-use the same instance `base_network`,\n",
        "  # the weights of the network\n",
        "  # will be shared across the two branches\n",
        "  processed_a = base_network(input_a)\n",
        "  processed_b = base_network(input_b)\n",
        "\n",
        "  # distance = Lambda(euclidean_distance,\n",
        "  #                   output_shape=eucl_dist_output_shape)([processed_a, processed_b])\n",
        "\n",
        "  #IMPORTANT, I am using subtract + sigmoid layer to do similarity. This is inspired by https://towardsdatascience.com/siamese-networks-line-by-line-explanation-for-beginners-55b8be1d2fc6\n",
        "\n",
        "  subtracted = Lambda(element_wise_distance,\n",
        "                    output_shape=eucl_dist_output_shape)([processed_a, processed_b])\n",
        "\n",
        "  distance = Dense(1, activation='relu',kernel_regularizer=regularizers.l1_l2(l1=1e-5, l2=1e-4))(subtracted)#switching to relu. sigmoid won't work!!! I thought it is going to train a biass somehow, but apparently not.\n",
        "  #sim model output range 0-1\n",
        "  sim_model = Model([input_a, input_b], distance)\n",
        "  #compile\n",
        "  rms = RMSprop()\n",
        "  if sim_loss_option == 'mimic_adapt':\n",
        "    sim_model.compile(loss=mse_loss, optimizer=rms)\n",
        "  elif sim_loss_option == 'cross_entropy':\n",
        "    sim_model.compile(loss=contrastive_loss, optimizer = rms)\n",
        "\n",
        "  input_a_adp = Input(shape=input_shape)\n",
        "  input_b_adp = Input(shape=input_shape)\n",
        "  base_network_adp = create_base_network(input_shape)\n",
        "  processed_a_adp = base_network_adp(input_a_adp)\n",
        "  processed_b_adp = base_network_adp(input_b_adp)\n",
        "  #adaptation network definition\n",
        "  concat = Concatenate()([processed_a_adp, processed_b_adp])\n",
        "  x = Dense(32, input_dim=(feature_dim*2), kernel_initializer='normal', activation='relu',kernel_regularizer=regularizers.l1_l2(l1=1e-5, l2=1e-4))(concat)\n",
        "  #the adapt network is different from cars experiment 1.1, here we use dropout and less layers.\n",
        "  x = Dense(32, activation='relu',kernel_regularizer=regularizers.l1_l2(l1=1e-5, l2=1e-4))(x)\n",
        "  x = Dropout(0.1)(x)\n",
        "  x = Dense(16, activation='relu',kernel_regularizer=regularizers.l1_l2(l1=1e-5, l2=1e-4))(x)\n",
        "  x = Dropout(0.1)(x)\n",
        "  #IMPORTANT:: I used linear activation function here, not sure if this is right.\n",
        "  out = Dense(1, kernel_initializer='normal',kernel_regularizer=regularizers.l1_l2(l1=1e-5, l2=1e-4))(x)\n",
        "  adapt_model = Model([input_a_adp,input_b_adp], out)\n",
        "\n",
        "  # Compile model\n",
        "  adapt_model.compile(loss='mean_squared_error', optimizer='adam')\n",
        "  #adapt_model output range is about -1 ~ 1 (not rigid because last layer is linear activation.)"
      ],
      "execution_count": null,
      "outputs": []
    },
    {
      "cell_type": "markdown",
      "metadata": {
        "id": "xduvJylRyJ4H"
      },
      "source": [
        "#Train the models\n",
        "\n",
        "Now we have sim_model and adapt_model, let's train them."
      ]
    },
    {
      "cell_type": "markdown",
      "metadata": {
        "id": "6X65ZNty9pzr"
      },
      "source": [
        "##X pair assemble"
      ]
    },
    {
      "cell_type": "code",
      "metadata": {
        "id": "ZgsFPKIng-TO"
      },
      "source": [
        "def assemble_pairs_from_retrieval(retrieved_X, query_X):\n",
        "  retrieve_size = len(retrieved_X)\n",
        "  retrieved_X_pairs = []\n",
        "  retrieved_X_pairs.append(np.zeros((retrieve_size, input_shape[0])))\n",
        "  retrieved_X_pairs.append(np.zeros((retrieve_size, input_shape[0])))\n",
        "  for i in range(0, retrieve_size):\n",
        "    #IMPORTANT, left source, right target, this is different from 1.1\n",
        "    retrieved_X_pairs[0][i] = retrieved_X[i]\n",
        "    retrieved_X_pairs[1][i] = query_X\n",
        "  retrieved_X_pairs = np.array(retrieved_X_pairs)\n",
        "  return retrieved_X_pairs"
      ],
      "execution_count": null,
      "outputs": []
    },
    {
      "cell_type": "markdown",
      "metadata": {
        "id": "kamWK7Je9pKR"
      },
      "source": [
        "## Retrieval process"
      ]
    },
    {
      "cell_type": "code",
      "metadata": {
        "id": "mz_ZMJmDALnr"
      },
      "source": [
        "knn = KNeighborsRegressor(n_neighbors=retrieve_size)\n",
        "knn.fit(X_train, y_train)\n",
        "\n",
        "def retrieve(query_X, query_y, retrieve_from_X, retrieve_from_y):\n",
        "  retrieved_X, retrieved_y = None, None\n",
        "  if(disable_retrieval):\n",
        "    \n",
        "    # y_test_pred = knn.predict(X_test)  \n",
        "    # knn_loss = mean_squared_error(y_test, y_test_pred, squared=TrueF)\n",
        "    query_X_temp = query_X.reshape(1, -1)\n",
        "    X_test_retrieved_index = knn.kneighbors(query_X_temp, n_neighbors=retrieve_size)[1]\n",
        "    #we only select the best neighbor here!!!\n",
        "    X_test_retrieved_index = X_test_retrieved_index[:retrieve_size][0] #0]\n",
        "    # print(X_test_retrieved_index)\n",
        "    retrieved_X = X_train[X_test_retrieved_index]\n",
        "    retrieved_y = y_train[X_test_retrieved_index]\n",
        "    # print(retrieved_X)\n",
        "  else:\n",
        "\n",
        "    #we want the retrieval process to sort retrieve_from_X\n",
        "    #argsort the scores to get the indices https://numpy.org/doc/stable/reference/generated/numpy.argsort.html\n",
        "    retrieve_from_X_pairs = assemble_pairs_from_retrieval(retrieve_from_X, query_X)\n",
        "    sim_scores = sim_model.predict([retrieve_from_X_pairs[0],retrieve_from_X_pairs[1]])\n",
        "\n",
        "    sorted_score_index = np.argsort(sim_scores,axis=None) #axis=None will flatten the array\n",
        "    #sort the retrieve pool by sim_score\n",
        "    retrieve_from_X = retrieve_from_X[sorted_score_index]\n",
        "    retrieve_from_y = retrieve_from_y[sorted_score_index]\n",
        "\n",
        "    #retrieve good ones according to sim model.\n",
        "    retrieved_X = retrieve_from_X[:retrieve_size]\n",
        "    retrieved_y = retrieve_from_y[:retrieve_size]\n",
        "\n",
        "    if(retrieval_debug):\n",
        "      # print(\"sorted_score_index\", sorted_score_index)\n",
        "      # print(\"sim_scores\", sim_scores[sorted_score_index])\n",
        "      print(\"retrieved_X[0]\", retrieved_X[0])\n",
        "      print(\"retrieved_y[0]\", retrieved_y[0])\n",
        "\n",
        "  retrieved_X_pairs = assemble_pairs_from_retrieval(retrieved_X, query_X)\n",
        "  query_y_1 = np.array([query_y,] * len(retrieved_y))\n",
        "  #IMPORTANT, left source, right target, this is different from 1.1\n",
        "  y_adapt_diff = np.subtract(query_y_1, retrieved_y)\n",
        "\n",
        "  #also retrieve random bad ones.\n",
        "  if(bad_retrieve_size != 0):\n",
        "    #NOTE: the bad ones can be retrieved randomly. If we use the worst ones, then the pairs are too easy.\n",
        "    #If we use random ones, the pairs will be harder and thus provide more info.\n",
        "    bad_pairs_indices = np.random.choice(np.arange(len(retrieve_from_X)-retrieve_size), bad_retrieve_size, replace = False)\n",
        "    retrieved_X_2 = retrieve_from_X[retrieve_size:][bad_pairs_indices]\n",
        "    retrieved_y_2 = retrieve_from_y[retrieve_size:][bad_pairs_indices]\n",
        "    retrieved_X_pairs_2 = assemble_pairs_from_retrieval(retrieved_X_2, query_X)\n",
        "    query_y_2 = np.array([query_y,] * len(retrieved_y_2))\n",
        "    y_adapt_diff_2 = np.subtract(query_y_2, retrieved_y_2)\n",
        "\n",
        "    retrieved_X_pairs = np.concatenate((retrieved_X_pairs, retrieved_X_pairs_2),axis=1)\n",
        "    retrieved_y = np.vstack((retrieved_y, retrieved_y_2))\n",
        "    y_adapt_diff = np.vstack((y_adapt_diff, y_adapt_diff_2))\n",
        "    query_y = np.vstack((query_y_1,query_y_2))\n",
        "  else:\n",
        "    query_y = query_y_1\n",
        "  return retrieved_X_pairs, retrieved_y, y_adapt_diff, query_y\n",
        "#note: y_adapt_diff is the difference between their real y solutions"
      ],
      "execution_count": null,
      "outputs": []
    },
    {
      "cell_type": "markdown",
      "metadata": {
        "id": "Yy4brLCTA6LJ"
      },
      "source": [
        "##Split of train/test/validation"
      ]
    },
    {
      "cell_type": "code",
      "metadata": {
        "id": "6r7_WFuNA-5m"
      },
      "source": [
        "#split by index\n",
        "def split_train_valid_for_pairs(X_pairs, y_pairs):\n",
        "  pair_size = X_pairs.shape[1]\n",
        "  permutated_indices = np.random.permutation(np.arange(pair_size))\n",
        "  cutoff = int(pair_size*train_valid_ratio)\n",
        "  X_pair_train = [X_pairs[0][permutated_indices[:cutoff]],X_pairs[1][permutated_indices[:cutoff]]]\n",
        "  y_pair_train = y_pairs[permutated_indices[:cutoff]]\n",
        "  X_pair_valid = [X_pairs[0][permutated_indices[cutoff:]],X_pairs[1][permutated_indices[cutoff:]]]\n",
        "  y_pair_valid = y_pairs[permutated_indices[cutoff:]]\n",
        "  return X_pair_train, y_pair_train, X_pair_valid, y_pair_valid\n",
        "\n",
        "def prepare_pairs(X_pairs, y_pairs):\n",
        "  pair_size = X_pairs.shape[1]\n",
        "  permutated_indices = (np.arange(pair_size))\n",
        "  X_pair_train = [X_pairs[0][permutated_indices],X_pairs[1][permutated_indices]]\n",
        "  y_pair_train = y_pairs[permutated_indices]\n",
        "  return X_pair_train, y_pair_train"
      ],
      "execution_count": null,
      "outputs": []
    },
    {
      "cell_type": "code",
      "metadata": {
        "id": "RtwxXPbEcBaq"
      },
      "source": [
        "# def reset_base_network_trainable(flag):\n",
        "#   base_network.trainable = flag\n",
        "#   #recompile models\n",
        "#   if sim_loss_option == 'mimic_adapt':\n",
        "#     sim_model.compile(loss=mse_loss, optimizer=rms)\n",
        "#   elif sim_loss_option == 'cross_entropy':\n",
        "#     sim_model.compile(loss=contrastive_loss, optimizer = rms)\n",
        "#   adapt_model.compile(loss='mean_squared_error', optimizer='adam')\n"
      ],
      "execution_count": null,
      "outputs": []
    },
    {
      "cell_type": "markdown",
      "metadata": {
        "id": "Li4rkvUZsBQN"
      },
      "source": [
        "##Sim_model distance calculator"
      ]
    },
    {
      "cell_type": "code",
      "metadata": {
        "id": "QrAR6vJfsOwY"
      },
      "source": [
        "def sim_model_label(sim_loss_option, query_y_temp, y_pred):\n",
        "  temp_y_pair_real = None\n",
        "  if sim_loss_option == 'mimic_adapt':\n",
        "    #using absolute distance here, because sim_model last layer is an euclidean distance\n",
        "    temp_y_pair_real = np.absolute(np.subtract(query_y_temp, y_pred))\n",
        "  elif sim_loss_option == 'cross_entropy':\n",
        "    #y_true is 1 if the inputs are similar. 0 if very different\n",
        "    abs_distances = np.absolute(np.subtract(query_y_temp, y_pred))\n",
        "    temp_y_pair_real = [1 if abs_distances[i] < contrastive_loss_margin else 0 for i in range(abs_distances.shape[0])]\n",
        "\n",
        "  temp_y_pair_real = np.array(temp_y_pair_real)\n",
        "  return temp_y_pair_real"
      ],
      "execution_count": null,
      "outputs": []
    },
    {
      "cell_type": "code",
      "metadata": {
        "id": "vHnX85wPfwOM"
      },
      "source": [
        "#NOT USED\n",
        "# def sim_model_loss(sim_loss_option, query_y_temp, y_pred, y_retrieved):\n",
        "#   y_pair_real = None\n",
        "#   if sim_loss_option == 'mimic_adapt':\n",
        "#     #using absolute distance here, because sim_model last layer is an euclidean distance\n",
        "#     y_pair_real = np.absolute(np.subtract(query_y_temp, y_pred))\n",
        "#   elif sim_loss_option == 'cross_entropy':\n",
        "#     #y_true is 1 if the inputs are similar. 0 if very different\n",
        "#     abs_distances = np.absolute(np.subtract(query_y_temp, y_pred))\n",
        "#     y_pair_real = [1 if abs_distances[i] < contrastive_loss_margin else 0 for i in range(abs_distances.shape[0])]\n",
        "\n",
        "#   y_pair_real = np.array(y_pair_real)\n",
        "#   y_pair_real = np.concatenate(())\n",
        "#   return y_pair_real"
      ],
      "execution_count": null,
      "outputs": []
    },
    {
      "cell_type": "markdown",
      "metadata": {
        "id": "-aSvXntwB7Y2"
      },
      "source": [
        "##Checkpoint and Loss function"
      ]
    },
    {
      "cell_type": "code",
      "metadata": {
        "id": "AO6HzVTjueee"
      },
      "source": [
        "from keras.callbacks import ModelCheckpoint,EarlyStopping\n",
        "\n",
        "sim_model_file = 'sim_model_weights'\n",
        "sim_checkpointer = ModelCheckpoint(\n",
        "    filepath= sim_model_file\n",
        "    , save_weights_only=True\n",
        "    , monitor = \"val_loss\"\n",
        "    , verbose=1\n",
        "    , save_best_only=True\n",
        "    , mode = 'auto'\n",
        ")\n",
        "\n",
        "adapt_model_file = 'adapt_model_weights'\n",
        "adapt_checkpointer = ModelCheckpoint(\n",
        "    filepath= adapt_model_file\n",
        "    , save_weights_only=True\n",
        "    , monitor = \"val_loss\"\n",
        "    , verbose=1\n",
        "    , save_best_only=True\n",
        "    , mode = 'auto'\n",
        ")"
      ],
      "execution_count": null,
      "outputs": []
    },
    {
      "cell_type": "markdown",
      "metadata": {
        "id": "7mVVjxCclNpX"
      },
      "source": [
        "\n",
        "Cost function is inspired by this:\n",
        "https://stackoverflow.com/questions/59217549/how-to-use-multiple-variables-as-loss-for-a-model-with-one-output-in-keras"
      ]
    },
    {
      "cell_type": "code",
      "metadata": {
        "id": "V97NIUE1kRJR"
      },
      "source": [
        "# def loss(y_true, y_pred): #where true is shape (batch, 2) and pred is shape (batch, 1)\n",
        "#     return K.mean(K.square(y_true - y_pred), axis=-1)\n",
        "\n",
        "# def loss(y_true, y_pred): #where true is shape (batch, 2) and pred is shape (batch,)\n",
        "#     return K.square(y_pred - y_true[:,0]) + K.square(y_pred - y_true[:,1])\n",
        "\n",
        "# def loss(y_true, y_pred): #where true is shape (batch, 2) and pred is shape (batch,)\n",
        "#     y_pred = K.reshape(y_pred, (-1,1))\n",
        "#     return K.mean(K.square(y_true - y_pred), axis=-1)\n",
        "\n",
        "#pre-adaptation distance = |retrieved y - query y|\n",
        "#post-adaptation distance = |adapted y - query y|\n",
        "\n",
        "#DOING, special loss function, alpha *retrieval loss + beta * adaptation loss\n",
        "#y_pred shape (batch,)\n",
        "#y_pred = distance prediction of sim_model\n",
        "#y_true shape (batch, 2)\n",
        "#y_true = pre-adaptation distance  + post-adaptation distance\n",
        "\n",
        "\n",
        "# def sim_loss(y_true, y_pred):\n",
        "#   return (alpha* K.square(y_pred - y_true) )\n",
        "\n",
        "def sim_loss(y_true, y_pred):\n",
        "  return (alpha* K.square(y_pred -tf.reshape(y_true[:,0],[-1,1])) + beta* K.square(y_pred - tf.reshape(y_true[:,1],[-1,1])))\n",
        "\n",
        "def sim_loss_with_margin(y_true, y_pred):\n",
        "  return (alpha* K.square(K.maximum(0.0, K.abs(y_pred - tf.reshape(y_true[:,0],[-1,1]))-alpha_margin ))+ beta* K.square(y_pred - tf.reshape(y_true[:,1],[-1,1])))\n",
        "\n",
        "if(using_margin):\n",
        "  sim_model.compile(loss= sim_loss_with_margin, optimizer=rms)\n",
        "else:\n",
        "  sim_model.compile(loss=sim_loss, optimizer=rms)\n",
        "\n",
        "def reset_base_network_trainable(flag):\n",
        "  base_network.trainable = flag\n",
        "  #recompile models\n",
        "  # sim_model.compile(loss=sim_loss, optimizer=rms)\n",
        "  if(using_margin):\n",
        "    sim_model.compile(loss= sim_loss_with_margin, optimizer=rms)\n",
        "  else:\n",
        "    sim_model.compile(loss=sim_loss, optimizer=rms)\n",
        "  adapt_model.compile(loss='mean_squared_error', optimizer='adam')"
      ],
      "execution_count": null,
      "outputs": []
    },
    {
      "cell_type": "code",
      "metadata": {
        "id": "5KuanuEihZbP"
      },
      "source": [
        "# y_pre_adapt"
      ],
      "execution_count": null,
      "outputs": []
    },
    {
      "cell_type": "code",
      "metadata": {
        "id": "ziMioBa-haez"
      },
      "source": [
        "# y_post_adapt"
      ],
      "execution_count": null,
      "outputs": []
    },
    {
      "cell_type": "code",
      "metadata": {
        "id": "iGkyJvj0hVdI"
      },
      "source": [
        "# y_pair_real = np.concatenate((y_pre_adapt, y_post_adapt), axis = 1)"
      ],
      "execution_count": null,
      "outputs": []
    },
    {
      "cell_type": "code",
      "metadata": {
        "id": "qLhL9ph4hb4N"
      },
      "source": [
        "# y_pair_real"
      ],
      "execution_count": null,
      "outputs": []
    },
    {
      "cell_type": "code",
      "metadata": {
        "id": "uMXIe5fvhxFD"
      },
      "source": [
        "# y_pair_real[:,0]"
      ],
      "execution_count": null,
      "outputs": []
    },
    {
      "cell_type": "code",
      "metadata": {
        "colab": {
          "base_uri": "https://localhost:8080/"
        },
        "id": "amYCY_LihqpJ",
        "outputId": "0a28dc51-cb8a-4cbb-ca30-72a7435c438d"
      },
      "source": [
        "sim_model.summary()"
      ],
      "execution_count": null,
      "outputs": [
        {
          "output_type": "stream",
          "text": [
            "Model: \"model_1\"\n",
            "__________________________________________________________________________________________________\n",
            "Layer (type)                    Output Shape         Param #     Connected to                     \n",
            "==================================================================================================\n",
            "input_2 (InputLayer)            [(None, 5)]          0                                            \n",
            "__________________________________________________________________________________________________\n",
            "input_3 (InputLayer)            [(None, 5)]          0                                            \n",
            "__________________________________________________________________________________________________\n",
            "model (Functional)              (None, 16)           1776        input_2[0][0]                    \n",
            "                                                                 input_3[0][0]                    \n",
            "__________________________________________________________________________________________________\n",
            "lambda (Lambda)                 (None, 16)           0           model[0][0]                      \n",
            "                                                                 model[1][0]                      \n",
            "__________________________________________________________________________________________________\n",
            "dense_3 (Dense)                 (None, 1)            17          lambda[0][0]                     \n",
            "==================================================================================================\n",
            "Total params: 1,793\n",
            "Trainable params: 1,793\n",
            "Non-trainable params: 0\n",
            "__________________________________________________________________________________________________\n"
          ],
          "name": "stdout"
        }
      ]
    },
    {
      "cell_type": "code",
      "metadata": {
        "id": "grQQvSrwjkdS"
      },
      "source": [
        "# y_pair_real[:,0].reshape(-1,1).shape"
      ],
      "execution_count": null,
      "outputs": []
    },
    {
      "cell_type": "code",
      "metadata": {
        "id": "1UgG0zBPhdn1"
      },
      "source": [
        "# import tensorflow as tf\n",
        "\n",
        "# tf.keras.backend.get_value(K.square(y_pre_adapt - y_pair_real[:,0].reshape(-1,1))) \n",
        "\n"
      ],
      "execution_count": null,
      "outputs": []
    },
    {
      "cell_type": "markdown",
      "metadata": {
        "id": "swyACS6wAL8s"
      },
      "source": [
        "###Training process case by case"
      ]
    },
    {
      "cell_type": "code",
      "metadata": {
        "id": "xkBMP8k2_rhp"
      },
      "source": [
        "# if(batch_mode):\n",
        "#   print(\"In batch mode\")\n",
        "\n",
        "# query_indices = np.random.permutation(np.arange(X_train.shape[0]))\n",
        "# if(num_of_training_queries != -1):\n",
        "#   query_indices = query_indices[:num_of_training_queries]\n",
        "# for query_index in query_indices:\n",
        "#   #for every query case\n",
        "#   query_X = X_train[query_index]\n",
        "#   query_y = y_train[query_index]\n",
        "\n",
        "#   indices = np.arange(len(X_train))\n",
        "\n",
        "#   #TODO:: to speed up, for efficiency, maybe search/retrieve fewer cases\n",
        "#   retrieve_from_X = X_train[indices!=query_index,:]\n",
        "#   retrieve_from_y = y_train[indices!=query_index,:]\n",
        "\n",
        "#   for i in range(back_forth):\n",
        "#     #search from stored cases and compute similarity\n",
        "#     retrieved_X_pairs, retrieved_y, y_adapt_diff, query_y_temp = retrieve(query_X, query_y, retrieve_from_X, retrieve_from_y)\n",
        "#     if freezing_sim_when_training_adapt:\n",
        "#       reset_base_network_trainable(False)\n",
        "#     #train adapt model\n",
        "#     early_stop = keras.callbacks.EarlyStopping(monitor='val_loss', patience=global_patience, verbose=verbose_param)\n",
        "#     X_adapt_train, y_adapt_train, X_adapt_valid, y_adapt_valid = split_train_valid_for_pairs(retrieved_X_pairs,y_adapt_diff)\n",
        "#     early_history = adapt_model.fit(X_adapt_train, y_adapt_train, \n",
        "#                         epochs=adapt_per_train_epoch, validation_data=(X_adapt_valid, y_adapt_valid), verbose=verbose_param, \n",
        "#                         callbacks=[early_stop, tfdocs.modeling.EpochDots()])\n",
        "#     print(early_history)\n",
        "#     # print(\"adapt model last loss: \",early_history.history['val_loss'][-1])\n",
        "\n",
        "#     # get CC to train sim model.\n",
        "#     y_adapt_diff_pred = adapt_model.predict([retrieved_X_pairs[0],retrieved_X_pairs[1]])\n",
        "#     y_pred = retrieved_y + y_adapt_diff_pred\n",
        "\n",
        "#     #true CC to train sim model\n",
        "#     y_pair_real = sim_model_label(sim_loss_option, query_y_temp, y_pred)\n",
        "#     #split\n",
        "#     X_sim_train, y_sim_train, X_sim_valid, y_sim_valid = split_train_valid_for_pairs(retrieved_X_pairs,y_pair_real)\n",
        "#     if freezing_sim_when_training_adapt:\n",
        "#       reset_base_network_trainable(True)\n",
        "\n",
        "#     #train sim model\n",
        "#     early_stop = keras.callbacks.EarlyStopping(monitor='val_loss', patience=global_patience, verbose=verbose_param)\n",
        "#     early_history = sim_model.fit(X_sim_train, y_sim_train, \n",
        "#                         epochs=sim_per_train_epoch, validation_data=(X_sim_valid, y_sim_valid), verbose=verbose_param, \n",
        "#                         callbacks=[early_stop, tfdocs.modeling.EpochDots()])\n",
        "    \n"
      ],
      "execution_count": null,
      "outputs": []
    },
    {
      "cell_type": "markdown",
      "metadata": {
        "id": "8nd_kH2IOxvU"
      },
      "source": [
        "Note: the loss and val_loss often jumps up and down. Maybe longer training epochs for each model are better?"
      ]
    },
    {
      "cell_type": "markdown",
      "metadata": {
        "id": "0rxu44Dumgt2"
      },
      "source": [
        "After training, test the whole process"
      ]
    },
    {
      "cell_type": "markdown",
      "metadata": {
        "id": "nbPrqaW4ipIP"
      },
      "source": [
        "###Training Process in Batch\n",
        "\n",
        "This should speed up the process. If we do multiple retrievals per query, and do multiple queries per batch. Then batch optimization will help us to run faster.\n",
        "\n",
        "Note that the back-n-forth process cannot be saved, and it will be slow. But batch optimization is built-in in the backpropagation process."
      ]
    },
    {
      "cell_type": "code",
      "metadata": {
        "id": "P-UcQ-2_wKqM"
      },
      "source": [
        "# #IMPORTANT ASSUMPTION:\n",
        "# #This implementation only works with the following parameters \n",
        "# retrieve_size = 1\n",
        "# bad_retrieve_size = 0\n",
        "\n",
        "# if(not batch_mode):\n",
        "#   print(\"not in batch mode\")\n",
        "\n",
        "# query_indices = np.random.permutation(np.arange(X_train.shape[0]))\n",
        "# if(num_of_training_queries != -1):\n",
        "#   query_indices = query_indices[:num_of_training_queries]\n",
        "\n",
        "# query_counter = 0\n",
        "# back_forth_counter = 0\n",
        "# for query_counter in range(0,len(query_indices),batch_size):\n",
        "#   for i in range(back_forth):\n",
        "#     retrieved_X_pairs, retrieved_y, y_adapt_diff, query_y_temp = np.zeros((2,0,1009)),np.zeros((0,1)),np.zeros((0,1)),np.zeros((0,1))\n",
        "#     for j in range(batch_size):\n",
        "#       query_index = query_indices[query_counter + j]\n",
        "#       #for every query case\n",
        "#       query_X = X_train[query_index]\n",
        "#       query_y = y_train[query_index]\n",
        "\n",
        "#       indices = np.arange(len(X_train))\n",
        "#       #TODO:: to speed up, for efficiency, maybe search/retrieve fewer cases\n",
        "#       retrieve_from_X = X_train[indices!=query_index,:]\n",
        "#       retrieve_from_y = y_train[indices!=query_index,:]\n",
        "#       #prepare batch\n",
        "#       temp_retrieved_X_pairs, temp_retrieved_y, temp_y_adapt_diff, temp_query_y_temp = retrieve(query_X, query_y, retrieve_from_X, retrieve_from_y)\n",
        "      \n",
        "#       retrieved_X_pairs = np.concatenate((retrieved_X_pairs, temp_retrieved_X_pairs),axis=1)#np.vstack((retrieved_X_pairs, temp_retrieved_X_pairs))\n",
        "#       print(retrieved_y.shape, temp_retrieved_y.shape)\n",
        "#       retrieved_y = np.vstack((retrieved_y, temp_retrieved_y))\n",
        "#       y_adapt_diff = np.vstack((y_adapt_diff, temp_y_adapt_diff))\n",
        "#       query_y_temp = np.vstack((query_y_temp, temp_query_y_temp))\n",
        "\n",
        "#     #actual training when a batch is ready\n",
        "#     #train adapt_model\n",
        "#     if freezing_sim_when_training_adapt:\n",
        "#       reset_base_network_trainable(False)\n",
        "#     early_stop = keras.callbacks.EarlyStopping(monitor='val_loss', patience=global_patience, verbose=verbose_param)\n",
        "#     X_adapt_train, y_adapt_train, X_adapt_valid, y_adapt_valid = split_train_valid_for_pairs(retrieved_X_pairs,y_adapt_diff)\n",
        "#     early_history = adapt_model.fit(X_adapt_train, y_adapt_train, \n",
        "#                         epochs=adapt_per_train_epoch, validation_data=(X_adapt_valid, y_adapt_valid), verbose=verbose_param, \n",
        "#                         callbacks=[early_stop, tfdocs.modeling.EpochDots()])\n",
        "#     #prepare for training of sim model\n",
        "#     y_adapt_diff_pred = adapt_model.predict([retrieved_X_pairs[0],retrieved_X_pairs[1]])\n",
        "#     y_pred = retrieved_y + y_adapt_diff_pred\n",
        "#     #true CC to train sim model\n",
        "#     y_pair_real = sim_model_label(sim_loss_option, query_y_temp, y_pred)\n",
        "#     #train sim_model \n",
        "#     if freezing_sim_when_training_adapt:\n",
        "#       reset_base_network_trainable(True)\n",
        "#     X_sim_train, y_sim_train, X_sim_valid, y_sim_valid = split_train_valid_for_pairs(retrieved_X_pairs,y_pair_real)\n",
        "#     early_stop = keras.callbacks.EarlyStopping(monitor='val_loss', patience=global_patience, verbose=verbose_param)\n",
        "#     early_history = sim_model.fit(X_sim_train, y_sim_train, \n",
        "#                         epochs=sim_per_train_epoch, validation_data=(X_sim_valid, y_sim_valid), verbose=verbose_param, \n",
        "#                         callbacks=[early_stop, tfdocs.modeling.EpochDots()])\n"
      ],
      "execution_count": null,
      "outputs": []
    },
    {
      "cell_type": "markdown",
      "metadata": {
        "id": "lCP0Cw6hD4ad"
      },
      "source": [
        "##Training Process using all training data until converge!\n",
        "\n"
      ]
    },
    {
      "cell_type": "markdown",
      "metadata": {
        "id": "zkmFXW5-s8gF"
      },
      "source": [
        "###Normal mode"
      ]
    },
    {
      "cell_type": "code",
      "metadata": {
        "id": "3E1UKwPppErU",
        "colab": {
          "base_uri": "https://localhost:8080/"
        },
        "outputId": "b249a984-32c3-49f2-8eea-111595d9616f"
      },
      "source": [
        "if(batch_mode == False):\n",
        "  query_indices = np.random.permutation(np.arange(X_train.shape[0]))\n",
        "  if(num_of_training_queries != -1):\n",
        "    query_indices = query_indices[:num_of_training_queries]\n",
        "\n",
        "  # query_counter = 0\n",
        "  back_forth_counter = 0\n",
        "  for i in range(back_forth):\n",
        "    retrieved_X_pairs, retrieved_y, y_adapt_diff, query_y_temp = np.zeros((2,0,x_dimension)),np.zeros((0,1)),np.zeros((0,1)),np.zeros((0,1))\n",
        "    for j in range(len(query_indices)):\n",
        "      query_index = query_indices[j]\n",
        "      #for every query case\n",
        "      query_X = X_train[query_index]\n",
        "      query_y = y_train[query_index]\n",
        "      if(retrieval_debug):\n",
        "        print(\"query_X\", query_X)\n",
        "        print(\"query_y\",query_y)\n",
        "\n",
        "      indices = np.arange(len(X_train))\n",
        "      #TODO:: to speed up, for efficiency, maybe search/retrieve fewer cases\n",
        "      retrieve_from_X = X_train[indices!=query_index,:] \n",
        "      retrieve_from_y = y_train[indices!=query_index,:] \n",
        "      #prepare batch\n",
        "      temp_retrieved_X_pairs, temp_retrieved_y, temp_y_adapt_diff, temp_query_y_temp = retrieve(query_X, query_y, retrieve_from_X, retrieve_from_y)\n",
        "      \n",
        "      retrieved_X_pairs = np.concatenate((retrieved_X_pairs, temp_retrieved_X_pairs),axis=1)#np.vstack((retrieved_X_pairs, temp_retrieved_X_pairs))\n",
        "      # print(retrieved_y.shape, temp_retrieved_y.shape)\n",
        "      retrieved_y = np.vstack((retrieved_y, temp_retrieved_y))\n",
        "      y_adapt_diff = np.vstack((y_adapt_diff, temp_y_adapt_diff))\n",
        "      query_y_temp = np.vstack((query_y_temp, temp_query_y_temp))\n",
        "\n",
        "    #actual training when a batch is ready\n",
        "    if(disable_adaptation == False):\n",
        "      #train adapt_model\n",
        "      if freezing_sim_when_training_adapt:\n",
        "        reset_base_network_trainable(False)\n",
        "      early_stop = keras.callbacks.EarlyStopping(monitor='val_loss', patience=global_patience, verbose=verbose_param)\n",
        "      X_adapt_train, y_adapt_train, X_adapt_valid, y_adapt_valid = split_train_valid_for_pairs(retrieved_X_pairs,y_adapt_diff)\n",
        "      early_history = adapt_model.fit(X_adapt_train, y_adapt_train, \n",
        "                          epochs=adapt_per_train_epoch, validation_data=(X_adapt_valid, y_adapt_valid), verbose=verbose_param, \n",
        "                          callbacks=[adapt_checkpointer,early_stop, tfdocs.modeling.EpochDots()])\n",
        "    #prepare for training of sim model\n",
        "    y_pre_adapt, y_post_adapt = None, None\n",
        "    if(disable_adaptation):\n",
        "      y_pre_adapt = sim_model_label(sim_loss_option, query_y_temp, retrieved_y)\n",
        "      ###BIG BUG\n",
        "      y_post_adapt = np.copy(y_pre_adapt)\n",
        "    else:\n",
        "      y_adapt_diff_pred = adapt_model.predict([retrieved_X_pairs[0],retrieved_X_pairs[1]])\n",
        "      y_pred = retrieved_y + y_adapt_diff_pred\n",
        "      #pre-adaptation distance\n",
        "      y_pre_adapt = sim_model_label(sim_loss_option, query_y_temp, retrieved_y)\n",
        "      #post-adaptation distance\n",
        "      y_post_adapt = sim_model_label(sim_loss_option, query_y_temp, y_pred)\n",
        "\n",
        "    # print(\"pre \", y_pre_adapt)\n",
        "    # print(\"post\", y_post_adapt)\n",
        "    \n",
        "    y_pair_real = np.concatenate((y_pre_adapt, y_post_adapt), axis = 1)\n",
        "    # print(\"y_pair_real\", y_pair_real)\n",
        "    # print(\"y_pair_real.shape\", y_pair_real.shape)\n",
        "\n",
        "    # y_pair_real = y_pre_adapt\n",
        "\n",
        "    #train sim_model \n",
        "    if(disable_retrieval == False):\n",
        "      if freezing_sim_when_training_adapt:\n",
        "        reset_base_network_trainable(True)\n",
        "      X_sim_train, y_sim_train, X_sim_valid, y_sim_valid = split_train_valid_for_pairs(retrieved_X_pairs,y_pair_real)\n",
        "      early_stop = keras.callbacks.EarlyStopping(monitor='val_loss', patience=global_patience, verbose=verbose_param)\n",
        "      early_history = sim_model.fit(X_sim_train, y_sim_train, \n",
        "                          epochs=sim_per_train_epoch, validation_data=(X_sim_valid, y_sim_valid), verbose=verbose_param, \n",
        "                          callbacks=[sim_checkpointer,early_stop, tfdocs.modeling.EpochDots()])\n"
      ],
      "execution_count": null,
      "outputs": [
        {
          "output_type": "stream",
          "text": [
            "\n",
            "Epoch 00001: val_loss improved from inf to 0.90179, saving model to adapt_model_weights\n",
            "\n",
            "Epoch: 0, loss:1.0097,  val_loss:0.9018,  \n",
            ".\n",
            "Epoch 00002: val_loss improved from 0.90179 to 0.62197, saving model to adapt_model_weights\n",
            ".\n",
            "Epoch 00003: val_loss improved from 0.62197 to 0.47282, saving model to adapt_model_weights\n",
            ".\n",
            "Epoch 00004: val_loss improved from 0.47282 to 0.43445, saving model to adapt_model_weights\n",
            ".\n",
            "Epoch 00005: val_loss improved from 0.43445 to 0.40792, saving model to adapt_model_weights\n",
            ".\n",
            "Epoch 00006: val_loss improved from 0.40792 to 0.38990, saving model to adapt_model_weights\n",
            ".\n",
            "Epoch 00007: val_loss improved from 0.38990 to 0.36989, saving model to adapt_model_weights\n",
            ".\n",
            "Epoch 00008: val_loss improved from 0.36989 to 0.35136, saving model to adapt_model_weights\n",
            ".\n",
            "Epoch 00009: val_loss improved from 0.35136 to 0.34371, saving model to adapt_model_weights\n",
            ".\n",
            "Epoch 00010: val_loss did not improve from 0.34371\n",
            ".\n",
            "Epoch 00011: val_loss improved from 0.34371 to 0.33814, saving model to adapt_model_weights\n",
            ".\n",
            "Epoch 00012: val_loss improved from 0.33814 to 0.33543, saving model to adapt_model_weights\n",
            ".\n",
            "Epoch 00013: val_loss improved from 0.33543 to 0.32982, saving model to adapt_model_weights\n",
            ".\n",
            "Epoch 00014: val_loss did not improve from 0.32982\n",
            ".\n",
            "Epoch 00015: val_loss improved from 0.32982 to 0.32037, saving model to adapt_model_weights\n",
            ".\n",
            "Epoch 00016: val_loss improved from 0.32037 to 0.31088, saving model to adapt_model_weights\n",
            ".\n",
            "Epoch 00017: val_loss improved from 0.31088 to 0.30938, saving model to adapt_model_weights\n",
            ".\n",
            "Epoch 00018: val_loss improved from 0.30938 to 0.30320, saving model to adapt_model_weights\n",
            ".\n",
            "Epoch 00019: val_loss did not improve from 0.30320\n",
            ".\n",
            "Epoch 00020: val_loss improved from 0.30320 to 0.29751, saving model to adapt_model_weights\n",
            ".\n",
            "Epoch 00021: val_loss improved from 0.29751 to 0.28921, saving model to adapt_model_weights\n",
            ".\n",
            "Epoch 00022: val_loss improved from 0.28921 to 0.28856, saving model to adapt_model_weights\n",
            ".\n",
            "Epoch 00023: val_loss improved from 0.28856 to 0.28289, saving model to adapt_model_weights\n",
            ".\n",
            "Epoch 00024: val_loss improved from 0.28289 to 0.27258, saving model to adapt_model_weights\n",
            ".\n",
            "Epoch 00025: val_loss did not improve from 0.27258\n",
            ".\n",
            "Epoch 00026: val_loss improved from 0.27258 to 0.26426, saving model to adapt_model_weights\n",
            ".\n",
            "Epoch 00027: val_loss did not improve from 0.26426\n",
            ".\n",
            "Epoch 00028: val_loss improved from 0.26426 to 0.26229, saving model to adapt_model_weights\n",
            ".\n",
            "Epoch 00029: val_loss improved from 0.26229 to 0.25116, saving model to adapt_model_weights\n",
            ".\n",
            "Epoch 00030: val_loss did not improve from 0.25116\n",
            ".\n",
            "Epoch 00031: val_loss improved from 0.25116 to 0.23699, saving model to adapt_model_weights\n",
            ".\n",
            "Epoch 00032: val_loss improved from 0.23699 to 0.22765, saving model to adapt_model_weights\n",
            ".\n",
            "Epoch 00033: val_loss improved from 0.22765 to 0.22748, saving model to adapt_model_weights\n",
            ".\n",
            "Epoch 00034: val_loss did not improve from 0.22748\n",
            ".\n",
            "Epoch 00035: val_loss improved from 0.22748 to 0.22500, saving model to adapt_model_weights\n",
            ".\n",
            "Epoch 00036: val_loss improved from 0.22500 to 0.21566, saving model to adapt_model_weights\n",
            ".\n",
            "Epoch 00037: val_loss did not improve from 0.21566\n",
            ".\n",
            "Epoch 00038: val_loss improved from 0.21566 to 0.20616, saving model to adapt_model_weights\n",
            ".\n",
            "Epoch 00039: val_loss improved from 0.20616 to 0.20324, saving model to adapt_model_weights\n",
            ".\n",
            "Epoch 00040: val_loss did not improve from 0.20324\n",
            ".\n",
            "Epoch 00041: val_loss improved from 0.20324 to 0.19952, saving model to adapt_model_weights\n",
            ".\n",
            "Epoch 00042: val_loss did not improve from 0.19952\n",
            ".\n",
            "Epoch 00043: val_loss did not improve from 0.19952\n",
            ".\n",
            "Epoch 00044: val_loss improved from 0.19952 to 0.19647, saving model to adapt_model_weights\n",
            ".\n",
            "Epoch 00045: val_loss improved from 0.19647 to 0.19237, saving model to adapt_model_weights\n",
            ".\n",
            "Epoch 00046: val_loss did not improve from 0.19237\n",
            ".\n",
            "Epoch 00047: val_loss improved from 0.19237 to 0.19185, saving model to adapt_model_weights\n",
            ".\n",
            "Epoch 00048: val_loss improved from 0.19185 to 0.18831, saving model to adapt_model_weights\n",
            ".\n",
            "Epoch 00049: val_loss improved from 0.18831 to 0.18746, saving model to adapt_model_weights\n",
            ".\n",
            "Epoch 00050: val_loss improved from 0.18746 to 0.18505, saving model to adapt_model_weights\n",
            ".\n",
            "Epoch 00051: val_loss improved from 0.18505 to 0.17012, saving model to adapt_model_weights\n",
            ".\n",
            "Epoch 00052: val_loss did not improve from 0.17012\n",
            ".\n",
            "Epoch 00053: val_loss did not improve from 0.17012\n",
            ".\n",
            "Epoch 00054: val_loss improved from 0.17012 to 0.16357, saving model to adapt_model_weights\n",
            ".\n",
            "Epoch 00055: val_loss did not improve from 0.16357\n",
            ".\n",
            "Epoch 00056: val_loss did not improve from 0.16357\n",
            ".\n",
            "Epoch 00057: val_loss did not improve from 0.16357\n",
            ".\n",
            "Epoch 00058: val_loss improved from 0.16357 to 0.15850, saving model to adapt_model_weights\n",
            ".\n",
            "Epoch 00059: val_loss did not improve from 0.15850\n",
            ".\n",
            "Epoch 00060: val_loss did not improve from 0.15850\n",
            ".\n",
            "Epoch 00061: val_loss improved from 0.15850 to 0.15793, saving model to adapt_model_weights\n",
            ".\n",
            "Epoch 00062: val_loss did not improve from 0.15793\n",
            ".\n",
            "Epoch 00063: val_loss improved from 0.15793 to 0.15589, saving model to adapt_model_weights\n",
            ".\n",
            "Epoch 00064: val_loss improved from 0.15589 to 0.14477, saving model to adapt_model_weights\n",
            ".\n",
            "Epoch 00065: val_loss did not improve from 0.14477\n",
            ".\n",
            "Epoch 00066: val_loss did not improve from 0.14477\n",
            ".\n",
            "Epoch 00067: val_loss did not improve from 0.14477\n",
            ".\n",
            "Epoch 00068: val_loss did not improve from 0.14477\n",
            ".\n",
            "Epoch 00069: val_loss did not improve from 0.14477\n",
            ".\n",
            "Epoch 00070: val_loss improved from 0.14477 to 0.14165, saving model to adapt_model_weights\n",
            ".\n",
            "Epoch 00071: val_loss did not improve from 0.14165\n",
            ".\n",
            "Epoch 00072: val_loss did not improve from 0.14165\n",
            ".\n",
            "Epoch 00073: val_loss improved from 0.14165 to 0.13808, saving model to adapt_model_weights\n",
            ".\n",
            "Epoch 00074: val_loss did not improve from 0.13808\n",
            ".\n",
            "Epoch 00075: val_loss did not improve from 0.13808\n",
            ".\n",
            "Epoch 00076: val_loss improved from 0.13808 to 0.13209, saving model to adapt_model_weights\n",
            ".\n",
            "Epoch 00077: val_loss did not improve from 0.13209\n",
            ".\n",
            "Epoch 00078: val_loss did not improve from 0.13209\n",
            ".\n",
            "Epoch 00079: val_loss did not improve from 0.13209\n",
            ".\n",
            "Epoch 00080: val_loss did not improve from 0.13209\n",
            ".\n",
            "Epoch 00081: val_loss improved from 0.13209 to 0.12936, saving model to adapt_model_weights\n",
            ".\n",
            "Epoch 00082: val_loss improved from 0.12936 to 0.12498, saving model to adapt_model_weights\n",
            ".\n",
            "Epoch 00083: val_loss did not improve from 0.12498\n",
            ".\n",
            "Epoch 00084: val_loss did not improve from 0.12498\n",
            ".\n",
            "Epoch 00085: val_loss did not improve from 0.12498\n",
            ".\n",
            "Epoch 00086: val_loss did not improve from 0.12498\n",
            ".\n",
            "Epoch 00087: val_loss did not improve from 0.12498\n",
            ".\n",
            "Epoch 00088: val_loss improved from 0.12498 to 0.12287, saving model to adapt_model_weights\n",
            ".\n",
            "Epoch 00089: val_loss did not improve from 0.12287\n",
            ".\n",
            "Epoch 00090: val_loss did not improve from 0.12287\n",
            ".\n",
            "Epoch 00091: val_loss did not improve from 0.12287\n",
            ".\n",
            "Epoch 00092: val_loss improved from 0.12287 to 0.11628, saving model to adapt_model_weights\n",
            ".\n",
            "Epoch 00093: val_loss improved from 0.11628 to 0.11312, saving model to adapt_model_weights\n",
            ".\n",
            "Epoch 00094: val_loss did not improve from 0.11312\n",
            ".\n",
            "Epoch 00095: val_loss improved from 0.11312 to 0.11213, saving model to adapt_model_weights\n",
            ".\n",
            "Epoch 00096: val_loss did not improve from 0.11213\n",
            ".\n",
            "Epoch 00097: val_loss did not improve from 0.11213\n",
            ".\n",
            "Epoch 00098: val_loss did not improve from 0.11213\n",
            ".\n",
            "Epoch 00099: val_loss did not improve from 0.11213\n",
            ".\n",
            "Epoch 00100: val_loss did not improve from 0.11213\n",
            ".\n",
            "Epoch 00001: val_loss improved from inf to 0.07619, saving model to sim_model_weights\n",
            "\n",
            "Epoch: 0, loss:0.0948,  val_loss:0.0762,  \n",
            ".\n",
            "Epoch 00002: val_loss improved from 0.07619 to 0.07438, saving model to sim_model_weights\n",
            ".\n",
            "Epoch 00003: val_loss improved from 0.07438 to 0.07298, saving model to sim_model_weights\n",
            ".\n",
            "Epoch 00004: val_loss improved from 0.07298 to 0.07193, saving model to sim_model_weights\n",
            ".\n",
            "Epoch 00005: val_loss improved from 0.07193 to 0.07118, saving model to sim_model_weights\n",
            ".\n",
            "Epoch 00006: val_loss improved from 0.07118 to 0.07069, saving model to sim_model_weights\n",
            ".\n",
            "Epoch 00007: val_loss improved from 0.07069 to 0.07039, saving model to sim_model_weights\n",
            ".\n",
            "Epoch 00008: val_loss improved from 0.07039 to 0.07025, saving model to sim_model_weights\n",
            ".\n",
            "Epoch 00009: val_loss improved from 0.07025 to 0.06680, saving model to sim_model_weights\n",
            ".\n",
            "Epoch 00010: val_loss improved from 0.06680 to 0.05257, saving model to sim_model_weights\n",
            ".\n",
            "Epoch 00011: val_loss improved from 0.05257 to 0.04295, saving model to sim_model_weights\n",
            ".\n",
            "Epoch 00012: val_loss improved from 0.04295 to 0.03422, saving model to sim_model_weights\n",
            ".\n",
            "Epoch 00013: val_loss improved from 0.03422 to 0.03005, saving model to sim_model_weights\n",
            ".\n",
            "Epoch 00014: val_loss improved from 0.03005 to 0.02995, saving model to sim_model_weights\n",
            ".\n",
            "Epoch 00015: val_loss did not improve from 0.02995\n",
            ".\n",
            "Epoch 00016: val_loss improved from 0.02995 to 0.02979, saving model to sim_model_weights\n",
            ".\n",
            "Epoch 00017: val_loss improved from 0.02979 to 0.02966, saving model to sim_model_weights\n",
            ".\n",
            "Epoch 00018: val_loss did not improve from 0.02966\n",
            ".\n",
            "Epoch 00019: val_loss improved from 0.02966 to 0.02959, saving model to sim_model_weights\n",
            ".\n",
            "Epoch 00020: val_loss did not improve from 0.02959\n",
            ".\n",
            "Epoch 00021: val_loss did not improve from 0.02959\n",
            ".\n",
            "Epoch 00022: val_loss improved from 0.02959 to 0.02954, saving model to sim_model_weights\n",
            ".\n",
            "Epoch 00023: val_loss did not improve from 0.02954\n",
            ".\n",
            "Epoch 00024: val_loss did not improve from 0.02954\n",
            ".\n",
            "Epoch 00025: val_loss did not improve from 0.02954\n",
            ".\n",
            "Epoch 00026: val_loss did not improve from 0.02954\n",
            ".\n",
            "Epoch 00027: val_loss did not improve from 0.02954\n",
            ".\n",
            "Epoch 00028: val_loss did not improve from 0.02954\n",
            ".\n",
            "Epoch 00029: val_loss did not improve from 0.02954\n",
            ".\n",
            "Epoch 00030: val_loss did not improve from 0.02954\n",
            ".\n",
            "Epoch 00031: val_loss did not improve from 0.02954\n",
            ".\n",
            "Epoch 00032: val_loss did not improve from 0.02954\n",
            "."
          ],
          "name": "stdout"
        }
      ]
    },
    {
      "cell_type": "markdown",
      "metadata": {
        "id": "b0XBmoI4_4al"
      },
      "source": [
        "###Batch mode"
      ]
    },
    {
      "cell_type": "code",
      "metadata": {
        "id": "NFKJ8C9O_1I1"
      },
      "source": [
        "if(batch_mode):\n",
        "  #prepare validation pairs\n",
        "  X_train, X_val, y_train, y_val = train_test_split(X_train,y_train, test_size = 0.1, random_state= split_random+1)\n",
        "\n",
        "\n",
        "  query_indices = np.random.permutation(np.arange(X_train.shape[0]))\n",
        "  if(num_of_training_queries != -1):\n",
        "    query_indices = query_indices[:num_of_training_queries]\n",
        "\n",
        "  query_counter = 0\n",
        "  retrieved_X_pairs, retrieved_y, y_adapt_diff, query_y_temp = np.zeros((2,0,x_dimension)),np.zeros((0,1)),np.zeros((0,1)),np.zeros((0,1))\n",
        "  val_X_pairs, val_y, val_y_adapt_diff, val_query_y_temp = np.zeros((2,0,x_dimension)),np.zeros((0,1)),np.zeros((0,1)),np.zeros((0,1))\n",
        "\n",
        "  back_forth_counter = 0\n",
        "  for i in range(back_forth):\n",
        "    for j in range(len(query_indices)):\n",
        "      query_counter += 1\n",
        "      query_index = query_indices[j]\n",
        "      #for every query case\n",
        "      query_X = X_train[query_index]\n",
        "      query_y = y_train[query_index]\n",
        "      if(retrieval_debug):\n",
        "        print(\"query_X\", query_X)\n",
        "        print(\"query_y\",query_y)\n",
        "\n",
        "      indices = np.arange(len(X_train))\n",
        "      #TODO:: to speed up, for efficiency, maybe search/retrieve fewer cases\n",
        "      retrieve_from_X = X_train[indices!=query_index,:]\n",
        "      retrieve_from_y = y_train[indices!=query_index,:]\n",
        "      #prepare batch\n",
        "      temp_retrieved_X_pairs, temp_retrieved_y, temp_y_adapt_diff, temp_query_y_temp = retrieve(query_X, query_y, retrieve_from_X, retrieve_from_y)\n",
        "      retrieved_X_pairs = np.concatenate((retrieved_X_pairs, temp_retrieved_X_pairs),axis=1) #np.vstack((retrieved_X_pairs, temp_retrieved_X_pairs))\n",
        "      # print(retrieved_y.shape, temp_retrieved_y.shape)\n",
        "      retrieved_y = np.vstack((retrieved_y, temp_retrieved_y))\n",
        "      y_adapt_diff = np.vstack((y_adapt_diff, temp_y_adapt_diff))\n",
        "      query_y_temp = np.vstack((query_y_temp, temp_query_y_temp))\n",
        "\n",
        "      if(query_counter == batch_size or j == len(query_indices)-1):\n",
        "        #prepare validation batch\n",
        "        if((disable_adaptation == False) or (disable_retrieval == False)):\n",
        "          val_query_indices = np.random.permutation(np.arange(X_val.shape[0]))\n",
        "          if(num_of_val_queries != -1):\n",
        "            val_query_indices = val_query_indices[:num_of_val_queries]\n",
        "          for k in range(len(val_query_indices)):\n",
        "            val_query_index = val_query_indices[k]\n",
        "            val_query_X = X_val[val_query_index]\n",
        "            val_query_y = y_val[val_query_index]\n",
        "            temp_retrieved_X_pairs, temp_retrieved_y, temp_y_adapt_diff, temp_query_y_temp = retrieve(val_query_X, val_query_y, X_train, y_train)\n",
        "            val_X_pairs = np.concatenate((val_X_pairs, temp_retrieved_X_pairs),axis=1)\n",
        "            val_y = np.vstack((val_y, temp_retrieved_y))\n",
        "            val_y_adapt_diff = np.vstack((val_y_adapt_diff, temp_y_adapt_diff))\n",
        "            val_query_y_temp = np.vstack((val_query_y_temp, temp_query_y_temp))\n",
        "          \n",
        "          X_adapt_valid = val_X_pairs\n",
        "          y_adapt_valid = val_y_adapt_diff\n",
        "          # print(y_adapt_valid.shape)\n",
        "          X_adapt_valid, y_adapt_valid = prepare_pairs(X_adapt_valid, y_adapt_valid)\n",
        "          # print(\"X_adapt_valid.shape\", X_adapt_valid.shape, y_adapt_valid.shape)\n",
        "\n",
        "          val_y_pre_adapt, val_y_post_adapt = None, None\n",
        "          if(disable_adaptation):\n",
        "            val_y_pre_adapt = sim_model_label(sim_loss_option, val_query_y_temp, val_y)\n",
        "            val_y_post_adapt = val_y_pre_adapt \n",
        "          else:\n",
        "            y_adapt_diff_pred = adapt_model.predict([val_X_pairs[0],val_X_pairs[1]])\n",
        "            y_pred = val_y + y_adapt_diff_pred\n",
        "            #pre-adaptation distance\n",
        "            val_y_pre_adapt = sim_model_label(sim_loss_option, val_query_y_temp, val_y)\n",
        "            #post-adaptation distance\n",
        "            val_y_post_adapt = sim_model_label(sim_loss_option, val_query_y_temp, y_pred)\n",
        "          # print(val_y_pre_adapt)\n",
        "          X_sim_valid = val_X_pairs\n",
        "          y_sim_valid = np.concatenate((val_y_pre_adapt, val_y_post_adapt), axis = 1)\n",
        "          X_sim_valid, y_sim_valid = prepare_pairs(X_sim_valid, y_sim_valid)\n",
        "          # print(\"X_sim_valid.shape\", X_sim_valid.shape, y_sim_valid.shape)\n",
        "\n",
        "        #actual training when a batch is ready\n",
        "        if(disable_adaptation == False):\n",
        "          #train adapt_model\n",
        "          if freezing_sim_when_training_adapt:\n",
        "            reset_base_network_trainable(False)\n",
        "          early_stop = keras.callbacks.EarlyStopping(monitor='val_loss', patience=global_patience, verbose=verbose_param)\n",
        "          # X_adapt_train, y_adapt_train, X_adapt_valid, y_adapt_valid = split_train_valid_for_pairs(retrieved_X_pairs,y_adapt_diff)\n",
        "          X_adapt_train, y_adapt_train = prepare_pairs(retrieved_X_pairs, y_adapt_diff)\n",
        "          # print(\"X_adapt_train.shape\", X_adapt_train.shape, y_adapt_train.shape)\n",
        "          early_history = adapt_model.fit(X_adapt_train, y_adapt_train, batch_size=len(X_adapt_train),#added batch size\n",
        "                              epochs=adapt_per_train_epoch, validation_data=(X_adapt_valid, y_adapt_valid), verbose=verbose_param, \n",
        "                              callbacks=[adapt_checkpointer,early_stop, tfdocs.modeling.EpochDots()])\n",
        "        #prepare for training of sim model\n",
        "        y_pre_adapt, y_post_adapt = None, None\n",
        "        if(disable_adaptation):\n",
        "          y_pre_adapt = sim_model_label(sim_loss_option, query_y_temp, retrieved_y)\n",
        "          y_post_adapt = y_pre_adapt #sim_model_label(sim_loss_option, query_y_temp, retrieved_y)\n",
        "        else:\n",
        "          y_adapt_diff_pred = adapt_model.predict([retrieved_X_pairs[0],retrieved_X_pairs[1]])\n",
        "          y_pred = retrieved_y + y_adapt_diff_pred\n",
        "          #pre-adaptation distance\n",
        "          y_pre_adapt = sim_model_label(sim_loss_option, query_y_temp, retrieved_y)\n",
        "          #post-adaptation distance\n",
        "          y_post_adapt = sim_model_label(sim_loss_option, query_y_temp, y_pred)\n",
        "\n",
        "        # print(\"pre \", y_pre_adapt)\n",
        "        # print(\"post\", y_post_adapt)\n",
        "        \n",
        "        y_pair_real = np.concatenate((y_pre_adapt, y_post_adapt), axis = 1)\n",
        "        # print(\"y_pair_real\", y_pair_real)\n",
        "        # print(\"y_pair_real.shape\", y_pair_real.shape)\n",
        "\n",
        "        # y_pair_real = y_pre_adapt\n",
        "\n",
        "        #train sim_model \n",
        "        if(disable_retrieval == False):\n",
        "          if freezing_sim_when_training_adapt:\n",
        "            reset_base_network_trainable(True)\n",
        "          # X_sim_train, y_sim_train, X_sim_valid, y_sim_valid = split_train_valid_for_pairs(retrieved_X_pairs,y_pair_real)\n",
        "          X_sim_train, y_sim_train = prepare_pairs(retrieved_X_pairs, y_pair_real)\n",
        "          \n",
        "          early_stop = keras.callbacks.EarlyStopping(monitor='val_loss', patience=global_patience, verbose=verbose_param)\n",
        "          early_history = sim_model.fit(X_sim_train, y_sim_train,  batch_size=len(X_sim_train),#added batch size\n",
        "                              epochs=sim_per_train_epoch, validation_data=(X_sim_valid, y_sim_valid), verbose=verbose_param, \n",
        "                              callbacks=[sim_checkpointer,early_stop, tfdocs.modeling.EpochDots()])\n",
        "        #Reset for next batch\n",
        "        query_counter = 0\n",
        "        retrieved_X_pairs, retrieved_y, y_adapt_diff, query_y_temp = np.zeros((2,0,x_dimension)),np.zeros((0,1)),np.zeros((0,1)),np.zeros((0,1))\n",
        "        val_X_pairs, val_y, val_y_adapt_diff, val_query_y_temp = np.zeros((2,0,x_dimension)),np.zeros((0,1)),np.zeros((0,1)),np.zeros((0,1))\n"
      ],
      "execution_count": null,
      "outputs": []
    },
    {
      "cell_type": "markdown",
      "metadata": {
        "id": "69zzHWTOVcoe"
      },
      "source": [
        "##Checkpoint Load"
      ]
    },
    {
      "cell_type": "code",
      "metadata": {
        "id": "s4Bq9SMkUB23"
      },
      "source": [
        "#Load the best model\n",
        "from keras.models import load_model\n",
        "#because we only load weights, we don't need to worry about loading our special loss function\n",
        "if(disable_retrieval == False):\n",
        "  sim_model.load_weights(sim_model_file) #, custom_objects={'mse_loss': mse_loss, 'contrastive_loss':contrastive_loss})\n",
        "if(disable_adaptation == False):\n",
        "  adapt_model.load_weights(adapt_model_file)"
      ],
      "execution_count": null,
      "outputs": []
    },
    {
      "cell_type": "markdown",
      "metadata": {
        "id": "U7vhRfaxCyaL"
      },
      "source": [
        "##Special test"
      ]
    },
    {
      "cell_type": "code",
      "metadata": {
        "id": "dzPw6NO3Cz5j"
      },
      "source": [
        "# disabling_test_on_training_set = True\n",
        "# if(disabling_test_on_training_set == False):\n",
        "#   y_preds = np.zeros(y_train.shape)\n",
        "#   retrieved_y_s = np.zeros(y_train.shape)\n",
        "\n",
        "#   for query_index in range(X_train.shape[0]):\n",
        "#     print(query_index)\n",
        "#     query_X = X_train[query_index]\n",
        "#     query_y = y_train[query_index]\n",
        "#     if(retrieval_debug):\n",
        "#       print(\"query_X\", query_X)\n",
        "#       print(\"query_y\",query_y)\n",
        "#     #retrieval\n",
        "#     retrieved_X_pairs, retrieved_y, y_adapt_diff, query_y = retrieve(query_X, query_y, X_train, y_train)\n",
        "#     retrieved_y_s[query_index][0] = retrieved_y\n",
        "\n",
        "#     #adaptation\n",
        "#     if(disable_adaptation):\n",
        "#       print(sim_model.predict([retrieved_X_pairs[0], retrieved_X_pairs[0]]))\n",
        "#       donothing = 0\n",
        "#     else:\n",
        "      \n",
        "#       y_adapt_diff_pred = adapt_model.predict([retrieved_X_pairs[0], retrieved_X_pairs[1]])\n",
        "#       if(retrieval_debug):\n",
        "#         print(\"retrieved_y\",retrieved_y)\n",
        "#         print(\"y_adapt_diff_pred\", y_adapt_diff_pred)\n",
        "#       y_pred = retrieved_y + y_adapt_diff_pred\n",
        "#       y_preds[query_index][0] = y_pred[0][0]\n",
        "#   if(disable_adaptation):\n",
        "#     y_preds = retrieved_y_s\n",
        "#   #calculate retrieval loss\n",
        "#   print(\"mse_error(y_train, retrieved_y_s)\",mse_error(y_train, retrieved_y_s))\n",
        "\n",
        "\n",
        "#   #calculate real loss\n",
        "#   print(\"mse_error(y_train, y_preds)\",mse_error(y_train, y_preds))\n"
      ],
      "execution_count": null,
      "outputs": []
    },
    {
      "cell_type": "markdown",
      "metadata": {
        "id": "VVye_UbQLVcF"
      },
      "source": [
        "#Test the models"
      ]
    },
    {
      "cell_type": "code",
      "metadata": {
        "id": "OvC_lY9VNJrz"
      },
      "source": [
        "#modifying the retrieve size to 1.\n",
        "#knn will be better than 1nn, but this is not the focus of our research\n",
        "retrieve_size = 1\n",
        "bad_retrieve_size = 0"
      ],
      "execution_count": null,
      "outputs": []
    },
    {
      "cell_type": "code",
      "metadata": {
        "id": "Rjk2ajfiNuRP"
      },
      "source": [
        "retrieval_debug = True"
      ],
      "execution_count": null,
      "outputs": []
    },
    {
      "cell_type": "markdown",
      "metadata": {
        "id": "QGimojHTwnJo"
      },
      "source": [
        "TODO, try test on training data set, should get perfect performance??"
      ]
    },
    {
      "cell_type": "markdown",
      "metadata": {
        "id": "RdZBOc3nNXI_"
      },
      "source": [
        "Test the models on X_test, y_test, assuming the case base contains everything in X_train, y_train"
      ]
    },
    {
      "cell_type": "code",
      "metadata": {
        "id": "1XEN-FnmOPts",
        "colab": {
          "base_uri": "https://localhost:8080/"
        },
        "outputId": "c0ddd92f-8138-4e69-dee2-aa1254e33de2"
      },
      "source": [
        "# X_test = X_train[[529, 3426   ]]\n",
        "# y_test = y_train[[529,3426    ]]\n",
        "\n",
        "# X_test = X_test[:100]\n",
        "# y_test = y_test[:100]\n",
        "\n",
        "y_preds = np.zeros(y_test.shape)\n",
        "retrieved_y_s = np.zeros(y_test.shape)\n",
        "\n",
        "for query_index in range(X_test.shape[0]):\n",
        "  print(query_index)\n",
        "  query_X = X_test[query_index]\n",
        "  query_y = y_test[query_index]\n",
        "  if(retrieval_debug):\n",
        "    print(\"query_X\", query_X)\n",
        "    print(\"query_y\",query_y)\n",
        "  #retrieval\n",
        "  retrieved_X_pairs, retrieved_y, y_adapt_diff, query_y = retrieve(query_X, query_y, X_train, y_train)\n",
        "  retrieved_y_s[query_index][0] = retrieved_y\n",
        "\n",
        "  #adaptation\n",
        "  if(disable_adaptation):\n",
        "    # print(sim_model.predict([retrieved_X_pairs[0], retrieved_X_pairs[0]]))\n",
        "    donothing = 0\n",
        "  else:\n",
        "    \n",
        "    y_adapt_diff_pred = adapt_model.predict([retrieved_X_pairs[0], retrieved_X_pairs[1]])\n",
        "    if(retrieval_debug):\n",
        "      print(\"retrieved_y\",retrieved_y)\n",
        "      print(\"y_adapt_diff_pred\", y_adapt_diff_pred)\n",
        "    y_pred = retrieved_y + y_adapt_diff_pred\n",
        "    y_preds[query_index][0] = y_pred[0][0]\n",
        "if(disable_adaptation):\n",
        "  y_preds = retrieved_y_s\n",
        "#calculate retrieval loss\n",
        "print(\"mse_error(y_test, retrieved_y_s)\",mse_error(y_test, retrieved_y_s))\n",
        "\n",
        "\n",
        "#calculate real loss\n",
        "print(\"mse_error(y_test, y_preds)\",mse_error(y_test, y_preds))\n"
      ],
      "execution_count": null,
      "outputs": [
        {
          "output_type": "stream",
          "text": [
            "0\n",
            "query_X [ 1.08316459 -0.63931717  1.79929926  1.31293526 -0.5235573 ]\n",
            "query_y [-1.26181655]\n",
            "retrieved_X[0] [-0.28125457 -0.23364856  0.16952016  1.31293526 -0.54221565]\n",
            "retrieved_y[0] [0.90990842]\n",
            "retrieved_y [[0.90990842]]\n",
            "y_adapt_diff_pred [[-1.1586266]]\n",
            "1\n",
            "query_X [-0.6620227   0.45936864 -1.18862909  0.29800701 -0.51814647]\n",
            "query_y [0.47069129]\n",
            "retrieved_X[0] [ 1.62258612 -0.47028859  0.98440971  0.29800701 -0.52135661]\n",
            "retrieved_y[0] [-1.785281]\n",
            "retrieved_y [[-1.785281]]\n",
            "y_adapt_diff_pred [[0.4373471]]\n",
            "2\n",
            "query_X [-0.59856135  0.74671724 -0.91699924  1.31293526  0.22304512]\n",
            "query_y [1.75528177]\n",
            "retrieved_X[0] [ 0.353359    0.45936864 -1.18862909  1.31293526 -0.52741631]\n",
            "retrieved_y[0] [1.36304594]\n",
            "retrieved_y [[1.36304594]]\n",
            "y_adapt_diff_pred [[1.3524365]]\n",
            "3\n",
            "query_X [-0.71596486  0.2734372  -0.91699924 -0.72334483 -0.41667802]\n",
            "query_y [0.17531814]\n",
            "retrieved_X[0] [ 0.08364823 -0.23364856  0.16952016  0.29800701 -0.51780568]\n",
            "retrieved_y[0] [-0.47110971]\n",
            "retrieved_y [[-0.47110971]]\n",
            "y_adapt_diff_pred [[0.4180736]]\n",
            "4\n",
            "query_X [-0.81591649  0.08750575  0.98440971  1.31293526 -0.05320918]\n",
            "query_y [2.17100825]\n",
            "retrieved_X[0] [-0.40817728 -0.23364856  0.16952016  1.31293526 -0.54221565]\n",
            "retrieved_y[0] [1.21876695]\n",
            "retrieved_y [[1.21876695]]\n",
            "y_adapt_diff_pred [[1.4590868]]\n",
            "5\n",
            "query_X [-0.78894542  0.74671724 -0.91699924  1.31293526  0.22304512]\n",
            "query_y [0.6445511]\n",
            "retrieved_X[0] [ 0.08364823  0.74671724 -0.91699924 -0.72334483  0.29727381]\n",
            "retrieved_y[0] [-0.74908239]\n",
            "retrieved_y [[-0.74908239]]\n",
            "y_adapt_diff_pred [[0.82405955]]\n",
            "6\n",
            "query_X [-0.28125457  0.2734372  -0.91699924 -1.23080896 -0.40561217]\n",
            "query_y [0.41326971]\n",
            "retrieved_X[0] [-0.59856135  0.08750575  0.98440971  1.31293526 -0.05320918]\n",
            "retrieved_y[0] [0.29030631]\n",
            "retrieved_y [[0.29030631]]\n",
            "y_adapt_diff_pred [[0.40454447]]\n",
            "7\n",
            "query_X [-0.6620227  -0.47028859  1.79929926  1.31293526 -0.46875221]\n",
            "query_y [1.003291]\n",
            "retrieved_X[0] [-0.59856135 -1.14640293 -0.91699924  0.29800701 -0.78944636]\n",
            "retrieved_y[0] [0.1087613]\n",
            "retrieved_y [[0.1087613]]\n",
            "y_adapt_diff_pred [[0.59987164]]\n",
            "8\n",
            "query_X [-0.59856135 -0.5886086  -0.37373954 -0.72334483 -0.6609306 ]\n",
            "query_y [1.03461187]\n",
            "retrieved_X[0] [ 0.353359   -1.14640293 -0.37373954 -1.23080896 -0.7332317 ]\n",
            "retrieved_y[0] [0.30408169]\n",
            "retrieved_y [[0.30408169]]\n",
            "y_adapt_diff_pred [[1.0393002]]\n",
            "9\n",
            "query_X [ 0.08364823 -0.33506572 -1.18862909  1.31293526 -0.7828509 ]\n",
            "query_y [1.2386325]\n",
            "retrieved_X[0] [ 1.08316459  0.08750575  0.98440971 -1.23080896  0.16182432]\n",
            "retrieved_y[0] [-2.05136335]\n",
            "retrieved_y [[-2.05136335]]\n",
            "y_adapt_diff_pred [[1.4142952]]\n",
            "10\n",
            "query_X [-0.6620227   0.2734372  -0.91699924  1.31293526 -0.44460696]\n",
            "query_y [0.39441919]\n",
            "retrieved_X[0] [-0.85240677  0.35795149 -0.37373954  1.31293526 -0.06321994]\n",
            "retrieved_y[0] [1.256758]\n",
            "retrieved_y [[1.256758]]\n",
            "y_adapt_diff_pred [[0.59228563]]\n",
            "11\n",
            "query_X [-0.78894542 -0.47028859  0.98440971 -1.23080896 -0.46016015]\n",
            "query_y [0.19039855]\n",
            "retrieved_X[0] [ 0.353359   -1.14640293  1.79929926 -0.72334483 -0.61148537]\n",
            "retrieved_y[0] [-0.81302915]\n",
            "retrieved_y [[-0.81302915]]\n",
            "y_adapt_diff_pred [[0.47813344]]\n",
            "12\n",
            "query_X [-0.78894542 -0.23364856  0.16952016 -1.23080896 -0.44768017]\n",
            "query_y [0.42704509]\n",
            "retrieved_X[0] [-0.28125457 -1.14640293  0.98440971  1.31293526 -0.68435471]\n",
            "retrieved_y[0] [0.49418194]\n",
            "retrieved_y [[0.49418194]]\n",
            "y_adapt_diff_pred [[0.4961391]]\n",
            "13\n",
            "query_X [ 1.08316459 -1.14640293 -0.37373954 -0.72334483 -0.73609191]\n",
            "query_y [0.11528648]\n",
            "retrieved_X[0] [-0.59856135  0.07060289  0.16952016 -0.72334483 -0.15580042]\n",
            "retrieved_y[0] [0.50781232]\n",
            "retrieved_y [[0.50781232]]\n",
            "y_adapt_diff_pred [[-0.01380493]]\n",
            "14\n",
            "query_X [-0.59856135 -0.47028859  1.79929926 -0.72334483 -0.40647937]\n",
            "query_y [0.56363886]\n",
            "retrieved_X[0] [-0.75721474 -0.47028859  0.98440971 -1.23080896 -0.46016015]\n",
            "retrieved_y[0] [0.59495973]\n",
            "retrieved_y [[0.59495973]]\n",
            "y_adapt_diff_pred [[0.25200808]]\n",
            "15\n",
            "query_X [ 1.62258612 -1.14640293  0.16952016 -0.72334483 -0.70037344]\n",
            "query_y [-0.62104385]\n",
            "retrieved_X[0] [-0.28125457 -0.0139114  -0.37373954 -0.72334483 -0.40766605]\n",
            "retrieved_y[0] [-0.37714712]\n",
            "retrieved_y [[-0.37714712]]\n",
            "y_adapt_diff_pred [[-0.7689412]]\n",
            "16\n",
            "query_X [-0.59856135 -1.14640293 -0.37373954  1.31293526 -0.75530709]\n",
            "query_y [0.57842927]\n",
            "retrieved_X[0] [-0.40817728 -0.23364856  0.16952016 -1.23080896 -0.44768017]\n",
            "retrieved_y[0] [-0.15587101]\n",
            "retrieved_y [[-0.15587101]]\n",
            "y_adapt_diff_pred [[0.61373633]]\n",
            "17\n",
            "query_X [-0.78894542 -0.25055142  0.98440971  1.31293526 -0.45228543]\n",
            "query_y [0.41529977]\n",
            "retrieved_X[0] [-0.12260118 -1.14640293 -1.18862909  0.29800701 -0.81604333]\n",
            "retrieved_y[0] [0.75939427]\n",
            "retrieved_y [[0.75939427]]\n",
            "y_adapt_diff_pred [[0.9146597]]\n",
            "18\n",
            "query_X [-0.51923465 -1.14640293  0.98440971 -0.72334483 -0.65456129]\n",
            "query_y [0.66108155]\n",
            "retrieved_X[0] [-0.28125457 -1.14640293  0.98440971 -1.23080896 -0.64020772]\n",
            "retrieved_y[0] [-0.20024223]\n",
            "retrieved_y [[-0.20024223]]\n",
            "y_adapt_diff_pred [[0.51914245]]\n",
            "19\n",
            "query_X [ 0.08364823  0.35795149 -0.37373954  1.31293526 -0.06321994]\n",
            "query_y [-0.228083]\n",
            "retrieved_X[0] [ 2.25719968 -1.14640293 -0.91699924  1.31293526 -0.7910782 ]\n",
            "retrieved_y[0] [0.56610393]\n",
            "retrieved_y [[0.56610393]]\n",
            "y_adapt_diff_pred [[-0.48248595]]\n",
            "20\n",
            "query_X [-0.75721474 -0.47028859  1.79929926 -0.72334483 -0.40647937]\n",
            "query_y [0.77389467]\n",
            "retrieved_X[0] [-0.59856135 -1.14640293  0.16952016 -0.72334483 -0.70037344]\n",
            "retrieved_y[0] [0.75359411]\n",
            "retrieved_y [[0.75359411]]\n",
            "y_adapt_diff_pred [[0.521645]]\n",
            "21\n",
            "query_X [ 0.353359   -1.14640293 -0.37373954 -0.72334483 -0.73609191]\n",
            "query_y [0.42994517]\n",
            "retrieved_X[0] [-0.12260118 -0.5886086  -0.37373954 -1.23080896 -0.6561405 ]\n",
            "retrieved_y[0] [0.80565054]\n",
            "retrieved_y [[0.80565054]]\n",
            "y_adapt_diff_pred [[0.6751674]]\n",
            "22\n",
            "query_X [-0.40817728 -1.14640293  0.16952016  0.29800701 -0.71605823]\n",
            "query_y [0.77534471]\n",
            "retrieved_X[0] [-0.75721474 -0.63931717  1.79929926  1.31293526 -0.5235573 ]\n",
            "retrieved_y[0] [0.52463278]\n",
            "retrieved_y [[0.52463278]]\n",
            "y_adapt_diff_pred [[0.8242102]]\n",
            "23\n",
            "query_X [-0.6620227   2.6060317  -1.18862909  1.31293526  0.78183706]\n",
            "query_y [-0.23330315]\n",
            "retrieved_X[0] [-0.75721474  1.4566373  -0.91699924  1.31293526  1.1628772 ]\n",
            "retrieved_y[0] [0.3551231]\n",
            "retrieved_y [[0.3551231]]\n",
            "y_adapt_diff_pred [[0.15644994]]\n",
            "24\n",
            "query_X [-0.40817728  1.00026012 -1.18862909 -0.72334483  0.14342308]\n",
            "query_y [0.74547388]\n",
            "retrieved_X[0] [ 3.05046663 -1.14640293 -1.18862909 -0.72334483 -0.81481298]\n",
            "retrieved_y[0] [0.62062544]\n",
            "retrieved_y [[0.62062544]]\n",
            "y_adapt_diff_pred [[0.7268616]]\n",
            "25\n",
            "query_X [-0.28125457 -0.5886086  -0.37373954  1.31293526 -0.6931202 ]\n",
            "query_y [1.33375513]\n",
            "retrieved_X[0] [ 0.67066578 -0.47028859  0.98440971  0.29800701 -0.52135661]\n",
            "retrieved_y[0] [-0.69630093]\n",
            "retrieved_y [[-0.69630093]]\n",
            "y_adapt_diff_pred [[1.0695777]]\n",
            "26\n",
            "query_X [-0.6620227  -0.80834576  0.98440971 -0.72334483 -0.58376866]\n",
            "query_y [0.60917012]\n",
            "retrieved_X[0] [-0.51923465 -0.63931717  1.79929926 -0.72334483 -0.47029794]\n",
            "retrieved_y[0] [0.14008217]\n",
            "retrieved_y [[0.14008217]]\n",
            "y_adapt_diff_pred [[0.51236606]]\n",
            "27\n",
            "query_X [-0.6620227   2.18346023 -0.91699924 -0.72334483  1.9279166 ]\n",
            "query_y [-0.82100438]\n",
            "retrieved_X[0] [-0.75721474  1.4566373  -0.91699924  1.31293526  1.1628772 ]\n",
            "retrieved_y[0] [0.3551231]\n",
            "retrieved_y [[0.3551231]]\n",
            "y_adapt_diff_pred [[-0.30127636]]\n",
            "28\n",
            "query_X [-0.6620227  -1.14640293  0.98440971  0.29800701 -0.67295112]\n",
            "query_y [0.39064908]\n",
            "retrieved_X[0] [-0.12260118 -0.89286005  1.79929926 -0.72334483 -0.54913189]\n",
            "retrieved_y[0] [-0.55898214]\n",
            "retrieved_y [[-0.55898214]]\n",
            "y_adapt_diff_pred [[0.3252435]]\n",
            "29\n",
            "query_X [-0.28125457 -0.63931717  1.79929926  0.29800701 -0.50319728]\n",
            "query_y [-0.25621378]\n",
            "retrieved_X[0] [-0.6620227  -0.5886086  -0.37373954 -1.23080896 -0.6561405 ]\n",
            "retrieved_y[0] [0.94630443]\n",
            "retrieved_y [[0.94630443]]\n",
            "y_adapt_diff_pred [[-0.22465348]]\n",
            "30\n",
            "query_X [ 3.05046663 -0.47028859  0.98440971  1.31293526 -0.54266902]\n",
            "query_y [-1.53384406]\n",
            "retrieved_X[0] [0.353359   0.52698008 0.16952016 1.31293526 0.6207445 ]\n",
            "retrieved_y[0] [-1.41479577]\n",
            "retrieved_y [[-1.41479577]]\n",
            "y_adapt_diff_pred [[-1.8184363]]\n",
            "31\n",
            "query_X [-0.28125457  0.74671724 -0.91699924  1.31293526  0.22304512]\n",
            "query_y [1.22891723]\n",
            "retrieved_X[0] [-0.81591649  1.79469448 -1.18862909 -1.23080896  0.49621859]\n",
            "retrieved_y[0] [-0.93091741]\n",
            "retrieved_y [[-0.93091741]]\n",
            "y_adapt_diff_pred [[1.2499889]]\n",
            "32\n",
            "query_X [ 0.08364823  0.98335726  0.16952016 -0.72334483  3.59591717]\n",
            "query_y [-2.69358609]\n",
            "retrieved_X[0] [-0.75721474  1.4566373  -0.91699924  0.29800701  1.22111608]\n",
            "retrieved_y[0] [0.34569784]\n",
            "retrieved_y [[0.34569784]]\n",
            "y_adapt_diff_pred [[-2.349882]]\n",
            "33\n",
            "query_X [ 0.67066578  1.00026012 -1.18862909 -0.72334483  0.14342308]\n",
            "query_y [0.03930438]\n",
            "retrieved_X[0] [-0.75721474  0.98335726  0.16952016 -0.72334483  3.59591717]\n",
            "retrieved_y[0] [-1.44075149]\n",
            "retrieved_y [[-1.44075149]]\n",
            "y_adapt_diff_pred [[-0.36025378]]\n",
            "34\n",
            "query_X [-0.59856135 -0.5886086  -0.37373954  1.31293526 -0.6931202 ]\n",
            "query_y [0.95674472]\n",
            "retrieved_X[0] [-0.12260118 -0.47028859  0.98440971  1.31293526 -0.54266902]\n",
            "retrieved_y[0] [-0.0722037]\n",
            "retrieved_y [[-0.0722037]]\n",
            "y_adapt_diff_pred [[0.70496136]]\n",
            "35\n",
            "query_X [-0.40817728  0.08750575  0.98440971  1.31293526 -0.05320918]\n",
            "query_y [0.12935187]\n",
            "retrieved_X[0] [-0.59856135  0.45936864 -1.18862909 -0.72334483 -0.5052291 ]\n",
            "retrieved_y[0] [0.80304047]\n",
            "retrieved_y [[0.80304047]]\n",
            "y_adapt_diff_pred [[-0.05282948]]\n",
            "36\n",
            "query_X [-0.75721474  0.52698008  0.16952016  0.29800701  0.73817312]\n",
            "query_y [0.43197523]\n",
            "retrieved_X[0] [-0.51923465  0.35795149 -0.37373954  1.31293526 -0.06321994]\n",
            "retrieved_y[0] [1.15380516]\n",
            "retrieved_y [[1.15380516]]\n",
            "y_adapt_diff_pred [[0.97914255]]\n",
            "37\n",
            "query_X [ 5.43026749 -1.14640293 -1.18862909  1.31293526 -0.81692634]\n",
            "query_y [-0.23475319]\n",
            "retrieved_X[0] [-0.75721474  1.4566373  -0.91699924  1.31293526  1.1628772 ]\n",
            "retrieved_y[0] [0.3551231]\n",
            "retrieved_y [[0.3551231]]\n",
            "y_adapt_diff_pred [[-0.01675749]]\n",
            "38\n",
            "query_X [ 3.05046663 -0.33506572 -1.18862909  1.31293526 -0.7828509 ]\n",
            "query_y [0.41355972]\n",
            "retrieved_X[0] [-0.75721474  1.4566373  -0.91699924  1.31293526  1.1628772 ]\n",
            "retrieved_y[0] [0.3551231]\n",
            "retrieved_y [[0.3551231]]\n",
            "y_adapt_diff_pred [[0.1910347]]\n",
            "39\n",
            "query_X [-0.40817728 -0.69002575  0.16952016  1.31293526 -0.66190962]\n",
            "query_y [0.84219155]\n",
            "retrieved_X[0] [ 0.67066578 -0.89286005  1.79929926  1.31293526 -0.59125771]\n",
            "retrieved_y[0] [-0.75459254]\n",
            "retrieved_y [[-0.75459254]]\n",
            "y_adapt_diff_pred [[0.97001415]]\n",
            "40\n",
            "query_X [ 0.67066578 -0.80834576  0.98440971  1.31293526 -0.62449859]\n",
            "query_y [-0.29289979]\n",
            "retrieved_X[0] [ 0.67066578 -0.47028859  0.98440971  0.29800701 -0.52135661]\n",
            "retrieved_y[0] [-0.69630093]\n",
            "retrieved_y [[-0.69630093]]\n",
            "y_adapt_diff_pred [[-0.2376729]]\n",
            "41\n",
            "query_X [ 0.353359   -0.63931717  1.79929926  1.31293526 -0.5235573 ]\n",
            "query_y [-0.66295001]\n",
            "retrieved_X[0] [ 0.67066578 -0.80834576  0.98440971  0.29800701 -0.60890889]\n",
            "retrieved_y[0] [-0.63278918]\n",
            "retrieved_y [[-0.63278918]]\n",
            "y_adapt_diff_pred [[-0.52398986]]\n",
            "42\n",
            "query_X [-0.51923465  1.4566373  -0.91699924  1.31293526  1.1628772 ]\n",
            "query_y [0.87133736]\n",
            "retrieved_X[0] [-0.75721474  1.4566373  -0.91699924  1.31293526  1.1628772 ]\n",
            "retrieved_y[0] [0.3551231]\n",
            "retrieved_y [[0.3551231]]\n",
            "y_adapt_diff_pred [[0.7320367]]\n",
            "43\n",
            "query_X [ 1.62258612  1.00026012 -1.18862909 -0.72334483  0.14342308]\n",
            "query_y [-0.61321364]\n",
            "retrieved_X[0] [-0.75721474  1.4566373  -0.91699924  1.31293526  1.1628772 ]\n",
            "retrieved_y[0] [0.3551231]\n",
            "retrieved_y [[0.3551231]]\n",
            "y_adapt_diff_pred [[-1.276838]]\n",
            "44\n",
            "query_X [ 0.353359   -1.14640293  1.79929926  1.31293526 -0.64480461]\n",
            "query_y [-0.25737381]\n",
            "retrieved_X[0] [ 0.08364823 -1.14640293 -1.18862909 -1.23080896 -0.8139756 ]\n",
            "retrieved_y[0] [1.50674491]\n",
            "retrieved_y [[1.50674491]]\n",
            "y_adapt_diff_pred [[-0.21074307]]\n",
            "45\n",
            "query_X [-0.83654143  0.52698008  0.16952016  0.29800701  0.73817312]\n",
            "query_y [1.21789693]\n",
            "retrieved_X[0] [-0.59856135  0.35795149 -0.37373954  1.31293526 -0.06321994]\n",
            "retrieved_y[0] [1.53661573]\n",
            "retrieved_y [[1.53661573]]\n",
            "y_adapt_diff_pred [[1.0500176]]\n",
            "46\n",
            "query_X [-0.51923465 -1.14640293  1.79929926  1.31293526 -0.64480461]\n",
            "query_y [0.16168776]\n",
            "retrieved_X[0] [ 0.67066578 -1.14640293  1.79929926 -1.23080896 -0.59541339]\n",
            "retrieved_y[0] [-1.33272351]\n",
            "retrieved_y [[-1.33272351]]\n",
            "y_adapt_diff_pred [[0.67061573]]\n",
            "47\n",
            "query_X [-0.59856135 -0.63931717  1.79929926 -0.72334483 -0.47029794]\n",
            "query_y [0.50404222]\n",
            "retrieved_X[0] [-0.51923465 -0.80834576  0.98440971 -1.23080896 -0.56414499]\n",
            "retrieved_y[0] [0.55696868]\n",
            "retrieved_y [[0.55696868]]\n",
            "y_adapt_diff_pred [[0.3383082]]\n",
            "48\n",
            "query_X [-0.6620227   0.08750575  0.98440971 -1.23080896  0.16182432]\n",
            "query_y [-0.23591322]\n",
            "retrieved_X[0] [-0.83654143  0.08750575  0.98440971 -0.72334483  0.09190876]\n",
            "retrieved_y[0] [1.02272154]\n",
            "retrieved_y [[1.02272154]]\n",
            "y_adapt_diff_pred [[-0.22698249]]\n",
            "49\n",
            "query_X [ 2.25719968 -0.63931717  1.79929926  0.29800701 -0.50319728]\n",
            "query_y [-1.83675742]\n",
            "retrieved_X[0] [ 1.62258612 -0.47028859  0.98440971  0.29800701 -0.52135661]\n",
            "retrieved_y[0] [-1.785281]\n",
            "retrieved_y [[-1.785281]]\n",
            "y_adapt_diff_pred [[-1.9850885]]\n",
            "50\n",
            "query_X [ 0.67066578  1.00026012 -1.18862909  1.31293526  0.07918232]\n",
            "query_y [0.60061488]\n",
            "retrieved_X[0] [-0.75721474  1.4566373  -0.91699924  1.31293526  1.1628772 ]\n",
            "retrieved_y[0] [0.3551231]\n",
            "retrieved_y [[0.3551231]]\n",
            "y_adapt_diff_pred [[0.2263001]]\n",
            "51\n",
            "query_X [-0.71596486  0.93264869 -0.37373954 -0.72334483  2.25827159]\n",
            "query_y [-0.5105508]\n",
            "retrieved_X[0] [-0.75721474  1.79469448 -1.18862909 -0.72334483  0.4625578 ]\n",
            "retrieved_y[0] [-1.06171102]\n",
            "retrieved_y [[-1.06171102]]\n",
            "y_adapt_diff_pred [[-0.37993997]]\n",
            "52\n",
            "query_X [-0.51923465  1.00026012 -1.18862909 -0.72334483  0.14342308]\n",
            "query_y [0.86147709]\n",
            "retrieved_X[0] [ 3.05046663 -1.14640293 -0.91699924 -0.72334483 -0.78717248]\n",
            "retrieved_y[0] [-0.1229551]\n",
            "retrieved_y [[-0.1229551]]\n",
            "y_adapt_diff_pred [[0.9558887]]\n",
            "53\n",
            "query_X [-0.83654143  1.4566373  -0.91699924 -1.23080896  1.35749362]\n",
            "query_y [-0.52360116]\n",
            "retrieved_X[0] [ 1.08316459  0.52698008  0.16952016 -0.72334483  0.92751031]\n",
            "retrieved_y[0] [-2.16794657]\n",
            "retrieved_y [[-2.16794657]]\n",
            "y_adapt_diff_pred [[0.22310954]]\n",
            "54\n",
            "query_X [ 1.62258612 -0.63931717  1.79929926 -0.72334483 -0.47029794]\n",
            "query_y [-2.0567285]\n",
            "retrieved_X[0] [-0.12260118 -1.14640293 -1.18862909  1.31293526 -0.81692634]\n",
            "retrieved_y[0] [1.28633882]\n",
            "retrieved_y [[1.28633882]]\n",
            "y_adapt_diff_pred [[-2.0250409]]\n",
            "55\n",
            "query_X [-0.12260118 -0.5886086  -0.37373954  0.29800701 -0.67921621]\n",
            "query_y [1.16772554]\n",
            "retrieved_X[0] [ 0.353359   -0.5886086  -0.37373954 -0.72334483 -0.6609306 ]\n",
            "retrieved_y[0] [0.00653348]\n",
            "retrieved_y [[0.00653348]]\n",
            "y_adapt_diff_pred [[1.0805347]]\n",
            "56\n",
            "query_X [-0.85240677  0.35795149 -0.37373954 -0.72334483  0.10039052]\n",
            "query_y [1.24472267]\n",
            "retrieved_X[0] [ 0.353359   -1.14640293 -1.18862909  1.31293526 -0.81692634]\n",
            "retrieved_y[0] [1.98960824]\n",
            "retrieved_y [[1.98960824]]\n",
            "y_adapt_diff_pred [[0.8456567]]\n",
            "57\n",
            "query_X [-0.51923465  0.07060289  0.16952016 -0.72334483 -0.15580042]\n",
            "query_y [-0.34916135]\n",
            "retrieved_X[0] [-0.12260118 -0.69002575  0.16952016  1.31293526 -0.66190962]\n",
            "retrieved_y[0] [0.5072323]\n",
            "retrieved_y [[0.5072323]]\n",
            "y_adapt_diff_pred [[0.17266649]]\n",
            "58\n",
            "query_X [-0.28125457 -0.5886086  -0.37373954 -0.72334483 -0.6609306 ]\n",
            "query_y [1.08246319]\n",
            "retrieved_X[0] [-0.6620227  -0.33506572 -1.18862909 -1.23080896 -0.77660132]\n",
            "retrieved_y[0] [-0.31726046]\n",
            "retrieved_y [[-0.31726046]]\n",
            "y_adapt_diff_pred [[1.1505451]]\n",
            "59\n",
            "query_X [-0.6620227   1.00026012 -1.18862909  1.31293526  0.07918232]\n",
            "query_y [0.79927037]\n",
            "retrieved_X[0] [-0.40817728  0.74671724 -0.91699924  1.31293526  0.22304512]\n",
            "retrieved_y[0] [1.50152476]\n",
            "retrieved_y [[1.50152476]]\n",
            "y_adapt_diff_pred [[0.7831413]]\n",
            "60\n",
            "query_X [ 4.16104037 -0.47028859  0.98440971  1.31293526 -0.54266902]\n",
            "query_y [-1.74990003]\n",
            "retrieved_X[0] [-0.6620227   1.49044302 -0.37373954 -0.72334483  3.17277251]\n",
            "retrieved_y[0] [-0.85145522]\n",
            "retrieved_y [[-0.85145522]]\n",
            "y_adapt_diff_pred [[-2.1735914]]\n",
            "61\n",
            "query_X [-0.12260118  1.4566373  -0.91699924 -0.72334483  1.30226711]\n",
            "query_y [-0.35133641]\n",
            "retrieved_X[0] [-0.40817728  0.93264869 -0.37373954  1.31293526  1.7221636 ]\n",
            "retrieved_y[0] [-0.01275206]\n",
            "retrieved_y [[-0.01275206]]\n",
            "y_adapt_diff_pred [[-0.7717771]]\n",
            "62\n",
            "query_X [-0.6620227  -1.14640293 -0.91699924 -1.23080896 -0.78562508]\n",
            "query_y [-0.2966699]\n",
            "retrieved_X[0] [-0.28125457 -0.63931717  1.79929926 -0.72334483 -0.47029794]\n",
            "retrieved_y[0] [-0.62408894]\n",
            "retrieved_y [[-0.62408894]]\n",
            "y_adapt_diff_pred [[0.37015313]]\n",
            "63\n",
            "query_X [-0.78894542 -0.0139114  -0.37373954 -1.23080896 -0.39636896]\n",
            "query_y [0.50172215]\n",
            "retrieved_X[0] [ 0.353359   -1.14640293 -0.91699924 -0.72334483 -0.78717248]\n",
            "retrieved_y[0] [1.51849023]\n",
            "retrieved_y [[1.51849023]]\n",
            "y_adapt_diff_pred [[0.67918533]]\n",
            "64\n",
            "query_X [-0.85240677  0.08750575  0.98440971  0.29800701  0.00233683]\n",
            "query_y [1.50775993]\n",
            "retrieved_X[0] [ 0.353359   -1.14640293  0.16952016  1.31293526 -0.725786  ]\n",
            "retrieved_y[0] [0.5830694]\n",
            "retrieved_y [[0.5830694]]\n",
            "y_adapt_diff_pred [[1.1270149]]\n",
            "65\n",
            "query_X [ 1.08316459 -1.14640293  1.79929926  1.31293526 -0.64480461]\n",
            "query_y [-0.76778791]\n",
            "retrieved_X[0] [-0.59856135 -0.25055142  0.98440971  1.31293526 -0.45228543]\n",
            "retrieved_y[0] [1.32882499]\n",
            "retrieved_y [[1.32882499]]\n",
            "y_adapt_diff_pred [[-0.7053811]]\n",
            "66\n",
            "query_X [ 0.08364823  0.93264869 -0.37373954  0.29800701  1.95372701]\n",
            "query_y [-1.14871342]\n",
            "retrieved_X[0] [-0.59856135  1.4566373  -0.91699924  0.29800701  1.22111608]\n",
            "retrieved_y[0] [0.80681058]\n",
            "retrieved_y [[0.80681058]]\n",
            "y_adapt_diff_pred [[-1.3592489]]\n",
            "67\n",
            "query_X [ 1.08316459  0.98335726  0.16952016 -0.72334483  3.59591717]\n",
            "query_y [-3.11119762]\n",
            "retrieved_X[0] [-0.75721474  1.4566373  -0.91699924  1.31293526  1.1628772 ]\n",
            "retrieved_y[0] [0.3551231]\n",
            "retrieved_y [[0.3551231]]\n",
            "y_adapt_diff_pred [[-2.917064]]\n",
            "68\n",
            "query_X [-0.40817728 -1.14640293  0.16952016 -1.23080896 -0.68811254]\n",
            "query_y [0.86727725]\n",
            "retrieved_X[0] [-0.6620227  -1.14640293 -0.37373954 -1.23080896 -0.7332317 ]\n",
            "retrieved_y[0] [0.61149018]\n",
            "retrieved_y [[0.61149018]]\n",
            "y_adapt_diff_pred [[0.7810198]]\n",
            "69\n",
            "query_X [ 0.353359   -1.14640293 -1.18862909 -1.23080896 -0.8139756 ]\n",
            "query_y [1.77065219]\n",
            "retrieved_X[0] [-0.83654143  0.08750575  0.98440971 -1.23080896  0.16182432]\n",
            "retrieved_y[0] [0.76171433]\n",
            "retrieved_y [[0.76171433]]\n",
            "y_adapt_diff_pred [[1.5932062]]\n",
            "70\n",
            "query_X [ 0.08364823  0.2734372  -0.91699924  0.29800701 -0.43293789]\n",
            "query_y [0.51709258]\n",
            "retrieved_X[0] [ 2.25719968 -0.63931717  1.79929926  1.31293526 -0.5235573 ]\n",
            "retrieved_y[0] [-2.11879021]\n",
            "retrieved_y [[-2.11879021]]\n",
            "y_adapt_diff_pred [[0.92777663]]\n",
            "71\n",
            "query_X [-0.6620227   0.52698008  0.16952016  1.31293526  0.6207445 ]\n",
            "query_y [0.58625949]\n",
            "retrieved_X[0] [ 3.05046663 -1.14640293  0.98440971  1.31293526 -0.68435471]\n",
            "retrieved_y[0] [-1.04576058]\n",
            "retrieved_y [[-1.04576058]]\n",
            "y_adapt_diff_pred [[1.0770917]]\n",
            "72\n",
            "query_X [-0.28125457  0.35795149 -0.37373954  1.31293526 -0.06321994]\n",
            "query_y [-0.08742912]\n",
            "retrieved_X[0] [-0.71596486  1.00026012 -1.18862909 -0.72334483  0.14342308]\n",
            "retrieved_y[0] [0.58451944]\n",
            "retrieved_y [[0.58451944]]\n",
            "y_adapt_diff_pred [[0.7207918]]\n",
            "73\n",
            "query_X [-0.75721474  0.07060289  0.16952016  1.31293526 -0.27533312]\n",
            "query_y [1.04505216]\n",
            "retrieved_X[0] [ 0.67066578 -0.43648287 -0.91699924 -0.72334483 -0.73125617]\n",
            "retrieved_y[0] [0.71647308]\n",
            "retrieved_y [[0.71647308]]\n",
            "y_adapt_diff_pred [[1.3849412]]\n",
            "74\n",
            "query_X [-0.85240677  0.74671724 -0.91699924 -0.72334483  0.29727381]\n",
            "query_y [0.02523899]\n",
            "retrieved_X[0] [ 0.353359    0.08750575  0.98440971  1.31293526 -0.05320918]\n",
            "retrieved_y[0] [-0.81607424]\n",
            "retrieved_y [[-0.81607424]]\n",
            "y_adapt_diff_pred [[0.288482]]\n",
            "75\n",
            "query_X [-0.59856135 -0.89286005  1.79929926 -0.72334483 -0.54913189]\n",
            "query_y [0.39804429]\n",
            "retrieved_X[0] [-0.6620227  -1.14640293  0.98440971 -0.72334483 -0.65456129]\n",
            "retrieved_y[0] [0.7785348]\n",
            "retrieved_y [[0.7785348]]\n",
            "y_adapt_diff_pred [[0.4137293]]\n",
            "76\n",
            "query_X [ 1.62258612 -0.69002575  0.16952016 -0.72334483 -0.62314988]\n",
            "query_y [-1.18568945]\n",
            "retrieved_X[0] [ 3.05046663 -1.14640293  1.79929926 -0.72334483 -0.61148537]\n",
            "retrieved_y[0] [-2.20651764]\n",
            "retrieved_y [[-2.20651764]]\n",
            "y_adapt_diff_pred [[-1.208724]]\n",
            "77\n",
            "query_X [-0.71596486 -0.0139114  -0.37373954  1.31293526 -0.48357437]\n",
            "query_y [0.95877477]\n",
            "retrieved_X[0] [ 1.62258612 -0.89286005  1.79929926  1.31293526 -0.59125771]\n",
            "retrieved_y[0] [-1.3723096]\n",
            "retrieved_y [[-1.3723096]]\n",
            "y_adapt_diff_pred [[1.2625072]]\n",
            "78\n",
            "query_X [ 1.62258612 -0.5886086  -0.37373954 -1.23080896 -0.6561405 ]\n",
            "query_y [-1.07360135]\n",
            "retrieved_X[0] [ 1.08316459 -0.23364856  0.16952016 -0.72334483 -0.47844652]\n",
            "retrieved_y[0] [-1.18307937]\n",
            "retrieved_y [[-1.18307937]]\n",
            "y_adapt_diff_pred [[-1.0966519]]\n",
            "79\n",
            "query_X [-0.75721474  1.79469448 -1.18862909  1.31293526  0.37761851]\n",
            "query_y [-0.72936184]\n",
            "retrieved_X[0] [-0.75721474  1.4566373  -0.91699924  1.31293526  1.1628772 ]\n",
            "retrieved_y[0] [0.3551231]\n",
            "retrieved_y [[0.3551231]]\n",
            "y_adapt_diff_pred [[-0.83492863]]\n",
            "80\n",
            "query_X [-0.51923465  1.49044302 -0.37373954 -0.72334483  3.17277251]\n",
            "query_y [-0.96020822]\n",
            "retrieved_X[0] [-0.75721474  1.4566373  -0.91699924  1.31293526  1.1628772 ]\n",
            "retrieved_y[0] [0.3551231]\n",
            "retrieved_y [[0.3551231]]\n",
            "y_adapt_diff_pred [[-1.4432101]]\n",
            "81\n",
            "query_X [ 0.67066578 -0.23364856  0.16952016  1.31293526 -0.54221565]\n",
            "query_y [-0.69238582]\n",
            "retrieved_X[0] [ 2.25719968 -0.69002575  0.16952016 -0.72334483 -0.62314988]\n",
            "retrieved_y[0] [-1.77585574]\n",
            "retrieved_y [[-1.77585574]]\n",
            "y_adapt_diff_pred [[-0.6113846]]\n",
            "82\n",
            "query_X [ 1.62258612 -0.33506572 -1.18862909 -0.72334483 -0.77837481]\n",
            "query_y [0.94398436]\n",
            "retrieved_X[0] [-0.6620227   0.52698008  0.16952016  0.29800701  0.73817312]\n",
            "retrieved_y[0] [0.25072022]\n",
            "retrieved_y [[0.25072022]]\n",
            "y_adapt_diff_pred [[0.5859144]]\n",
            "83\n",
            "query_X [-0.71596486  0.74671724 -0.91699924 -0.72334483  0.29727381]\n",
            "query_y [1.20267151]\n",
            "retrieved_X[0] [-0.6620227   0.45936864 -1.18862909  1.31293526 -0.52741631]\n",
            "retrieved_y[0] [0.34366779]\n",
            "retrieved_y [[0.34366779]]\n",
            "y_adapt_diff_pred [[0.86956024]]\n",
            "84\n",
            "query_X [-0.71596486 -0.80834576  0.98440971  1.31293526 -0.62449859]\n",
            "query_y [0.36541839]\n",
            "retrieved_X[0] [-0.71596486 -0.47028859  0.98440971  0.29800701 -0.52135661]\n",
            "retrieved_y[0] [0.74358883]\n",
            "retrieved_y [[0.74358883]]\n",
            "y_adapt_diff_pred [[0.39855468]]\n",
            "85\n",
            "query_X [-0.28125457  0.93264869 -0.37373954 -0.72334483  2.25827159]\n",
            "query_y [-1.55892975]\n",
            "retrieved_X[0] [-0.71596486  0.93264869 -0.37373954  0.29800701  1.95372701]\n",
            "retrieved_y[0] [-0.08583407]\n",
            "retrieved_y [[-0.08583407]]\n",
            "y_adapt_diff_pred [[-1.3459553]]\n",
            "86\n",
            "query_X [ 1.08316459 -0.80834576  0.98440971 -0.72334483 -0.58376866]\n",
            "query_y [-1.22078041]\n",
            "retrieved_X[0] [-0.59856135 -0.23364856  0.16952016  0.29800701 -0.51780568]\n",
            "retrieved_y[0] [1.05723249]\n",
            "retrieved_y [[1.05723249]]\n",
            "y_adapt_diff_pred [[-1.3252468]]\n",
            "87\n",
            "query_X [-0.51923465  1.4566373  -0.91699924  0.29800701  1.22111608]\n",
            "query_y [0.74880897]\n",
            "retrieved_X[0] [-0.75721474  1.4566373  -0.91699924  1.31293526  1.1628772 ]\n",
            "retrieved_y[0] [0.3551231]\n",
            "retrieved_y [[0.3551231]]\n",
            "y_adapt_diff_pred [[0.4743659]]\n",
            "88\n",
            "query_X [-0.6620227   0.45936864 -1.18862909 -0.72334483 -0.5052291 ]\n",
            "query_y [0.60583503]\n",
            "retrieved_X[0] [ 1.08316459 -0.23364856  0.16952016 -1.23080896 -0.44768017]\n",
            "retrieved_y[0] [-1.34055372]\n",
            "retrieved_y [[-1.34055372]]\n",
            "y_adapt_diff_pred [[0.8025445]]\n",
            "89\n",
            "query_X [-0.59856135 -0.47028859  0.98440971  0.29800701 -0.52135661]\n",
            "query_y [1.05824752]\n",
            "retrieved_X[0] [ 0.08364823 -0.47028859  0.98440971 -1.23080896 -0.46016015]\n",
            "retrieved_y[0] [-0.66802515]\n",
            "retrieved_y [[-0.66802515]]\n",
            "y_adapt_diff_pred [[0.88079804]]\n",
            "90\n",
            "query_X [-0.12260118 -0.63931717  1.79929926 -1.23080896 -0.44460696]\n",
            "query_y [-0.75952268]\n",
            "retrieved_X[0] [-0.71596486 -1.14640293 -0.37373954 -0.72334483 -0.73609191]\n",
            "retrieved_y[0] [0.08193556]\n",
            "retrieved_y [[0.08193556]]\n",
            "y_adapt_diff_pred [[-0.9453488]]\n",
            "91\n",
            "query_X [-0.40817728 -0.47028859  0.98440971 -1.23080896 -0.46016015]\n",
            "query_y [0.05699487]\n",
            "retrieved_X[0] [ 0.08364823 -0.80834576  0.98440971 -1.23080896 -0.56414499]\n",
            "retrieved_y[0] [-0.47980995]\n",
            "retrieved_y [[-0.47980995]]\n",
            "y_adapt_diff_pred [[-0.26309136]]\n",
            "92\n",
            "query_X [-0.83654143 -0.47028859  1.79929926  1.31293526 -0.46875221]\n",
            "query_y [0.22606954]\n",
            "retrieved_X[0] [ 0.353359   -0.63931717  1.79929926 -0.72334483 -0.47029794]\n",
            "retrieved_y[0] [-1.16640391]\n",
            "retrieved_y [[-1.16640391]]\n",
            "y_adapt_diff_pred [[0.68949795]]\n",
            "93\n",
            "query_X [ 0.353359   -0.80834576  0.98440971 -0.72334483 -0.58376866]\n",
            "query_y [-0.66831516]\n",
            "retrieved_X[0] [-0.12260118 -1.14640293 -0.91699924 -0.72334483 -0.78717248]\n",
            "retrieved_y[0] [1.46483875]\n",
            "retrieved_y [[1.46483875]]\n",
            "y_adapt_diff_pred [[-0.80828035]]\n",
            "94\n",
            "query_X [-0.83654143  1.79469448 -1.18862909  0.29800701  0.41311257]\n",
            "query_y [-2.08007414]\n",
            "retrieved_X[0] [-0.83654143  1.49044302 -0.37373954 -0.72334483  3.17277251]\n",
            "retrieved_y[0] [-0.02783247]\n",
            "retrieved_y [[-0.02783247]]\n",
            "y_adapt_diff_pred [[-0.8959035]]\n",
            "95\n",
            "query_X [0.08364823 0.08750575 0.98440971 0.29800701 0.00233683]\n",
            "query_y [-1.11681254]\n",
            "retrieved_X[0] [-0.12260118 -0.43648287 -0.91699924  1.31293526 -0.73878782]\n",
            "retrieved_y[0] [1.0356269]\n",
            "retrieved_y [[1.0356269]]\n",
            "y_adapt_diff_pred [[-1.1270727]]\n",
            "96\n",
            "query_X [ 0.67066578  0.45936864 -1.18862909  1.31293526 -0.52741631]\n",
            "query_y [0.92078372]\n",
            "retrieved_X[0] [ 1.08316459  0.45936864 -1.18862909  0.29800701 -0.51814647]\n",
            "retrieved_y[0] [-0.08902416]\n",
            "retrieved_y [[-0.08902416]]\n",
            "y_adapt_diff_pred [[1.0356367]]\n",
            "97\n",
            "query_X [-0.6620227  -0.0139114  -0.37373954  1.31293526 -0.48357437]\n",
            "query_y [1.39813691]\n",
            "retrieved_X[0] [-0.40817728  0.45936864 -1.18862909 -1.23080896 -0.49643849]\n",
            "retrieved_y[0] [0.89903312]\n",
            "retrieved_y [[0.89903312]]\n",
            "y_adapt_diff_pred [[1.2719015]]\n",
            "98\n",
            "query_X [-0.12260118 -1.14640293  0.16952016 -0.72334483 -0.70037344]\n",
            "query_y [0.29393141]\n",
            "retrieved_X[0] [-0.59856135 -0.89286005  1.79929926  1.31293526 -0.59125771]\n",
            "retrieved_y[0] [0.16763293]\n",
            "retrieved_y [[0.16763293]]\n",
            "y_adapt_diff_pred [[0.5579881]]\n",
            "99\n",
            "query_X [ 0.67066578 -1.14640293 -1.18862909  0.29800701 -0.81604333]\n",
            "query_y [1.59026721]\n",
            "retrieved_X[0] [ 0.353359   -0.5886086  -0.37373954  0.29800701 -0.67921621]\n",
            "retrieved_y[0] [0.34700288]\n",
            "retrieved_y [[0.34700288]]\n",
            "y_adapt_diff_pred [[1.7766969]]\n",
            "100\n",
            "query_X [-0.28125457  0.93264869 -0.37373954 -1.23080896  2.33805337]\n",
            "query_y [-2.08645432]\n",
            "retrieved_X[0] [-0.59856135  1.4566373  -0.91699924 -1.23080896  1.35749362]\n",
            "retrieved_y[0] [-0.04508795]\n",
            "retrieved_y [[-0.04508795]]\n",
            "y_adapt_diff_pred [[-1.5021737]]\n",
            "101\n",
            "query_X [-0.12260118  0.45936864 -1.18862909 -0.72334483 -0.5052291 ]\n",
            "query_y [0.92774392]\n",
            "retrieved_X[0] [ 1.08316459  0.08750575  0.98440971 -1.23080896  0.16182432]\n",
            "retrieved_y[0] [-2.05136335]\n",
            "retrieved_y [[-2.05136335]]\n",
            "y_adapt_diff_pred [[1.0931495]]\n",
            "102\n",
            "query_X [-0.75721474 -0.69002575  0.16952016 -0.72334483 -0.62314988]\n",
            "query_y [-0.55492203]\n",
            "retrieved_X[0] [ 0.67066578 -1.14640293  1.79929926 -0.72334483 -0.61148537]\n",
            "retrieved_y[0] [-1.02183492]\n",
            "retrieved_y [[-1.02183492]]\n",
            "y_adapt_diff_pred [[0.32521132]]\n",
            "103\n",
            "query_X [-0.12260118 -0.23364856  0.16952016  1.31293526 -0.54221565]\n",
            "query_y [0.39949433]\n",
            "retrieved_X[0] [-0.28125457 -0.0139114  -0.37373954  0.29800701 -0.45078686]\n",
            "retrieved_y[0] [0.69849259]\n",
            "retrieved_y [[0.69849259]]\n",
            "y_adapt_diff_pred [[0.5671252]]\n",
            "104\n",
            "query_X [-0.51923465 -0.33506572 -1.18862909 -0.72334483 -0.77837481]\n",
            "query_y [0.02755906]\n",
            "retrieved_X[0] [ 0.353359   -0.5886086  -0.37373954 -1.23080896 -0.6561405 ]\n",
            "retrieved_y[0] [0.00232836]\n",
            "retrieved_y [[0.00232836]]\n",
            "y_adapt_diff_pred [[0.11574644]]\n",
            "105\n",
            "query_X [-0.51923465  0.08750575  0.98440971  0.29800701  0.00233683]\n",
            "query_y [0.12877185]\n",
            "retrieved_X[0] [ 0.67066578 -0.5886086  -0.37373954 -0.72334483 -0.6609306 ]\n",
            "retrieved_y[0] [-0.35742657]\n",
            "retrieved_y [[-0.35742657]]\n",
            "y_adapt_diff_pred [[-0.08685647]]\n",
            "106\n",
            "query_X [ 0.353359   -1.14640293  0.16952016 -0.72334483 -0.70037344]\n",
            "query_y [0.07352533]\n",
            "retrieved_X[0] [ 0.08364823 -1.14640293 -0.37373954 -0.72334483 -0.73609191]\n",
            "retrieved_y[0] [0.88815782]\n",
            "retrieved_y [[0.88815782]]\n",
            "y_adapt_diff_pred [[-0.06442648]]\n",
            "107\n",
            "query_X [-0.85240677  1.79469448 -1.18862909  0.29800701  0.41311257]\n",
            "query_y [-2.15837631]\n",
            "retrieved_X[0] [-0.28125457  0.93264869 -0.37373954  0.29800701  1.95372701]\n",
            "retrieved_y[0] [-0.90945682]\n",
            "retrieved_y [[-0.90945682]]\n",
            "y_adapt_diff_pred [[-0.9146688]]\n",
            "108\n",
            "query_X [-0.85240677  0.52698008  0.16952016  1.31293526  0.6207445 ]\n",
            "query_y [1.37508127]\n",
            "retrieved_X[0] [-0.40817728  0.74671724 -0.91699924 -0.72334483  0.29727381]\n",
            "retrieved_y[0] [0.24709512]\n",
            "retrieved_y [[0.24709512]]\n",
            "y_adapt_diff_pred [[1.5785443]]\n",
            "109\n",
            "query_X [-0.71596486 -0.23364856  0.16952016 -1.23080896 -0.44768017]\n",
            "query_y [0.96210987]\n",
            "retrieved_X[0] [-0.6620227  -0.80834576  0.98440971  1.31293526 -0.62449859]\n",
            "retrieved_y[0] [0.49012183]\n",
            "retrieved_y [[0.49012183]]\n",
            "y_adapt_diff_pred [[0.8184139]]\n",
            "110\n",
            "query_X [ 4.16104037 -1.14640293  1.79929926  1.31293526 -0.64480461]\n",
            "query_y [-2.33673123]\n",
            "retrieved_X[0] [0.353359   0.52698008 0.16952016 0.29800701 0.73817312]\n",
            "retrieved_y[0] [-1.72423432]\n",
            "retrieved_y [[-1.72423432]]\n",
            "y_adapt_diff_pred [[-2.094755]]\n",
            "111\n",
            "query_X [-0.6620227   1.4566373  -0.91699924  1.31293526  1.1628772 ]\n",
            "query_y [0.96849004]\n",
            "retrieved_X[0] [-0.75721474  1.4566373  -0.91699924  1.31293526  1.1628772 ]\n",
            "retrieved_y[0] [0.3551231]\n",
            "retrieved_y [[0.3551231]]\n",
            "y_adapt_diff_pred [[0.6025303]]\n",
            "112\n",
            "query_X [-0.28125457 -1.14640293  1.79929926  0.29800701 -0.63206752]\n",
            "query_y [0.25811542]\n",
            "retrieved_X[0] [-0.78894542 -0.47028859  1.79929926 -0.72334483 -0.40647937]\n",
            "retrieved_y[0] [0.5505885]\n",
            "retrieved_y [[0.5505885]]\n",
            "y_adapt_diff_pred [[0.16631195]]\n",
            "113\n",
            "query_X [-0.75721474 -0.23364856  0.16952016  0.29800701 -0.51780568]\n",
            "query_y [0.65702144]\n",
            "retrieved_X[0] [-0.78894542  0.08750575  0.98440971 -0.72334483  0.09190876]\n",
            "retrieved_y[0] [1.04447214]\n",
            "retrieved_y [[1.04447214]]\n",
            "y_adapt_diff_pred [[0.8317981]]\n",
            "114\n",
            "query_X [-0.75721474 -0.47028859  0.98440971  1.31293526 -0.54266902]\n",
            "query_y [0.27870599]\n",
            "retrieved_X[0] [-0.12260118 -0.63931717  1.79929926  1.31293526 -0.5235573 ]\n",
            "retrieved_y[0] [-0.11773495]\n",
            "retrieved_y [[-0.11773495]]\n",
            "y_adapt_diff_pred [[0.68361354]]\n",
            "115\n",
            "query_X [ 0.353359   -1.14640293  0.98440971 -0.72334483 -0.65456129]\n",
            "query_y [-0.19879219]\n",
            "retrieved_X[0] [-0.6620227  -0.69002575  0.16952016 -0.72334483 -0.62314988]\n",
            "retrieved_y[0] [0.57900929]\n",
            "retrieved_y [[0.57900929]]\n",
            "y_adapt_diff_pred [[-0.40159243]]\n",
            "116\n",
            "query_X [-0.85240677  0.52698008  0.16952016 -1.23080896  1.07551889]\n",
            "query_y [0.35715316]\n",
            "retrieved_X[0] [ 0.08364823  0.45936864 -1.18862909 -1.23080896 -0.49643849]\n",
            "retrieved_y[0] [0.53652311]\n",
            "retrieved_y [[0.53652311]]\n",
            "y_adapt_diff_pred [[0.62464124]]\n",
            "117\n",
            "query_X [-0.51923465 -1.14640293 -0.91699924  1.31293526 -0.7910782 ]\n",
            "query_y [0.54000321]\n",
            "retrieved_X[0] [-0.59856135  0.08750575  0.98440971 -1.23080896  0.16182432]\n",
            "retrieved_y[0] [-0.83187968]\n",
            "retrieved_y [[-0.83187968]]\n",
            "y_adapt_diff_pred [[0.7081096]]\n",
            "118\n",
            "query_X [-0.40817728 -1.14640293  1.79929926 -0.72334483 -0.61148537]\n",
            "query_y [-0.11410985]\n",
            "retrieved_X[0] [-0.75721474 -0.89286005  1.79929926 -0.72334483 -0.54913189]\n",
            "retrieved_y[0] [0.2646406]\n",
            "retrieved_y [[0.2646406]]\n",
            "y_adapt_diff_pred [[0.12890093]]\n",
            "119\n",
            "query_X [ 0.08364823 -0.23364856  0.16952016  1.31293526 -0.54221565]\n",
            "query_y [-0.22112281]\n",
            "retrieved_X[0] [-0.28125457  0.45936864 -1.18862909 -1.23080896 -0.49643849]\n",
            "retrieved_y[0] [0.82073096]\n",
            "retrieved_y [[0.82073096]]\n",
            "y_adapt_diff_pred [[0.1186808]]\n",
            "120\n",
            "query_X [-0.12260118  0.35795149 -0.37373954  1.31293526 -0.06321994]\n",
            "query_y [-0.17588156]\n",
            "retrieved_X[0] [-0.71596486  0.52698008  0.16952016  1.31293526  0.6207445 ]\n",
            "retrieved_y[0] [0.73271353]\n",
            "retrieved_y [[0.73271353]]\n",
            "y_adapt_diff_pred [[0.07690808]]\n",
            "121\n",
            "query_X [-0.59856135 -1.14640293 -1.18862909 -1.23080896 -0.8139756 ]\n",
            "query_y [0.04220446]\n",
            "retrieved_X[0] [-0.71596486 -0.80834576  0.98440971  0.29800701 -0.60890889]\n",
            "retrieved_y[0] [0.29088633]\n",
            "retrieved_y [[0.29088633]]\n",
            "y_adapt_diff_pred [[0.45498708]]\n",
            "122\n",
            "query_X [-0.83654143  2.6060317  -1.18862909 -0.72334483  0.89480039]\n",
            "query_y [-1.08027153]\n",
            "retrieved_X[0] [-0.75721474  1.4566373  -0.91699924  1.31293526  1.1628772 ]\n",
            "retrieved_y[0] [0.3551231]\n",
            "retrieved_y [[0.3551231]]\n",
            "y_adapt_diff_pred [[-0.7406127]]\n",
            "123\n",
            "query_X [ 1.08316459 -0.5886086  -0.37373954  1.31293526 -0.6931202 ]\n",
            "query_y [0.00986857]\n",
            "retrieved_X[0] [ 2.25719968 -1.14640293 -0.37373954  0.29800701 -0.74700714]\n",
            "retrieved_y[0] [-0.42137334]\n",
            "retrieved_y [[-0.42137334]]\n",
            "y_adapt_diff_pred [[-0.22298272]]\n",
            "124\n",
            "query_X [ 0.353359   -0.80834576  0.98440971  0.29800701 -0.60890889]\n",
            "query_y [-0.37758213]\n",
            "retrieved_X[0] [-0.12260118 -0.47028859  0.98440971  0.29800701 -0.52135661]\n",
            "retrieved_y[0] [-0.35554152]\n",
            "retrieved_y [[-0.35554152]]\n",
            "y_adapt_diff_pred [[-0.36027908]]\n",
            "125\n",
            "query_X [-0.71596486  2.6060317  -1.18862909 -0.72334483  0.89480039]\n",
            "query_y [1.76760711]\n",
            "retrieved_X[0] [-0.75721474  1.4566373  -0.91699924  1.31293526  1.1628772 ]\n",
            "retrieved_y[0] [0.3551231]\n",
            "retrieved_y [[0.3551231]]\n",
            "y_adapt_diff_pred [[0.31863782]]\n",
            "126\n",
            "query_X [ 2.25719968 -0.47028859  1.79929926  1.31293526 -0.46875221]\n",
            "query_y [-2.02004249]\n",
            "retrieved_X[0] [ 3.05046663 -1.14640293 -0.91699924 -1.23080896 -0.78562508]\n",
            "retrieved_y[0] [-0.83608479]\n",
            "retrieved_y [[-0.83608479]]\n",
            "y_adapt_diff_pred [[-1.9788303]]\n",
            "127\n",
            "query_X [-0.71596486 -0.33506572 -1.18862909 -1.23080896 -0.77660132]\n",
            "query_y [-0.68992076]\n",
            "retrieved_X[0] [-0.40817728 -0.23364856  0.16952016 -1.23080896 -0.44768017]\n",
            "retrieved_y[0] [-0.15587101]\n",
            "retrieved_y [[-0.15587101]]\n",
            "y_adapt_diff_pred [[-0.42969254]]\n",
            "128\n",
            "query_X [-0.83654143  0.74671724 -0.91699924 -0.72334483  0.29727381]\n",
            "query_y [0.23114468]\n",
            "retrieved_X[0] [-0.51923465  0.2734372  -0.91699924  1.31293526 -0.44460696]\n",
            "retrieved_y[0] [1.05128733]\n",
            "retrieved_y [[1.05128733]]\n",
            "y_adapt_diff_pred [[0.18373622]]\n",
            "129\n",
            "query_X [ 3.05046663 -0.89286005  1.79929926  1.31293526 -0.59125771]\n",
            "query_y [-2.26408423]\n",
            "retrieved_X[0] [ 3.05046663 -1.14640293  0.16952016  0.29800701 -0.71605823]\n",
            "retrieved_y[0] [-1.12275771]\n",
            "retrieved_y [[-1.12275771]]\n",
            "y_adapt_diff_pred [[-1.9854715]]\n",
            "130\n",
            "query_X [ 0.08364823  1.49044302 -0.37373954 -0.72334483  3.17277251]\n",
            "query_y [-2.2594441]\n",
            "retrieved_X[0] [-0.75721474  1.4566373  -0.91699924  1.31293526  1.1628772 ]\n",
            "retrieved_y[0] [0.3551231]\n",
            "retrieved_y [[0.3551231]]\n",
            "y_adapt_diff_pred [[-2.1507485]]\n",
            "131\n",
            "query_X [ 1.08316459 -0.5886086  -0.37373954 -0.72334483 -0.6609306 ]\n",
            "query_y [-0.57783266]\n",
            "retrieved_X[0] [ 0.67066578 -0.43648287 -0.91699924 -0.72334483 -0.73125617]\n",
            "retrieved_y[0] [0.71647308]\n",
            "retrieved_y [[0.71647308]]\n",
            "y_adapt_diff_pred [[-0.6505166]]\n",
            "132\n",
            "query_X [-0.78894542  2.6060317  -1.18862909 -0.72334483  0.89480039]\n",
            "query_y [-0.20589739]\n",
            "retrieved_X[0] [-0.75721474  1.4566373  -0.91699924  1.31293526  1.1628772 ]\n",
            "retrieved_y[0] [0.3551231]\n",
            "retrieved_y [[0.3551231]]\n",
            "y_adapt_diff_pred [[-0.47585228]]\n",
            "133\n",
            "query_X [-0.51923465  1.4566373  -0.91699924 -0.72334483  1.30226711]\n",
            "query_y [0.27653093]\n",
            "retrieved_X[0] [ 0.08364823  1.00026012 -1.18862909  1.31293526  0.07918232]\n",
            "retrieved_y[0] [1.29373402]\n",
            "retrieved_y [[1.29373402]]\n",
            "y_adapt_diff_pred [[-0.07941855]]\n",
            "134\n",
            "query_X [-0.28125457  2.6060317  -1.18862909 -0.72334483  0.89480039]\n",
            "query_y [-0.51910604]\n",
            "retrieved_X[0] [-0.75721474  1.4566373  -0.91699924  1.31293526  1.1628772 ]\n",
            "retrieved_y[0] [0.3551231]\n",
            "retrieved_y [[0.3551231]]\n",
            "y_adapt_diff_pred [[0.17135136]]\n",
            "135\n",
            "query_X [-0.51923465  0.45936864 -1.18862909  1.31293526 -0.52741631]\n",
            "query_y [0.98893561]\n",
            "retrieved_X[0] [-0.6620227   0.52698008  0.16952016  0.29800701  0.73817312]\n",
            "retrieved_y[0] [0.25072022]\n",
            "retrieved_y [[0.25072022]]\n",
            "y_adapt_diff_pred [[1.0071709]]\n",
            "136\n",
            "query_X [-0.40817728 -1.14640293  0.98440971  0.29800701 -0.67295112]\n",
            "query_y [0.28334612]\n",
            "retrieved_X[0] [-0.6620227  -0.47028859  0.98440971 -1.23080896 -0.46016015]\n",
            "retrieved_y[0] [0.87481745]\n",
            "retrieved_y [[0.87481745]]\n",
            "y_adapt_diff_pred [[0.48179185]]\n",
            "137\n",
            "query_X [ 0.08364823 -0.80834576  0.98440971 -0.72334483 -0.58376866]\n",
            "query_y [-0.46530955]\n",
            "retrieved_X[0] [-0.40817728 -0.47028859  0.98440971 -0.72334483 -0.48698761]\n",
            "retrieved_y[0] [0.07004523]\n",
            "retrieved_y [[0.07004523]]\n",
            "y_adapt_diff_pred [[-0.5246325]]\n",
            "138\n",
            "query_X [ 1.08316459 -1.14640293 -0.91699924  0.29800701 -0.78944636]\n",
            "query_y [1.15424017]\n",
            "retrieved_X[0] [ 1.62258612 -1.14640293  0.16952016  0.29800701 -0.71605823]\n",
            "retrieved_y[0] [-0.42528845]\n",
            "retrieved_y [[-0.42528845]]\n",
            "y_adapt_diff_pred [[1.4147942]]\n",
            "139\n",
            "query_X [ 0.67066578 -0.80834576  0.98440971 -0.72334483 -0.58376866]\n",
            "query_y [-0.87132076]\n",
            "retrieved_X[0] [-0.28125457 -0.80834576  0.98440971  1.31293526 -0.62449859]\n",
            "retrieved_y[0] [0.29871655]\n",
            "retrieved_y [[0.29871655]]\n",
            "y_adapt_diff_pred [[-1.0254513]]\n",
            "140\n",
            "query_X [-0.40817728  1.49044302 -0.37373954 -0.72334483  3.17277251]\n",
            "query_y [-1.49092287]\n",
            "retrieved_X[0] [-0.75721474  1.4566373  -0.91699924  1.31293526  1.1628772 ]\n",
            "retrieved_y[0] [0.3551231]\n",
            "retrieved_y [[0.3551231]]\n",
            "y_adapt_diff_pred [[-1.6787434]]\n",
            "141\n",
            "query_X [-0.81591649  0.45936864 -1.18862909 -0.72334483 -0.5052291 ]\n",
            "query_y [-0.80360389]\n",
            "retrieved_X[0] [-0.12260118 -0.33506572 -1.18862909  0.29800701 -0.78098072]\n",
            "retrieved_y[0] [0.62468555]\n",
            "retrieved_y [[0.62468555]]\n",
            "y_adapt_diff_pred [[-0.58608377]]\n",
            "142\n",
            "query_X [-0.40817728 -0.69002575  0.16952016 -0.72334483 -0.62314988]\n",
            "query_y [0.75591417]\n",
            "retrieved_X[0] [-0.28125457 -0.89286005  1.79929926  1.31293526 -0.59125771]\n",
            "retrieved_y[0] [0.26188553]\n",
            "retrieved_y [[0.26188553]]\n",
            "y_adapt_diff_pred [[0.793009]]\n",
            "143\n",
            "query_X [-0.6620227  -1.14640293  0.16952016 -0.72334483 -0.70037344]\n",
            "query_y [0.44473558]\n",
            "retrieved_X[0] [-0.81591649 -0.47028859  1.79929926 -0.72334483 -0.40647937]\n",
            "retrieved_y[0] [0.29103133]\n",
            "retrieved_y [[0.29103133]]\n",
            "y_adapt_diff_pred [[0.47382504]]\n",
            "144\n",
            "query_X [-0.75721474 -1.14640293  1.79929926 -1.23080896 -0.59541339]\n",
            "query_y [0.35947322]\n",
            "retrieved_X[0] [-0.78894542 -1.14640293  1.79929926 -1.23080896 -0.59541339]\n",
            "retrieved_y[0] [0.03031413]\n",
            "retrieved_y [[0.03031413]]\n",
            "y_adapt_diff_pred [[0.17893769]]\n",
            "145\n",
            "query_X [ 1.08316459  0.93264869 -0.37373954  1.31293526  1.7221636 ]\n",
            "query_y [-1.57734526]\n",
            "retrieved_X[0] [-0.75721474  1.4566373  -0.91699924  1.31293526  1.1628772 ]\n",
            "retrieved_y[0] [0.3551231]\n",
            "retrieved_y [[0.3551231]]\n",
            "y_adapt_diff_pred [[-1.631184]]\n",
            "146\n",
            "query_X [-0.40817728  2.18346023 -0.91699924 -0.72334483  1.9279166 ]\n",
            "query_y [-1.04866066]\n",
            "retrieved_X[0] [-0.75721474  1.4566373  -0.91699924  1.31293526  1.1628772 ]\n",
            "retrieved_y[0] [0.3551231]\n",
            "retrieved_y [[0.3551231]]\n",
            "y_adapt_diff_pred [[-0.7851607]]\n",
            "147\n",
            "query_X [-0.85240677  1.79469448 -1.18862909  1.31293526  0.37761851]\n",
            "query_y [-1.78789108]\n",
            "retrieved_X[0] [-0.59856135  1.4566373  -0.91699924  0.29800701  1.22111608]\n",
            "retrieved_y[0] [0.80681058]\n",
            "retrieved_y [[0.80681058]]\n",
            "y_adapt_diff_pred [[-0.94732386]]\n",
            "148\n",
            "query_X [-0.40817728  1.79469448 -1.18862909  0.29800701  0.41311257]\n",
            "query_y [0.23708984]\n",
            "retrieved_X[0] [-0.75721474  1.4566373  -0.91699924  1.31293526  1.1628772 ]\n",
            "retrieved_y[0] [0.3551231]\n",
            "retrieved_y [[0.3551231]]\n",
            "y_adapt_diff_pred [[0.78968346]]\n",
            "149\n",
            "query_X [-0.59856135 -0.23364856  0.16952016  1.31293526 -0.54221565]\n",
            "query_y [1.21296679]\n",
            "retrieved_X[0] [-0.75721474 -0.0139114  -0.37373954  0.29800701 -0.45078686]\n",
            "retrieved_y[0] [0.65354134]\n",
            "retrieved_y [[0.65354134]]\n",
            "y_adapt_diff_pred [[1.2323829]]\n",
            "150\n",
            "query_X [-0.6620227   0.08750575  0.98440971  0.29800701  0.00233683]\n",
            "query_y [0.52318274]\n",
            "retrieved_X[0] [ 0.67066578 -0.63931717  1.79929926  1.31293526 -0.5235573 ]\n",
            "retrieved_y[0] [-0.97180854]\n",
            "retrieved_y [[-0.97180854]]\n",
            "y_adapt_diff_pred [[0.7152034]]\n",
            "mse_error(y_test, retrieved_y_s) 1.5622630268347912\n",
            "mse_error(y_test, y_preds) 0.7785380282639087\n"
          ],
          "name": "stdout"
        }
      ]
    },
    {
      "cell_type": "code",
      "metadata": {
        "colab": {
          "base_uri": "https://localhost:8080/"
        },
        "id": "9Fg6FyDIOTjH",
        "outputId": "46223a84-9f3f-4576-c464-b097127823d2"
      },
      "source": [
        "retrieved_y_s"
      ],
      "execution_count": null,
      "outputs": [
        {
          "output_type": "execute_result",
          "data": {
            "text/plain": [
              "array([[ 0.90990842],\n",
              "       [-1.785281  ],\n",
              "       [ 1.36304594],\n",
              "       [-0.47110971],\n",
              "       [ 1.21876695],\n",
              "       [-0.74908239],\n",
              "       [ 0.29030631],\n",
              "       [ 0.1087613 ],\n",
              "       [ 0.30408169],\n",
              "       [-2.05136335],\n",
              "       [ 1.256758  ],\n",
              "       [-0.81302915],\n",
              "       [ 0.49418194],\n",
              "       [ 0.50781232],\n",
              "       [ 0.59495973],\n",
              "       [-0.37714712],\n",
              "       [-0.15587101],\n",
              "       [ 0.75939427],\n",
              "       [-0.20024223],\n",
              "       [ 0.56610393],\n",
              "       [ 0.75359411],\n",
              "       [ 0.80565054],\n",
              "       [ 0.52463278],\n",
              "       [ 0.3551231 ],\n",
              "       [ 0.62062544],\n",
              "       [-0.69630093],\n",
              "       [ 0.14008217],\n",
              "       [ 0.3551231 ],\n",
              "       [-0.55898214],\n",
              "       [ 0.94630443],\n",
              "       [-1.41479577],\n",
              "       [-0.93091741],\n",
              "       [ 0.34569784],\n",
              "       [-1.44075149],\n",
              "       [-0.0722037 ],\n",
              "       [ 0.80304047],\n",
              "       [ 1.15380516],\n",
              "       [ 0.3551231 ],\n",
              "       [ 0.3551231 ],\n",
              "       [-0.75459254],\n",
              "       [-0.69630093],\n",
              "       [-0.63278918],\n",
              "       [ 0.3551231 ],\n",
              "       [ 0.3551231 ],\n",
              "       [ 1.50674491],\n",
              "       [ 1.53661573],\n",
              "       [-1.33272351],\n",
              "       [ 0.55696868],\n",
              "       [ 1.02272154],\n",
              "       [-1.785281  ],\n",
              "       [ 0.3551231 ],\n",
              "       [-1.06171102],\n",
              "       [-0.1229551 ],\n",
              "       [-2.16794657],\n",
              "       [ 1.28633882],\n",
              "       [ 0.00653348],\n",
              "       [ 1.98960824],\n",
              "       [ 0.5072323 ],\n",
              "       [-0.31726046],\n",
              "       [ 1.50152476],\n",
              "       [-0.85145522],\n",
              "       [-0.01275206],\n",
              "       [-0.62408894],\n",
              "       [ 1.51849023],\n",
              "       [ 0.5830694 ],\n",
              "       [ 1.32882499],\n",
              "       [ 0.80681058],\n",
              "       [ 0.3551231 ],\n",
              "       [ 0.61149018],\n",
              "       [ 0.76171433],\n",
              "       [-2.11879021],\n",
              "       [-1.04576058],\n",
              "       [ 0.58451944],\n",
              "       [ 0.71647308],\n",
              "       [-0.81607424],\n",
              "       [ 0.7785348 ],\n",
              "       [-2.20651764],\n",
              "       [-1.3723096 ],\n",
              "       [-1.18307937],\n",
              "       [ 0.3551231 ],\n",
              "       [ 0.3551231 ],\n",
              "       [-1.77585574],\n",
              "       [ 0.25072022],\n",
              "       [ 0.34366779],\n",
              "       [ 0.74358883],\n",
              "       [-0.08583407],\n",
              "       [ 1.05723249],\n",
              "       [ 0.3551231 ],\n",
              "       [-1.34055372],\n",
              "       [-0.66802515],\n",
              "       [ 0.08193556],\n",
              "       [-0.47980995],\n",
              "       [-1.16640391],\n",
              "       [ 1.46483875],\n",
              "       [-0.02783247],\n",
              "       [ 1.0356269 ],\n",
              "       [-0.08902416],\n",
              "       [ 0.89903312],\n",
              "       [ 0.16763293],\n",
              "       [ 0.34700288],\n",
              "       [-0.04508795],\n",
              "       [-2.05136335],\n",
              "       [-1.02183492],\n",
              "       [ 0.69849259],\n",
              "       [ 0.00232836],\n",
              "       [-0.35742657],\n",
              "       [ 0.88815782],\n",
              "       [-0.90945682],\n",
              "       [ 0.24709512],\n",
              "       [ 0.49012183],\n",
              "       [-1.72423432],\n",
              "       [ 0.3551231 ],\n",
              "       [ 0.5505885 ],\n",
              "       [ 1.04447214],\n",
              "       [-0.11773495],\n",
              "       [ 0.57900929],\n",
              "       [ 0.53652311],\n",
              "       [-0.83187968],\n",
              "       [ 0.2646406 ],\n",
              "       [ 0.82073096],\n",
              "       [ 0.73271353],\n",
              "       [ 0.29088633],\n",
              "       [ 0.3551231 ],\n",
              "       [-0.42137334],\n",
              "       [-0.35554152],\n",
              "       [ 0.3551231 ],\n",
              "       [-0.83608479],\n",
              "       [-0.15587101],\n",
              "       [ 1.05128733],\n",
              "       [-1.12275771],\n",
              "       [ 0.3551231 ],\n",
              "       [ 0.71647308],\n",
              "       [ 0.3551231 ],\n",
              "       [ 1.29373402],\n",
              "       [ 0.3551231 ],\n",
              "       [ 0.25072022],\n",
              "       [ 0.87481745],\n",
              "       [ 0.07004523],\n",
              "       [-0.42528845],\n",
              "       [ 0.29871655],\n",
              "       [ 0.3551231 ],\n",
              "       [ 0.62468555],\n",
              "       [ 0.26188553],\n",
              "       [ 0.29103133],\n",
              "       [ 0.03031413],\n",
              "       [ 0.3551231 ],\n",
              "       [ 0.3551231 ],\n",
              "       [ 0.80681058],\n",
              "       [ 0.3551231 ],\n",
              "       [ 0.65354134],\n",
              "       [-0.97180854]])"
            ]
          },
          "metadata": {
            "tags": []
          },
          "execution_count": 51
        }
      ]
    },
    {
      "cell_type": "code",
      "metadata": {
        "colab": {
          "base_uri": "https://localhost:8080/"
        },
        "id": "Tbtf2M4MoV2q",
        "outputId": "452f8db1-67d1-4a29-a5f3-5ffa5f51bc4d"
      },
      "source": [
        "y_test"
      ],
      "execution_count": null,
      "outputs": [
        {
          "output_type": "execute_result",
          "data": {
            "text/plain": [
              "array([[-1.26181655],\n",
              "       [ 0.47069129],\n",
              "       [ 1.75528177],\n",
              "       [ 0.17531814],\n",
              "       [ 2.17100825],\n",
              "       [ 0.6445511 ],\n",
              "       [ 0.41326971],\n",
              "       [ 1.003291  ],\n",
              "       [ 1.03461187],\n",
              "       [ 1.2386325 ],\n",
              "       [ 0.39441919],\n",
              "       [ 0.19039855],\n",
              "       [ 0.42704509],\n",
              "       [ 0.11528648],\n",
              "       [ 0.56363886],\n",
              "       [-0.62104385],\n",
              "       [ 0.57842927],\n",
              "       [ 0.41529977],\n",
              "       [ 0.66108155],\n",
              "       [-0.228083  ],\n",
              "       [ 0.77389467],\n",
              "       [ 0.42994517],\n",
              "       [ 0.77534471],\n",
              "       [-0.23330315],\n",
              "       [ 0.74547388],\n",
              "       [ 1.33375513],\n",
              "       [ 0.60917012],\n",
              "       [-0.82100438],\n",
              "       [ 0.39064908],\n",
              "       [-0.25621378],\n",
              "       [-1.53384406],\n",
              "       [ 1.22891723],\n",
              "       [-2.69358609],\n",
              "       [ 0.03930438],\n",
              "       [ 0.95674472],\n",
              "       [ 0.12935187],\n",
              "       [ 0.43197523],\n",
              "       [-0.23475319],\n",
              "       [ 0.41355972],\n",
              "       [ 0.84219155],\n",
              "       [-0.29289979],\n",
              "       [-0.66295001],\n",
              "       [ 0.87133736],\n",
              "       [-0.61321364],\n",
              "       [-0.25737381],\n",
              "       [ 1.21789693],\n",
              "       [ 0.16168776],\n",
              "       [ 0.50404222],\n",
              "       [-0.23591322],\n",
              "       [-1.83675742],\n",
              "       [ 0.60061488],\n",
              "       [-0.5105508 ],\n",
              "       [ 0.86147709],\n",
              "       [-0.52360116],\n",
              "       [-2.0567285 ],\n",
              "       [ 1.16772554],\n",
              "       [ 1.24472267],\n",
              "       [-0.34916135],\n",
              "       [ 1.08246319],\n",
              "       [ 0.79927037],\n",
              "       [-1.74990003],\n",
              "       [-0.35133641],\n",
              "       [-0.2966699 ],\n",
              "       [ 0.50172215],\n",
              "       [ 1.50775993],\n",
              "       [-0.76778791],\n",
              "       [-1.14871342],\n",
              "       [-3.11119762],\n",
              "       [ 0.86727725],\n",
              "       [ 1.77065219],\n",
              "       [ 0.51709258],\n",
              "       [ 0.58625949],\n",
              "       [-0.08742912],\n",
              "       [ 1.04505216],\n",
              "       [ 0.02523899],\n",
              "       [ 0.39804429],\n",
              "       [-1.18568945],\n",
              "       [ 0.95877477],\n",
              "       [-1.07360135],\n",
              "       [-0.72936184],\n",
              "       [-0.96020822],\n",
              "       [-0.69238582],\n",
              "       [ 0.94398436],\n",
              "       [ 1.20267151],\n",
              "       [ 0.36541839],\n",
              "       [-1.55892975],\n",
              "       [-1.22078041],\n",
              "       [ 0.74880897],\n",
              "       [ 0.60583503],\n",
              "       [ 1.05824752],\n",
              "       [-0.75952268],\n",
              "       [ 0.05699487],\n",
              "       [ 0.22606954],\n",
              "       [-0.66831516],\n",
              "       [-2.08007414],\n",
              "       [-1.11681254],\n",
              "       [ 0.92078372],\n",
              "       [ 1.39813691],\n",
              "       [ 0.29393141],\n",
              "       [ 1.59026721],\n",
              "       [-2.08645432],\n",
              "       [ 0.92774392],\n",
              "       [-0.55492203],\n",
              "       [ 0.39949433],\n",
              "       [ 0.02755906],\n",
              "       [ 0.12877185],\n",
              "       [ 0.07352533],\n",
              "       [-2.15837631],\n",
              "       [ 1.37508127],\n",
              "       [ 0.96210987],\n",
              "       [-2.33673123],\n",
              "       [ 0.96849004],\n",
              "       [ 0.25811542],\n",
              "       [ 0.65702144],\n",
              "       [ 0.27870599],\n",
              "       [-0.19879219],\n",
              "       [ 0.35715316],\n",
              "       [ 0.54000321],\n",
              "       [-0.11410985],\n",
              "       [-0.22112281],\n",
              "       [-0.17588156],\n",
              "       [ 0.04220446],\n",
              "       [-1.08027153],\n",
              "       [ 0.00986857],\n",
              "       [-0.37758213],\n",
              "       [ 1.76760711],\n",
              "       [-2.02004249],\n",
              "       [-0.68992076],\n",
              "       [ 0.23114468],\n",
              "       [-2.26408423],\n",
              "       [-2.2594441 ],\n",
              "       [-0.57783266],\n",
              "       [-0.20589739],\n",
              "       [ 0.27653093],\n",
              "       [-0.51910604],\n",
              "       [ 0.98893561],\n",
              "       [ 0.28334612],\n",
              "       [-0.46530955],\n",
              "       [ 1.15424017],\n",
              "       [-0.87132076],\n",
              "       [-1.49092287],\n",
              "       [-0.80360389],\n",
              "       [ 0.75591417],\n",
              "       [ 0.44473558],\n",
              "       [ 0.35947322],\n",
              "       [-1.57734526],\n",
              "       [-1.04866066],\n",
              "       [-1.78789108],\n",
              "       [ 0.23708984],\n",
              "       [ 1.21296679],\n",
              "       [ 0.52318274]])"
            ]
          },
          "metadata": {
            "tags": []
          },
          "execution_count": 52
        }
      ]
    },
    {
      "cell_type": "code",
      "metadata": {
        "colab": {
          "base_uri": "https://localhost:8080/"
        },
        "id": "raxFSyEnoisj",
        "outputId": "573bf750-59d1-4c4e-cbc3-930598d9b36f"
      },
      "source": [
        "print(y_preds)"
      ],
      "execution_count": null,
      "outputs": [
        {
          "output_type": "stream",
          "text": [
            "[[-0.24871813]\n",
            " [-1.34793389]\n",
            " [ 2.71548248]\n",
            " [-0.05303612]\n",
            " [ 2.67785373]\n",
            " [ 0.07497716]\n",
            " [ 0.69485079]\n",
            " [ 0.70863294]\n",
            " [ 1.3433819 ]\n",
            " [-0.63706815]\n",
            " [ 1.84904363]\n",
            " [-0.33489571]\n",
            " [ 0.99032105]\n",
            " [ 0.49400739]\n",
            " [ 0.84696781]\n",
            " [-1.14608834]\n",
            " [ 0.45786532]\n",
            " [ 1.67405395]\n",
            " [ 0.31890022]\n",
            " [ 0.08361798]\n",
            " [ 1.27523912]\n",
            " [ 1.48081793]\n",
            " [ 1.34884301]\n",
            " [ 0.51157305]\n",
            " [ 1.34748703]\n",
            " [ 0.37327676]\n",
            " [ 0.65244822]\n",
            " [ 0.05384675]\n",
            " [-0.23373864]\n",
            " [ 0.72165095]\n",
            " [-3.23323204]\n",
            " [ 0.3190715 ]\n",
            " [-2.00418404]\n",
            " [-1.80100527]\n",
            " [ 0.63275766]\n",
            " [ 0.75021099]\n",
            " [ 2.13294771]\n",
            " [ 0.33836562]\n",
            " [ 0.54615781]\n",
            " [ 0.21542161]\n",
            " [-0.93397383]\n",
            " [-1.15677903]\n",
            " [ 1.08715981]\n",
            " [-0.92171484]\n",
            " [ 1.29600184]\n",
            " [ 2.58663333]\n",
            " [-0.66210777]\n",
            " [ 0.89527686]\n",
            " [ 0.79573905]\n",
            " [-3.77036947]\n",
            " [ 0.58142321]\n",
            " [-1.441651  ]\n",
            " [ 0.83293359]\n",
            " [-1.94483703]\n",
            " [-0.73870205]\n",
            " [ 1.08706817]\n",
            " [ 2.83526493]\n",
            " [ 0.67989879]\n",
            " [ 0.83328466]\n",
            " [ 2.28466608]\n",
            " [-3.02504659]\n",
            " [-0.78452915]\n",
            " [-0.25393581]\n",
            " [ 2.19767556]\n",
            " [ 1.71008427]\n",
            " [ 0.6234439 ]\n",
            " [-0.5524383 ]\n",
            " [-2.56194085]\n",
            " [ 1.39250999]\n",
            " [ 2.3549205 ]\n",
            " [-1.19101358]\n",
            " [ 0.03133111]\n",
            " [ 1.30531125]\n",
            " [ 2.1014143 ]\n",
            " [-0.52759223]\n",
            " [ 1.19226411]\n",
            " [-3.41524166]\n",
            " [-0.1098024 ]\n",
            " [-2.27973129]\n",
            " [-0.47980553]\n",
            " [-1.08808702]\n",
            " [-2.38724031]\n",
            " [ 0.83663459]\n",
            " [ 1.21322803]\n",
            " [ 1.14214351]\n",
            " [-1.43178933]\n",
            " [-0.26801432]\n",
            " [ 0.82948899]\n",
            " [-0.53800925]\n",
            " [ 0.21277289]\n",
            " [-0.86341324]\n",
            " [-0.74290131]\n",
            " [-0.47690597]\n",
            " [ 0.6565584 ]\n",
            " [-0.923736  ]\n",
            " [-0.0914458 ]\n",
            " [ 0.9466125 ]\n",
            " [ 2.17093461]\n",
            " [ 0.72562103]\n",
            " [ 2.1236998 ]\n",
            " [-1.54726161]\n",
            " [-0.95821381]\n",
            " [-0.6966236 ]\n",
            " [ 1.26561779]\n",
            " [ 0.1180748 ]\n",
            " [-0.44428304]\n",
            " [ 0.82373134]\n",
            " [-1.82412562]\n",
            " [ 1.82563938]\n",
            " [ 1.30853574]\n",
            " [-3.81898925]\n",
            " [ 0.9576534 ]\n",
            " [ 0.71690045]\n",
            " [ 1.87627022]\n",
            " [ 0.56587858]\n",
            " [ 0.17741685]\n",
            " [ 1.16116435]\n",
            " [-0.12377006]\n",
            " [ 0.39354154]\n",
            " [ 0.93941177]\n",
            " [ 0.80962161]\n",
            " [ 0.74587341]\n",
            " [-0.38548958]\n",
            " [-0.64435606]\n",
            " [-0.7158206 ]\n",
            " [ 0.67376092]\n",
            " [-2.81491513]\n",
            " [-0.58556354]\n",
            " [ 1.23502355]\n",
            " [-3.10822919]\n",
            " [-1.79562539]\n",
            " [ 0.06595645]\n",
            " [-0.12072918]\n",
            " [ 1.21431547]\n",
            " [ 0.52647446]\n",
            " [ 1.25789114]\n",
            " [ 1.35660931]\n",
            " [-0.45458728]\n",
            " [ 0.98950576]\n",
            " [-0.72673476]\n",
            " [-1.32362026]\n",
            " [ 0.03860178]\n",
            " [ 1.05489451]\n",
            " [ 0.76485637]\n",
            " [ 0.20925182]\n",
            " [-1.27606088]\n",
            " [-0.43003762]\n",
            " [-0.14051328]\n",
            " [ 1.14480656]\n",
            " [ 1.88592424]\n",
            " [-0.25660514]]\n"
          ],
          "name": "stdout"
        }
      ]
    },
    {
      "cell_type": "code",
      "metadata": {
        "id": "pUoFAyzzoOQc",
        "colab": {
          "base_uri": "https://localhost:8080/"
        },
        "outputId": "e84c0ec1-a0c5-44fa-a987-5b2bc90563a8"
      },
      "source": [
        "print(y_test.shape)\n",
        "print(y_preds.shape)"
      ],
      "execution_count": null,
      "outputs": [
        {
          "output_type": "stream",
          "text": [
            "(151, 1)\n",
            "(151, 1)\n"
          ],
          "name": "stdout"
        }
      ]
    },
    {
      "cell_type": "code",
      "metadata": {
        "id": "6YSXXY-xj5oa",
        "colab": {
          "base_uri": "https://localhost:8080/"
        },
        "outputId": "5de5ec55-11bd-4b4d-e814-a685827d925c"
      },
      "source": [
        "#calculate retrieval loss\n",
        "print(\"mse_error(y_test, retrieved_y_s)\",mse_error(y_test, retrieved_y_s))\n",
        "#calculate real loss\n",
        "print(\"mse_error(y_test, y_preds)\",mse_error(y_test, y_preds))"
      ],
      "execution_count": null,
      "outputs": [
        {
          "output_type": "stream",
          "text": [
            "mse_error(y_test, retrieved_y_s) 1.5622630268347912\n",
            "mse_error(y_test, y_preds) 0.7785380282639087\n"
          ],
          "name": "stdout"
        }
      ]
    },
    {
      "cell_type": "markdown",
      "metadata": {
        "id": "soZEZnFs_S9Y"
      },
      "source": [
        "#Results (Energy Efficiency - Heating)"
      ]
    },
    {
      "cell_type": "markdown",
      "metadata": {
        "id": "c5IdBtBr_S9e"
      },
      "source": [
        "##In order, Alpha 1"
      ]
    },
    {
      "cell_type": "markdown",
      "metadata": {
        "id": "5T9zpmP1_S9e"
      },
      "source": [
        "```\n",
        "# GLOBAL PARAMETER\n",
        "adapt_per_train_epoch = 100\n",
        "sim_per_train_epoch = 100\n",
        "# how many times the two models are trained for one query\n",
        "back_forth = 1\n",
        " \n",
        "# retrieval\n",
        "retrieve_size = 1\n",
        "bad_retrieve_size = 0\n",
        " \n",
        "num_of_training_queries = -1\n",
        "# model choice\n",
        "hard_or_easy = 'easy'#'hard' 'easy'\n",
        "model_separation = True\n",
        " \n",
        "using_margin = False\n",
        "alpha_margin =0.1\n",
        "alpha = 1\n",
        "beta = 0\n",
        " \n",
        "# use naive 1nn instead\n",
        "disable_retrieval = False\n",
        "# no adaptation\n",
        "disable_adaptation = False\n",
        " \n",
        "batch_mode = False\n",
        "batch_size = 100\n",
        "num_of_val_queries = -1\n",
        "```"
      ]
    },
    {
      "cell_type": "markdown",
      "metadata": {
        "id": "FZcwcQr8EOO_"
      },
      "source": [
        "```\n",
        "mse_error(y_test, retrieved_y_s) 0.04896068801664355\n",
        "mse_error(y_test, y_preds) 0.03774465913800048\n",
        "\n",
        "mse_error(y_test, retrieved_y_s) 0.13825905478142503\n",
        "mse_error(y_test, y_preds) 1.87555500484051\n",
        "\n",
        "mse_error(y_test, retrieved_y_s) 0.19802488279162295\n",
        "mse_error(y_test, y_preds) 0.052257921780963536\n",
        "\n",
        "mse_error(y_test, retrieved_y_s) 0.09375361951280378\n",
        "mse_error(y_test, y_preds) 0.09776411706868614\n",
        "\n",
        "mse_error(y_test, retrieved_y_s) 0.0796324572354464\n",
        "mse_error(y_test, y_preds) 0.4079969373900367\n",
        "\n",
        "mse_error(y_test, retrieved_y_s) 0.06529916925961432\n",
        "mse_error(y_test, y_preds) 0.08387142360091963\n",
        "\n",
        "mse_error(y_test, retrieved_y_s) 0.055432041747754485\n",
        "mse_error(y_test, y_preds) 0.02945454489732847\n",
        "\n",
        "mse_error(y_test, retrieved_y_s) 0.02750794405825516\n",
        "mse_error(y_test, y_preds) 0.11708792019844895\n",
        "\n",
        "mse_error(y_test, retrieved_y_s) 0.10298399952670723\n",
        "mse_error(y_test, y_preds) 0.108535432923483\n",
        "\n",
        "mse_error(y_test, retrieved_y_s) 0.2673427662562399\n",
        "mse_error(y_test, y_preds) 0.0959604097346806\n",
        "```"
      ]
    },
    {
      "cell_type": "markdown",
      "metadata": {
        "id": "1mrxQumO_S9e"
      },
      "source": [
        "##In order, Beta 1\n",
        "```\n",
        "# GLOBAL PARAMETER\n",
        "adapt_per_train_epoch = 100\n",
        "sim_per_train_epoch = 100\n",
        "# how many times the two models are trained for one query\n",
        "back_forth = 1\n",
        " \n",
        "# retrieval\n",
        "retrieve_size = 1\n",
        "bad_retrieve_size = 0\n",
        " \n",
        "num_of_training_queries = -1\n",
        "# model choice\n",
        "hard_or_easy = 'easy'#'hard' 'easy'\n",
        "model_separation = True\n",
        " \n",
        "using_margin = False\n",
        "alpha_margin =0.1\n",
        "alpha = 0\n",
        "beta = 1\n",
        " \n",
        "# use naive 1nn instead\n",
        "disable_retrieval = False\n",
        "# no adaptation\n",
        "disable_adaptation = False\n",
        " \n",
        "batch_mode = False\n",
        "batch_size = 100\n",
        "num_of_val_queries = -1\n",
        "```"
      ]
    },
    {
      "cell_type": "markdown",
      "metadata": {
        "id": "AUnv7TlwJZVQ"
      },
      "source": [
        "```\n",
        "mse_error(y_test, retrieved_y_s) 0.5819128644031599\n",
        "mse_error(y_test, y_preds) 0.06942077459791646\n",
        "\n",
        "mse_error(y_test, retrieved_y_s) 0.4941958865461067\n",
        "mse_error(y_test, y_preds) 0.18520142992357044\n",
        "\n",
        "mse_error(y_test, retrieved_y_s) 0.9239786450072673\n",
        "mse_error(y_test, y_preds) 0.03781581223908655\n",
        "\n",
        "mse_error(y_test, retrieved_y_s) 1.0000517638127195\n",
        "mse_error(y_test, y_preds) 0.09258420359974057\n",
        "\n",
        "mse_error(y_test, retrieved_y_s) 2.849121755806663\n",
        "mse_error(y_test, y_preds) 0.18972715720469874\n",
        "\n",
        "mse_error(y_test, retrieved_y_s) 2.1501250596762964\n",
        "mse_error(y_test, y_preds) 0.05748802099312788\n",
        "\n",
        "mse_error(y_test, retrieved_y_s) 0.30961588764294196\n",
        "mse_error(y_test, y_preds) 0.3223331002986696\n",
        "\n",
        "mse_error(y_test, retrieved_y_s) 1.1335240172622465\n",
        "mse_error(y_test, y_preds) 0.0423217960513657\n",
        "\n",
        "mse_error(y_test, retrieved_y_s) 1.1382670855503358\n",
        "mse_error(y_test, y_preds) 0.1428204429882398\n",
        "\n",
        "mse_error(y_test, retrieved_y_s) 2.3979082220890273\n",
        "mse_error(y_test, y_preds) 0.3600245907759511\n",
        "```"
      ]
    },
    {
      "cell_type": "markdown",
      "metadata": {
        "id": "jOedahKi_S9e"
      },
      "source": [
        "##Batch mode, back-n-forth\n"
      ]
    },
    {
      "cell_type": "markdown",
      "metadata": {
        "id": "zUx0crXLlirO"
      },
      "source": [
        "```\n",
        "# GLOBAL PARAMETER\n",
        "adapt_per_train_epoch = 5\n",
        "sim_per_train_epoch = 5\n",
        "# how many times the two models are trained for one query\n",
        "back_forth = 1\n",
        " \n",
        "# retrieval\n",
        "retrieve_size = 1\n",
        "bad_retrieve_size = 0\n",
        " \n",
        "num_of_training_queries = -1\n",
        "# model choice\n",
        "hard_or_easy = 'easy'#'hard' 'easy'\n",
        "model_separation = True\n",
        " \n",
        "using_margin = False\n",
        "alpha_margin =0.1\n",
        "alpha = 0.8\n",
        "beta = 0.2\n",
        " \n",
        "# use naive 1nn instead\n",
        "disable_retrieval = False\n",
        "# no adaptation\n",
        "disable_adaptation = False\n",
        " \n",
        "batch_mode = True\n",
        "batch_size = 32\n",
        "num_of_val_queries = -1\n",
        "```"
      ]
    },
    {
      "cell_type": "markdown",
      "metadata": {
        "id": "8oy7TK8nll1G"
      },
      "source": [
        "```\n",
        "mse_error(y_test, retrieved_y_s) 0.03357668300930115\n",
        "mse_error(y_test, y_preds) 0.028904903126832877\n",
        "\n",
        "mse_error(y_test, retrieved_y_s) 0.09711864988337508\n",
        "mse_error(y_test, y_preds) 0.08919824946145367\n",
        "\n",
        "mse_error(y_test, retrieved_y_s) 0.2089565344086956\n",
        "mse_error(y_test, y_preds) 0.13920806328534735\n",
        "\n",
        "mse_error(y_test, retrieved_y_s) 0.15332945656895475\n",
        "mse_error(y_test, y_preds) 0.11767428288691334\n",
        "\n",
        "mse_error(y_test, retrieved_y_s) 0.14361975013330525\n",
        "mse_error(y_test, y_preds) 0.09522780586634487\n",
        "\n",
        "mse_error(y_test, retrieved_y_s) 0.09119830185025297\n",
        "mse_error(y_test, y_preds) 0.0732996462391745\n",
        "\n",
        "mse_error(y_test, retrieved_y_s) 0.1761240411767083\n",
        "mse_error(y_test, y_preds) 0.13818245536526508\n",
        "\n",
        "mse_error(y_test, retrieved_y_s) 0.17653006621457035\n",
        "mse_error(y_test, y_preds) 0.15346412657199138\n",
        "\n",
        "mse_error(y_test, retrieved_y_s) 0.0795727841102493\n",
        "mse_error(y_test, y_preds) 0.060813525568383237\n",
        "\n",
        "mse_error(y_test, retrieved_y_s) 0.20547878671580733\n",
        "mse_error(y_test, y_preds) 0.16015501122173825\n",
        "```"
      ]
    },
    {
      "cell_type": "markdown",
      "metadata": {
        "id": "Aw0xO9wf_S9f"
      },
      "source": [
        "```\n",
        "# GLOBAL PARAMETER\n",
        "adapt_per_train_epoch = 10\n",
        "sim_per_train_epoch = 10\n",
        "# how many times the two models are trained for one query\n",
        "back_forth = 1\n",
        " \n",
        "# retrieval\n",
        "retrieve_size = 1\n",
        "bad_retrieve_size = 0\n",
        " \n",
        "num_of_training_queries = -1\n",
        "# model choice\n",
        "hard_or_easy = 'easy'#'hard' 'easy'\n",
        "model_separation = True\n",
        " \n",
        "using_margin = False\n",
        "alpha_margin =0.1\n",
        "alpha = 0.5\n",
        "beta = 0.5\n",
        " \n",
        "# use naive 1nn instead\n",
        "disable_retrieval = False\n",
        "# no adaptation\n",
        "disable_adaptation = False\n",
        " \n",
        "batch_mode = True\n",
        "batch_size = 32\n",
        "num_of_val_queries = -1\n",
        "```"
      ]
    },
    {
      "cell_type": "markdown",
      "metadata": {
        "id": "SSRxUkBEhPo8"
      },
      "source": [
        "```\n",
        "mse_error(y_test, retrieved_y_s) 1.4862198268696576\n",
        "mse_error(y_test, y_preds) 0.8041369252130874\n",
        "\n",
        "mse_error(y_test, retrieved_y_s) 0.3990644334758029\n",
        "mse_error(y_test, y_preds) 0.2908930312447029\n",
        "\n",
        "mse_error(y_test, retrieved_y_s) 0.357448342318824\n",
        "mse_error(y_test, y_preds) 0.13494489658680311\n",
        "```"
      ]
    },
    {
      "cell_type": "markdown",
      "metadata": {
        "id": "WD5Qwf2ibugb"
      },
      "source": [
        "#Results (Yacht Hydrodynamics)"
      ]
    },
    {
      "cell_type": "markdown",
      "metadata": {
        "id": "a6tvFc19bugd"
      },
      "source": [
        "##Baseline\n",
        "```\n",
        "# GLOBAL PARAMETER\n",
        "adapt_per_train_epoch = 30\n",
        "sim_per_train_epoch = 30\n",
        "# how many times the two models are trained for one query\n",
        "back_forth = 1\n",
        " \n",
        "# retrieval\n",
        "retrieve_size = 1\n",
        "bad_retrieve_size = 0\n",
        " \n",
        "num_of_training_queries = -1\n",
        "# model choice\n",
        "hard_or_easy = 'easy'#'hard' 'easy'\n",
        "model_separation = True\n",
        " \n",
        "using_margin = False\n",
        "alpha_margin =0.1\n",
        "alpha = 0.5\n",
        "beta = 0.5\n",
        " \n",
        "# use naive 1nn instead\n",
        "disable_retrieval = True\n",
        "# no adaptation\n",
        "disable_adaptation = True\n",
        " \n",
        "batch_mode = False\n",
        "batch_size = 100\n",
        "num_of_val_queries = 100\n",
        "```"
      ]
    },
    {
      "cell_type": "markdown",
      "metadata": {
        "id": "wGzWPXvJceZM"
      },
      "source": [
        "```\n",
        "mse_error(y_test, retrieved_y_s) 0.25116338343839717\n",
        "mse_error(y_test, y_preds) 0.25116338343839717\n",
        "```"
      ]
    },
    {
      "cell_type": "markdown",
      "metadata": {
        "id": "5Lst-Gcrbuge"
      },
      "source": [
        "##Just Retrieval"
      ]
    },
    {
      "cell_type": "markdown",
      "metadata": {
        "id": "cub6pb7Kbuge"
      },
      "source": [
        "```\n",
        "# GLOBAL PARAMETER\n",
        "adapt_per_train_epoch = 100\n",
        "sim_per_train_epoch = 100\n",
        "# how many times the two models are trained for one query\n",
        "back_forth = 1\n",
        " \n",
        "# retrieval\n",
        "retrieve_size = 1\n",
        "bad_retrieve_size = 0\n",
        " \n",
        "num_of_training_queries = -1\n",
        "# model choice\n",
        "hard_or_easy = 'easy'#'hard' 'easy'\n",
        "model_separation = True\n",
        " \n",
        "using_margin = False\n",
        "alpha_margin =0.1\n",
        "alpha = 1\n",
        "beta = 0\n",
        " \n",
        "# use naive 1nn instead\n",
        "disable_retrieval = False\n",
        "# no adaptation\n",
        "disable_adaptation = True\n",
        " \n",
        "batch_mode = False\n",
        "batch_size = 100\n",
        "num_of_val_queries = -1\n",
        "```"
      ]
    },
    {
      "cell_type": "markdown",
      "metadata": {
        "id": "uCTygJwqeKlw"
      },
      "source": [
        "```\n",
        "mse_error(y_test, retrieved_y_s) 0.062358762059665354\n",
        "mse_error(y_test, y_preds) 0.062358762059665354\n",
        "```"
      ]
    },
    {
      "cell_type": "markdown",
      "metadata": {
        "id": "KibIx36tdiw_"
      },
      "source": [
        "```\n",
        "mse_error(y_test, retrieved_y_s) 0.0592947882293856\n",
        "mse_error(y_test, y_preds) 0.0592947882293856\n",
        "```"
      ]
    },
    {
      "cell_type": "markdown",
      "metadata": {
        "id": "KUxheLSwbugf"
      },
      "source": [
        "With bad retrieval\n",
        "```\n",
        "# GLOBAL PARAMETER\n",
        "adapt_per_train_epoch = 50\n",
        "sim_per_train_epoch = 50\n",
        "# how many times the two models are trained for one query\n",
        "back_forth = 1\n",
        " \n",
        "# retrieval\n",
        "retrieve_size = 1\n",
        "bad_retrieve_size = 19\n",
        " \n",
        "num_of_training_queries = -1\n",
        "# model choice\n",
        "hard_or_easy = 'easy'#'hard' 'easy'\n",
        "model_separation = True\n",
        " \n",
        "using_margin = False\n",
        "alpha_margin =0.1\n",
        "alpha = 1\n",
        "beta = 0\n",
        " \n",
        "# use naive 1nn instead\n",
        "disable_retrieval = False\n",
        "# no adaptation\n",
        "disable_adaptation = True\n",
        " \n",
        "batch_mode = False\n",
        "batch_size = 100\n",
        "num_of_val_queries = -1\n",
        "```"
      ]
    },
    {
      "cell_type": "markdown",
      "metadata": {
        "id": "D4-PZcr2bugf"
      },
      "source": [
        "##Just adaptation\n",
        "\n",
        "```\n",
        "# GLOBAL PARAMETER\n",
        "adapt_per_train_epoch = 50\n",
        "sim_per_train_epoch = 50\n",
        "# how many times the two models are trained for one query\n",
        "back_forth = 1\n",
        " \n",
        "# retrieval\n",
        "retrieve_size = 1\n",
        "bad_retrieve_size = 0\n",
        " \n",
        "num_of_training_queries = -1\n",
        "# model choice\n",
        "hard_or_easy = 'easy'#'hard' 'easy'\n",
        "model_separation = True\n",
        " \n",
        "using_margin = False\n",
        "alpha_margin =0.1\n",
        "alpha = 1\n",
        "beta = 0\n",
        " \n",
        "# use naive 1nn instead\n",
        "disable_retrieval = True\n",
        "# no adaptation\n",
        "disable_adaptation = False\n",
        " \n",
        "batch_mode = False\n",
        "batch_size = 100\n",
        "num_of_val_queries = -1\n",
        "```"
      ]
    },
    {
      "cell_type": "markdown",
      "metadata": {
        "id": "CtuvM8sQkrhf"
      },
      "source": [
        "```\n",
        "mse_error(y_test, retrieved_y_s) 0.168377120060221\n",
        "mse_error(y_test, y_preds) 0.16837605632714872\n",
        "```"
      ]
    },
    {
      "cell_type": "markdown",
      "metadata": {
        "id": "DXgQ5P17kdpG"
      },
      "source": [
        "```\n",
        "mse_error(y_test, retrieved_y_s) 0.15236735306006033\n",
        "mse_error(y_test, y_preds) 0.15236782689190728\n",
        "```"
      ]
    },
    {
      "cell_type": "markdown",
      "metadata": {
        "id": "gu20g1MDbugg"
      },
      "source": [
        "##In order, Alpha 1"
      ]
    },
    {
      "cell_type": "markdown",
      "metadata": {
        "id": "Gq1UHp_Hbugg"
      },
      "source": [
        "```\n",
        "# GLOBAL PARAMETER\n",
        "adapt_per_train_epoch = 100\n",
        "sim_per_train_epoch = 100\n",
        "# how many times the two models are trained for one query\n",
        "back_forth = 1\n",
        " \n",
        "# retrieval\n",
        "retrieve_size = 1\n",
        "bad_retrieve_size = 0\n",
        " \n",
        "num_of_training_queries = -1\n",
        "# model choice\n",
        "hard_or_easy = 'easy'#'hard' 'easy'\n",
        "model_separation = True\n",
        " \n",
        "using_margin = False\n",
        "alpha_margin =0.1\n",
        "alpha = 1\n",
        "beta = 0\n",
        " \n",
        "# use naive 1nn instead\n",
        "disable_retrieval = False\n",
        "# no adaptation\n",
        "disable_adaptation = False\n",
        " \n",
        "batch_mode = False\n",
        "batch_size = 100\n",
        "num_of_val_queries = -1\n",
        "```"
      ]
    },
    {
      "cell_type": "markdown",
      "metadata": {
        "id": "3ebZw2hj5EW_"
      },
      "source": [
        "```\n",
        "mse_error(y_test, retrieved_y_s) 0.022469132034920278\n",
        "mse_error(y_test, y_preds) 0.027133662832116948\n",
        "\n",
        "mse_error(y_test, retrieved_y_s) 0.04251103345571824\n",
        "mse_error(y_test, y_preds) 0.062422214023263034\n",
        "\n",
        "mse_error(y_test, retrieved_y_s) 0.0854176922656829\n",
        "mse_error(y_test, y_preds) 0.3792443247930353\n",
        "\n",
        "mse_error(y_test, retrieved_y_s) 0.18851339031485023\n",
        "mse_error(y_test, y_preds) 0.10574884006328257\n",
        "\n",
        "mse_error(y_test, retrieved_y_s) 0.04770993670323811\n",
        "mse_error(y_test, y_preds) 0.27339456880269686\n",
        "\n",
        "mse_error(y_test, retrieved_y_s) 0.12032400860047178\n",
        "mse_error(y_test, y_preds) 0.32955364052006897\n",
        "\n",
        "mse_error(y_test, retrieved_y_s) 0.1620284433875545\n",
        "mse_error(y_test, y_preds) 0.07804431217921669\n",
        "\n",
        "mse_error(y_test, retrieved_y_s) 0.06145113438733849\n",
        "mse_error(y_test, y_preds) 0.07490798881075642\n",
        "\n",
        "mse_error(y_test, retrieved_y_s) 0.13368304207701964\n",
        "mse_error(y_test, y_preds) 0.2801522549933505\n",
        "\n",
        "mse_error(y_test, retrieved_y_s) 0.0983958287974424\n",
        "mse_error(y_test, y_preds) 0.11268963259325351\n",
        "```"
      ]
    },
    {
      "cell_type": "markdown",
      "metadata": {
        "id": "E7NKoXBEbugh"
      },
      "source": [
        "##In order, Beta 1\n",
        "```\n",
        "# GLOBAL PARAMETER\n",
        "adapt_per_train_epoch = 100\n",
        "sim_per_train_epoch = 100\n",
        "# how many times the two models are trained for one query\n",
        "back_forth = 1\n",
        " \n",
        "# retrieval\n",
        "retrieve_size = 1\n",
        "bad_retrieve_size = 0\n",
        " \n",
        "num_of_training_queries = -1\n",
        "# model choice\n",
        "hard_or_easy = 'easy'#'hard' 'easy'\n",
        "model_separation = True\n",
        " \n",
        "using_margin = False\n",
        "alpha_margin =0.1\n",
        "alpha = 0\n",
        "beta = 1\n",
        " \n",
        "# use naive 1nn instead\n",
        "disable_retrieval = False\n",
        "# no adaptation\n",
        "disable_adaptation = False\n",
        " \n",
        "batch_mode = False\n",
        "batch_size = 100\n",
        "num_of_val_queries = -1\n",
        "```"
      ]
    },
    {
      "cell_type": "markdown",
      "metadata": {
        "id": "dbin74sWHJeA"
      },
      "source": [
        "```\n",
        "mse_error(y_test, retrieved_y_s) 1.316866920672403\n",
        "mse_error(y_test, y_preds) 0.23842434234632454\n",
        "\n",
        "mse_error(y_test, retrieved_y_s) 0.5437332822687408\n",
        "mse_error(y_test, y_preds) 0.14258684318538195\n",
        "\n",
        "mse_error(y_test, retrieved_y_s) 1.098907623981999\n",
        "mse_error(y_test, y_preds) 0.06591577154584774\n",
        "\n",
        "mse_error(y_test, retrieved_y_s) 1.6094558425249048\n",
        "mse_error(y_test, y_preds) 0.9838749643069185\n",
        "\n",
        "mse_error(y_test, retrieved_y_s) 1.8578247003580595\n",
        "mse_error(y_test, y_preds) 0.11567575916744646\n",
        "\n",
        "mse_error(y_test, retrieved_y_s) 0.09400500269178277\n",
        "mse_error(y_test, y_preds) 0.20207439960731496\n",
        "\n",
        "mse_error(y_test, retrieved_y_s) 2.2346803441918204\n",
        "mse_error(y_test, y_preds) 0.3129804285880325\n",
        "\n",
        "mse_error(y_test, retrieved_y_s) 0.8038596350586015\n",
        "mse_error(y_test, y_preds) 0.09173574761668987\n",
        "\n",
        "mse_error(y_test, retrieved_y_s) 0.9960577326669695\n",
        "mse_error(y_test, y_preds) 0.0408670895934164\n",
        "\n",
        "mse_error(y_test, retrieved_y_s) 1.2770041566182562\n",
        "mse_error(y_test, y_preds) 0.07285450749732388\n",
        "```"
      ]
    },
    {
      "cell_type": "markdown",
      "metadata": {
        "id": "qO4oahRzbugh"
      },
      "source": [
        "##Batch mode, back-n-forth\n"
      ]
    },
    {
      "cell_type": "markdown",
      "metadata": {
        "id": "sXmx_CXo3oLj"
      },
      "source": [
        "```\n",
        "# GLOBAL PARAMETER\n",
        "adapt_per_train_epoch = 10\n",
        "sim_per_train_epoch = 10\n",
        "# how many times the two models are trained for one query\n",
        "back_forth = 1\n",
        " \n",
        "# retrieval\n",
        "retrieve_size = 1\n",
        "bad_retrieve_size = 0\n",
        " \n",
        "num_of_training_queries = -1\n",
        "# model choice\n",
        "hard_or_easy = 'easy'#'hard' 'easy'\n",
        "model_separation = True\n",
        " \n",
        "using_margin = True\n",
        "alpha_margin =0.1\n",
        "alpha = 0.9\n",
        "beta = 0.1\n",
        " \n",
        "# use naive 1nn instead\n",
        "disable_retrieval = False\n",
        "# no adaptation\n",
        "disable_adaptation = False\n",
        " \n",
        "batch_mode = True\n",
        "batch_size = 32\n",
        "num_of_val_queries = -1\n",
        "```"
      ]
    },
    {
      "cell_type": "markdown",
      "metadata": {
        "id": "GpWJGA6n3qUF"
      },
      "source": [
        "```\n",
        "mse_error(y_test, retrieved_y_s) 0.5533549888856671\n",
        "mse_error(y_test, y_preds) 0.4729385460332798\n",
        "\n",
        "mse_error(y_test, retrieved_y_s) 0.04609254331814832\n",
        "mse_error(y_test, y_preds) 0.06334535612860775\n",
        "\n",
        "mse_error(y_test, retrieved_y_s) 0.26684819610445465\n",
        "mse_error(y_test, y_preds) 0.20754980349119398\n",
        "\n",
        "mse_error(y_test, retrieved_y_s) 0.24263760565984183\n",
        "mse_error(y_test, y_preds) 0.11553423582083021\n",
        "\n",
        "mse_error(y_test, retrieved_y_s) 0.11582250821341641\n",
        "mse_error(y_test, y_preds) 0.05549110194533378\n",
        "\n",
        "mse_error(y_test, retrieved_y_s) 0.25135820396732733\n",
        "mse_error(y_test, y_preds) 0.1709596106305274\n",
        "\n",
        "mse_error(y_test, retrieved_y_s) 0.5781283144010156\n",
        "mse_error(y_test, y_preds) 0.10875922891995585\n",
        "\n",
        "mse_error(y_test, retrieved_y_s) 0.1511011463482901\n",
        "mse_error(y_test, y_preds) 0.12261614939856448\n",
        "\n",
        "mse_error(y_test, retrieved_y_s) 0.19129156823043675\n",
        "mse_error(y_test, y_preds) 0.21821602889633052\n",
        "\n",
        "mse_error(y_test, retrieved_y_s) 0.2403897208882306\n",
        "mse_error(y_test, y_preds) 0.10684261990040538\n",
        "```"
      ]
    },
    {
      "cell_type": "markdown",
      "metadata": {
        "id": "RNGUOlR5q94G"
      },
      "source": [
        "#Results (Car)"
      ]
    },
    {
      "cell_type": "markdown",
      "metadata": {
        "id": "WILZ5rrSU7m_"
      },
      "source": [
        "##Baseline: pure 1nn\n",
        "\n",
        "```\n",
        "# GLOBAL PARAMETER\n",
        "adapt_per_train_epoch = 1\n",
        "sim_per_train_epoch = 3\n",
        "# how many times the two models are trained for one query\n",
        "back_forth = 1\n",
        " \n",
        "# retrieval\n",
        "retrieve_size = 1\n",
        "bad_retrieve_size = 0\n",
        " \n",
        "num_of_training_queries = -1\n",
        "# model choice\n",
        "hard_or_easy = 'hard'#'hard' 'easy'\n",
        "model_separation = True\n",
        " \n",
        "using_margin = False\n",
        "alpha_margin =0.5\n",
        "alpha = 0.5\n",
        "beta = 0.5\n",
        " \n",
        "# use naive 1nn instead\n",
        "disable_retrieval = True\n",
        "# no adaptation\n",
        "disable_adaptation = True\n",
        "\n",
        "batch_mode = False\n",
        "batch_size = 32\n",
        "num_of_val_queries = 100\n",
        "```"
      ]
    },
    {
      "cell_type": "markdown",
      "metadata": {
        "id": "gxBmf0QZUztS"
      },
      "source": [
        "\n",
        "\n",
        "```\n",
        "mse_error(y_test, retrieved_y_s) 0.021406928839911278\n",
        "mse_error(y_test, y_preds) 0.021406928839911278\n",
        "```\n",
        "\n"
      ]
    },
    {
      "cell_type": "markdown",
      "metadata": {
        "id": "H0J2XIU2uJ2B"
      },
      "source": [
        "##Just retrieval \n",
        "\n",
        "```\n",
        "# GLOBAL PARAMETER\n",
        "adapt_per_train_epoch = 100\n",
        "sim_per_train_epoch = 100\n",
        "# how many times the two models are trained for one query\n",
        "back_forth = 1\n",
        " \n",
        "# retrieval\n",
        "retrieve_size = 1\n",
        "bad_retrieve_size = 0\n",
        " \n",
        "num_of_training_queries = 1000\n",
        "# model choice\n",
        "hard_or_easy = 'hard'#'hard' 'easy'\n",
        "model_separation = True\n",
        " \n",
        "using_margin = False\n",
        "alpha_margin =0.1\n",
        "alpha = 1\n",
        "beta = 0\n",
        " \n",
        "# use naive 1nn instead\n",
        "disable_retrieval = False\n",
        "# no adaptation\n",
        "disable_adaptation = True\n",
        " \n",
        "batch_mode = False\n",
        "batch_size = 100\n",
        "num_of_val_queries = 100\n",
        "```"
      ]
    },
    {
      "cell_type": "markdown",
      "metadata": {
        "id": "z4jyHUlF9bp4"
      },
      "source": [
        "```\n",
        "mse_error(y_test, retrieved_y_s) 0.22051566612236967\n",
        "mse_error(y_test, y_preds) 0.22051566612236967\n",
        "```"
      ]
    },
    {
      "cell_type": "markdown",
      "metadata": {
        "id": "Bb7YuRuUfsS_"
      },
      "source": [
        "##Just adaptation: 1nn+ adaptation\n",
        "\n",
        "```\n",
        "# GLOBAL PARAMETER\n",
        "adapt_per_train_epoch = 40\n",
        "sim_per_train_epoch = 3\n",
        "# how many times the two models are trained for one query\n",
        "back_forth = 1\n",
        " \n",
        "# retrieval\n",
        "retrieve_size = 1\n",
        "bad_retrieve_size = 0\n",
        " \n",
        "num_of_training_queries = 1000\n",
        "# model choice\n",
        "hard_or_easy = 'hard'#'hard' 'easy'\n",
        "model_separation = True\n",
        " \n",
        "using_margin = False\n",
        "alpha_margin =0.5\n",
        "alpha = 0.5\n",
        "beta = 0.5\n",
        " \n",
        "# use naive 1nn instead\n",
        "disable_retrieval = True\n",
        "# no adaptation\n",
        "disable_adaptation = False\n",
        "\n",
        "batch_mode = False\n",
        "batch_size = 32\n",
        "num_of_val_queries = 100\n",
        "```"
      ]
    },
    {
      "cell_type": "markdown",
      "metadata": {
        "id": "TlJwNmMipED_"
      },
      "source": [
        "```\n",
        "mse_error(y_test, retrieved_y_s) 0.04554783058394877\n",
        "mse_error(y_test, y_preds) 0.04555953105582095\n",
        "```"
      ]
    },
    {
      "cell_type": "markdown",
      "metadata": {
        "id": "6RPAP89O3RdD"
      },
      "source": [
        "##In order, alpha 1\n",
        "\n",
        "```\n",
        "# GLOBAL PARAMETER\n",
        "adapt_per_train_epoch = 100\n",
        "sim_per_train_epoch = 100\n",
        "# how many times the two models are trained for one query\n",
        "back_forth = 1\n",
        " \n",
        "# retrieval\n",
        "retrieve_size = 1\n",
        "bad_retrieve_size = 0\n",
        " \n",
        "num_of_training_queries = 1000\n",
        "# model choice\n",
        "hard_or_easy = 'hard'#'hard' 'easy'\n",
        "model_separation = True\n",
        " \n",
        "using_margin = False\n",
        "alpha_margin =0.1\n",
        "alpha = 1\n",
        "beta = 0\n",
        " \n",
        "# use naive 1nn instead\n",
        "disable_retrieval = False\n",
        "# no adaptation\n",
        "disable_adaptation = False\n",
        " \n",
        "batch_mode = False\n",
        "batch_size = 100\n",
        "num_of_val_queries = 100\n",
        "```"
      ]
    },
    {
      "cell_type": "markdown",
      "metadata": {
        "id": "xrkGi9i85Sn1"
      },
      "source": [
        "```\n",
        "mse_error(y_test, retrieved_y_s) 0.13204576052457181\n",
        "mse_error(y_test, y_preds) 0.10112312536584532\n",
        "```\n",
        "\n",
        "\n",
        "```\n",
        "```"
      ]
    },
    {
      "cell_type": "markdown",
      "metadata": {
        "id": "KOQsPSfkzg-h"
      },
      "source": [
        "```\n",
        "mse_error(y_test, retrieved_y_s) 0.670599671011124\n",
        "mse_error(y_test, y_preds) 0.22546807054123996\n",
        "```"
      ]
    },
    {
      "cell_type": "markdown",
      "metadata": {
        "id": "pUpeCm12wj-V"
      },
      "source": [
        "```\n",
        "mse_error(y_test, retrieved_y_s) 0.2090307060474565\n",
        "mse_error(y_test, y_preds) 0.12947463416794605\n",
        "```"
      ]
    },
    {
      "cell_type": "markdown",
      "metadata": {
        "id": "oZHiyjq3IhiM"
      },
      "source": [
        "```\n",
        "mse_error(y_test, retrieved_y_s) 0.24420325113893193\n",
        "mse_error(y_test, y_preds) 0.36328196360171583\n",
        "```"
      ]
    },
    {
      "cell_type": "markdown",
      "metadata": {
        "id": "h69AcmCUNRHJ"
      },
      "source": [
        "```\n",
        "mse_error(y_test, retrieved_y_s) 0.24420325113893193\n",
        "mse_error(y_test, y_preds) 0.36328196360171583\n",
        "```"
      ]
    },
    {
      "cell_type": "markdown",
      "metadata": {
        "id": "2Vfv52ghZXdr"
      },
      "source": [
        "```\n",
        "mse_error(y_test, retrieved_y_s) 0.42316665388423197\n",
        "mse_error(y_test, y_preds) 0.5962574633292452\n",
        "```"
      ]
    },
    {
      "cell_type": "markdown",
      "metadata": {
        "id": "jjacm8X6xBOl"
      },
      "source": [
        "##In order, beta 1\n",
        "\n",
        "```\n",
        "# GLOBAL PARAMETER\n",
        "adapt_per_train_epoch = 100\n",
        "sim_per_train_epoch = 100\n",
        "# how many times the two models are trained for one query\n",
        "back_forth = 1\n",
        " \n",
        "# retrieval\n",
        "retrieve_size = 1\n",
        "bad_retrieve_size = 0\n",
        " \n",
        "num_of_training_queries = 1000\n",
        "# model choice\n",
        "hard_or_easy = 'hard'#'hard' 'easy'\n",
        "model_separation = True\n",
        " \n",
        "using_margin = False\n",
        "alpha_margin =0.1\n",
        "alpha = 0\n",
        "beta = 1\n",
        " \n",
        "# use naive 1nn instead\n",
        "disable_retrieval = False\n",
        "# no adaptation\n",
        "disable_adaptation = False\n",
        " \n",
        "batch_mode = False\n",
        "batch_size = 100\n",
        "num_of_val_queries = 100\n",
        "```"
      ]
    },
    {
      "cell_type": "markdown",
      "metadata": {
        "id": "vgv126dMlRFZ"
      },
      "source": [
        "```\n",
        "mse_error(y_test, retrieved_y_s) 1.3440959964232262\n",
        "mse_error(y_test, y_preds) 0.26192260210446044\n",
        "```"
      ]
    },
    {
      "cell_type": "markdown",
      "metadata": {
        "id": "Or_HJcRXiIUo"
      },
      "source": [
        "```\n",
        "mse_error(y_test, retrieved_y_s) 1.1836444471724061\n",
        "mse_error(y_test, y_preds) 0.33112206936187893\n",
        "```"
      ]
    },
    {
      "cell_type": "markdown",
      "metadata": {
        "id": "KZ5amiqheghP"
      },
      "source": [
        "```\n",
        "mse_error(y_test, retrieved_y_s) 3.5374071431685805\n",
        "mse_error(y_test, y_preds) 0.18891238839110855\n",
        "```"
      ]
    },
    {
      "cell_type": "markdown",
      "metadata": {
        "id": "GotqKitgcjtv"
      },
      "source": [
        "```\n",
        "mse_error(y_test, retrieved_y_s) 0.9072356471147421\n",
        "mse_error(y_test, y_preds) 0.225288185002274\n",
        "```"
      ]
    },
    {
      "cell_type": "markdown",
      "metadata": {
        "id": "z595Dx06Zhu9"
      },
      "source": [
        "```\n",
        "mse_error(y_test, retrieved_y_s) 1.1069814319422602\n",
        "mse_error(y_test, y_preds) 0.17702227022632053\n",
        "```"
      ]
    },
    {
      "cell_type": "markdown",
      "metadata": {
        "id": "3MbC_0R_w_KF"
      },
      "source": [
        "##Batch mode, no back-n-forth"
      ]
    },
    {
      "cell_type": "markdown",
      "metadata": {
        "id": "LAMYEJ575lkv"
      },
      "source": [
        "```\n",
        "# GLOBAL PARAMETER\n",
        "adapt_per_train_epoch = 5\n",
        "sim_per_train_epoch = 5\n",
        "# how many times the two models are trained for one query\n",
        "back_forth = 1\n",
        " \n",
        "# retrieval\n",
        "retrieve_size = 1\n",
        "bad_retrieve_size = 0\n",
        " \n",
        "num_of_training_queries = 1000\n",
        "# model choice\n",
        "hard_or_easy = 'hard'#'hard' 'easy'\n",
        "model_separation = True\n",
        " \n",
        "using_margin = False\n",
        "alpha_margin =0.05\n",
        "alpha = 0.5\n",
        "beta = 0.5\n",
        " \n",
        "# use naive 1nn instead\n",
        "disable_retrieval = False\n",
        "# no adaptation\n",
        "disable_adaptation = False\n",
        " \n",
        "batch_mode = True\n",
        "batch_size = 50\n",
        "num_of_val_queries = 100\n",
        "```"
      ]
    },
    {
      "cell_type": "markdown",
      "metadata": {
        "id": "iu9kVhCHCMN0"
      },
      "source": [
        "```\n",
        "mse_error(y_test, retrieved_y_s) 1.0201486322341502\n",
        "mse_error(y_test, y_preds) 0.25953550206147546\n",
        "```"
      ]
    },
    {
      "cell_type": "markdown",
      "metadata": {
        "id": "do54r1Ez5uN4"
      },
      "source": [
        "```\n",
        "mse_error(y_test, retrieved_y_s) 0.6845301206117389\n",
        "mse_error(y_test, y_preds) 0.35241454045951737\n",
        "```"
      ]
    },
    {
      "cell_type": "markdown",
      "metadata": {
        "id": "Axiuv1R6AoY0"
      },
      "source": [
        "```\n",
        "# GLOBAL PARAMETER\n",
        "adapt_per_train_epoch = 5\n",
        "sim_per_train_epoch = 5\n",
        "# how many times the two models are trained for one query\n",
        "back_forth = 1\n",
        " \n",
        "# retrieval\n",
        "retrieve_size = 1\n",
        "bad_retrieve_size = 0\n",
        " \n",
        "num_of_training_queries = 1000\n",
        "# model choice\n",
        "hard_or_easy = 'hard'#'hard' 'easy'\n",
        "model_separation = True\n",
        " \n",
        "using_margin = False\n",
        "alpha_margin =0.05\n",
        "alpha = 0.9\n",
        "beta = 0.1\n",
        " \n",
        "# use naive 1nn instead\n",
        "disable_retrieval = False\n",
        "# no adaptation\n",
        "disable_adaptation = False\n",
        " \n",
        "batch_mode = True\n",
        "batch_size = 50\n",
        "num_of_val_queries = 100\n",
        "```"
      ]
    },
    {
      "cell_type": "markdown",
      "metadata": {
        "id": "zdefNb8ZsM2j"
      },
      "source": [
        "```\n",
        "mse_error(y_test, retrieved_y_s) 0.27950890591069405\n",
        "mse_error(y_test, y_preds) 0.16286443984315244\n",
        "```"
      ]
    },
    {
      "cell_type": "markdown",
      "metadata": {
        "id": "8T8mbd2ROHZK"
      },
      "source": [
        "```\n",
        "mse_error(y_test, retrieved_y_s) 0.24440905201348648\n",
        "mse_error(y_test, y_preds) 0.14399497857144386\n",
        "```"
      ]
    },
    {
      "cell_type": "markdown",
      "metadata": {
        "id": "bn4UXw7cICtk"
      },
      "source": [
        "```\n",
        "mse_error(y_test, retrieved_y_s) 0.8849519385172987\n",
        "mse_error(y_test, y_preds) 0.5543961065192525\n",
        "```"
      ]
    },
    {
      "cell_type": "markdown",
      "metadata": {
        "id": "lLjhtDJn_0Cs"
      },
      "source": [
        "```\n",
        "mse_error(y_test, retrieved_y_s) 0.32507433221595794\n",
        "mse_error(y_test, y_preds) 0.19996892615797837\n",
        "```"
      ]
    },
    {
      "cell_type": "markdown",
      "metadata": {
        "id": "WWMvc4oea0FK"
      },
      "source": [
        "```\n",
        "mse_error(y_test, retrieved_y_s) 0.5099855567668763\n",
        "mse_error(y_test, y_preds) 0.23779425752490574\n",
        "```"
      ]
    },
    {
      "cell_type": "markdown",
      "metadata": {
        "id": "iex-em3NxB2T"
      },
      "source": [
        "```\n",
        "# GLOBAL PARAMETER\n",
        "adapt_per_train_epoch = 100\n",
        "sim_per_train_epoch = 100\n",
        "# how many times the two models are trained for one query\n",
        "back_forth = 1\n",
        " \n",
        "# retrieval\n",
        "retrieve_size = 1\n",
        "bad_retrieve_size = 0\n",
        " \n",
        "num_of_training_queries = 1000\n",
        "# model choice\n",
        "hard_or_easy = 'hard'#'hard' 'easy'\n",
        "model_separation = True\n",
        " \n",
        "using_margin = False\n",
        "alpha_margin =0.05\n",
        "alpha = 0.9\n",
        "beta = 0.1\n",
        " \n",
        "# use naive 1nn instead\n",
        "disable_retrieval = False\n",
        "# no adaptation\n",
        "disable_adaptation = False\n",
        " \n",
        "batch_mode = True\n",
        "batch_size = 100\n",
        "num_of_val_queries = 100\n",
        "```"
      ]
    },
    {
      "cell_type": "markdown",
      "metadata": {
        "id": "IDhTJ-np6gcF"
      },
      "source": [
        "```\n",
        "mse_error(y_test, retrieved_y_s) 0.4931109324549002\n",
        "mse_error(y_test, y_preds) 0.3129729621819068\n",
        "```"
      ]
    },
    {
      "cell_type": "markdown",
      "metadata": {
        "id": "Y_bWRxDBkeGd"
      },
      "source": [
        "```\n",
        "mse_error(y_test, retrieved_y_s) 0.21912772664913452\n",
        "mse_error(y_test, y_preds) 0.1492138345744347\n",
        "```"
      ]
    },
    {
      "cell_type": "markdown",
      "metadata": {
        "id": "taQlGBBJRquY"
      },
      "source": [
        "#Results (Artificial)"
      ]
    },
    {
      "cell_type": "markdown",
      "metadata": {
        "id": "WAnM5OtZRusM"
      },
      "source": [
        "Data setting\n",
        "\n",
        "\n",
        "```\n",
        "dimension = 4  #4 #2 #3\n",
        "value_range = 6  #6 #30 #10\n",
        "```\n"
      ]
    },
    {
      "cell_type": "markdown",
      "metadata": {
        "id": "prwAjxa4Y5V_"
      },
      "source": [
        "##Baseline\n",
        "```\n",
        "# GLOBAL PARAMETER\n",
        "adapt_per_train_epoch = 30\n",
        "sim_per_train_epoch = 30\n",
        "# how many times the two models are trained for one query\n",
        "back_forth = 1\n",
        " \n",
        "# retrieval\n",
        "retrieve_size = 1\n",
        "bad_retrieve_size = 0\n",
        " \n",
        "num_of_training_queries = -1\n",
        "# model choice\n",
        "hard_or_easy = 'easy'#'hard' 'easy'\n",
        "model_separation = True\n",
        " \n",
        "using_margin = False\n",
        "alpha_margin =0.1\n",
        "alpha = 0.5\n",
        "beta = 0.5\n",
        " \n",
        "# use naive 1nn instead\n",
        "disable_retrieval = True\n",
        "# no adaptation\n",
        "disable_adaptation = True\n",
        " \n",
        "batch_mode = False\n",
        "batch_size = 100\n",
        "num_of_val_queries = 100\n",
        "```"
      ]
    },
    {
      "cell_type": "markdown",
      "metadata": {
        "id": "Mcc1fcqVcsTc"
      },
      "source": [
        "```\n",
        "mse_error(y_test, retrieved_y_s) 0.2727272727272727\n",
        "mse_error(y_test, y_preds) 0.2727272727272727\n",
        "```"
      ]
    },
    {
      "cell_type": "markdown",
      "metadata": {
        "id": "moy1F09gQelH"
      },
      "source": [
        "```\n",
        "mse_error(y_test, retrieved_y_s) 0.08571428571428572\n",
        "mse_error(y_test, y_preds) 0.08571428571428572\n",
        "```"
      ]
    },
    {
      "cell_type": "markdown",
      "metadata": {
        "id": "2dk8uPQJY5WA"
      },
      "source": [
        "##Just Retrieval"
      ]
    },
    {
      "cell_type": "markdown",
      "metadata": {
        "id": "qL2oYaJzY5WA"
      },
      "source": [
        "```\n",
        "# GLOBAL PARAMETER\n",
        "adapt_per_train_epoch = 100\n",
        "sim_per_train_epoch = 100\n",
        "# how many times the two models are trained for one query\n",
        "back_forth = 1\n",
        " \n",
        "# retrieval\n",
        "retrieve_size = 1\n",
        "bad_retrieve_size = 9\n",
        " \n",
        "num_of_training_queries = -1\n",
        "# model choice\n",
        "hard_or_easy = 'easy'#'hard' 'easy'\n",
        "model_separation = True\n",
        " \n",
        "using_margin = False\n",
        "alpha_margin =0.1\n",
        "alpha = 1\n",
        "beta = 0\n",
        " \n",
        "# use naive 1nn instead\n",
        "disable_retrieval = False\n",
        "# no adaptation\n",
        "disable_adaptation = True\n",
        " \n",
        "batch_mode = False\n",
        "batch_size = 100\n",
        "num_of_val_queries = 100\n",
        "```"
      ]
    },
    {
      "cell_type": "markdown",
      "metadata": {
        "id": "NT7FWzjyGiEf"
      },
      "source": [
        "```\n",
        "mse_error(y_test, retrieved_y_s) 0.006293706293706294\n",
        "mse_error(y_test, y_preds) 0.006293706293706294\n",
        "```"
      ]
    },
    {
      "cell_type": "markdown",
      "metadata": {
        "id": "jXpaOAKHY5WC"
      },
      "source": [
        "##Just adaptation\n",
        "\n",
        "```\n",
        "\n",
        "```"
      ]
    },
    {
      "cell_type": "markdown",
      "metadata": {
        "id": "kuxUU77FY5WD"
      },
      "source": [
        "##In order, Alpha 1"
      ]
    },
    {
      "cell_type": "markdown",
      "metadata": {
        "id": "ghIu5OgeY5WD"
      },
      "source": [
        "```\n",
        "# GLOBAL PARAMETER\n",
        "adapt_per_train_epoch = 100\n",
        "sim_per_train_epoch = 100\n",
        "# how many times the two models are trained for one query\n",
        "back_forth = 1\n",
        " \n",
        "# retrieval\n",
        "retrieve_size = 1\n",
        "bad_retrieve_size = 0\n",
        " \n",
        "num_of_training_queries = 1000\n",
        "# model choice\n",
        "hard_or_easy = 'hard'#'hard' 'easy'\n",
        "model_separation = True\n",
        " \n",
        "using_margin = False\n",
        "alpha_margin =0.1\n",
        "alpha = 1\n",
        "beta = 0\n",
        " \n",
        "# use naive 1nn instead\n",
        "disable_retrieval = False\n",
        "# no adaptation\n",
        "disable_adaptation = False\n",
        " \n",
        "batch_mode = False\n",
        "batch_size = 100\n",
        "num_of_val_queries = 100\n",
        "```"
      ]
    },
    {
      "cell_type": "markdown",
      "metadata": {
        "id": "AUwBixDkqwel"
      },
      "source": [
        "```\n",
        "mse_error(y_test, retrieved_y_s) 0.05034965034965035\n",
        "mse_error(y_test, y_preds) 0.18929548431690865\n",
        "\n",
        "mse_error(y_test, retrieved_y_s) 0.05244755244755246\n",
        "mse_error(y_test, y_preds) 0.033359415549769164\n",
        "\n",
        "mse_error(y_test, retrieved_y_s) 0.023076923076923075\n",
        "mse_error(y_test, y_preds) 0.3383667866439738\n",
        "\n",
        "mse_error(y_test, retrieved_y_s) 0.0965034965034965\n",
        "mse_error(y_test, y_preds) 0.0987404551055495\n",
        "\n",
        "mse_error(y_test, retrieved_y_s) 0.020979020979020976\n",
        "mse_error(y_test, y_preds) 0.011368292527535866\n",
        "\n",
        "mse_error(y_test, retrieved_y_s) 0.07342657342657341\n",
        "mse_error(y_test, y_preds) 0.11548457358265089\n",
        "\n",
        "mse_error(y_test, retrieved_y_s) 0.027272727272727282\n",
        "mse_error(y_test, y_preds) 0.011561234601920906\n",
        "\n",
        "mse_error(y_test, retrieved_y_s) 0.03566433566433566\n",
        "mse_error(y_test, y_preds) 0.18532339182828628\n",
        "\n",
        "mse_error(y_test, retrieved_y_s) 0.010489510489510493\n",
        "mse_error(y_test, y_preds) 0.19836134849201575\n",
        "\n",
        "mse_error(y_test, retrieved_y_s) 0.006293706293706294\n",
        "mse_error(y_test, y_preds) 0.056606128212972895\n",
        "```"
      ]
    },
    {
      "cell_type": "markdown",
      "metadata": {
        "id": "w80UrIp8Y5WD"
      },
      "source": [
        "##In order, beta 1\n"
      ]
    },
    {
      "cell_type": "markdown",
      "metadata": {
        "id": "lZnoyVsmt4ID"
      },
      "source": [
        "```\n",
        "# GLOBAL PARAMETER\n",
        "adapt_per_train_epoch = 100\n",
        "sim_per_train_epoch = 100\n",
        "# how many times the two models are trained for one query\n",
        "back_forth = 1\n",
        " \n",
        "# retrieval\n",
        "retrieve_size = 1\n",
        "bad_retrieve_size = 0\n",
        " \n",
        "num_of_training_queries = -1\n",
        "# model choice\n",
        "hard_or_easy = 'hard'#'hard' 'easy'\n",
        "model_separation = True\n",
        " \n",
        "using_margin = False\n",
        "alpha_margin =0.1\n",
        "alpha = 0\n",
        "beta = 1\n",
        " \n",
        "# use naive 1nn instead\n",
        "disable_retrieval = False\n",
        "# no adaptation\n",
        "disable_adaptation = False\n",
        " \n",
        "batch_mode = False\n",
        "batch_size = 100\n",
        "num_of_val_queries = 100\n",
        "```"
      ]
    },
    {
      "cell_type": "markdown",
      "metadata": {
        "id": "X62LIpD8t6UA"
      },
      "source": [
        "```\n",
        "mse_error(y_test, retrieved_y_s) 0.22867132867132872\n",
        "mse_error(y_test, y_preds) 0.026731099378845324\n",
        "\n",
        "mse_error(y_test, retrieved_y_s) 0.43006993006993016\n",
        "mse_error(y_test, y_preds) 0.021653338578586787\n",
        "\n",
        "mse_error(y_test, retrieved_y_s) 0.3419580419580421\n",
        "mse_error(y_test, y_preds) 1.0000512101517678\n",
        "\n",
        "mse_error(y_test, retrieved_y_s) 0.6713286713286715\n",
        "mse_error(y_test, y_preds) 0.14659527806748449\n",
        "\n",
        "mse_error(y_test, retrieved_y_s) 1.0930069930069932\n",
        "mse_error(y_test, y_preds) 0.08789814077126303\n",
        "\n",
        "mse_error(y_test, retrieved_y_s) 0.7510489510489512\n",
        "mse_error(y_test, y_preds) 0.5531172436739693\n",
        "\n",
        "mse_error(y_test, retrieved_y_s) 0.2958041958041959\n",
        "mse_error(y_test, y_preds) 0.012519394209199192\n",
        "\n",
        "mse_error(y_test, retrieved_y_s) 0.6566433566433567\n",
        "mse_error(y_test, y_preds) 0.2411777400610477\n",
        "\n",
        "mse_error(y_test, retrieved_y_s) 0.5895104895104897\n",
        "mse_error(y_test, y_preds) 0.01770580725831365\n",
        "\n",
        "mse_error(y_test, retrieved_y_s) 3.1258741258741267\n",
        "mse_error(y_test, y_preds) 0.9571460918375673\n",
        "```"
      ]
    },
    {
      "cell_type": "markdown",
      "metadata": {
        "id": "YMvzBA0LY5WE"
      },
      "source": [
        "## Batch mode, no back-n-forth\n"
      ]
    },
    {
      "cell_type": "markdown",
      "metadata": {
        "id": "2JMbGLp99U_u"
      },
      "source": [
        "\n",
        "\n",
        "```\n",
        "# GLOBAL PARAMETER\n",
        "adapt_per_train_epoch = 2\n",
        "sim_per_train_epoch = 5\n",
        "# how many times the two models are trained for one query\n",
        "back_forth = 1\n",
        " \n",
        "# retrieval\n",
        "retrieve_size = 1\n",
        "bad_retrieve_size = 0\n",
        " \n",
        "num_of_training_queries = -1\n",
        "# model choice\n",
        "hard_or_easy = 'hard'#'hard' 'easy'\n",
        "model_separation = True\n",
        " \n",
        "using_margin = False\n",
        "alpha_margin =0.1\n",
        "alpha = 0.8\n",
        "beta = 0.2\n",
        " \n",
        "# use naive 1nn instead\n",
        "disable_retrieval = False\n",
        "# no adaptation\n",
        "disable_adaptation = False\n",
        " \n",
        "batch_mode = True\n",
        "batch_size = 50\n",
        "num_of_val_queries = -1\n",
        "```\n",
        "\n"
      ]
    },
    {
      "cell_type": "markdown",
      "metadata": {
        "id": "x4s1jZkK9W35"
      },
      "source": [
        "```\n",
        "mse_error(y_test, retrieved_y_s) 0.7132867132867132\n",
        "mse_error(y_test, y_preds) 0.13247966857892654\n",
        "\n",
        "mse_error(y_test, retrieved_y_s) 0.2937062937062938\n",
        "mse_error(y_test, y_preds) 0.14991793545825008\n",
        "\n",
        "mse_error(y_test, retrieved_y_s) 0.15524475524475523\n",
        "mse_error(y_test, y_preds) 0.118094049414065\n",
        "\n",
        "mse_error(y_test, retrieved_y_s) 0.22447552447552455\n",
        "mse_error(y_test, y_preds) 0.21871414960294747\n",
        "\n",
        "mse_error(y_test, retrieved_y_s) 0.297902097902098\n",
        "mse_error(y_test, y_preds) 0.1910722710475913\n",
        "```"
      ]
    },
    {
      "cell_type": "markdown",
      "metadata": {
        "id": "NzKO5iqN1Wpu"
      },
      "source": [
        "Best setting"
      ]
    },
    {
      "cell_type": "markdown",
      "metadata": {
        "id": "JaYkmZO16a-1"
      },
      "source": [
        "```\n",
        "# GLOBAL PARAMETER\n",
        "adapt_per_train_epoch = 10\n",
        "sim_per_train_epoch = 10\n",
        "# how many times the two models are trained for one query\n",
        "back_forth = 1\n",
        " \n",
        "# retrieval\n",
        "retrieve_size = 1\n",
        "bad_retrieve_size = 0\n",
        " \n",
        "num_of_training_queries = -1\n",
        "# model choice\n",
        "hard_or_easy = 'hard'#'hard' 'easy'\n",
        "model_separation = True\n",
        " \n",
        "using_margin = False\n",
        "alpha_margin =0.1\n",
        "alpha = 0.5\n",
        "beta = 0.5\n",
        " \n",
        "# use naive 1nn instead\n",
        "disable_retrieval = False\n",
        "# no adaptation\n",
        "disable_adaptation = False\n",
        " \n",
        "batch_mode = True\n",
        "batch_size = 100\n",
        "num_of_val_queries = -1\n",
        "\n",
        "```"
      ]
    },
    {
      "cell_type": "markdown",
      "metadata": {
        "id": "DA1pJOgc6dmB"
      },
      "source": [
        "```\n",
        "mse_error(y_test, retrieved_y_s) 0.3335664335664337\n",
        "mse_error(y_test, y_preds) 0.18474562403508557\n",
        "\n",
        "mse_error(y_test, retrieved_y_s) 0.18881118881118888\n",
        "mse_error(y_test, y_preds) 0.07264770645732646\n",
        "\n",
        "mse_error(y_test, retrieved_y_s) 0.26223776223776224\n",
        "mse_error(y_test, y_preds) 0.10379757019953312\n",
        "\n",
        "mse_error(y_test, retrieved_y_s) 1.2713286713286716\n",
        "mse_error(y_test, y_preds) 0.4818192476946495\n",
        "\n",
        "mse_error(y_test, retrieved_y_s) 0.5034965034965035\n",
        "mse_error(y_test, y_preds) 0.1964123419478841\n",
        "\n",
        "mse_error(y_test, retrieved_y_s) 0.297902097902098\n",
        "mse_error(y_test, y_preds) 0.07500663748709405\n",
        "\n",
        "mse_error(y_test, retrieved_y_s) 0.19300699300699306\n",
        "mse_error(y_test, y_preds) 0.07537243572799004\n",
        "\n",
        "mse_error(y_test, retrieved_y_s) 0.3524475524475525\n",
        "mse_error(y_test, y_preds) 0.1609173175600261\n",
        "\n",
        "mse_error(y_test, retrieved_y_s) 0.20559440559440564\n",
        "mse_error(y_test, y_preds) 0.0985443284065585\n",
        "\n",
        "mse_error(y_test, retrieved_y_s) 0.28531468531468546\n",
        "mse_error(y_test, y_preds) 0.135297502286533\n",
        "```"
      ]
    },
    {
      "cell_type": "markdown",
      "metadata": {
        "id": "D-cm_rnoY5WD"
      },
      "source": [
        "##Back-n-forth\n",
        "\n",
        "```\n",
        "# GLOBAL PARAMETER\n",
        "adapt_per_train_epoch = 3\n",
        "sim_per_train_epoch = 3\n",
        "# how many times the two models are trained for one query\n",
        "back_forth = 20\n",
        " \n",
        "# retrieval\n",
        "retrieve_size = 2\n",
        "bad_retrieve_size = 98\n",
        " \n",
        "num_of_training_queries = -1\n",
        "# model choice\n",
        "hard_or_easy = 'easy'#'hard' 'easy'\n",
        "model_separation = True\n",
        " \n",
        "using_margin = True\n",
        "alpha_margin =0.9\n",
        "alpha = 0.5\n",
        "beta = 0.5\n",
        " \n",
        "# use naive 1nn instead\n",
        "disable_retrieval = False\n",
        "# no adaptation\n",
        "disable_adaptation = False\n",
        " \n",
        "batch_mode = False\n",
        "batch_size = 100\n",
        "num_of_val_queries = 100\n",
        "```"
      ]
    },
    {
      "cell_type": "markdown",
      "metadata": {
        "id": "1vN6vN_vY5WE"
      },
      "source": [
        "```\n",
        "# GLOBAL PARAMETER\n",
        "adapt_per_train_epoch = 1\n",
        "sim_per_train_epoch = 1\n",
        "# how many times the two models are trained for one query\n",
        "back_forth = 20\n",
        " \n",
        "# retrieval\n",
        "retrieve_size = 2\n",
        "bad_retrieve_size = 98\n",
        " \n",
        "num_of_training_queries = -1\n",
        "# model choice\n",
        "hard_or_easy = 'easy'#'hard' 'easy'\n",
        "model_separation = True\n",
        " \n",
        "using_margin = True\n",
        "alpha_margin =0.9\n",
        "alpha = 0.9\n",
        "beta = 0.1\n",
        " \n",
        "# use naive 1nn instead\n",
        "disable_retrieval = False\n",
        "# no adaptation\n",
        "disable_adaptation = False\n",
        " \n",
        "batch_mode = False\n",
        "batch_size = 100\n",
        "num_of_val_queries = -1\n",
        "```"
      ]
    },
    {
      "cell_type": "markdown",
      "metadata": {
        "id": "lLLk6wD7Y5WF"
      },
      "source": [
        "##Batch mode, back-n-forth\n",
        "\n",
        "```\n",
        "# GLOBAL PARAMETER\n",
        "adapt_per_train_epoch = 3\n",
        "sim_per_train_epoch = 3\n",
        "# how many times the two models are trained for one query\n",
        "back_forth = 30\n",
        " \n",
        "# retrieval\n",
        "retrieve_size = 2\n",
        "bad_retrieve_size = 98\n",
        " \n",
        "num_of_training_queries = -1\n",
        "# model choice\n",
        "hard_or_easy = 'easy'#'hard' 'easy'\n",
        "model_separation = True\n",
        " \n",
        "using_margin = True\n",
        "alpha_margin =0.6\n",
        "alpha = 0.9\n",
        "beta = 0.1\n",
        " \n",
        "# use naive 1nn instead\n",
        "disable_retrieval = False\n",
        "# no adaptation\n",
        "disable_adaptation = False\n",
        " \n",
        "batch_mode = True\n",
        "batch_size = 32\n",
        "num_of_val_queries = -1\n",
        "```"
      ]
    },
    {
      "cell_type": "markdown",
      "metadata": {
        "id": "qbcdDKjB3RAL"
      },
      "source": [
        "#Results (Student Math ) special, 1 good 4 bad"
      ]
    },
    {
      "cell_type": "markdown",
      "metadata": {
        "id": "skzzyFVk3ZIe"
      },
      "source": [
        "##Baseline\n",
        "```\n",
        "# GLOBAL PARAMETER\n",
        "adapt_per_train_epoch = 30\n",
        "sim_per_train_epoch = 30\n",
        "# how many times the two models are trained for one query\n",
        "back_forth = 1\n",
        " \n",
        "# retrieval\n",
        "retrieve_size = 1\n",
        "bad_retrieve_size = 0\n",
        " \n",
        "num_of_training_queries = -1\n",
        "# model choice\n",
        "hard_or_easy = 'easy'#'hard' 'easy'\n",
        "model_separation = True\n",
        " \n",
        "using_margin = False\n",
        "alpha_margin =0.1\n",
        "alpha = 0.5\n",
        "beta = 0.5\n",
        " \n",
        "# use naive 1nn instead\n",
        "disable_retrieval = True\n",
        "# no adaptation\n",
        "disable_adaptation = True\n",
        " \n",
        "batch_mode = False\n",
        "batch_size = 100\n",
        "num_of_val_queries = 100\n",
        "```"
      ]
    },
    {
      "cell_type": "markdown",
      "metadata": {
        "id": "WpThpQGc3gEM"
      },
      "source": [
        "```\n",
        "mse_error(y_test, retrieved_y_s) 1.4126062568151605\n",
        "mse_error(y_test, y_preds) 1.4126062568151605\n",
        "```"
      ]
    },
    {
      "cell_type": "markdown",
      "metadata": {
        "id": "Ka8RQcB_3lM9"
      },
      "source": [
        "```\n",
        "mse_error(y_test, retrieved_y_s) 1.5367914222494607\n",
        "mse_error(y_test, y_preds) 1.5367914222494607\n",
        "```"
      ]
    },
    {
      "cell_type": "markdown",
      "metadata": {
        "id": "5zil5U5s5cO0"
      },
      "source": [
        "```\n",
        "mse_error(y_test, retrieved_y_s) 2.9087986826726384\n",
        "mse_error(y_test, y_preds) 2.9087986826726384\n",
        "```"
      ]
    },
    {
      "cell_type": "markdown",
      "metadata": {
        "id": "f-Zy-6Fe5dvr"
      },
      "source": [
        "##Just Retrieval"
      ]
    },
    {
      "cell_type": "markdown",
      "metadata": {
        "id": "YDNGp1vnTYro"
      },
      "source": [
        "```\n",
        "# GLOBAL PARAMETER\n",
        "adapt_per_train_epoch = 100\n",
        "sim_per_train_epoch = 100\n",
        "# how many times the two models are trained for one query\n",
        "back_forth = 1\n",
        " \n",
        "# retrieval\n",
        "retrieve_size = 1\n",
        "bad_retrieve_size = 4\n",
        " \n",
        "num_of_training_queries = -1\n",
        "# model choice\n",
        "hard_or_easy = 'easy'#'hard' 'easy'\n",
        "model_separation = True\n",
        " \n",
        "using_margin = False\n",
        "alpha_margin =0.9\n",
        "alpha = 1.0\n",
        "beta = 0\n",
        " \n",
        "# use naive 1nn instead\n",
        "disable_retrieval = False\n",
        "# no adaptation\n",
        "disable_adaptation = True\n",
        " \n",
        "batch_mode = False\n",
        "batch_size = 20\n",
        "num_of_val_queries = -1\n",
        "```"
      ]
    },
    {
      "cell_type": "markdown",
      "metadata": {
        "id": "Fb2TW_pvhEi0"
      },
      "source": [
        "```\n",
        "mse_error(y_test, retrieved_y_s) 1.3421550571937795\n",
        "mse_error(y_test, y_preds) 1.3421550571937795\n",
        "```"
      ]
    },
    {
      "cell_type": "markdown",
      "metadata": {
        "id": "u2rOUI_yVsRd"
      },
      "source": [
        "```\n",
        "mse_error(y_test, retrieved_y_s) 1.356484114743891\n",
        "mse_error(y_test, y_preds) 1.356484114743891\n",
        "```"
      ]
    },
    {
      "cell_type": "markdown",
      "metadata": {
        "id": "CbMA2CaMTb7O"
      },
      "source": [
        "```\n",
        "mse_error(y_test, retrieved_y_s) 1.0961729025835316\n",
        "mse_error(y_test, y_preds) 1.0961729025835316\n",
        "```"
      ]
    },
    {
      "cell_type": "markdown",
      "metadata": {
        "id": "HUrM-iIOU3aR"
      },
      "source": [
        "```\n",
        "mse_error(y_test, retrieved_y_s) 0.8000390465478933\n",
        "mse_error(y_test, y_preds) 0.8000390465478933\n",
        "```"
      ]
    },
    {
      "cell_type": "markdown",
      "metadata": {
        "id": "hrW3rpN9_PwF"
      },
      "source": [
        "##Just adaptation\n"
      ]
    },
    {
      "cell_type": "markdown",
      "metadata": {
        "id": "8p2fTQJKWCrG"
      },
      "source": [
        "```\n",
        "# GLOBAL PARAMETER\n",
        "adapt_per_train_epoch = 100\n",
        "sim_per_train_epoch = 100\n",
        "# how many times the two models are trained for one query\n",
        "back_forth = 1\n",
        " \n",
        "# retrieval\n",
        "retrieve_size = 1\n",
        "bad_retrieve_size = 4\n",
        " \n",
        "num_of_training_queries = -1\n",
        "# model choice\n",
        "hard_or_easy = 'easy'#'hard' 'easy'\n",
        "model_separation = True\n",
        " \n",
        "using_margin = False\n",
        "alpha_margin =0.9\n",
        "alpha = 1.0\n",
        "beta = 0\n",
        " \n",
        "# use naive 1nn instead\n",
        "disable_retrieval = True\n",
        "# no adaptation\n",
        "disable_adaptation = False\n",
        " \n",
        "batch_mode = False\n",
        "batch_size = 20\n",
        "num_of_val_queries = -1\n",
        "```"
      ]
    },
    {
      "cell_type": "markdown",
      "metadata": {
        "id": "ybz2Qk9xV9rE"
      },
      "source": [
        "```\n",
        "mse_error(y_test, retrieved_y_s) 1.6526179707795294\n",
        "mse_error(y_test, y_preds) 1.0542575371845913\n",
        "```\n"
      ]
    },
    {
      "cell_type": "markdown",
      "metadata": {
        "id": "NY-6w2gYWILZ"
      },
      "source": [
        "```\n",
        "mse_error(y_test, retrieved_y_s) 1.6526179707795294\n",
        "mse_error(y_test, y_preds) 0.8916261505858021\n",
        "```"
      ]
    },
    {
      "cell_type": "markdown",
      "metadata": {
        "id": "qt_fRL4vAwb3"
      },
      "source": [
        "##In order, Alpha 1"
      ]
    },
    {
      "cell_type": "markdown",
      "metadata": {
        "id": "QQdDdPTpWzQl"
      },
      "source": [
        "```\n",
        "# GLOBAL PARAMETER\n",
        "adapt_per_train_epoch = 100\n",
        "sim_per_train_epoch = 100\n",
        "# how many times the two models are trained for one query\n",
        "back_forth = 1\n",
        " \n",
        "# retrieval\n",
        "retrieve_size = 1\n",
        "bad_retrieve_size = 4\n",
        " \n",
        "num_of_training_queries = -1\n",
        "# model choice\n",
        "hard_or_easy = 'easy'#'hard' 'easy'\n",
        "model_separation = True\n",
        " \n",
        "using_margin = False\n",
        "alpha_margin =0.9\n",
        "alpha = 1.0\n",
        "beta = 0\n",
        " \n",
        "# use naive 1nn instead\n",
        "disable_retrieval = False\n",
        "# no adaptation\n",
        "disable_adaptation = False\n",
        " \n",
        "batch_mode = False\n",
        "batch_size = 20\n",
        "num_of_val_queries = -1\n",
        "```"
      ]
    },
    {
      "cell_type": "markdown",
      "metadata": {
        "id": "htFVMge_Wqts"
      },
      "source": [
        "```\n",
        "mse_error(y_test, retrieved_y_s) 1.3218555589977878\n",
        "mse_error(y_test, y_preds) 1.174342375289472\n",
        "```"
      ]
    },
    {
      "cell_type": "markdown",
      "metadata": {
        "id": "2sb6ODs4XBKh"
      },
      "source": [
        "```\n",
        "mse_error(y_test, retrieved_y_s) 1.1725945428507931\n",
        "mse_error(y_test, y_preds) 1.0031874768894329\n",
        "```"
      ]
    },
    {
      "cell_type": "markdown",
      "metadata": {
        "id": "XIRD2wRsBzRN"
      },
      "source": [
        "##In order, Beta 1\n"
      ]
    },
    {
      "cell_type": "markdown",
      "metadata": {
        "id": "pTMaJo7JXgr6"
      },
      "source": [
        "```\n",
        "# GLOBAL PARAMETER\n",
        "adapt_per_train_epoch = 100\n",
        "sim_per_train_epoch = 100\n",
        "# how many times the two models are trained for one query\n",
        "back_forth = 1\n",
        " \n",
        "# retrieval\n",
        "retrieve_size = 1\n",
        "bad_retrieve_size = 4\n",
        " \n",
        "num_of_training_queries = -1\n",
        "# model choice\n",
        "hard_or_easy = 'easy'#'hard' 'easy'\n",
        "model_separation = True\n",
        " \n",
        "using_margin = False\n",
        "alpha_margin =0.9\n",
        "alpha = 0\n",
        "beta = 1.0\n",
        " \n",
        "# use naive 1nn instead\n",
        "disable_retrieval = False\n",
        "# no adaptation\n",
        "disable_adaptation = False\n",
        " \n",
        "batch_mode = False\n",
        "batch_size = 20\n",
        "num_of_val_queries = -1\n",
        "```"
      ]
    },
    {
      "cell_type": "markdown",
      "metadata": {
        "id": "fNp8_IUgXaAQ"
      },
      "source": [
        "```\n",
        "mse_error(y_test, retrieved_y_s) 1.651423882650353\n",
        "mse_error(y_test, y_preds) 1.1059572724470328\n",
        "```"
      ]
    },
    {
      "cell_type": "markdown",
      "metadata": {
        "id": "YUaqxoPxXwhr"
      },
      "source": [
        "```\n",
        "mse_error(y_test, retrieved_y_s) 1.2848388269933335\n",
        "mse_error(y_test, y_preds) 0.8633932318513875\n",
        "```"
      ]
    },
    {
      "cell_type": "markdown",
      "metadata": {
        "id": "u3_ZH60GYEN6"
      },
      "source": [
        "```\n",
        "mse_error(y_test, retrieved_y_s) 1.2072230985968957\n",
        "mse_error(y_test, y_preds) 0.9356769442244126\n",
        "```"
      ]
    },
    {
      "cell_type": "markdown",
      "metadata": {
        "id": "JJCWU7Au-F09"
      },
      "source": [
        "## Batch mode, no back-n-forth\n"
      ]
    },
    {
      "cell_type": "markdown",
      "metadata": {
        "id": "eoXFO85ee_lG"
      },
      "source": [
        "\n",
        "\n",
        "```\n",
        "# GLOBAL PARAMETER\n",
        "adapt_per_train_epoch = 1\n",
        "sim_per_train_epoch = 2\n",
        "# how many times the two models are trained for one query\n",
        "back_forth = 1\n",
        " \n",
        "# retrieval\n",
        "retrieve_size = 1\n",
        "bad_retrieve_size = 4\n",
        " \n",
        "num_of_training_queries = -1\n",
        "# model choice\n",
        "hard_or_easy = 'easy'#'hard' 'easy'\n",
        "model_separation = True\n",
        " \n",
        "using_margin = True\n",
        "alpha_margin =1.2\n",
        "alpha = 0.5\n",
        "beta = 1\n",
        " \n",
        "# use naive 1nn instead\n",
        "disable_retrieval = False\n",
        "# no adaptation\n",
        "disable_adaptation = False\n",
        " \n",
        "batch_mode = True\n",
        "batch_size = 8\n",
        "num_of_val_queries = -1\n",
        "```\n",
        "\n"
      ]
    },
    {
      "cell_type": "markdown",
      "metadata": {
        "id": "51fSIdS1fGYK"
      },
      "source": [
        "```\n",
        "mse_error(y_test, retrieved_y_s) 1.4627579582405514\n",
        "mse_error(y_test, y_preds) 1.385761350677766\n",
        "```"
      ]
    },
    {
      "cell_type": "markdown",
      "metadata": {
        "id": "RGuXyM0If4jQ"
      },
      "source": [
        "```\n",
        "# GLOBAL PARAMETER\n",
        "adapt_per_train_epoch = 3\n",
        "sim_per_train_epoch = 3\n",
        "# how many times the two models are trained for one query\n",
        "back_forth = 1\n",
        " \n",
        "# retrieval\n",
        "retrieve_size = 1\n",
        "bad_retrieve_size = 4\n",
        " \n",
        "num_of_training_queries = -1\n",
        "# model choice\n",
        "hard_or_easy = 'easy'#'hard' 'easy'\n",
        "model_separation = True\n",
        " \n",
        "using_margin = True\n",
        "alpha_margin =1.2\n",
        "alpha = 0.5\n",
        "beta = 1\n",
        " \n",
        "# use naive 1nn instead\n",
        "disable_retrieval = False\n",
        "# no adaptation\n",
        "disable_adaptation = False\n",
        " \n",
        "batch_mode = True\n",
        "batch_size = 16\n",
        "num_of_val_queries = -1\n",
        "```"
      ]
    },
    {
      "cell_type": "markdown",
      "metadata": {
        "id": "NeChzYfPg-81"
      },
      "source": [
        "```\n",
        "mse_error(y_test, retrieved_y_s) 1.5045510427617101\n",
        "mse_error(y_test, y_preds) 1.254594655735692\n",
        "```"
      ]
    },
    {
      "cell_type": "markdown",
      "metadata": {
        "id": "8GmhkVt7gfBe"
      },
      "source": [
        "```\n",
        "mse_error(y_test, retrieved_y_s) 1.234687125567943\n",
        "mse_error(y_test, y_preds) 1.032116667311885\n",
        "```"
      ]
    },
    {
      "cell_type": "markdown",
      "metadata": {
        "id": "mZMlH82shfPD"
      },
      "source": [
        "```\n",
        "mse_error(y_test, retrieved_y_s) 2.16368769006684\n",
        "mse_error(y_test, y_preds) 1.4308408161541615\n",
        "```"
      ]
    },
    {
      "cell_type": "markdown",
      "metadata": {
        "id": "s9Afnl0TTGlk"
      },
      "source": [
        "#Results (Student Math )"
      ]
    },
    {
      "cell_type": "markdown",
      "metadata": {
        "id": "kSTh7KW4TGlt"
      },
      "source": [
        "##Baseline\n",
        "```\n",
        "# GLOBAL PARAMETER\n",
        "adapt_per_train_epoch = 30\n",
        "sim_per_train_epoch = 30\n",
        "# how many times the two models are trained for one query\n",
        "back_forth = 1\n",
        " \n",
        "# retrieval\n",
        "retrieve_size = 1\n",
        "bad_retrieve_size = 0\n",
        " \n",
        "num_of_training_queries = -1\n",
        "# model choice\n",
        "hard_or_easy = 'easy'#'hard' 'easy'\n",
        "model_separation = True\n",
        " \n",
        "using_margin = False\n",
        "alpha_margin =0.1\n",
        "alpha = 0.5\n",
        "beta = 0.5\n",
        " \n",
        "# use naive 1nn instead\n",
        "disable_retrieval = True\n",
        "# no adaptation\n",
        "disable_adaptation = True\n",
        " \n",
        "batch_mode = False\n",
        "batch_size = 100\n",
        "num_of_val_queries = 100\n",
        "```"
      ]
    },
    {
      "cell_type": "markdown",
      "metadata": {
        "id": "iG6_qVMUTGlt"
      },
      "source": [
        "```\n",
        "mse_error(y_test, retrieved_y_s) 1.4126062568151605\n",
        "mse_error(y_test, y_preds) 1.4126062568151605\n",
        "```"
      ]
    },
    {
      "cell_type": "markdown",
      "metadata": {
        "id": "E38S85GYTGlu"
      },
      "source": [
        "```\n",
        "mse_error(y_test, retrieved_y_s) 1.5367914222494607\n",
        "mse_error(y_test, y_preds) 1.5367914222494607\n",
        "```"
      ]
    },
    {
      "cell_type": "markdown",
      "metadata": {
        "id": "_R3qdI3ITGlu"
      },
      "source": [
        "```\n",
        "mse_error(y_test, retrieved_y_s) 2.9087986826726384\n",
        "mse_error(y_test, y_preds) 2.9087986826726384\n",
        "```"
      ]
    },
    {
      "cell_type": "markdown",
      "metadata": {
        "id": "CY_GIjl2TGlu"
      },
      "source": [
        "##Just Retrieval"
      ]
    },
    {
      "cell_type": "markdown",
      "metadata": {
        "id": "o4Vcnxn1TGlu"
      },
      "source": [
        "```\n",
        "# GLOBAL PARAMETER\n",
        "adapt_per_train_epoch = 30\n",
        "sim_per_train_epoch = 30\n",
        "# how many times the two models are trained for one query\n",
        "back_forth = 1\n",
        " \n",
        "# retrieval\n",
        "retrieve_size = 1\n",
        "bad_retrieve_size = 0\n",
        " \n",
        "num_of_training_queries = -1\n",
        "# model choice\n",
        "hard_or_easy = 'easy'#'hard' 'easy'\n",
        "model_separation = True\n",
        " \n",
        "using_margin = False\n",
        "alpha_margin =0.1\n",
        "alpha = 1\n",
        "beta = 0\n",
        " \n",
        "# use naive 1nn instead\n",
        "disable_retrieval = False\n",
        "# no adaptation\n",
        "disable_adaptation = True\n",
        " \n",
        "batch_mode = False\n",
        "batch_size = 100\n",
        "num_of_val_queries = 100\n",
        "```"
      ]
    },
    {
      "cell_type": "markdown",
      "metadata": {
        "id": "lKo9h06fTGlv"
      },
      "source": [
        "```\n",
        "mse_error(y_test, retrieved_y_s) 2.0072621451447894\n",
        "mse_error(y_test, y_preds) 2.0072621451447894\n",
        "```"
      ]
    },
    {
      "cell_type": "markdown",
      "metadata": {
        "id": "5i6PmWilTGlv"
      },
      "source": [
        "```\n",
        "mse_error(y_test, retrieved_y_s) 1.4102180805568092\n",
        "mse_error(y_test, y_preds) 1.4102180805568092\n",
        "```"
      ]
    },
    {
      "cell_type": "markdown",
      "metadata": {
        "id": "ZfRRtEaxTGlv"
      },
      "source": [
        "With bad retrieval\n",
        "```\n",
        "# GLOBAL PARAMETER\n",
        "adapt_per_train_epoch = 30\n",
        "sim_per_train_epoch = 30\n",
        "# how many times the two models are trained for one query\n",
        "back_forth = 1\n",
        " \n",
        "# retrieval\n",
        "retrieve_size = 2\n",
        "bad_retrieve_size = 18\n",
        " \n",
        "num_of_training_queries = -1\n",
        "# model choice\n",
        "hard_or_easy = 'easy'#'hard' 'easy'\n",
        "model_separation = True\n",
        " \n",
        "using_margin = False\n",
        "alpha_margin =0.1\n",
        "alpha = 1\n",
        "beta = 0\n",
        " \n",
        "# use naive 1nn instead\n",
        "disable_retrieval = False\n",
        "# no adaptation\n",
        "disable_adaptation = True\n",
        " \n",
        "batch_mode = False\n",
        "batch_size = 100\n",
        "num_of_val_queries = 100\n",
        "```"
      ]
    },
    {
      "cell_type": "markdown",
      "metadata": {
        "id": "-1txzZl8TGlv"
      },
      "source": [
        "```\n",
        "mse_error(y_test, retrieved_y_s) 0.9254183001113692\n",
        "mse_error(y_test, y_preds) 0.9254183001113692\n",
        "```"
      ]
    },
    {
      "cell_type": "markdown",
      "metadata": {
        "id": "zgWisg8STGlv"
      },
      "source": [
        "```\n",
        "# GLOBAL PARAMETER\n",
        "adapt_per_train_epoch = 100\n",
        "sim_per_train_epoch = 100\n",
        "# how many times the two models are trained for one query\n",
        "back_forth = 1\n",
        " \n",
        "# retrieval\n",
        "retrieve_size = 2\n",
        "bad_retrieve_size = 98\n",
        " \n",
        "num_of_training_queries = -1\n",
        "# model choice\n",
        "hard_or_easy = 'easy'#'hard' 'easy'\n",
        "model_separation = True\n",
        " \n",
        "using_margin = False\n",
        "alpha_margin =0.1\n",
        "alpha = 1\n",
        "beta = 0\n",
        " \n",
        "# use naive 1nn instead\n",
        "disable_retrieval = False\n",
        "# no adaptation\n",
        "disable_adaptation = True\n",
        " \n",
        "batch_mode = False\n",
        "batch_size = 100\n",
        "num_of_val_queries = 100\n",
        "```"
      ]
    },
    {
      "cell_type": "markdown",
      "metadata": {
        "id": "B4lROpc9TGlw"
      },
      "source": [
        "```\n",
        "mse_error(y_test, retrieved_y_s) 1.227522596792887\n",
        "mse_error(y_test, y_preds) 1.227522596792887\n",
        "```"
      ]
    },
    {
      "cell_type": "markdown",
      "metadata": {
        "id": "QXzVOppkTGlw"
      },
      "source": [
        "##Just adaptation\n",
        "\n",
        "```\n",
        "# GLOBAL PARAMETER\n",
        "adapt_per_train_epoch = 30\n",
        "sim_per_train_epoch = 30\n",
        "# how many times the two models are trained for one query\n",
        "back_forth = 1\n",
        " \n",
        "# retrieval\n",
        "retrieve_size = 1\n",
        "bad_retrieve_size = 0\n",
        " \n",
        "num_of_training_queries = -1\n",
        "# model choice\n",
        "hard_or_easy = 'easy'#'hard' 'easy'\n",
        "model_separation = True\n",
        " \n",
        "using_margin = False\n",
        "alpha_margin =0.1\n",
        "alpha = 1\n",
        "beta = 0\n",
        " \n",
        "# use naive 1nn instead\n",
        "disable_retrieval = True\n",
        "# no adaptation\n",
        "disable_adaptation = False\n",
        " \n",
        "batch_mode = False\n",
        "batch_size = 100\n",
        "num_of_val_queries = 100\n",
        "```"
      ]
    },
    {
      "cell_type": "markdown",
      "metadata": {
        "id": "CfagrHTjTGlw"
      },
      "source": [
        "\n",
        "\n",
        "```\n",
        "mse_error(y_test, retrieved_y_s) 1.6526179707795294\n",
        "mse_error(y_test, y_preds) 1.6526172269003685\n",
        "```\n",
        "\n"
      ]
    },
    {
      "cell_type": "markdown",
      "metadata": {
        "id": "3UxIkwaVTGlw"
      },
      "source": [
        "```\n",
        "mse_error(y_test, retrieved_y_s) 1.6526179707795294\n",
        "mse_error(y_test, y_preds) 1.6526247169717894\n",
        "```"
      ]
    },
    {
      "cell_type": "markdown",
      "metadata": {
        "id": "cXz-s0LOTGlw"
      },
      "source": [
        "##In order, Alpha 1"
      ]
    },
    {
      "cell_type": "markdown",
      "metadata": {
        "id": "bZJj_FfYTGlw"
      },
      "source": [
        "```\n",
        "# GLOBAL PARAMETER\n",
        "adapt_per_train_epoch = 100\n",
        "sim_per_train_epoch = 100\n",
        "# how many times the two models are trained for one query\n",
        "back_forth = 1\n",
        " \n",
        "# retrieval\n",
        "retrieve_size = 1\n",
        "bad_retrieve_size = 0\n",
        " \n",
        "num_of_training_queries = -1\n",
        "# model choice\n",
        "hard_or_easy = 'easy'#'hard' 'easy'\n",
        "model_separation = True\n",
        " \n",
        "using_margin = False\n",
        "alpha_margin =0.1\n",
        "alpha = 1\n",
        "beta = 0\n",
        " \n",
        "# use naive 1nn instead\n",
        "disable_retrieval = False\n",
        "# no adaptation\n",
        "disable_adaptation = False\n",
        " \n",
        "batch_mode = False\n",
        "batch_size = 100\n",
        "num_of_val_queries = 100\n",
        "```"
      ]
    },
    {
      "cell_type": "markdown",
      "metadata": {
        "id": "jgG2YDud2JW1"
      },
      "source": [
        "```\n",
        "mse_error(y_test, retrieved_y_s) 1.6729174689755204\n",
        "mse_error(y_test, y_preds) 1.6321990249865443\n",
        "\n",
        "mse_error(y_test, retrieved_y_s) 1.1391600752338662\n",
        "mse_error(y_test, y_preds) 1.1166571940090972\n",
        "\n",
        "mse_error(y_test, retrieved_y_s) 2.3296659400222985\n",
        "mse_error(y_test, y_preds) 2.2415303987209048\n",
        "\n",
        "mse_error(y_test, retrieved_y_s) 1.3337964402895472\n",
        "mse_error(y_test, y_preds) 1.271038320280446\n",
        "\n",
        "mse_error(y_test, retrieved_y_s) 1.4961924258574784\n",
        "mse_error(y_test, y_preds) 1.206510744438814\n",
        "\n",
        "mse_error(y_test, retrieved_y_s) 1.5582850085746283\n",
        "mse_error(y_test, y_preds) 1.6165487919304884\n",
        "\n",
        "mse_error(y_test, retrieved_y_s) 2.071742904120291\n",
        "mse_error(y_test, y_preds) 1.4185128543100194\n",
        "\n",
        "mse_error(y_test, retrieved_y_s) 1.7433686685969019\n",
        "mse_error(y_test, y_preds) 1.5836352162207592\n",
        "\n",
        "mse_error(y_test, retrieved_y_s) 1.4388761956570322\n",
        "mse_error(y_test, y_preds) 1.4396716392448041\n",
        "\n",
        "mse_error(y_test, retrieved_y_s) 1.6203775912917782\n",
        "mse_error(y_test, y_preds) 2.283089111191994\n",
        "```"
      ]
    },
    {
      "cell_type": "markdown",
      "metadata": {
        "id": "Day56Tyo51Z9"
      },
      "source": [
        "```\n",
        "mse_error(y_test, retrieved_y_s) 1.6669470283296406\n",
        "mse_error(y_test, y_preds) 1.6006473927642162\n",
        "```"
      ]
    },
    {
      "cell_type": "markdown",
      "metadata": {
        "id": "nLxFLjKl5eSX"
      },
      "source": [
        "```\n",
        "mse_error(y_test, retrieved_y_s) 1.5523145679287484\n",
        "mse_error(y_test, y_preds) 4.997893834840976\n",
        "```"
      ]
    },
    {
      "cell_type": "markdown",
      "metadata": {
        "id": "GCyKk6Gp5DK3"
      },
      "source": [
        "```\n",
        "mse_error(y_test, retrieved_y_s) 2.6138589147661775\n",
        "mse_error(y_test, y_preds) 2.067906309082334\n",
        "```"
      ]
    },
    {
      "cell_type": "markdown",
      "metadata": {
        "id": "5X0ws5Ys4nmu"
      },
      "source": [
        "```\n",
        "mse_error(y_test, retrieved_y_s) 1.2860329151225094\n",
        "mse_error(y_test, y_preds) 1.3977059718973683\n",
        "```"
      ]
    },
    {
      "cell_type": "markdown",
      "metadata": {
        "id": "7dKaTWmyTGlx"
      },
      "source": [
        "```\n",
        "mse_error(y_test, retrieved_y_s) 1.8914355966147212\n",
        "mse_error(y_test, y_preds) 1.3904559586718777\n",
        "```"
      ]
    },
    {
      "cell_type": "markdown",
      "metadata": {
        "id": "3OjkDojeTGlx"
      },
      "source": [
        "##In order, Beta 1\n",
        "\n",
        "```\n",
        "# GLOBAL PARAMETER\n",
        "adapt_per_train_epoch = 100\n",
        "sim_per_train_epoch = 100\n",
        "# how many times the two models are trained for one query\n",
        "back_forth = 1\n",
        " \n",
        "# retrieval\n",
        "retrieve_size = 1\n",
        "bad_retrieve_size = 0\n",
        " \n",
        "num_of_training_queries = -1\n",
        "# model choice\n",
        "hard_or_easy = 'easy'#'hard' 'easy'\n",
        "model_separation = True\n",
        " \n",
        "using_margin = False\n",
        "alpha_margin =0.1\n",
        "alpha = 0\n",
        "beta = 1\n",
        " \n",
        "# use naive 1nn instead\n",
        "disable_retrieval = False\n",
        "# no adaptation\n",
        "disable_adaptation = False\n",
        " \n",
        "batch_mode = False\n",
        "batch_size = 100\n",
        "num_of_val_queries = 100\n",
        "```"
      ]
    },
    {
      "cell_type": "markdown",
      "metadata": {
        "id": "QHbOBdOe3fTI"
      },
      "source": [
        "```\n",
        "mse_error(y_test, retrieved_y_s) 1.4675343107572554\n",
        "mse_error(y_test, y_preds) 1.2006594612156296\n",
        "\n",
        "mse_error(y_test, retrieved_y_s) 1.7672504311804214\n",
        "mse_error(y_test, y_preds) 0.9691151046373017\n",
        "\n",
        "mse_error(y_test, retrieved_y_s) 1.7565036380178376\n",
        "mse_error(y_test, y_preds) 1.6699511013292807\n",
        "\n",
        "mse_error(y_test, retrieved_y_s) 2.2711556216926767\n",
        "mse_error(y_test, y_preds) 2.178678870346171\n",
        "\n",
        "mse_error(y_test, retrieved_y_s) 1.4233530499777447\n",
        "mse_error(y_test, y_preds) 3.2462252947794092\n",
        "\n",
        "mse_error(y_test, retrieved_y_s) 1.7027696722049193\n",
        "mse_error(y_test, y_preds) 1.9435881493442302\n",
        "\n",
        "mse_error(y_test, retrieved_y_s) 2.0574138465701792\n",
        "mse_error(y_test, y_preds) 1.262679355921289\n",
        "\n",
        "mse_error(y_test, retrieved_y_s) 2.16965813071272\n",
        "mse_error(y_test, y_preds) 1.6970027868394086\n",
        "\n",
        "mse_error(y_test, retrieved_y_s) 1.2108053629844238\n",
        "mse_error(y_test, y_preds) 1.1744281004500028\n",
        "\n",
        "mse_error(y_test, retrieved_y_s) 2.1565231612917843\n",
        "mse_error(y_test, y_preds) 2.0666987457666957\n",
        "```"
      ]
    },
    {
      "cell_type": "markdown",
      "metadata": {
        "id": "d3XP3mj57uTN"
      },
      "source": [
        "```\n",
        "mse_error(y_test, retrieved_y_s) 6.354937023474461\n",
        "mse_error(y_test, y_preds) 4.344867924628907\n",
        "```"
      ]
    },
    {
      "cell_type": "markdown",
      "metadata": {
        "id": "G7nb41Xf8Oin"
      },
      "source": [
        "```\n",
        "mse_error(y_test, retrieved_y_s) 1.7159046416258548\n",
        "mse_error(y_test, y_preds) 3.6871850663185426\n",
        "```"
      ]
    },
    {
      "cell_type": "markdown",
      "metadata": {
        "id": "bAglJ6BY7svo"
      },
      "source": [
        "```\n",
        "mse_error(y_test, retrieved_y_s) 1.7373982279510223\n",
        "mse_error(y_test, y_preds) 1.1121339185086203\n",
        "```"
      ]
    },
    {
      "cell_type": "markdown",
      "metadata": {
        "id": "lvlHRYlo7qii"
      },
      "source": [
        "```\n",
        "mse_error(y_test, retrieved_y_s) 1.440070283786208\n",
        "mse_error(y_test, y_preds) 1.208382987582968\n",
        "```"
      ]
    },
    {
      "cell_type": "markdown",
      "metadata": {
        "id": "dE8r4pqQ7p5J"
      },
      "source": [
        "```\n",
        "mse_error(y_test, retrieved_y_s) 1.5761963305122677\n",
        "mse_error(y_test, y_preds) 1.6583771542264116\n",
        "```"
      ]
    },
    {
      "cell_type": "markdown",
      "metadata": {
        "id": "ARZtOuO1TGlx"
      },
      "source": [
        "```\n",
        "mse_error(y_test, retrieved_y_s) 1.8496425120935627\n",
        "mse_error(y_test, y_preds) 1.5419585427708093\n",
        "```"
      ]
    },
    {
      "cell_type": "markdown",
      "metadata": {
        "id": "kuIncCSXTGlx"
      },
      "source": [
        "## Batch mode, no back-n-forth\n",
        "\n"
      ]
    },
    {
      "cell_type": "markdown",
      "metadata": {
        "id": "qZG2mhcYQZrg"
      },
      "source": [
        "Best setting"
      ]
    },
    {
      "cell_type": "markdown",
      "metadata": {
        "id": "Ouj94pSS-2kT"
      },
      "source": [
        "```\n",
        "# GLOBAL PARAMETER\n",
        "adapt_per_train_epoch = 10\n",
        "sim_per_train_epoch = 10\n",
        "# how many times the two models are trained for one query\n",
        "back_forth = 1\n",
        " \n",
        "# retrieval\n",
        "retrieve_size = 1\n",
        "bad_retrieve_size = 0\n",
        " \n",
        "num_of_training_queries = -1\n",
        "# model choice\n",
        "hard_or_easy = 'easy'#'hard' 'easy'\n",
        "model_separation = True\n",
        " \n",
        "using_margin = True\n",
        "alpha_margin =1.2\n",
        "alpha = 0.8\n",
        "beta = 0.2\n",
        " \n",
        "# use naive 1nn instead\n",
        "disable_retrieval = False\n",
        "# no adaptation\n",
        "disable_adaptation = False\n",
        " \n",
        "batch_mode = True\n",
        "batch_size = 32\n",
        "num_of_val_queries = -1\n",
        "```"
      ]
    },
    {
      "cell_type": "markdown",
      "metadata": {
        "id": "rf1aHYdz-4jF"
      },
      "source": [
        "```\n",
        "mse_error(y_test, retrieved_y_s) 1.2824506507349813\n",
        "mse_error(y_test, y_preds) 2.355443466644986\n",
        "\n",
        "mse_error(y_test, retrieved_y_s) 1.352901850356363\n",
        "mse_error(y_test, y_preds) 1.5259045170610241\n",
        "\n",
        "mse_error(y_test, retrieved_y_s) 1.5188801003118215\n",
        "mse_error(y_test, y_preds) 1.1126197166018363\n",
        "\n",
        "mse_error(y_test, retrieved_y_s) 1.474698839532311\n",
        "mse_error(y_test, y_preds) 1.8344448316695818\n",
        "\n",
        "mse_error(y_test, retrieved_y_s) 1.1296073702004583\n",
        "mse_error(y_test, y_preds) 1.175477580869368\n",
        "\n",
        "mse_error(y_test, retrieved_y_s) 1.6729174689755204\n",
        "mse_error(y_test, y_preds) 1.8071185929617044\n",
        "\n",
        "mse_error(y_test, retrieved_y_s) 0.8740725105568028\n",
        "mse_error(y_test, y_preds) 0.8156386359570348\n",
        "\n",
        "mse_error(y_test, retrieved_y_s) 1.9439754742984632\n",
        "mse_error(y_test, y_preds) 1.64272810018386\n",
        "\n",
        "mse_error(y_test, retrieved_y_s) 2.1756285713585997\n",
        "mse_error(y_test, y_preds) 2.2301503832435285\n",
        "\n",
        "mse_error(y_test, retrieved_y_s) 1.435293931269504\n",
        "mse_error(y_test, y_preds) 1.5661549748030925\n",
        "```"
      ]
    },
    {
      "cell_type": "markdown",
      "metadata": {
        "id": "B34qvyyMIh_c"
      },
      "source": [
        "```\n",
        "# GLOBAL PARAMETER\n",
        "adapt_per_train_epoch = 5\n",
        "sim_per_train_epoch = 5\n",
        "# how many times the two models are trained for one query\n",
        "back_forth = 1\n",
        " \n",
        "# retrieval\n",
        "retrieve_size = 1\n",
        "bad_retrieve_size = 0\n",
        " \n",
        "num_of_training_queries = -1\n",
        "# model choice\n",
        "hard_or_easy = 'easy'#'hard' 'easy'\n",
        "model_separation = True\n",
        " \n",
        "using_margin = True\n",
        "alpha_margin =1.2\n",
        "alpha = 0.8\n",
        "beta = 0.2\n",
        " \n",
        "# use naive 1nn instead\n",
        "disable_retrieval = False\n",
        "# no adaptation\n",
        "disable_adaptation = False\n",
        " \n",
        "batch_mode = True\n",
        "batch_size = 16\n",
        "num_of_val_queries = -1\n",
        "\n",
        "```"
      ]
    },
    {
      "cell_type": "markdown",
      "metadata": {
        "id": "SK1nFk0RIkW0"
      },
      "source": [
        "```\n",
        "mse_error(y_test, retrieved_y_s) 2.0120384976614933\n",
        "mse_error(y_test, y_preds) 1.9627106924870836\n",
        "\n",
        "mse_error(y_test, retrieved_y_s) 1.5033569546325338\n",
        "mse_error(y_test, y_preds) 1.3513416940929992\n",
        "\n",
        "mse_error(y_test, retrieved_y_s) 1.4890278970824224\n",
        "mse_error(y_test, y_preds) 1.1975711922377212\n",
        "\n",
        "mse_error(y_test, retrieved_y_s) 2.5625131252116105\n",
        "mse_error(y_test, y_preds) 1.5712899230370234\n",
        "\n",
        "mse_error(y_test, retrieved_y_s) 2.0657724634744112\n",
        "mse_error(y_test, y_preds) 2.1208465262574796\n",
        "```"
      ]
    },
    {
      "cell_type": "markdown",
      "metadata": {
        "id": "6oUxbuDkBwaD"
      },
      "source": [
        "```\n",
        "# GLOBAL PARAMETER\n",
        "adapt_per_train_epoch = 3\n",
        "sim_per_train_epoch = 3\n",
        "# how many times the two models are trained for one query\n",
        "back_forth = 1\n",
        " \n",
        "# retrieval\n",
        "retrieve_size = 1\n",
        "bad_retrieve_size = 0\n",
        " \n",
        "num_of_training_queries = -1\n",
        "# model choice\n",
        "hard_or_easy = 'easy'#'hard' 'easy'\n",
        "model_separation = True\n",
        " \n",
        "using_margin = True\n",
        "alpha_margin =1.2\n",
        "alpha = 0.8\n",
        "beta = 0.2\n",
        " \n",
        "# use naive 1nn instead\n",
        "disable_retrieval = False\n",
        "# no adaptation\n",
        "disable_adaptation = False\n",
        " \n",
        "batch_mode = True\n",
        "batch_size = 16\n",
        "num_of_val_queries = -1\n",
        "```\n",
        "\n"
      ]
    },
    {
      "cell_type": "markdown",
      "metadata": {
        "id": "lq3XG0bo6Hxw"
      },
      "source": [
        "```\n",
        "mse_error(y_test, retrieved_y_s) 1.7887440175055886\n",
        "mse_error(y_test, y_preds) 1.8516919733755415\n",
        "\n",
        "mse_error(y_test, retrieved_y_s) 1.7947144581514685\n",
        "mse_error(y_test, y_preds) 1.8606819036444773\n",
        "\n",
        "mse_error(y_test, retrieved_y_s) 1.3576782028730665\n",
        "mse_error(y_test, y_preds) 1.1857100718647176\n",
        "\n",
        "mse_error(y_test, retrieved_y_s) 1.3564841147438909\n",
        "mse_error(y_test, y_preds) 1.330388545422439\n",
        "\n",
        "mse_error(y_test, retrieved_y_s) 1.777997224343005\n",
        "mse_error(y_test, y_preds) 2.026588278782596\n",
        "```"
      ]
    },
    {
      "cell_type": "markdown",
      "metadata": {
        "id": "R613cctzB4Dt"
      },
      "source": [
        "```\n",
        "mse_error(y_test, retrieved_y_s) 1.2024467460801922\n",
        "mse_error(y_test, y_preds) 1.1019735986730446\n",
        "\n",
        "mse_error(y_test, retrieved_y_s) 1.4591756938530236\n",
        "mse_error(y_test, y_preds) 1.465053875559009\n",
        "\n",
        "mse_error(y_test, retrieved_y_s) 1.5582850085746283\n",
        "mse_error(y_test, y_preds) 1.538326632230536\n",
        "\n",
        "mse_error(y_test, retrieved_y_s) 1.7982967225389963\n",
        "mse_error(y_test, y_preds) 1.794444109501626\n",
        "\n",
        "mse_error(y_test, retrieved_y_s) 2.500420542494461\n",
        "mse_error(y_test, y_preds) 2.5070646017186284\n",
        "```"
      ]
    },
    {
      "cell_type": "markdown",
      "metadata": {
        "id": "OIkcTIhR8qB6"
      },
      "source": [
        "```\n",
        "# GLOBAL PARAMETER\n",
        "adapt_per_train_epoch = 3\n",
        "sim_per_train_epoch = 3\n",
        "# how many times the two models are trained for one query\n",
        "back_forth = 1\n",
        " \n",
        "# retrieval\n",
        "retrieve_size = 1\n",
        "bad_retrieve_size = 0\n",
        " \n",
        "num_of_training_queries = -1\n",
        "# model choice\n",
        "hard_or_easy = 'easy'#'hard' 'easy'\n",
        "model_separation = True\n",
        " \n",
        "using_margin = False\n",
        "alpha_margin =0.9\n",
        "alpha = 0.5\n",
        "beta = 0.5\n",
        " \n",
        "# use naive 1nn instead\n",
        "disable_retrieval = False\n",
        "# no adaptation\n",
        "disable_adaptation = False\n",
        " \n",
        "batch_mode = True\n",
        "batch_size = 100\n",
        "num_of_val_queries = -1\n",
        "```"
      ]
    },
    {
      "cell_type": "markdown",
      "metadata": {
        "id": "ufr7zx3bTGlx"
      },
      "source": [
        "```\n",
        "mse_error(y_test, retrieved_y_s) 2.2401093303341013\n",
        "mse_error(y_test, y_preds) 2.1895050026409812\n",
        "```"
      ]
    },
    {
      "cell_type": "markdown",
      "metadata": {
        "id": "X2AXAUkgTGlx"
      },
      "source": [
        "```\n",
        "# GLOBAL PARAMETER\n",
        "adapt_per_train_epoch = 1\n",
        "sim_per_train_epoch = 1\n",
        "# how many times the two models are trained for one query\n",
        "back_forth = 1\n",
        " \n",
        "# retrieval\n",
        "retrieve_size = 1\n",
        "bad_retrieve_size = 0\n",
        " \n",
        "num_of_training_queries = -1\n",
        "# model choice\n",
        "hard_or_easy = 'easy'#'hard' 'easy'\n",
        "model_separation = True\n",
        " \n",
        "using_margin = True\n",
        "alpha_margin =0.9\n",
        "alpha = 0.9\n",
        "beta = 0.1\n",
        " \n",
        "# use naive 1nn instead\n",
        "disable_retrieval = False\n",
        "# no adaptation\n",
        "disable_adaptation = False\n",
        " \n",
        "batch_mode = True\n",
        "batch_size = 32\n",
        "num_of_val_queries = -1\n",
        "```"
      ]
    },
    {
      "cell_type": "markdown",
      "metadata": {
        "id": "TSZt_Ih5TGlx"
      },
      "source": [
        "```\n",
        "mse_error(y_test, retrieved_y_s) 2.144582280000025\n",
        "mse_error(y_test, y_preds) 2.1402503950788985\n",
        "```"
      ]
    },
    {
      "cell_type": "markdown",
      "metadata": {
        "id": "nJQ37izraYbb"
      },
      "source": [
        "#Results (Student Math ) Special, with 1 bad retrieval\n",
        "\n"
      ]
    },
    {
      "cell_type": "markdown",
      "metadata": {
        "id": "PlsdtIveaYbe"
      },
      "source": [
        "##Baseline\n",
        "```\n",
        "# GLOBAL PARAMETER\n",
        "adapt_per_train_epoch = 30\n",
        "sim_per_train_epoch = 30\n",
        "# how many times the two models are trained for one query\n",
        "back_forth = 1\n",
        " \n",
        "# retrieval\n",
        "retrieve_size = 1\n",
        "bad_retrieve_size = 0\n",
        " \n",
        "num_of_training_queries = -1\n",
        "# model choice\n",
        "hard_or_easy = 'easy'#'hard' 'easy'\n",
        "model_separation = True\n",
        " \n",
        "using_margin = False\n",
        "alpha_margin =0.1\n",
        "alpha = 0.5\n",
        "beta = 0.5\n",
        " \n",
        "# use naive 1nn instead\n",
        "disable_retrieval = True\n",
        "# no adaptation\n",
        "disable_adaptation = True\n",
        " \n",
        "batch_mode = False\n",
        "batch_size = 100\n",
        "num_of_val_queries = 100\n",
        "```"
      ]
    },
    {
      "cell_type": "markdown",
      "metadata": {
        "id": "GhTo-eGcaYbf"
      },
      "source": [
        "```\n",
        "mse_error(y_test, retrieved_y_s) 1.4126062568151605\n",
        "mse_error(y_test, y_preds) 1.4126062568151605\n",
        "```"
      ]
    },
    {
      "cell_type": "markdown",
      "metadata": {
        "id": "5ejvk8k-aYbf"
      },
      "source": [
        "```\n",
        "mse_error(y_test, retrieved_y_s) 1.5367914222494607\n",
        "mse_error(y_test, y_preds) 1.5367914222494607\n",
        "```"
      ]
    },
    {
      "cell_type": "markdown",
      "metadata": {
        "id": "HlzFXRm2aYbf"
      },
      "source": [
        "```\n",
        "mse_error(y_test, retrieved_y_s) 2.9087986826726384\n",
        "mse_error(y_test, y_preds) 2.9087986826726384\n",
        "```"
      ]
    },
    {
      "cell_type": "markdown",
      "metadata": {
        "id": "DelEa19SaYbf"
      },
      "source": [
        "##Just Retrieval"
      ]
    },
    {
      "cell_type": "markdown",
      "metadata": {
        "id": "T2ab1dWnaYbf"
      },
      "source": [
        "```\n",
        "# GLOBAL PARAMETER\n",
        "adapt_per_train_epoch = 100\n",
        "sim_per_train_epoch = 100\n",
        "# how many times the two models are trained for one query\n",
        "back_forth = 1\n",
        " \n",
        "# retrieval\n",
        "retrieve_size = 1\n",
        "bad_retrieve_size = 1\n",
        " \n",
        "num_of_training_queries = -1\n",
        "# model choice\n",
        "hard_or_easy = 'easy'#'hard' 'easy'\n",
        "model_separation = True\n",
        " \n",
        "using_margin = False\n",
        "alpha_margin =0.1\n",
        "alpha = 1\n",
        "beta = 0\n",
        " \n",
        "# use naive 1nn instead\n",
        "disable_retrieval = False\n",
        "# no adaptation\n",
        "disable_adaptation = True\n",
        " \n",
        "batch_mode = False\n",
        "batch_size = 100\n",
        "num_of_val_queries = 100\n",
        "```"
      ]
    },
    {
      "cell_type": "markdown",
      "metadata": {
        "id": "YS648Og_qPo4"
      },
      "source": [
        "```\n",
        "mse_error(y_test, retrieved_y_s) 1.5845549474164993\n",
        "mse_error(y_test, y_preds) 1.5845549474164993\n",
        "```"
      ]
    },
    {
      "cell_type": "markdown",
      "metadata": {
        "id": "1WphZAhkaYbh"
      },
      "source": [
        "##Just adaptation\n",
        "\n",
        "```\n",
        "# GLOBAL PARAMETER\n",
        "adapt_per_train_epoch = 100\n",
        "sim_per_train_epoch = 100\n",
        "# how many times the two models are trained for one query\n",
        "back_forth = 1\n",
        " \n",
        "# retrieval\n",
        "retrieve_size = 1\n",
        "bad_retrieve_size = 1\n",
        " \n",
        "num_of_training_queries = -1\n",
        "# model choice\n",
        "hard_or_easy = 'easy'#'hard' 'easy'\n",
        "model_separation = True\n",
        " \n",
        "using_margin = False\n",
        "alpha_margin =0.1\n",
        "alpha = 1\n",
        "beta = 0\n",
        " \n",
        "# use naive 1nn instead\n",
        "disable_retrieval = True\n",
        "# no adaptation\n",
        "disable_adaptation = False\n",
        " \n",
        "batch_mode = False\n",
        "batch_size = 100\n",
        "num_of_val_queries = 100\n",
        "```"
      ]
    },
    {
      "cell_type": "markdown",
      "metadata": {
        "id": "BVBmFJNyq5ZE"
      },
      "source": [
        "```\n",
        "mse_error(y_test, retrieved_y_s) 1.6526179707795294\n",
        "mse_error(y_test, y_preds) 1.2500101713012022\n",
        "```"
      ]
    },
    {
      "cell_type": "markdown",
      "metadata": {
        "id": "tt-iTHH9aYbh"
      },
      "source": [
        "##In order, Alpha 1"
      ]
    },
    {
      "cell_type": "markdown",
      "metadata": {
        "id": "4JNMOagcaYbh"
      },
      "source": [
        "```\n",
        "# GLOBAL PARAMETER\n",
        "adapt_per_train_epoch = 100\n",
        "sim_per_train_epoch = 100\n",
        "# how many times the two models are trained for one query\n",
        "back_forth = 1\n",
        " \n",
        "# retrieval\n",
        "retrieve_size = 1\n",
        "bad_retrieve_size = 1\n",
        " \n",
        "num_of_training_queries = -1\n",
        "# model choice\n",
        "hard_or_easy = 'easy'#'hard' 'easy'\n",
        "model_separation = True\n",
        " \n",
        "using_margin = False\n",
        "alpha_margin =0.1\n",
        "alpha = 1\n",
        "beta = 0\n",
        " \n",
        "# use naive 1nn instead\n",
        "disable_retrieval = False\n",
        "# no adaptation\n",
        "disable_adaptation = False\n",
        " \n",
        "batch_mode = False\n",
        "batch_size = 100\n",
        "num_of_val_queries = 100\n",
        "```"
      ]
    },
    {
      "cell_type": "markdown",
      "metadata": {
        "id": "pBKileXVr4Mz"
      },
      "source": [
        "```\n",
        "mse_error(y_test, retrieved_y_s) 1.6430652657461213\n",
        "mse_error(y_test, y_preds) 1.0184390118000455\n",
        "```"
      ]
    },
    {
      "cell_type": "markdown",
      "metadata": {
        "id": "uxUMG93VaYbh"
      },
      "source": [
        "##In order, Beta 1\n",
        "\n",
        "```\n",
        "# GLOBAL PARAMETER\n",
        "adapt_per_train_epoch = 100\n",
        "sim_per_train_epoch = 100\n",
        "# how many times the two models are trained for one query\n",
        "back_forth = 1\n",
        " \n",
        "# retrieval\n",
        "retrieve_size = 1\n",
        "bad_retrieve_size = 1\n",
        " \n",
        "num_of_training_queries = -1\n",
        "# model choice\n",
        "hard_or_easy = 'easy'#'hard' 'easy'\n",
        "model_separation = True\n",
        " \n",
        "using_margin = False\n",
        "alpha_margin =0.1\n",
        "alpha = 0\n",
        "beta = 1\n",
        " \n",
        "# use naive 1nn instead\n",
        "disable_retrieval = False\n",
        "# no adaptation\n",
        "disable_adaptation = False\n",
        " \n",
        "batch_mode = False\n",
        "batch_size = 100\n",
        "num_of_val_queries = 100\n",
        "```"
      ]
    },
    {
      "cell_type": "markdown",
      "metadata": {
        "id": "dX8YTle4LgHm"
      },
      "source": [
        "```\n",
        "mse_error(y_test, retrieved_y_s) 1.9857685588196219\n",
        "mse_error(y_test, y_preds) 1.01699471833626\n",
        "```"
      ]
    },
    {
      "cell_type": "markdown",
      "metadata": {
        "id": "CEGyELdaLafF"
      },
      "source": [
        "```\n",
        "mse_error(y_test, retrieved_y_s) 1.633512560712714\n",
        "mse_error(y_test, y_preds) 0.8960150015602497\n",
        "```"
      ]
    },
    {
      "cell_type": "markdown",
      "metadata": {
        "id": "nISs6vcE9hYs"
      },
      "source": [
        "## Batch mode, no back-n-forth\n"
      ]
    },
    {
      "cell_type": "markdown",
      "metadata": {
        "id": "yU4dzRYE9iLX"
      },
      "source": [
        "```\n",
        "# GLOBAL PARAMETER\n",
        "adapt_per_train_epoch = 3\n",
        "sim_per_train_epoch = 3\n",
        "# how many times the two models are trained for one query\n",
        "back_forth = 1\n",
        " \n",
        "# retrieval\n",
        "retrieve_size = 1\n",
        "bad_retrieve_size = 1\n",
        " \n",
        "num_of_training_queries = -1\n",
        "# model choice\n",
        "hard_or_easy = 'easy'#'hard' 'easy'\n",
        "model_separation = True\n",
        " \n",
        "using_margin = True\n",
        "alpha_margin =0.9\n",
        "alpha = 0.5\n",
        "beta = 0.5\n",
        " \n",
        "# use naive 1nn instead\n",
        "disable_retrieval = False\n",
        "# no adaptation\n",
        "disable_adaptation = False\n",
        " \n",
        "batch_mode = True\n",
        "batch_size = 16\n",
        "num_of_val_queries = -1\n",
        "```\n"
      ]
    },
    {
      "cell_type": "markdown",
      "metadata": {
        "id": "0_sN1gIbBo3N"
      },
      "source": [
        "```\n",
        "mse_error(y_test, retrieved_y_s) 1.5451500391536928\n",
        "mse_error(y_test, y_preds) 1.41503107761728\n",
        "```"
      ]
    },
    {
      "cell_type": "markdown",
      "metadata": {
        "id": "VFP7qkhnBIgl"
      },
      "source": [
        "```\n",
        "mse_error(y_test, retrieved_y_s) 2.0526374940534757\n",
        "mse_error(y_test, y_preds) 1.6673338121437176\n",
        "```"
      ]
    },
    {
      "cell_type": "markdown",
      "metadata": {
        "id": "8O14pdl69lqS"
      },
      "source": [
        "```\n",
        "mse_error(y_test, retrieved_y_s) 1.3075265014476767\n",
        "mse_error(y_test, y_preds) 1.099742346619724\n",
        "```"
      ]
    },
    {
      "cell_type": "markdown",
      "metadata": {
        "id": "YIqNWe-1aYbi"
      },
      "source": [
        "```\n",
        "# GLOBAL PARAMETER\n",
        "adapt_per_train_epoch = 50\n",
        "sim_per_train_epoch = 50\n",
        "# how many times the two models are trained for one query\n",
        "back_forth = 1\n",
        " \n",
        "# retrieval\n",
        "retrieve_size = 1\n",
        "bad_retrieve_size = 1\n",
        " \n",
        "num_of_training_queries = -1\n",
        "# model choice\n",
        "hard_or_easy = 'easy'#'hard' 'easy'\n",
        "model_separation = True\n",
        " \n",
        "using_margin = False\n",
        "alpha_margin =0.9\n",
        "alpha = 0.8\n",
        "beta = 0.2\n",
        " \n",
        "# use naive 1nn instead\n",
        "disable_retrieval = False\n",
        "# no adaptation\n",
        "disable_adaptation = False\n",
        " \n",
        "batch_mode = True\n",
        "batch_size = 50\n",
        "num_of_val_queries = -1\n",
        "```"
      ]
    },
    {
      "cell_type": "markdown",
      "metadata": {
        "id": "gaYlxSAitnDr"
      },
      "source": [
        "```\n",
        "mse_error(y_test, retrieved_y_s) 1.4567875175946718\n",
        "mse_error(y_test, y_preds) 1.3732194050310178\n",
        "```"
      ]
    },
    {
      "cell_type": "markdown",
      "metadata": {
        "id": "i-OnJ0cQuFwS"
      },
      "source": [
        "```\n",
        "# GLOBAL PARAMETER\n",
        "adapt_per_train_epoch = 2\n",
        "sim_per_train_epoch = 2\n",
        "# how many times the two models are trained for one query\n",
        "back_forth = 1\n",
        " \n",
        "# retrieval\n",
        "retrieve_size = 1\n",
        "bad_retrieve_size = 1\n",
        " \n",
        "num_of_training_queries = -1\n",
        "# model choice\n",
        "hard_or_easy = 'easy'#'hard' 'easy'\n",
        "model_separation = True\n",
        " \n",
        "using_margin = False\n",
        "alpha_margin =0.9\n",
        "alpha = 0.8\n",
        "beta = 0.2\n",
        " \n",
        "# use naive 1nn instead\n",
        "disable_retrieval = False\n",
        "# no adaptation\n",
        "disable_adaptation = False\n",
        " \n",
        "batch_mode = True\n",
        "batch_size = 32\n",
        "num_of_val_queries = -1\n",
        "```"
      ]
    },
    {
      "cell_type": "markdown",
      "metadata": {
        "id": "B7ny3rnSuUxQ"
      },
      "source": [
        "```\n",
        "mse_error(y_test, retrieved_y_s) 1.6120189743875464\n",
        "mse_error(y_test, y_preds) 1.347297598825745\n",
        "```"
      ]
    },
    {
      "cell_type": "markdown",
      "metadata": {
        "id": "4oRKN8UJuqYv"
      },
      "source": [
        "```\n",
        "# GLOBAL PARAMETER\n",
        "adapt_per_train_epoch = 3\n",
        "sim_per_train_epoch = 3\n",
        "# how many times the two models are trained for one query\n",
        "back_forth = 1\n",
        " \n",
        "# retrieval\n",
        "retrieve_size = 1\n",
        "bad_retrieve_size = 1\n",
        " \n",
        "num_of_training_queries = -1\n",
        "# model choice\n",
        "hard_or_easy = 'easy'#'hard' 'easy'\n",
        "model_separation = True\n",
        " \n",
        "using_margin = False\n",
        "alpha_margin =0.9\n",
        "alpha = 0.8\n",
        "beta = 0.2\n",
        " \n",
        "# use naive 1nn instead\n",
        "disable_retrieval = False\n",
        "# no adaptation\n",
        "disable_adaptation = False\n",
        " \n",
        "batch_mode = True\n",
        "batch_size = 32\n",
        "num_of_val_queries = -1\n",
        "```"
      ]
    },
    {
      "cell_type": "markdown",
      "metadata": {
        "id": "ThRgchpBuwZ1"
      },
      "source": [
        "```\n",
        "mse_error(y_test, retrieved_y_s) 2.260408828530093\n",
        "mse_error(y_test, y_preds) 2.1299467068023303\n",
        "```"
      ]
    },
    {
      "cell_type": "markdown",
      "metadata": {
        "id": "FKOSj2v2xWFP"
      },
      "source": [
        "#Results (Airfoil )"
      ]
    },
    {
      "cell_type": "markdown",
      "metadata": {
        "id": "B2kxw7tpxWFS"
      },
      "source": [
        "##Baseline\n",
        "```\n",
        "# GLOBAL PARAMETER\n",
        "adapt_per_train_epoch = 30\n",
        "sim_per_train_epoch = 30\n",
        "# how many times the two models are trained for one query\n",
        "back_forth = 1\n",
        " \n",
        "# retrieval\n",
        "retrieve_size = 1\n",
        "bad_retrieve_size = 0\n",
        " \n",
        "num_of_training_queries = -1\n",
        "# model choice\n",
        "hard_or_easy = 'easy'#'hard' 'easy'\n",
        "model_separation = True\n",
        " \n",
        "using_margin = False\n",
        "alpha_margin =0.1\n",
        "alpha = 0.5\n",
        "beta = 0.5\n",
        " \n",
        "# use naive 1nn instead\n",
        "disable_retrieval = True\n",
        "# no adaptation\n",
        "disable_adaptation = True\n",
        " \n",
        "batch_mode = False\n",
        "batch_size = 100\n",
        "num_of_val_queries = 100\n",
        "```"
      ]
    },
    {
      "cell_type": "markdown",
      "metadata": {
        "id": "fDqtDhT4xivC"
      },
      "source": [
        "```\n",
        "mse_error(y_test, retrieved_y_s) 0.15010504121565116\n",
        "mse_error(y_test, y_preds) 0.15010504121565116\n",
        "```"
      ]
    },
    {
      "cell_type": "markdown",
      "metadata": {
        "id": "F_rsgy39qzL4"
      },
      "source": [
        "```\n",
        "mse_error(y_test, retrieved_y_s) 0.13988533026432518\n",
        "mse_error(y_test, y_preds) 0.13988533026432518\n",
        "```"
      ]
    },
    {
      "cell_type": "markdown",
      "metadata": {
        "id": "nY96nqAvxWFT"
      },
      "source": [
        "##Just Retrieval"
      ]
    },
    {
      "cell_type": "markdown",
      "metadata": {
        "id": "8SPYhnWTxWFT"
      },
      "source": [
        "```\n",
        "# GLOBAL PARAMETER\n",
        "adapt_per_train_epoch = 100\n",
        "sim_per_train_epoch = 100\n",
        "# how many times the two models are trained for one query\n",
        "back_forth = 1\n",
        " \n",
        "# retrieval\n",
        "retrieve_size = 1\n",
        "bad_retrieve_size = 0\n",
        " \n",
        "num_of_training_queries = -1\n",
        "# model choice\n",
        "hard_or_easy = 'easy'#'hard' 'easy'\n",
        "model_separation = True\n",
        " \n",
        "using_margin = False\n",
        "alpha_margin =0.1\n",
        "alpha = 1\n",
        "beta = 0\n",
        " \n",
        "# use naive 1nn instead\n",
        "disable_retrieval = False\n",
        "# no adaptation\n",
        "disable_adaptation = True\n",
        " \n",
        "batch_mode = False\n",
        "batch_size = 100\n",
        "num_of_val_queries = -1\n",
        "```"
      ]
    },
    {
      "cell_type": "markdown",
      "metadata": {
        "id": "v-tdssKnMzOU"
      },
      "source": [
        "```\n",
        "mse_error(y_test, retrieved_y_s) 0.2982626040079169\n",
        "mse_error(y_test, y_preds) 0.2982626040079169\n",
        "```"
      ]
    },
    {
      "cell_type": "markdown",
      "metadata": {
        "id": "15WMPzIXxWFU"
      },
      "source": [
        "With bad retrieval\n",
        "```\n",
        "# GLOBAL PARAMETER\n",
        "adapt_per_train_epoch = 50\n",
        "sim_per_train_epoch = 50\n",
        "# how many times the two models are trained for one query\n",
        "back_forth = 1\n",
        " \n",
        "# retrieval\n",
        "retrieve_size = 1\n",
        "bad_retrieve_size = 19\n",
        " \n",
        "num_of_training_queries = -1\n",
        "# model choice\n",
        "hard_or_easy = 'easy'#'hard' 'easy'\n",
        "model_separation = True\n",
        " \n",
        "using_margin = False\n",
        "alpha_margin =0.1\n",
        "alpha = 1\n",
        "beta = 0\n",
        " \n",
        "# use naive 1nn instead\n",
        "disable_retrieval = False\n",
        "# no adaptation\n",
        "disable_adaptation = True\n",
        " \n",
        "batch_mode = False\n",
        "batch_size = 100\n",
        "num_of_val_queries = -1\n",
        "```"
      ]
    },
    {
      "cell_type": "markdown",
      "metadata": {
        "id": "ZxWPz4j6xO2I"
      },
      "source": [
        "```\n",
        "mse_error(y_test, retrieved_y_s) 0.04494547605601288\n",
        "mse_error(y_test, y_preds) 0.04494547605601288\n",
        "```"
      ]
    },
    {
      "cell_type": "markdown",
      "metadata": {
        "id": "h7Ibr2k_xWFV"
      },
      "source": [
        "##Just adaptation\n",
        "\n",
        "```\n",
        "# GLOBAL PARAMETER\n",
        "adapt_per_train_epoch = 50\n",
        "sim_per_train_epoch = 50\n",
        "# how many times the two models are trained for one query\n",
        "back_forth = 1\n",
        " \n",
        "# retrieval\n",
        "retrieve_size = 1\n",
        "bad_retrieve_size = 0\n",
        " \n",
        "num_of_training_queries = -1\n",
        "# model choice\n",
        "hard_or_easy = 'easy'#'hard' 'easy'\n",
        "model_separation = True\n",
        " \n",
        "using_margin = False\n",
        "alpha_margin =0.1\n",
        "alpha = 1\n",
        "beta = 0\n",
        " \n",
        "# use naive 1nn instead\n",
        "disable_retrieval = True\n",
        "# no adaptation\n",
        "disable_adaptation = False\n",
        " \n",
        "batch_mode = False\n",
        "batch_size = 100\n",
        "num_of_val_queries = -1\n",
        "```"
      ]
    },
    {
      "cell_type": "markdown",
      "metadata": {
        "id": "EYAWeCwfximG"
      },
      "source": [
        "```\n",
        "mse_error(y_test, retrieved_y_s) 0.13988533026432523\n",
        "mse_error(y_test, y_preds) 0.13988530189240211\n",
        "```"
      ]
    },
    {
      "cell_type": "markdown",
      "metadata": {
        "id": "nORbXpi0xWFW"
      },
      "source": [
        "##In order, Alpha 1"
      ]
    },
    {
      "cell_type": "markdown",
      "metadata": {
        "id": "Ra-SYsoEwili"
      },
      "source": [
        "```\n",
        "# GLOBAL PARAMETER\n",
        "adapt_per_train_epoch = 100\n",
        "sim_per_train_epoch = 100\n",
        "# how many times the two models are trained for one query\n",
        "back_forth = 1\n",
        " \n",
        "# retrieval\n",
        "retrieve_size = 1\n",
        "bad_retrieve_size = 0\n",
        " \n",
        "num_of_training_queries = -1\n",
        "# model choice\n",
        "hard_or_easy = 'easy'#'hard' 'easy'\n",
        "model_separation = True\n",
        " \n",
        "using_margin = False\n",
        "alpha_margin =0.1\n",
        "alpha = 1\n",
        "beta = 0\n",
        " \n",
        "# use naive 1nn instead\n",
        "disable_retrieval = False\n",
        "# no adaptation\n",
        "disable_adaptation = False\n",
        " \n",
        "batch_mode = False\n",
        "batch_size = 100\n",
        "num_of_val_queries = -1\n",
        "```"
      ]
    },
    {
      "cell_type": "markdown",
      "metadata": {
        "id": "1-nOH_ISMM1u"
      },
      "source": [
        "```\n",
        "mse_error(y_test, retrieved_y_s) 0.4425462464188712\n",
        "mse_error(y_test, y_preds) 0.4024145520164575\n",
        "\n",
        "mse_error(y_test, retrieved_y_s) 0.6905800924018325\n",
        "mse_error(y_test, y_preds) 1.547051959717854\n",
        "\n",
        "mse_error(y_test, retrieved_y_s) 1.3609996295357503\n",
        "mse_error(y_test, y_preds) 0.6377161575807369\n",
        "\n",
        "mse_error(y_test, retrieved_y_s) 0.7790365306245126\n",
        "mse_error(y_test, y_preds) 0.6391381821293315\n",
        "\n",
        "mse_error(y_test, retrieved_y_s) 0.598782509431653\n",
        "mse_error(y_test, y_preds) 0.4767601292214646\n",
        "\n",
        "mse_error(y_test, retrieved_y_s) 0.1664561416164127\n",
        "mse_error(y_test, y_preds) 0.15577071698394268\n",
        "\n",
        "mse_error(y_test, retrieved_y_s) 0.2041661866873775\n",
        "mse_error(y_test, y_preds) 0.5681454623505945\n",
        "\n",
        "mse_error(y_test, retrieved_y_s) 1.1664733555930598\n",
        "mse_error(y_test, y_preds) 1.8098747731845275\n",
        "\n",
        "mse_error(y_test, retrieved_y_s) 0.45291641946612615\n",
        "mse_error(y_test, y_preds) 0.30283930299666356\n",
        "\n",
        "mse_error(y_test, retrieved_y_s) 0.4434972616416057\n",
        "mse_error(y_test, y_preds) 0.39761149140542335\n",
        "```"
      ]
    },
    {
      "cell_type": "markdown",
      "metadata": {
        "id": "MGm_vXW2j89x"
      },
      "source": [
        "```\n",
        "mse_error(y_test, retrieved_y_s) 0.25641431840408846\n",
        "mse_error(y_test, y_preds) 2.7285021907993263\n",
        "```"
      ]
    },
    {
      "cell_type": "markdown",
      "metadata": {
        "id": "M-K0bl-xkpbD"
      },
      "source": [
        "```\n",
        "mse_error(y_test, retrieved_y_s) 0.24183877929154426\n",
        "mse_error(y_test, y_preds) 0.21239972079443736\n",
        "```"
      ]
    },
    {
      "cell_type": "markdown",
      "metadata": {
        "id": "ScpqbP5EgLC0"
      },
      "source": [
        "```\n",
        "mse_error(y_test, retrieved_y_s) 0.23076767493023514\n",
        "mse_error(y_test, y_preds) 0.1558808527192187\n",
        "```"
      ]
    },
    {
      "cell_type": "markdown",
      "metadata": {
        "id": "T1RsNwE4zxJF"
      },
      "source": [
        "```\n",
        "mse_error(y_test, retrieved_y_s) 0.35459495183372314\n",
        "mse_error(y_test, y_preds) 0.29055949953798077\n",
        "```"
      ]
    },
    {
      "cell_type": "markdown",
      "metadata": {
        "id": "jp3oLQKgxDcL"
      },
      "source": [
        "```\n",
        "mse_error(y_test, retrieved_y_s) 0.40383703941857213\n",
        "mse_error(y_test, y_preds) 0.4821457518197068\n",
        "```"
      ]
    },
    {
      "cell_type": "markdown",
      "metadata": {
        "id": "lFXdwcqkxWFW"
      },
      "source": [
        "##In order, Beta 1\n",
        "```\n",
        "# GLOBAL PARAMETER\n",
        "adapt_per_train_epoch = 100\n",
        "sim_per_train_epoch = 100\n",
        "# how many times the two models are trained for one query\n",
        "back_forth = 1\n",
        " \n",
        "# retrieval\n",
        "retrieve_size = 1\n",
        "bad_retrieve_size = 0\n",
        " \n",
        "num_of_training_queries = -1\n",
        "# model choice\n",
        "hard_or_easy = 'easy'#'hard' 'easy'\n",
        "model_separation = True\n",
        " \n",
        "using_margin = False\n",
        "alpha_margin =0.1\n",
        "alpha = 0\n",
        "beta = 1\n",
        " \n",
        "# use naive 1nn instead\n",
        "disable_retrieval = False\n",
        "# no adaptation\n",
        "disable_adaptation = False\n",
        " \n",
        "batch_mode = False\n",
        "batch_size = 100\n",
        "num_of_val_queries = -1\n",
        "```"
      ]
    },
    {
      "cell_type": "markdown",
      "metadata": {
        "id": "FDCyxo8QQ4aa"
      },
      "source": [
        "```\n",
        "mse_error(y_test, retrieved_y_s) 0.46403524973231774\n",
        "mse_error(y_test, y_preds) 0.20509478968437406\n",
        "\n",
        "mse_error(y_test, retrieved_y_s) 0.45903314560489705\n",
        "mse_error(y_test, y_preds) 0.14048577465136255\n",
        "\n",
        "mse_error(y_test, retrieved_y_s) 0.3628531817737483\n",
        "mse_error(y_test, y_preds) 0.16474354691042398\n",
        "\n",
        "mse_error(y_test, retrieved_y_s) 1.9562225883814601\n",
        "mse_error(y_test, y_preds) 0.1486296982282566\n",
        "\n",
        "mse_error(y_test, retrieved_y_s) 1.4082829827386398\n",
        "mse_error(y_test, y_preds) 0.8829018096664359\n",
        "\n",
        "mse_error(y_test, retrieved_y_s) 2.157250886880225\n",
        "mse_error(y_test, y_preds) 0.20728651604318316\n",
        "\n",
        "mse_error(y_test, retrieved_y_s) 1.3287368249579947\n",
        "mse_error(y_test, y_preds) 0.26743847250510044\n",
        "\n",
        "mse_error(y_test, retrieved_y_s) 1.0547595304874833\n",
        "mse_error(y_test, y_preds) 0.26288981239558673\n",
        "\n",
        "mse_error(y_test, retrieved_y_s) 0.8380843726425858\n",
        "mse_error(y_test, y_preds) 0.17617313783025046\n",
        "\n",
        "mse_error(y_test, retrieved_y_s) 1.5622630268347912\n",
        "mse_error(y_test, y_preds) 0.7785380282639087\n",
        "\n",
        "mse_error(y_test, retrieved_y_s) 4.658178845135962\n",
        "mse_error(y_test, y_preds) 1.2367158857139586\n",
        "```"
      ]
    },
    {
      "cell_type": "markdown",
      "metadata": {
        "id": "UZB5yP-wnVdV"
      },
      "source": [
        "```\n",
        "mse_error(y_test, retrieved_y_s) 0.35970780005621167\n",
        "mse_error(y_test, y_preds) 0.1516203730380604\n",
        "```"
      ]
    },
    {
      "cell_type": "markdown",
      "metadata": {
        "id": "_cdiCc-Zmq_3"
      },
      "source": [
        "```\n",
        "mse_error(y_test, retrieved_y_s) 1.1476596831619883\n",
        "mse_error(y_test, y_preds) 0.4573007348698502\n",
        "```"
      ]
    },
    {
      "cell_type": "markdown",
      "metadata": {
        "id": "yG4O4M3xmAG5"
      },
      "source": [
        "```\n",
        "mse_error(y_test, retrieved_y_s) 1.17240420406107\n",
        "mse_error(y_test, y_preds) 0.2961135748623461\n",
        "```"
      ]
    },
    {
      "cell_type": "markdown",
      "metadata": {
        "id": "itsXpPAvlWp5"
      },
      "source": [
        "```\n",
        "mse_error(y_test, retrieved_y_s) 2.623373018345764\n",
        "mse_error(y_test, y_preds) 0.6778236477257922\n",
        "```"
      ]
    },
    {
      "cell_type": "markdown",
      "metadata": {
        "id": "wABKaESGyb8a"
      },
      "source": [
        "```\n",
        "mse_error(y_test, retrieved_y_s) 1.4400979981731359\n",
        "mse_error(y_test, y_preds) 0.158297125077583\n",
        "```"
      ]
    },
    {
      "cell_type": "markdown",
      "metadata": {
        "id": "a4Yz0DW9xWFX"
      },
      "source": [
        "##Batch mode, back-n-forth\n",
        "\n",
        "```\n",
        "# GLOBAL PARAMETER\n",
        "adapt_per_train_epoch = 20\n",
        "sim_per_train_epoch = 20\n",
        "# how many times the two models are trained for one query\n",
        "back_forth = 1\n",
        " \n",
        "# retrieval\n",
        "retrieve_size = 1\n",
        "bad_retrieve_size = 0\n",
        " \n",
        "num_of_training_queries = -1\n",
        "# model choice\n",
        "hard_or_easy = 'easy'#'hard' 'easy'\n",
        "model_separation = True\n",
        " \n",
        "using_margin = True\n",
        "alpha_margin =0.15\n",
        "alpha = 0.8\n",
        "beta = 0.2\n",
        " \n",
        "# use naive 1nn instead\n",
        "disable_retrieval = False\n",
        "# no adaptation\n",
        "disable_adaptation = False\n",
        " \n",
        "batch_mode = True\n",
        "batch_size = 32\n",
        "num_of_val_queries = -1\n",
        "```"
      ]
    },
    {
      "cell_type": "markdown",
      "metadata": {
        "id": "C00J4efI_SJo"
      },
      "source": [
        "```\n",
        "mse_error(y_test, retrieved_y_s) 0.39328078526200294\n",
        "mse_error(y_test, y_preds) 0.29408781711633175\n",
        "```"
      ]
    },
    {
      "cell_type": "markdown",
      "metadata": {
        "id": "Y7rihct4DHU6"
      },
      "source": [
        "```\n",
        "# GLOBAL PARAMETER\n",
        "adapt_per_train_epoch = 1\n",
        "sim_per_train_epoch = 1\n",
        "# how many times the two models are trained for one query\n",
        "back_forth = 1\n",
        " \n",
        "# retrieval\n",
        "retrieve_size = 1\n",
        "bad_retrieve_size = 0\n",
        " \n",
        "num_of_training_queries = -1\n",
        "# model choice\n",
        "hard_or_easy = 'easy'#'hard' 'easy'\n",
        "model_separation = True\n",
        " \n",
        "using_margin = True\n",
        "alpha_margin =0.15\n",
        "alpha = 0.5\n",
        "beta = 0.5\n",
        " \n",
        "# use naive 1nn instead\n",
        "disable_retrieval = False\n",
        "# no adaptation\n",
        "disable_adaptation = False\n",
        " \n",
        "batch_mode = True\n",
        "batch_size = 32\n",
        "num_of_val_queries = -1\n",
        "```"
      ]
    },
    {
      "cell_type": "markdown",
      "metadata": {
        "id": "0JVnwYumUV0Z"
      },
      "source": [
        "```\n",
        "mse_error(y_test, retrieved_y_s) 0.5000880033049067\n",
        "mse_error(y_test, y_preds) 0.38623735292095096\n",
        "```"
      ]
    },
    {
      "cell_type": "markdown",
      "metadata": {
        "id": "UxQR-P7PPj-r"
      },
      "source": [
        "```\n",
        "mse_error(y_test, retrieved_y_s) 0.3370969156929242\n",
        "mse_error(y_test, y_preds) 0.3382548697224044\n",
        "```"
      ]
    },
    {
      "cell_type": "markdown",
      "metadata": {
        "id": "3TaY2Mn3Fhf9"
      },
      "source": [
        "```\n",
        "mse_error(y_test, retrieved_y_s) 0.20253714627344643\n",
        "mse_error(y_test, y_preds) 0.2021226488830182\n",
        "```"
      ]
    },
    {
      "cell_type": "markdown",
      "metadata": {
        "id": "S9zoPfbbJh1x"
      },
      "source": [
        "```\n",
        "# GLOBAL PARAMETER\n",
        "adapt_per_train_epoch = 3\n",
        "sim_per_train_epoch = 3\n",
        "# how many times the two models are trained for one query\n",
        "back_forth = 1\n",
        " \n",
        "# retrieval\n",
        "retrieve_size = 1\n",
        "bad_retrieve_size = 0\n",
        " \n",
        "num_of_training_queries = -1\n",
        "# model choice\n",
        "hard_or_easy = 'easy'#'hard' 'easy'\n",
        "model_separation = True\n",
        " \n",
        "using_margin = False\n",
        "alpha_margin =0.9\n",
        "alpha = 0.5\n",
        "beta = 0.5\n",
        " \n",
        "# use naive 1nn instead\n",
        "disable_retrieval = False\n",
        "# no adaptation\n",
        "disable_adaptation = False\n",
        " \n",
        "batch_mode = True\n",
        "batch_size = 32\n",
        "num_of_val_queries = -1\n",
        "```"
      ]
    },
    {
      "cell_type": "markdown",
      "metadata": {
        "id": "VJY6L4UEx1Vf"
      },
      "source": [
        "```\n",
        "mse_error(y_test, retrieved_y_s) 0.35301470172187044\n",
        "mse_error(y_test, y_preds) 0.24633832246173515\n",
        "```"
      ]
    },
    {
      "cell_type": "markdown",
      "metadata": {
        "id": "Mf4wraVmJrda"
      },
      "source": [
        "```\n",
        "mse_error(y_test, retrieved_y_s) 0.26671536481319985\n",
        "mse_error(y_test, y_preds) 0.25422066595255954\n",
        "```"
      ]
    },
    {
      "cell_type": "markdown",
      "metadata": {
        "id": "joZxx21BBN68"
      },
      "source": [
        "```\n",
        "# GLOBAL PARAMETER\n",
        "adapt_per_train_epoch = 20\n",
        "sim_per_train_epoch = 20\n",
        "# how many times the two models are trained for one query\n",
        "back_forth = 1\n",
        " \n",
        "# retrieval\n",
        "retrieve_size = 1\n",
        "bad_retrieve_size = 0\n",
        " \n",
        "num_of_training_queries = -1\n",
        "# model choice\n",
        "hard_or_easy = 'easy'#'hard' 'easy'\n",
        "model_separation = True\n",
        " \n",
        "using_margin = True\n",
        "alpha_margin =0.15\n",
        "alpha = 0.5\n",
        "beta = 0.5\n",
        " \n",
        "# use naive 1nn instead\n",
        "disable_retrieval = False\n",
        "# no adaptation\n",
        "disable_adaptation = False\n",
        " \n",
        "batch_mode = True\n",
        "batch_size = 32\n",
        "num_of_val_queries = -1\n",
        "```"
      ]
    },
    {
      "cell_type": "markdown",
      "metadata": {
        "id": "2JsdmBUbC5gy"
      },
      "source": [
        "```\n",
        "mse_error(y_test, retrieved_y_s) 0.9913191826067004\n",
        "mse_error(y_test, y_preds) 0.9052194450656151\n",
        "```"
      ]
    },
    {
      "cell_type": "markdown",
      "metadata": {
        "id": "Ml06teqyXqiO"
      },
      "source": [
        "Best setting"
      ]
    },
    {
      "cell_type": "markdown",
      "metadata": {
        "id": "9dShxp1b1LSP"
      },
      "source": [
        "```\n",
        "# GLOBAL PARAMETER\n",
        "adapt_per_train_epoch = 3\n",
        "sim_per_train_epoch = 3\n",
        "# how many times the two models are trained for one query\n",
        "back_forth = 1\n",
        " \n",
        "# retrieval\n",
        "retrieve_size = 1\n",
        "bad_retrieve_size = 0\n",
        " \n",
        "num_of_training_queries = -1\n",
        "# model choice\n",
        "hard_or_easy = 'easy'#'hard' 'easy'\n",
        "model_separation = True\n",
        " \n",
        "using_margin = True\n",
        "alpha_margin =0.2\n",
        "alpha = 0.5\n",
        "beta = 0.5\n",
        " \n",
        "# use naive 1nn instead\n",
        "disable_retrieval = False\n",
        "# no adaptation\n",
        "disable_adaptation = False\n",
        " \n",
        "batch_mode = True\n",
        "batch_size = 32\n",
        "num_of_val_queries = -1\n",
        "```"
      ]
    },
    {
      "cell_type": "markdown",
      "metadata": {
        "id": "Qom4T5CwiU4u"
      },
      "source": [
        "```\n",
        "mse_error(y_test, retrieved_y_s) 0.4369289138891386\n",
        "mse_error(y_test, y_preds) 0.1994561611746476\n",
        "\n",
        "mse_error(y_test, retrieved_y_s) 0.24605958426828073\n",
        "mse_error(y_test, y_preds) 0.24722827783979717\n",
        "\n",
        "mse_error(y_test, retrieved_y_s) 0.21780320554756696\n",
        "mse_error(y_test, y_preds) 0.16483680580831062\n",
        "\n",
        "mse_error(y_test, retrieved_y_s) 0.18118761826006846\n",
        "mse_error(y_test, y_preds) 0.1670973088062938\n",
        "\n",
        "mse_error(y_test, retrieved_y_s) 0.277211254531777\n",
        "mse_error(y_test, y_preds) 0.21403847882035568\n",
        "\n",
        "mse_error(y_test, retrieved_y_s) 0.3210448013175407\n",
        "mse_error(y_test, y_preds) 0.24014046546044449\n",
        "\n",
        "mse_error(y_test, retrieved_y_s) 0.39438900515536807\n",
        "mse_error(y_test, y_preds) 0.21582265125280972\n",
        "\n",
        "mse_error(y_test, retrieved_y_s) 0.2881489774201352\n",
        "mse_error(y_test, y_preds) 0.24313228917019766\n",
        "\n",
        "mse_error(y_test, retrieved_y_s) 0.1976094075009802\n",
        "mse_error(y_test, y_preds) 0.20360597385104856\n",
        "\n",
        "mse_error(y_test, retrieved_y_s) 0.21006593245004052\n",
        "mse_error(y_test, y_preds) 0.1956599561434689\n",
        "```"
      ]
    },
    {
      "cell_type": "markdown",
      "metadata": {
        "id": "GvuieGd63692"
      },
      "source": [
        "```\n",
        "mse_error(y_test, retrieved_y_s) 0.4291156445863231\n",
        "mse_error(y_test, y_preds) 0.22480368477621052\n",
        "```"
      ]
    },
    {
      "cell_type": "markdown",
      "metadata": {
        "id": "OyIm9VoL1Y8r"
      },
      "source": [
        "```\n",
        "mse_error(y_test, retrieved_y_s) 0.22366279691208846\n",
        "mse_error(y_test, y_preds) 0.19860016385119122\n",
        "```"
      ]
    },
    {
      "cell_type": "markdown",
      "metadata": {
        "id": "Az9Z9BsJybWO"
      },
      "source": [
        "```\n",
        "mse_error(y_test, retrieved_y_s) 0.23294931460989898\n",
        "mse_error(y_test, y_preds) 0.14107563349022342\n",
        "```"
      ]
    },
    {
      "cell_type": "markdown",
      "metadata": {
        "id": "vGMjWjya1QHZ"
      },
      "source": [
        "```\n",
        "mse_error(y_test, retrieved_y_s) 0.26536031407856614\n",
        "mse_error(y_test, y_preds) 0.1685571298052191\n",
        "```"
      ]
    },
    {
      "cell_type": "markdown",
      "metadata": {
        "id": "b98SVWDN3je1"
      },
      "source": [
        "```\n",
        "mse_error(y_test, retrieved_y_s) 0.28093424968462755\n",
        "mse_error(y_test, y_preds) 0.19585244600040438\n",
        "```"
      ]
    },
    {
      "cell_type": "markdown",
      "metadata": {
        "id": "8nqY1t5DyOZm"
      },
      "source": [
        "#Results (Face)"
      ]
    },
    {
      "cell_type": "markdown",
      "metadata": {
        "id": "Y5NFmIsLyOZn"
      },
      "source": [
        "##Baseline: pure 1nn\n",
        "\n",
        "```\n",
        "# GLOBAL PARAMETER\n",
        "adapt_per_train_epoch = 1\n",
        "sim_per_train_epoch = 3\n",
        "# how many times the two models are trained for one query\n",
        "back_forth = 1\n",
        " \n",
        "# retrieval\n",
        "retrieve_size = 1\n",
        "bad_retrieve_size = 0\n",
        " \n",
        "num_of_training_queries = -1\n",
        "# model choice\n",
        "hard_or_easy = 'hard'#'hard' 'easy'\n",
        "model_separation = True\n",
        " \n",
        "using_margin = False\n",
        "alpha_margin =0.5\n",
        "alpha = 0.5\n",
        "beta = 0.5\n",
        " \n",
        "# use naive 1nn instead\n",
        "disable_retrieval = True\n",
        "# no adaptation\n",
        "disable_adaptation = True\n",
        "\n",
        "batch_mode = False\n",
        "batch_size = 32\n",
        "num_of_val_queries = 100\n",
        "```"
      ]
    },
    {
      "cell_type": "markdown",
      "metadata": {
        "id": "6IS-OJEd-ZNb"
      },
      "source": [
        "```\n",
        "mse_error(y_test, retrieved_y_s) 1.0855163609032057\n",
        "mse_error(y_test, y_preds) 1.0855163609032057\n",
        "```"
      ]
    },
    {
      "cell_type": "markdown",
      "metadata": {
        "id": "G-FT5SRggEuf"
      },
      "source": [
        "For following experiment, I have to remove part of the dataset to prevent crashing"
      ]
    },
    {
      "cell_type": "markdown",
      "metadata": {
        "id": "1DoLZK4kyOZt"
      },
      "source": [
        "##Just retrieval \n",
        "\n",
        "```\n",
        "# GLOBAL PARAMETER\n",
        "adapt_per_train_epoch = 100\n",
        "sim_per_train_epoch = 100\n",
        "# how many times the two models are trained for one query\n",
        "back_forth = 1\n",
        " \n",
        "# retrieval\n",
        "retrieve_size = 2\n",
        "bad_retrieve_size = 8\n",
        " \n",
        "num_of_training_queries = 1000\n",
        "# model choice\n",
        "hard_or_easy = 'hard'#'hard' 'easy'\n",
        "model_separation = True\n",
        " \n",
        "using_margin = False\n",
        "alpha_margin =0.1\n",
        "alpha = 1\n",
        "beta = 0\n",
        " \n",
        "# use naive 1nn instead\n",
        "disable_retrieval = False\n",
        "# no adaptation\n",
        "disable_adaptation = True\n",
        " \n",
        "batch_mode = False\n",
        "batch_size = 100\n",
        "num_of_val_queries = 100\n",
        "```"
      ]
    },
    {
      "cell_type": "markdown",
      "metadata": {
        "id": "NSToi6ULyOZt"
      },
      "source": [
        "##Just adaptation: 1nn+ adaptation\n",
        "\n",
        "```\n",
        "# GLOBAL PARAMETER\n",
        "adapt_per_train_epoch = 40\n",
        "sim_per_train_epoch = 3\n",
        "# how many times the two models are trained for one query\n",
        "back_forth = 1\n",
        " \n",
        "# retrieval\n",
        "retrieve_size = 1\n",
        "bad_retrieve_size = 0\n",
        " \n",
        "num_of_training_queries = 1000\n",
        "# model choice\n",
        "hard_or_easy = 'hard'#'hard' 'easy'\n",
        "model_separation = True\n",
        " \n",
        "using_margin = False\n",
        "alpha_margin =0.5\n",
        "alpha = 0.5\n",
        "beta = 0.5\n",
        " \n",
        "# use naive 1nn instead\n",
        "disable_retrieval = True\n",
        "# no adaptation\n",
        "disable_adaptation = False\n",
        "\n",
        "batch_mode = False\n",
        "batch_size = 32\n",
        "num_of_val_queries = 100\n",
        "```"
      ]
    },
    {
      "cell_type": "markdown",
      "metadata": {
        "id": "gLYqqdbjyOZu"
      },
      "source": [
        "setting\n",
        "```\n",
        "# GLOBAL PARAMETER\n",
        "adapt_per_train_epoch = 30\n",
        "sim_per_train_epoch = 30\n",
        "# how many times the two models are trained for one query\n",
        "back_forth = 1\n",
        " \n",
        "# retrieval\n",
        "retrieve_size = 1\n",
        "bad_retrieve_size = 0\n",
        " \n",
        "num_of_training_queries = 1000\n",
        "# model choice\n",
        "hard_or_easy = 'hard'#'hard' 'easy'\n",
        "model_separation = True\n",
        " \n",
        "using_margin = False\n",
        "alpha_margin =0.5\n",
        "alpha = 0.5\n",
        "beta = 0.5\n",
        " \n",
        "# use naive 1nn instead\n",
        "disable_retrieval = True\n",
        "# no adaptation\n",
        "disable_adaptation = False\n",
        " \n",
        "batch_mode = False\n",
        "batch_size = 32\n",
        "num_of_val_queries = 100\n",
        "```"
      ]
    },
    {
      "cell_type": "markdown",
      "metadata": {
        "id": "5hUOGlLsyOZu"
      },
      "source": [
        ""
      ]
    },
    {
      "cell_type": "markdown",
      "metadata": {
        "id": "y2t7j_XAyOZu"
      },
      "source": [
        "##In order, alpha 1\n",
        "\n",
        "```\n",
        "# GLOBAL PARAMETER\n",
        "adapt_per_train_epoch = 100\n",
        "sim_per_train_epoch = 100\n",
        "# how many times the two models are trained for one query\n",
        "back_forth = 1\n",
        " \n",
        "# retrieval\n",
        "retrieve_size = 2\n",
        "bad_retrieve_size = 8\n",
        " \n",
        "num_of_training_queries = 1000\n",
        "# model choice\n",
        "hard_or_easy = 'hard'#'hard' 'easy'\n",
        "model_separation = True\n",
        " \n",
        "using_margin = False\n",
        "alpha_margin =0.1\n",
        "alpha = 1\n",
        "beta = 0\n",
        " \n",
        "# use naive 1nn instead\n",
        "disable_retrieval = False\n",
        "# no adaptation\n",
        "disable_adaptation = False\n",
        " \n",
        "batch_mode = False\n",
        "batch_size = 100\n",
        "num_of_val_queries = 100\n",
        "```"
      ]
    },
    {
      "cell_type": "markdown",
      "metadata": {
        "id": "kicM_lWoyOZu"
      },
      "source": [
        "##In order, alpha 0.5, beta 0.5"
      ]
    },
    {
      "cell_type": "markdown",
      "metadata": {
        "id": "ABG8GcoEyOZv"
      },
      "source": [
        "```\n",
        "# GLOBAL PARAMETER\n",
        "adapt_per_train_epoch = 100\n",
        "sim_per_train_epoch = 100\n",
        "# how many times the two models are trained for one query\n",
        "back_forth = 1\n",
        " \n",
        "# retrieval\n",
        "retrieve_size = 2\n",
        "bad_retrieve_size = 8\n",
        " \n",
        "num_of_training_queries = 1000\n",
        "# model choice\n",
        "hard_or_easy = 'hard'#'hard' 'easy'\n",
        "model_separation = True\n",
        " \n",
        "using_margin = False\n",
        "alpha_margin =0\n",
        "alpha = 0.5\n",
        "beta = 0.5\n",
        " \n",
        "# use naive 1nn instead\n",
        "disable_retrieval = False\n",
        "# no adaptation\n",
        "disable_adaptation = False\n",
        " \n",
        "batch_mode = False\n",
        "batch_size = 100\n",
        "num_of_val_queries = 100\n",
        "```"
      ]
    },
    {
      "cell_type": "markdown",
      "metadata": {
        "id": "asydlG9UyOZv"
      },
      "source": [
        "##Back-n-forth"
      ]
    },
    {
      "cell_type": "markdown",
      "metadata": {
        "id": "eyyhb_KkyOZv"
      },
      "source": [
        "```\n",
        "# GLOBAL PARAMETER\n",
        "adapt_per_train_epoch = 3\n",
        "sim_per_train_epoch = 3\n",
        "# how many times the two models are trained for one query\n",
        "back_forth = 20\n",
        " \n",
        "# retrieval\n",
        "retrieve_size = 2\n",
        "bad_retrieve_size = 8\n",
        " \n",
        "num_of_training_queries = 1000\n",
        "# model choice\n",
        "hard_or_easy = 'hard'#'hard' 'easy'\n",
        "model_separation = True\n",
        " \n",
        "using_margin = True\n",
        "alpha_margin =0.05\n",
        "alpha = 0.9\n",
        "beta = 0.1\n",
        " \n",
        "# use naive 1nn instead\n",
        "disable_retrieval = False\n",
        "# no adaptation\n",
        "disable_adaptation = False\n",
        " \n",
        "batch_mode = False\n",
        "batch_size = 100\n",
        "num_of_val_queries = 100\n",
        "```"
      ]
    },
    {
      "cell_type": "markdown",
      "metadata": {
        "id": "_d3hEmDUyOZv"
      },
      "source": [
        "##Batch mode, no back-n-forth"
      ]
    },
    {
      "cell_type": "markdown",
      "metadata": {
        "id": "nuNUHGJ8yOZv"
      },
      "source": [
        "```\n",
        "# GLOBAL PARAMETER\n",
        "adapt_per_train_epoch = 100\n",
        "sim_per_train_epoch = 100\n",
        "# how many times the two models are trained for one query\n",
        "back_forth = 1\n",
        " \n",
        "# retrieval\n",
        "retrieve_size = 2\n",
        "bad_retrieve_size = 8\n",
        " \n",
        "num_of_training_queries = 1000\n",
        "# model choice\n",
        "hard_or_easy = 'hard'#'hard' 'easy'\n",
        "model_separation = True\n",
        " \n",
        "using_margin = True\n",
        "alpha_margin =0.03\n",
        "alpha = 0.9\n",
        "beta = 0.1\n",
        " \n",
        "# use naive 1nn instead\n",
        "disable_retrieval = False\n",
        "# no adaptation\n",
        "disable_adaptation = False\n",
        " \n",
        "batch_mode = True\n",
        "batch_size = 100\n",
        "num_of_val_queries = 100\n",
        "```"
      ]
    },
    {
      "cell_type": "markdown",
      "metadata": {
        "id": "JK-YTIUJyOZw"
      },
      "source": [
        "##Batch mode, back-n-forth"
      ]
    },
    {
      "cell_type": "markdown",
      "metadata": {
        "id": "T7cxyKZ_yOZw"
      },
      "source": [
        "```\n",
        "# GLOBAL PARAMETER\n",
        "adapt_per_train_epoch = 3\n",
        "sim_per_train_epoch = 3\n",
        "# how many times the two models are trained for one query\n",
        "back_forth = 20\n",
        " \n",
        "# retrieval\n",
        "retrieve_size = 2\n",
        "bad_retrieve_size = 8\n",
        " \n",
        "num_of_training_queries = 1000\n",
        "# model choice\n",
        "hard_or_easy = 'hard'#'hard' 'easy'\n",
        "model_separation = True\n",
        " \n",
        "using_margin = True\n",
        "alpha_margin =0.05\n",
        "alpha = 0.9\n",
        "beta = 0.1\n",
        " \n",
        "# use naive 1nn instead\n",
        "disable_retrieval = False\n",
        "# no adaptation\n",
        "disable_adaptation = False\n",
        " \n",
        "batch_mode = True\n",
        "batch_size = 100\n",
        "num_of_val_queries = 100\n",
        "```"
      ]
    }
  ]
}